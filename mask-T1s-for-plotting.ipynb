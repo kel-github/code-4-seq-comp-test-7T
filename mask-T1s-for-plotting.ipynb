{
 "cells": [
  {
   "cell_type": "markdown",
   "metadata": {},
   "source": [
    "# Masking T1s for plots\n",
    "\n",
    "Take the subject T1s and apply the mask image, to make them prettier for plots"
   ]
  },
  {
   "cell_type": "code",
   "execution_count": 1,
   "metadata": {},
   "outputs": [],
   "source": [
    "from bids.layout import BIDSLayout\n",
    "from nipype.interfaces.io import BIDSDataGrabber, DataFinder, DataSink, DataGrabber\n",
    "import nipype.pipeline as pe\n",
    "import nipype as ni\n",
    "import nipype.interfaces.fsl.maths as fsl\n",
    "import pandas as pd\n",
    "import os, re, json\n",
    "# https://nipype.readthedocs.io/en/0.11.0/users/spmmcr.html"
   ]
  },
  {
   "cell_type": "code",
   "execution_count": 2,
   "metadata": {},
   "outputs": [],
   "source": [
    "Basedir = \"/scratch/qbi/uqkgarn1/STRIWP1/\"\n",
    "maskT1 = pe.Workflow(name=\"maskT1\") # workflow to run the analysis"
   ]
  },
  {
   "cell_type": "markdown",
   "metadata": {},
   "source": [
    "# Data grabbers and sinkers"
   ]
  },
  {
   "cell_type": "code",
   "execution_count": 3,
   "metadata": {},
   "outputs": [],
   "source": [
    "# THIS CODE DEFINITELY WORKS\n",
    "dg = pe.Node(DataGrabber(infields=['sub'], \n",
    "                         outfields=['T1','mask']), name='dg')\n",
    "dg.inputs.base_dir = \"/scratch/qbi/uqkgarn1/STRIWP1/\"\n",
    "dg.inputs.sort_filelist = True\n",
    "dg.inputs.template='*'\n",
    "dg.inputs.template_args = {'T1': [['sub','sub']],\n",
    "                           'mask':[['sub','sub']]}\n",
    "dg.inputs.field_template = {'T1': '/scratch/qbi/uqkgarn1/STRIWP1/derivatives/sub-%s/anat/sub-%s_desc-preproc_T1w.nii.gz',\n",
    "                            'mask': '/scratch/qbi/uqkgarn1/STRIWP1/derivatives/sub-%s/anat/sub-%s_desc-brain_mask.nii.gz'}"
   ]
  },
  {
   "cell_type": "code",
   "execution_count": 4,
   "metadata": {},
   "outputs": [
    {
     "name": "stdout",
     "output_type": "stream",
     "text": [
      "200915-19:36:34,663 nipype.workflow INFO:\n",
      "\t [Node] Setting-up \"dg\" in \"/tmp/tmpt31kfpcy/dg\".\n",
      "200915-19:36:34,670 nipype.workflow INFO:\n",
      "\t [Node] Running \"dg\" (\"nipype.interfaces.io.DataGrabber\")\n",
      "200915-19:36:34,677 nipype.workflow INFO:\n",
      "\t [Node] Finished \"dg\".\n"
     ]
    },
    {
     "data": {
      "text/plain": [
       "\n",
       "T1 = /scratch/qbi/uqkgarn1/STRIWP1/derivatives/sub-01/anat/sub-01_desc-preproc_T1w.nii.gz\n",
       "mask = /scratch/qbi/uqkgarn1/STRIWP1/derivatives/sub-01/anat/sub-01_desc-brain_mask.nii.gz"
      ]
     },
     "execution_count": 4,
     "metadata": {},
     "output_type": "execute_result"
    }
   ],
   "source": [
    "# debugging\n",
    "dg.inputs.sub = '01'\n",
    "res = dg.run()\n",
    "res.outputs"
   ]
  },
  {
   "cell_type": "code",
   "execution_count": 5,
   "metadata": {},
   "outputs": [
    {
     "data": {
      "text/plain": [
       "[('sub', ['01', '02', '03', '04', '05'])]"
      ]
     },
     "execution_count": 5,
     "metadata": {},
     "output_type": "execute_result"
    }
   ],
   "source": [
    "# THIS WORKS\n",
    "info = pe.Node(ni.IdentityInterface(fields=['sub']),\n",
    "                   name='info')\n",
    "info.iterables = [('sub', ['01', '02', '03', '04', '05'])]\n",
    "# info.iterables = [('sub', ['03'])]\n",
    "info.iterables "
   ]
  },
  {
   "cell_type": "code",
   "execution_count": 6,
   "metadata": {},
   "outputs": [],
   "source": [
    "def printSubPath(fullFilePath):\n",
    "    # function to split filepath into constituent parts, then print string to add as input to DataSink for the container string\n",
    "    # given the full filepath, this extracts the subject folder and TR strings for input\n",
    "    # into DataSink\n",
    "    import os\n",
    "    import re\n",
    "    fname = os.path.normpath(fullFilePath)\n",
    "    l = fname.split(os.sep)\n",
    "    name = [s for s in l if re.search('sub', s)][0]\n",
    "    return name"
   ]
  },
  {
   "cell_type": "markdown",
   "metadata": {},
   "source": [
    "## Data sink"
   ]
  },
  {
   "cell_type": "code",
   "execution_count": 7,
   "metadata": {},
   "outputs": [],
   "source": [
    "ds = pe.Node(DataSink(), name='sink-stuff')\n",
    "ds.inputs.base_directory = \"/scratch/qbi/uqkgarn1/STRIWP1/derivatives/glm/\"\n",
    "substitutions = [('_sub_([0-9]*)', '')]\n",
    "ds.inputs.regexp_substitutions = substitutions"
   ]
  },
  {
   "cell_type": "markdown",
   "metadata": {},
   "source": [
    "## ApplyMask "
   ]
  },
  {
   "cell_type": "code",
   "execution_count": 8,
   "metadata": {},
   "outputs": [],
   "source": [
    "mask = pe.Node(fsl.ApplyMask(), name='mask')"
   ]
  },
  {
   "cell_type": "code",
   "execution_count": 9,
   "metadata": {},
   "outputs": [],
   "source": [
    "def printOutFile(fileName):\n",
    "    import os\n",
    "    import re\n",
    "    fname = os.path.normpath(fileName)\n",
    "    l = fname.split(os.sep)\n",
    "    fname = l[-1]\n",
    "    fname = fname.replace('preproc', 'masked')\n",
    "    return fname"
   ]
  },
  {
   "cell_type": "markdown",
   "metadata": {},
   "source": [
    "## Connect workflow"
   ]
  },
  {
   "cell_type": "code",
   "execution_count": 10,
   "metadata": {},
   "outputs": [
    {
     "name": "stdout",
     "output_type": "stream",
     "text": [
      "200915-19:36:38,890 nipype.workflow INFO:\n",
      "\t Workflow maskT1 settings: ['check', 'execution', 'logging', 'monitoring']\n",
      "200915-19:36:38,915 nipype.workflow INFO:\n",
      "\t Running serially.\n",
      "200915-19:36:38,916 nipype.workflow INFO:\n",
      "\t [Node] Setting-up \"maskT1.dg\" in \"/tmp/tmpt31kfpcy/dg\".\n",
      "200915-19:36:38,922 nipype.workflow INFO:\n",
      "\t [Node] Running \"dg\" (\"nipype.interfaces.io.DataGrabber\")\n",
      "200915-19:36:38,928 nipype.workflow INFO:\n",
      "\t [Node] Finished \"maskT1.dg\".\n",
      "200915-19:36:38,929 nipype.workflow INFO:\n",
      "\t [Node] Setting-up \"maskT1.mask\" in \"/tmp/tmpjziqp1qw/maskT1/_sub_05/mask\".\n",
      "200915-19:36:38,934 nipype.workflow INFO:\n",
      "\t [Node] Running \"mask\" (\"nipype.interfaces.fsl.maths.ApplyMask\"), a CommandLine Interface with command:\n",
      "fslmaths /scratch/qbi/uqkgarn1/STRIWP1/derivatives/sub-05/anat/sub-05_desc-preproc_T1w.nii.gz -mas /scratch/qbi/uqkgarn1/STRIWP1/derivatives/sub-05/anat/sub-05_desc-brain_mask.nii.gz sub-05_desc-masked_T1w.nii.gz\n",
      "200915-19:36:41,829 nipype.workflow INFO:\n",
      "\t [Node] Finished \"maskT1.mask\".\n",
      "200915-19:36:41,830 nipype.workflow INFO:\n",
      "\t [Node] Setting-up \"maskT1.sink-stuff\" in \"/tmp/tmpb6cmetb_/maskT1/_sub_05/sink-stuff\".\n",
      "200915-19:36:41,837 nipype.workflow INFO:\n",
      "\t [Node] Running \"sink-stuff\" (\"nipype.interfaces.io.DataSink\")\n",
      "200915-19:36:41,839 nipype.interface INFO:\n",
      "\t sub: /scratch/qbi/uqkgarn1/STRIWP1/derivatives/glm/sub-05/anat/_sub_05/sub-05_desc-masked_T1w.nii.gz -> /scratch/qbi/uqkgarn1/STRIWP1/derivatives/glm/sub-05/anat//sub-05_desc-masked_T1w.nii.gz\n",
      "200915-19:36:41,927 nipype.workflow INFO:\n",
      "\t [Node] Finished \"maskT1.sink-stuff\".\n",
      "200915-19:36:41,928 nipype.workflow INFO:\n",
      "\t [Node] Setting-up \"maskT1.dg\" in \"/tmp/tmpt31kfpcy/dg\".\n",
      "200915-19:36:41,934 nipype.workflow INFO:\n",
      "\t [Node] Running \"dg\" (\"nipype.interfaces.io.DataGrabber\")\n",
      "200915-19:36:41,940 nipype.workflow INFO:\n",
      "\t [Node] Finished \"maskT1.dg\".\n",
      "200915-19:36:41,940 nipype.workflow INFO:\n",
      "\t [Node] Setting-up \"maskT1.mask\" in \"/tmp/tmp78tqsmel/maskT1/_sub_04/mask\".\n",
      "200915-19:36:41,947 nipype.workflow INFO:\n",
      "\t [Node] Running \"mask\" (\"nipype.interfaces.fsl.maths.ApplyMask\"), a CommandLine Interface with command:\n",
      "fslmaths /scratch/qbi/uqkgarn1/STRIWP1/derivatives/sub-04/anat/sub-04_desc-preproc_T1w.nii.gz -mas /scratch/qbi/uqkgarn1/STRIWP1/derivatives/sub-04/anat/sub-04_desc-brain_mask.nii.gz sub-04_desc-masked_T1w.nii.gz\n",
      "200915-19:36:44,827 nipype.workflow INFO:\n",
      "\t [Node] Finished \"maskT1.mask\".\n",
      "200915-19:36:44,829 nipype.workflow INFO:\n",
      "\t [Node] Setting-up \"maskT1.sink-stuff\" in \"/tmp/tmp839wh5hf/maskT1/_sub_04/sink-stuff\".\n",
      "200915-19:36:44,836 nipype.workflow INFO:\n",
      "\t [Node] Running \"sink-stuff\" (\"nipype.interfaces.io.DataSink\")\n",
      "200915-19:36:44,837 nipype.interface INFO:\n",
      "\t sub: /scratch/qbi/uqkgarn1/STRIWP1/derivatives/glm/sub-04/anat/_sub_04/sub-04_desc-masked_T1w.nii.gz -> /scratch/qbi/uqkgarn1/STRIWP1/derivatives/glm/sub-04/anat//sub-04_desc-masked_T1w.nii.gz\n",
      "200915-19:36:44,925 nipype.workflow INFO:\n",
      "\t [Node] Finished \"maskT1.sink-stuff\".\n",
      "200915-19:36:44,926 nipype.workflow INFO:\n",
      "\t [Node] Setting-up \"maskT1.dg\" in \"/tmp/tmpt31kfpcy/dg\".\n",
      "200915-19:36:44,931 nipype.workflow INFO:\n",
      "\t [Node] Running \"dg\" (\"nipype.interfaces.io.DataGrabber\")\n",
      "200915-19:36:44,936 nipype.workflow INFO:\n",
      "\t [Node] Finished \"maskT1.dg\".\n",
      "200915-19:36:44,936 nipype.workflow INFO:\n",
      "\t [Node] Setting-up \"maskT1.mask\" in \"/tmp/tmpdsmfgiyn/maskT1/_sub_03/mask\".\n",
      "200915-19:36:44,942 nipype.workflow INFO:\n",
      "\t [Node] Running \"mask\" (\"nipype.interfaces.fsl.maths.ApplyMask\"), a CommandLine Interface with command:\n",
      "fslmaths /scratch/qbi/uqkgarn1/STRIWP1/derivatives/sub-03/anat/sub-03_desc-preproc_T1w.nii.gz -mas /scratch/qbi/uqkgarn1/STRIWP1/derivatives/sub-03/anat/sub-03_desc-brain_mask.nii.gz sub-03_desc-masked_T1w.nii.gz\n",
      "200915-19:36:47,841 nipype.workflow INFO:\n",
      "\t [Node] Finished \"maskT1.mask\".\n",
      "200915-19:36:47,842 nipype.workflow INFO:\n",
      "\t [Node] Setting-up \"maskT1.sink-stuff\" in \"/tmp/tmp0b0w5brg/maskT1/_sub_03/sink-stuff\".\n",
      "200915-19:36:47,853 nipype.workflow INFO:\n",
      "\t [Node] Running \"sink-stuff\" (\"nipype.interfaces.io.DataSink\")\n",
      "200915-19:36:47,855 nipype.interface INFO:\n",
      "\t sub: /scratch/qbi/uqkgarn1/STRIWP1/derivatives/glm/sub-03/anat/_sub_03/sub-03_desc-masked_T1w.nii.gz -> /scratch/qbi/uqkgarn1/STRIWP1/derivatives/glm/sub-03/anat//sub-03_desc-masked_T1w.nii.gz\n",
      "200915-19:36:47,945 nipype.workflow INFO:\n",
      "\t [Node] Finished \"maskT1.sink-stuff\".\n",
      "200915-19:36:47,946 nipype.workflow INFO:\n",
      "\t [Node] Setting-up \"maskT1.dg\" in \"/tmp/tmpt31kfpcy/dg\".\n",
      "200915-19:36:47,952 nipype.workflow INFO:\n",
      "\t [Node] Running \"dg\" (\"nipype.interfaces.io.DataGrabber\")\n",
      "200915-19:36:47,956 nipype.workflow INFO:\n",
      "\t [Node] Finished \"maskT1.dg\".\n",
      "200915-19:36:47,957 nipype.workflow INFO:\n",
      "\t [Node] Setting-up \"maskT1.mask\" in \"/tmp/tmpdtmpxvxd/maskT1/_sub_02/mask\".\n",
      "200915-19:36:47,963 nipype.workflow INFO:\n",
      "\t [Node] Running \"mask\" (\"nipype.interfaces.fsl.maths.ApplyMask\"), a CommandLine Interface with command:\n",
      "fslmaths /scratch/qbi/uqkgarn1/STRIWP1/derivatives/sub-02/anat/sub-02_desc-preproc_T1w.nii.gz -mas /scratch/qbi/uqkgarn1/STRIWP1/derivatives/sub-02/anat/sub-02_desc-brain_mask.nii.gz sub-02_desc-masked_T1w.nii.gz\n",
      "200915-19:36:50,701 nipype.workflow INFO:\n",
      "\t [Node] Finished \"maskT1.mask\".\n",
      "200915-19:36:50,702 nipype.workflow INFO:\n",
      "\t [Node] Setting-up \"maskT1.sink-stuff\" in \"/tmp/tmp7vqh7yfx/maskT1/_sub_02/sink-stuff\".\n",
      "200915-19:36:50,710 nipype.workflow INFO:\n",
      "\t [Node] Running \"sink-stuff\" (\"nipype.interfaces.io.DataSink\")\n",
      "200915-19:36:50,711 nipype.interface INFO:\n",
      "\t sub: /scratch/qbi/uqkgarn1/STRIWP1/derivatives/glm/sub-02/anat/_sub_02/sub-02_desc-masked_T1w.nii.gz -> /scratch/qbi/uqkgarn1/STRIWP1/derivatives/glm/sub-02/anat//sub-02_desc-masked_T1w.nii.gz\n",
      "200915-19:36:50,807 nipype.workflow INFO:\n",
      "\t [Node] Finished \"maskT1.sink-stuff\".\n",
      "200915-19:36:50,808 nipype.workflow INFO:\n",
      "\t [Node] Setting-up \"maskT1.dg\" in \"/tmp/tmpt31kfpcy/dg\".\n",
      "200915-19:36:50,813 nipype.workflow INFO:\n",
      "\t [Node] Running \"dg\" (\"nipype.interfaces.io.DataGrabber\")\n",
      "200915-19:36:50,818 nipype.workflow INFO:\n",
      "\t [Node] Finished \"maskT1.dg\".\n",
      "200915-19:36:50,819 nipype.workflow INFO:\n",
      "\t [Node] Setting-up \"maskT1.mask\" in \"/tmp/tmpzjwwoztw/maskT1/_sub_01/mask\".\n",
      "200915-19:36:50,824 nipype.workflow INFO:\n",
      "\t [Node] Running \"mask\" (\"nipype.interfaces.fsl.maths.ApplyMask\"), a CommandLine Interface with command:\n",
      "fslmaths /scratch/qbi/uqkgarn1/STRIWP1/derivatives/sub-01/anat/sub-01_desc-preproc_T1w.nii.gz -mas /scratch/qbi/uqkgarn1/STRIWP1/derivatives/sub-01/anat/sub-01_desc-brain_mask.nii.gz sub-01_desc-masked_T1w.nii.gz\n",
      "200915-19:36:53,790 nipype.workflow INFO:\n",
      "\t [Node] Finished \"maskT1.mask\".\n",
      "200915-19:36:53,791 nipype.workflow INFO:\n",
      "\t [Node] Setting-up \"maskT1.sink-stuff\" in \"/tmp/tmp5fx4egw7/maskT1/_sub_01/sink-stuff\".\n",
      "200915-19:36:53,798 nipype.workflow INFO:\n",
      "\t [Node] Running \"sink-stuff\" (\"nipype.interfaces.io.DataSink\")\n",
      "200915-19:36:53,799 nipype.interface INFO:\n",
      "\t sub: /scratch/qbi/uqkgarn1/STRIWP1/derivatives/glm/sub-01/anat/_sub_01/sub-01_desc-masked_T1w.nii.gz -> /scratch/qbi/uqkgarn1/STRIWP1/derivatives/glm/sub-01/anat//sub-01_desc-masked_T1w.nii.gz\n",
      "200915-19:36:53,891 nipype.workflow INFO:\n",
      "\t [Node] Finished \"maskT1.sink-stuff\".\n"
     ]
    },
    {
     "data": {
      "text/plain": [
       "<networkx.classes.digraph.DiGraph at 0x7f17e7844908>"
      ]
     },
     "execution_count": 10,
     "metadata": {},
     "output_type": "execute_result"
    }
   ],
   "source": [
    "maskT1.connect([(info, dg, [('sub', 'sub')]),\n",
    "                (dg, ds, [(('T1', printSubPath), 'container')]),\n",
    "                (dg, mask, [('T1', 'in_file')]),\n",
    "                (dg, mask, [('mask', 'mask_file')]),\n",
    "                (dg, mask, [(('T1', printOutFile), 'out_file')]),\n",
    "                (mask, ds, [('out_file', 'anat.@ANAT')])\n",
    "             ])\n",
    "maskT1.run()"
   ]
  },
  {
   "cell_type": "code",
   "execution_count": null,
   "metadata": {},
   "outputs": [],
   "source": []
  }
 ],
 "metadata": {
  "kernelspec": {
   "display_name": "Python 3",
   "language": "python",
   "name": "python3"
  },
  "language_info": {
   "codemirror_mode": {
    "name": "ipython",
    "version": 3
   },
   "file_extension": ".py",
   "mimetype": "text/x-python",
   "name": "python",
   "nbconvert_exporter": "python",
   "pygments_lexer": "ipython3",
   "version": "3.6.10"
  }
 },
 "nbformat": 4,
 "nbformat_minor": 4
}
