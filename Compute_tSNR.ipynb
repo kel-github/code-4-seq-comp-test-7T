{
 "cells": [
  {
   "cell_type": "markdown",
   "metadata": {},
   "source": [
    "# Compute tSNR using FSL maths"
   ]
  },
  {
   "cell_type": "code",
   "execution_count": 1,
   "metadata": {},
   "outputs": [
    {
     "name": "stdout",
     "output_type": "stream",
     "text": [
      "210503-15:32:26,170 nipype.utils WARNING:\n",
      "\t A newer version (1.5.1) of nipy/nipype is available. You are using 1.5.0\n"
     ]
    }
   ],
   "source": [
    "from nipype.interfaces.io import DataGrabber as dgrb\n",
    "import nipype.pipeline as pe\n",
    "import nipype as ni\n",
    "\n",
    "from nipype.interfaces import fsl as fsl"
   ]
  },
  {
   "cell_type": "code",
   "execution_count": 2,
   "metadata": {},
   "outputs": [],
   "source": [
    "#subs = ['01', '02', '03', '04', '05']\n",
    "subs = ['01', '02', '03', '04']\n",
    "subs = ['05']\n",
    "#TRs = ['700', '1510', '1920']\n",
    "TRs = ['700ECHO1', '700ECHO2']\n",
    "contrasts = ['01','02','03','04','13','14']"
   ]
  },
  {
   "cell_type": "code",
   "execution_count": 3,
   "metadata": {},
   "outputs": [
    {
     "data": {
      "text/plain": [
       "['/scratch/qbi/uqkgarn1/STRIWP1/derivatives/glmTDFAST/sub-05/TR700ECHO1/FLGLM/beta_0001.nii.gz',\n",
       " '/scratch/qbi/uqkgarn1/STRIWP1/derivatives/glmTDFAST/sub-05/TR700ECHO1/FLGLM/beta_0002.nii.gz',\n",
       " '/scratch/qbi/uqkgarn1/STRIWP1/derivatives/glmTDFAST/sub-05/TR700ECHO1/FLGLM/beta_0003.nii.gz',\n",
       " '/scratch/qbi/uqkgarn1/STRIWP1/derivatives/glmTDFAST/sub-05/TR700ECHO1/FLGLM/beta_0004.nii.gz',\n",
       " '/scratch/qbi/uqkgarn1/STRIWP1/derivatives/glmTDFAST/sub-05/TR700ECHO1/FLGLM/beta_0013.nii.gz',\n",
       " '/scratch/qbi/uqkgarn1/STRIWP1/derivatives/glmTDFAST/sub-05/TR700ECHO1/FLGLM/beta_0014.nii.gz',\n",
       " '/scratch/qbi/uqkgarn1/STRIWP1/derivatives/glmTDFAST/sub-05/TR700ECHO2/FLGLM/beta_0001.nii.gz',\n",
       " '/scratch/qbi/uqkgarn1/STRIWP1/derivatives/glmTDFAST/sub-05/TR700ECHO2/FLGLM/beta_0002.nii.gz',\n",
       " '/scratch/qbi/uqkgarn1/STRIWP1/derivatives/glmTDFAST/sub-05/TR700ECHO2/FLGLM/beta_0003.nii.gz',\n",
       " '/scratch/qbi/uqkgarn1/STRIWP1/derivatives/glmTDFAST/sub-05/TR700ECHO2/FLGLM/beta_0004.nii.gz',\n",
       " '/scratch/qbi/uqkgarn1/STRIWP1/derivatives/glmTDFAST/sub-05/TR700ECHO2/FLGLM/beta_0013.nii.gz',\n",
       " '/scratch/qbi/uqkgarn1/STRIWP1/derivatives/glmTDFAST/sub-05/TR700ECHO2/FLGLM/beta_0014.nii.gz']"
      ]
     },
     "execution_count": 3,
     "metadata": {},
     "output_type": "execute_result"
    }
   ],
   "source": [
    "# get list of images\n",
    "BIDSdir = \"/scratch/qbi/uqkgarn1/STRIWP1/\"\n",
    "in_str_echo = ''.join([BIDSdir, 'derivatives/glmTDFAST/sub-{0}/TR{1}/FLGLM/beta_00{2}.nii.gz'])\n",
    "in_fns = [in_str_echo.format(subnum, TRnum, contrast) for subnum in subs for TRnum in TRs for contrast in contrasts] \n",
    "in_fns"
   ]
  },
  {
   "cell_type": "code",
   "execution_count": 4,
   "metadata": {},
   "outputs": [
    {
     "data": {
      "text/plain": [
       "['/scratch/qbi/uqkgarn1/STRIWP1/derivatives/glmTDFAST/sub-05/TR700ECHO1/FLGLM/ResMS.nii.gz',\n",
       " '/scratch/qbi/uqkgarn1/STRIWP1/derivatives/glmTDFAST/sub-05/TR700ECHO1/FLGLM/ResMS.nii.gz',\n",
       " '/scratch/qbi/uqkgarn1/STRIWP1/derivatives/glmTDFAST/sub-05/TR700ECHO1/FLGLM/ResMS.nii.gz',\n",
       " '/scratch/qbi/uqkgarn1/STRIWP1/derivatives/glmTDFAST/sub-05/TR700ECHO1/FLGLM/ResMS.nii.gz',\n",
       " '/scratch/qbi/uqkgarn1/STRIWP1/derivatives/glmTDFAST/sub-05/TR700ECHO1/FLGLM/ResMS.nii.gz',\n",
       " '/scratch/qbi/uqkgarn1/STRIWP1/derivatives/glmTDFAST/sub-05/TR700ECHO1/FLGLM/ResMS.nii.gz',\n",
       " '/scratch/qbi/uqkgarn1/STRIWP1/derivatives/glmTDFAST/sub-05/TR700ECHO2/FLGLM/ResMS.nii.gz',\n",
       " '/scratch/qbi/uqkgarn1/STRIWP1/derivatives/glmTDFAST/sub-05/TR700ECHO2/FLGLM/ResMS.nii.gz',\n",
       " '/scratch/qbi/uqkgarn1/STRIWP1/derivatives/glmTDFAST/sub-05/TR700ECHO2/FLGLM/ResMS.nii.gz',\n",
       " '/scratch/qbi/uqkgarn1/STRIWP1/derivatives/glmTDFAST/sub-05/TR700ECHO2/FLGLM/ResMS.nii.gz',\n",
       " '/scratch/qbi/uqkgarn1/STRIWP1/derivatives/glmTDFAST/sub-05/TR700ECHO2/FLGLM/ResMS.nii.gz',\n",
       " '/scratch/qbi/uqkgarn1/STRIWP1/derivatives/glmTDFAST/sub-05/TR700ECHO2/FLGLM/ResMS.nii.gz']"
      ]
     },
     "execution_count": 4,
     "metadata": {},
     "output_type": "execute_result"
    }
   ],
   "source": [
    "# define ResMS files\n",
    "resid_str_echo = ''.join([BIDSdir, 'derivatives/glmTDFAST/sub-{0}/TR{1}/FLGLM/ResMS.nii.gz'])\n",
    "\n",
    "resid_fns = [resid_str_echo.format(subnum, TRnum, contrast) for subnum in subs for TRnum in TRs for contrast in contrasts] \n",
    "resid_fns"
   ]
  },
  {
   "cell_type": "code",
   "execution_count": 5,
   "metadata": {},
   "outputs": [
    {
     "data": {
      "text/plain": [
       "['/scratch/qbi/uqkgarn1/STRIWP1/derivatives/glmTDFAST/sub-05/TR700ECHO1/FLGLM/tSNR_beta_0001.nii.gz',\n",
       " '/scratch/qbi/uqkgarn1/STRIWP1/derivatives/glmTDFAST/sub-05/TR700ECHO1/FLGLM/tSNR_beta_0002.nii.gz',\n",
       " '/scratch/qbi/uqkgarn1/STRIWP1/derivatives/glmTDFAST/sub-05/TR700ECHO1/FLGLM/tSNR_beta_0003.nii.gz',\n",
       " '/scratch/qbi/uqkgarn1/STRIWP1/derivatives/glmTDFAST/sub-05/TR700ECHO1/FLGLM/tSNR_beta_0004.nii.gz',\n",
       " '/scratch/qbi/uqkgarn1/STRIWP1/derivatives/glmTDFAST/sub-05/TR700ECHO1/FLGLM/tSNR_beta_0013.nii.gz',\n",
       " '/scratch/qbi/uqkgarn1/STRIWP1/derivatives/glmTDFAST/sub-05/TR700ECHO1/FLGLM/tSNR_beta_0014.nii.gz',\n",
       " '/scratch/qbi/uqkgarn1/STRIWP1/derivatives/glmTDFAST/sub-05/TR700ECHO2/FLGLM/tSNR_beta_0001.nii.gz',\n",
       " '/scratch/qbi/uqkgarn1/STRIWP1/derivatives/glmTDFAST/sub-05/TR700ECHO2/FLGLM/tSNR_beta_0002.nii.gz',\n",
       " '/scratch/qbi/uqkgarn1/STRIWP1/derivatives/glmTDFAST/sub-05/TR700ECHO2/FLGLM/tSNR_beta_0003.nii.gz',\n",
       " '/scratch/qbi/uqkgarn1/STRIWP1/derivatives/glmTDFAST/sub-05/TR700ECHO2/FLGLM/tSNR_beta_0004.nii.gz',\n",
       " '/scratch/qbi/uqkgarn1/STRIWP1/derivatives/glmTDFAST/sub-05/TR700ECHO2/FLGLM/tSNR_beta_0013.nii.gz',\n",
       " '/scratch/qbi/uqkgarn1/STRIWP1/derivatives/glmTDFAST/sub-05/TR700ECHO2/FLGLM/tSNR_beta_0014.nii.gz']"
      ]
     },
     "execution_count": 5,
     "metadata": {},
     "output_type": "execute_result"
    }
   ],
   "source": [
    "out_str_echo = ''.join([BIDSdir, 'derivatives/glmTDFAST/sub-{0}/TR{1}/FLGLM/tSNR_beta_00{2}.nii.gz'])\n",
    "out_fns = [out_str_echo.format(subnum, TRnum, contrast) for subnum in subs for TRnum in TRs for contrast in contrasts] \n",
    "out_fns"
   ]
  },
  {
   "cell_type": "code",
   "execution_count": 6,
   "metadata": {},
   "outputs": [],
   "source": [
    "gettSNR = pe.MapNode(fsl.BinaryMaths(), name='maths', iterfield=['in_file', 'operand_file', 'out_file'])\n",
    "gettSNR.inputs.operation = 'div'\n",
    "gettSNR.inputs.in_file = in_fns\n",
    "gettSNR.inputs.operand_file = resid_fns\n",
    "gettSNR.inputs.out_file = out_fns"
   ]
  },
  {
   "cell_type": "code",
   "execution_count": 7,
   "metadata": {},
   "outputs": [
    {
     "name": "stdout",
     "output_type": "stream",
     "text": [
      "210503-15:32:26,337 nipype.workflow INFO:\n",
      "\t [Node] Setting-up \"maths\" in \"/tmp/tmp5rz0h8cn/maths\".\n",
      "210503-15:32:26,355 nipype.workflow INFO:\n",
      "\t [Node] Setting-up \"_maths0\" in \"/tmp/tmp5rz0h8cn/maths/mapflow/_maths0\".\n",
      "210503-15:32:26,361 nipype.workflow INFO:\n",
      "\t [Node] Running \"_maths0\" (\"nipype.interfaces.fsl.maths.BinaryMaths\"), a CommandLine Interface with command:\n",
      "fslmaths /scratch/qbi/uqkgarn1/STRIWP1/derivatives/glmTDFAST/sub-05/TR700ECHO1/FLGLM/beta_0001.nii.gz -div /scratch/qbi/uqkgarn1/STRIWP1/derivatives/glmTDFAST/sub-05/TR700ECHO1/FLGLM/ResMS.nii.gz /scratch/qbi/uqkgarn1/STRIWP1/derivatives/glmTDFAST/sub-05/TR700ECHO1/FLGLM/tSNR_beta_0001.nii.gz\n",
      "210503-15:32:26,522 nipype.workflow INFO:\n",
      "\t [Node] Finished \"_maths0\".\n",
      "210503-15:32:26,525 nipype.workflow INFO:\n",
      "\t [Node] Setting-up \"_maths1\" in \"/tmp/tmp5rz0h8cn/maths/mapflow/_maths1\".\n",
      "210503-15:32:26,529 nipype.workflow INFO:\n",
      "\t [Node] Running \"_maths1\" (\"nipype.interfaces.fsl.maths.BinaryMaths\"), a CommandLine Interface with command:\n",
      "fslmaths /scratch/qbi/uqkgarn1/STRIWP1/derivatives/glmTDFAST/sub-05/TR700ECHO1/FLGLM/beta_0002.nii.gz -div /scratch/qbi/uqkgarn1/STRIWP1/derivatives/glmTDFAST/sub-05/TR700ECHO1/FLGLM/ResMS.nii.gz /scratch/qbi/uqkgarn1/STRIWP1/derivatives/glmTDFAST/sub-05/TR700ECHO1/FLGLM/tSNR_beta_0002.nii.gz\n",
      "210503-15:32:26,658 nipype.workflow INFO:\n",
      "\t [Node] Finished \"_maths1\".\n",
      "210503-15:32:26,661 nipype.workflow INFO:\n",
      "\t [Node] Setting-up \"_maths2\" in \"/tmp/tmp5rz0h8cn/maths/mapflow/_maths2\".\n",
      "210503-15:32:26,665 nipype.workflow INFO:\n",
      "\t [Node] Running \"_maths2\" (\"nipype.interfaces.fsl.maths.BinaryMaths\"), a CommandLine Interface with command:\n",
      "fslmaths /scratch/qbi/uqkgarn1/STRIWP1/derivatives/glmTDFAST/sub-05/TR700ECHO1/FLGLM/beta_0003.nii.gz -div /scratch/qbi/uqkgarn1/STRIWP1/derivatives/glmTDFAST/sub-05/TR700ECHO1/FLGLM/ResMS.nii.gz /scratch/qbi/uqkgarn1/STRIWP1/derivatives/glmTDFAST/sub-05/TR700ECHO1/FLGLM/tSNR_beta_0003.nii.gz\n",
      "210503-15:32:26,804 nipype.workflow INFO:\n",
      "\t [Node] Finished \"_maths2\".\n",
      "210503-15:32:26,807 nipype.workflow INFO:\n",
      "\t [Node] Setting-up \"_maths3\" in \"/tmp/tmp5rz0h8cn/maths/mapflow/_maths3\".\n",
      "210503-15:32:26,811 nipype.workflow INFO:\n",
      "\t [Node] Running \"_maths3\" (\"nipype.interfaces.fsl.maths.BinaryMaths\"), a CommandLine Interface with command:\n",
      "fslmaths /scratch/qbi/uqkgarn1/STRIWP1/derivatives/glmTDFAST/sub-05/TR700ECHO1/FLGLM/beta_0004.nii.gz -div /scratch/qbi/uqkgarn1/STRIWP1/derivatives/glmTDFAST/sub-05/TR700ECHO1/FLGLM/ResMS.nii.gz /scratch/qbi/uqkgarn1/STRIWP1/derivatives/glmTDFAST/sub-05/TR700ECHO1/FLGLM/tSNR_beta_0004.nii.gz\n",
      "210503-15:32:26,959 nipype.workflow INFO:\n",
      "\t [Node] Finished \"_maths3\".\n",
      "210503-15:32:26,961 nipype.workflow INFO:\n",
      "\t [Node] Setting-up \"_maths4\" in \"/tmp/tmp5rz0h8cn/maths/mapflow/_maths4\".\n",
      "210503-15:32:26,966 nipype.workflow INFO:\n",
      "\t [Node] Running \"_maths4\" (\"nipype.interfaces.fsl.maths.BinaryMaths\"), a CommandLine Interface with command:\n",
      "fslmaths /scratch/qbi/uqkgarn1/STRIWP1/derivatives/glmTDFAST/sub-05/TR700ECHO1/FLGLM/beta_0013.nii.gz -div /scratch/qbi/uqkgarn1/STRIWP1/derivatives/glmTDFAST/sub-05/TR700ECHO1/FLGLM/ResMS.nii.gz /scratch/qbi/uqkgarn1/STRIWP1/derivatives/glmTDFAST/sub-05/TR700ECHO1/FLGLM/tSNR_beta_0013.nii.gz\n",
      "210503-15:32:27,91 nipype.workflow INFO:\n",
      "\t [Node] Finished \"_maths4\".\n",
      "210503-15:32:27,93 nipype.workflow INFO:\n",
      "\t [Node] Setting-up \"_maths5\" in \"/tmp/tmp5rz0h8cn/maths/mapflow/_maths5\".\n",
      "210503-15:32:27,97 nipype.workflow INFO:\n",
      "\t [Node] Running \"_maths5\" (\"nipype.interfaces.fsl.maths.BinaryMaths\"), a CommandLine Interface with command:\n",
      "fslmaths /scratch/qbi/uqkgarn1/STRIWP1/derivatives/glmTDFAST/sub-05/TR700ECHO1/FLGLM/beta_0014.nii.gz -div /scratch/qbi/uqkgarn1/STRIWP1/derivatives/glmTDFAST/sub-05/TR700ECHO1/FLGLM/ResMS.nii.gz /scratch/qbi/uqkgarn1/STRIWP1/derivatives/glmTDFAST/sub-05/TR700ECHO1/FLGLM/tSNR_beta_0014.nii.gz\n",
      "210503-15:32:27,225 nipype.workflow INFO:\n",
      "\t [Node] Finished \"_maths5\".\n",
      "210503-15:32:27,227 nipype.workflow INFO:\n",
      "\t [Node] Setting-up \"_maths6\" in \"/tmp/tmp5rz0h8cn/maths/mapflow/_maths6\".\n",
      "210503-15:32:27,232 nipype.workflow INFO:\n",
      "\t [Node] Running \"_maths6\" (\"nipype.interfaces.fsl.maths.BinaryMaths\"), a CommandLine Interface with command:\n",
      "fslmaths /scratch/qbi/uqkgarn1/STRIWP1/derivatives/glmTDFAST/sub-05/TR700ECHO2/FLGLM/beta_0001.nii.gz -div /scratch/qbi/uqkgarn1/STRIWP1/derivatives/glmTDFAST/sub-05/TR700ECHO2/FLGLM/ResMS.nii.gz /scratch/qbi/uqkgarn1/STRIWP1/derivatives/glmTDFAST/sub-05/TR700ECHO2/FLGLM/tSNR_beta_0001.nii.gz\n",
      "210503-15:32:27,373 nipype.workflow INFO:\n",
      "\t [Node] Finished \"_maths6\".\n",
      "210503-15:32:27,375 nipype.workflow INFO:\n",
      "\t [Node] Setting-up \"_maths7\" in \"/tmp/tmp5rz0h8cn/maths/mapflow/_maths7\".\n",
      "210503-15:32:27,379 nipype.workflow INFO:\n",
      "\t [Node] Running \"_maths7\" (\"nipype.interfaces.fsl.maths.BinaryMaths\"), a CommandLine Interface with command:\n",
      "fslmaths /scratch/qbi/uqkgarn1/STRIWP1/derivatives/glmTDFAST/sub-05/TR700ECHO2/FLGLM/beta_0002.nii.gz -div /scratch/qbi/uqkgarn1/STRIWP1/derivatives/glmTDFAST/sub-05/TR700ECHO2/FLGLM/ResMS.nii.gz /scratch/qbi/uqkgarn1/STRIWP1/derivatives/glmTDFAST/sub-05/TR700ECHO2/FLGLM/tSNR_beta_0002.nii.gz\n",
      "210503-15:32:27,510 nipype.workflow INFO:\n",
      "\t [Node] Finished \"_maths7\".\n",
      "210503-15:32:27,512 nipype.workflow INFO:\n",
      "\t [Node] Setting-up \"_maths8\" in \"/tmp/tmp5rz0h8cn/maths/mapflow/_maths8\".\n",
      "210503-15:32:27,516 nipype.workflow INFO:\n",
      "\t [Node] Running \"_maths8\" (\"nipype.interfaces.fsl.maths.BinaryMaths\"), a CommandLine Interface with command:\n",
      "fslmaths /scratch/qbi/uqkgarn1/STRIWP1/derivatives/glmTDFAST/sub-05/TR700ECHO2/FLGLM/beta_0003.nii.gz -div /scratch/qbi/uqkgarn1/STRIWP1/derivatives/glmTDFAST/sub-05/TR700ECHO2/FLGLM/ResMS.nii.gz /scratch/qbi/uqkgarn1/STRIWP1/derivatives/glmTDFAST/sub-05/TR700ECHO2/FLGLM/tSNR_beta_0003.nii.gz\n",
      "210503-15:32:27,651 nipype.workflow INFO:\n",
      "\t [Node] Finished \"_maths8\".\n",
      "210503-15:32:27,653 nipype.workflow INFO:\n",
      "\t [Node] Setting-up \"_maths9\" in \"/tmp/tmp5rz0h8cn/maths/mapflow/_maths9\".\n",
      "210503-15:32:27,658 nipype.workflow INFO:\n",
      "\t [Node] Running \"_maths9\" (\"nipype.interfaces.fsl.maths.BinaryMaths\"), a CommandLine Interface with command:\n",
      "fslmaths /scratch/qbi/uqkgarn1/STRIWP1/derivatives/glmTDFAST/sub-05/TR700ECHO2/FLGLM/beta_0004.nii.gz -div /scratch/qbi/uqkgarn1/STRIWP1/derivatives/glmTDFAST/sub-05/TR700ECHO2/FLGLM/ResMS.nii.gz /scratch/qbi/uqkgarn1/STRIWP1/derivatives/glmTDFAST/sub-05/TR700ECHO2/FLGLM/tSNR_beta_0004.nii.gz\n",
      "210503-15:32:27,782 nipype.workflow INFO:\n",
      "\t [Node] Finished \"_maths9\".\n",
      "210503-15:32:27,784 nipype.workflow INFO:\n",
      "\t [Node] Setting-up \"_maths10\" in \"/tmp/tmp5rz0h8cn/maths/mapflow/_maths10\".\n",
      "210503-15:32:27,789 nipype.workflow INFO:\n",
      "\t [Node] Running \"_maths10\" (\"nipype.interfaces.fsl.maths.BinaryMaths\"), a CommandLine Interface with command:\n",
      "fslmaths /scratch/qbi/uqkgarn1/STRIWP1/derivatives/glmTDFAST/sub-05/TR700ECHO2/FLGLM/beta_0013.nii.gz -div /scratch/qbi/uqkgarn1/STRIWP1/derivatives/glmTDFAST/sub-05/TR700ECHO2/FLGLM/ResMS.nii.gz /scratch/qbi/uqkgarn1/STRIWP1/derivatives/glmTDFAST/sub-05/TR700ECHO2/FLGLM/tSNR_beta_0013.nii.gz\n",
      "210503-15:32:27,925 nipype.workflow INFO:\n",
      "\t [Node] Finished \"_maths10\".\n",
      "210503-15:32:27,927 nipype.workflow INFO:\n",
      "\t [Node] Setting-up \"_maths11\" in \"/tmp/tmp5rz0h8cn/maths/mapflow/_maths11\".\n",
      "210503-15:32:27,932 nipype.workflow INFO:\n",
      "\t [Node] Running \"_maths11\" (\"nipype.interfaces.fsl.maths.BinaryMaths\"), a CommandLine Interface with command:\n",
      "fslmaths /scratch/qbi/uqkgarn1/STRIWP1/derivatives/glmTDFAST/sub-05/TR700ECHO2/FLGLM/beta_0014.nii.gz -div /scratch/qbi/uqkgarn1/STRIWP1/derivatives/glmTDFAST/sub-05/TR700ECHO2/FLGLM/ResMS.nii.gz /scratch/qbi/uqkgarn1/STRIWP1/derivatives/glmTDFAST/sub-05/TR700ECHO2/FLGLM/tSNR_beta_0014.nii.gz\n",
      "210503-15:32:28,59 nipype.workflow INFO:\n",
      "\t [Node] Finished \"_maths11\".\n",
      "210503-15:32:28,67 nipype.workflow INFO:\n",
      "\t [Node] Finished \"maths\".\n"
     ]
    },
    {
     "data": {
      "text/plain": [
       "<nipype.interfaces.base.support.InterfaceResult at 0x7f2f33430630>"
      ]
     },
     "execution_count": 7,
     "metadata": {},
     "output_type": "execute_result"
    }
   ],
   "source": [
    "gettSNR.run()"
   ]
  },
  {
   "cell_type": "code",
   "execution_count": null,
   "metadata": {},
   "outputs": [],
   "source": []
  }
 ],
 "metadata": {
  "kernelspec": {
   "display_name": "Python 3",
   "language": "python",
   "name": "python3"
  },
  "language_info": {
   "codemirror_mode": {
    "name": "ipython",
    "version": 3
   },
   "file_extension": ".py",
   "mimetype": "text/x-python",
   "name": "python",
   "nbconvert_exporter": "python",
   "pygments_lexer": "ipython3",
   "version": "3.6.10"
  }
 },
 "nbformat": 4,
 "nbformat_minor": 4
}
