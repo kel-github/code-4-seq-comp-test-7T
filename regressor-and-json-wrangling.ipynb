{
 "cells": [
  {
   "cell_type": "markdown",
   "metadata": {},
   "source": [
    "# wrangling motion and censor regressors for use with afni functions"
   ]
  },
  {
   "cell_type": "code",
   "execution_count": 1,
   "metadata": {},
   "outputs": [],
   "source": [
    "from bids.layout import BIDSLayout\n",
    "import pandas as pd\n",
    "import os, re, json"
   ]
  },
  {
   "cell_type": "markdown",
   "metadata": {},
   "source": [
    "First I define paramaters and collect the subject/session iterables:"
   ]
  },
  {
   "cell_type": "code",
   "execution_count": 3,
   "metadata": {},
   "outputs": [
    {
     "data": {
      "text/plain": [
       "['01', '02', '03', '04', '05']"
      ]
     },
     "execution_count": 3,
     "metadata": {},
     "output_type": "execute_result"
    }
   ],
   "source": [
    "BIDSdir = \"/scratch/qbi/uqkgarn1/STRIWP1/\"\n",
    "TRs_single_echo = pd.Series(str(x) for x in [1510, 1920])\n",
    "TRs_multi_echo = pd.Series(str(700))\n",
    "echoes = pd.Series(str(x) for x in [1, 2])\n",
    "layout = BIDSLayout(BIDSdir)\n",
    "subs = layout.get_subjects() # BIDSLayout does not appear to detect anything below the session folders, despite them being \n",
    "# BIDS compliant. However, the BIDSDataGrabber does appear to find the files, so pursuing for now\n",
    "sess = layout.get_sessions()\n",
    "subs"
   ]
  },
  {
   "cell_type": "markdown",
   "metadata": {},
   "source": [
    "Now, for each subject and session, I need to create two files required by the AFNI 3dtProject function. One containing the censor data, the other containing the motion regressors. "
   ]
  },
  {
   "cell_type": "code",
   "execution_count": 3,
   "metadata": {},
   "outputs": [
    {
     "data": {
      "text/plain": [
       "['/scratch/qbi/uqkgarn1/STRIWP1/derivatives/sub-01/ses-02/func/sub-01_ses-02_task-learnAtt_acq-TR1510_desc-confounds_regressors.tsv',\n",
       " '/scratch/qbi/uqkgarn1/STRIWP1/derivatives/sub-01/ses-02/func/sub-01_ses-02_task-learnAtt_acq-TR1920_desc-confounds_regressors.tsv',\n",
       " '/scratch/qbi/uqkgarn1/STRIWP1/derivatives/sub-01/ses-03/func/sub-01_ses-03_task-learnAtt_acq-TR1510_desc-confounds_regressors.tsv',\n",
       " '/scratch/qbi/uqkgarn1/STRIWP1/derivatives/sub-01/ses-03/func/sub-01_ses-03_task-learnAtt_acq-TR1920_desc-confounds_regressors.tsv',\n",
       " '/scratch/qbi/uqkgarn1/STRIWP1/derivatives/sub-02/ses-02/func/sub-02_ses-02_task-learnAtt_acq-TR1510_desc-confounds_regressors.tsv',\n",
       " '/scratch/qbi/uqkgarn1/STRIWP1/derivatives/sub-02/ses-02/func/sub-02_ses-02_task-learnAtt_acq-TR1920_desc-confounds_regressors.tsv',\n",
       " '/scratch/qbi/uqkgarn1/STRIWP1/derivatives/sub-02/ses-03/func/sub-02_ses-03_task-learnAtt_acq-TR1510_desc-confounds_regressors.tsv',\n",
       " '/scratch/qbi/uqkgarn1/STRIWP1/derivatives/sub-02/ses-03/func/sub-02_ses-03_task-learnAtt_acq-TR1920_desc-confounds_regressors.tsv',\n",
       " '/scratch/qbi/uqkgarn1/STRIWP1/derivatives/sub-02/ses-04/func/sub-02_ses-04_task-learnAtt_acq-TR1510_desc-confounds_regressors.tsv',\n",
       " '/scratch/qbi/uqkgarn1/STRIWP1/derivatives/sub-02/ses-04/func/sub-02_ses-04_task-learnAtt_acq-TR1920_desc-confounds_regressors.tsv',\n",
       " '/scratch/qbi/uqkgarn1/STRIWP1/derivatives/sub-03/ses-02/func/sub-03_ses-02_task-learnAtt_acq-TR1510_desc-confounds_regressors.tsv',\n",
       " '/scratch/qbi/uqkgarn1/STRIWP1/derivatives/sub-03/ses-02/func/sub-03_ses-02_task-learnAtt_acq-TR1920_desc-confounds_regressors.tsv',\n",
       " '/scratch/qbi/uqkgarn1/STRIWP1/derivatives/sub-03/ses-03/func/sub-03_ses-03_task-learnAtt_acq-TR1510_desc-confounds_regressors.tsv',\n",
       " '/scratch/qbi/uqkgarn1/STRIWP1/derivatives/sub-03/ses-03/func/sub-03_ses-03_task-learnAtt_acq-TR1920_desc-confounds_regressors.tsv',\n",
       " '/scratch/qbi/uqkgarn1/STRIWP1/derivatives/sub-03/ses-04/func/sub-03_ses-04_task-learnAtt_acq-TR1510_desc-confounds_regressors.tsv',\n",
       " '/scratch/qbi/uqkgarn1/STRIWP1/derivatives/sub-04/ses-02/func/sub-04_ses-02_task-learnAtt_acq-TR1510_desc-confounds_regressors.tsv',\n",
       " '/scratch/qbi/uqkgarn1/STRIWP1/derivatives/sub-04/ses-02/func/sub-04_ses-02_task-learnAtt_acq-TR1920_desc-confounds_regressors.tsv',\n",
       " '/scratch/qbi/uqkgarn1/STRIWP1/derivatives/sub-04/ses-03/func/sub-04_ses-03_task-learnAtt_acq-TR1510_desc-confounds_regressors.tsv',\n",
       " '/scratch/qbi/uqkgarn1/STRIWP1/derivatives/sub-04/ses-03/func/sub-04_ses-03_task-learnAtt_acq-TR1920_desc-confounds_regressors.tsv',\n",
       " '/scratch/qbi/uqkgarn1/STRIWP1/derivatives/sub-04/ses-04/func/sub-04_ses-04_task-learnAtt_acq-TR1510_desc-confounds_regressors.tsv',\n",
       " '/scratch/qbi/uqkgarn1/STRIWP1/derivatives/sub-04/ses-04/func/sub-04_ses-04_task-learnAtt_acq-TR1920_desc-confounds_regressors.tsv',\n",
       " '/scratch/qbi/uqkgarn1/STRIWP1/derivatives/sub-05/ses-02/func/sub-05_ses-02_task-learnAtt_acq-TR1510_desc-confounds_regressors.tsv',\n",
       " '/scratch/qbi/uqkgarn1/STRIWP1/derivatives/sub-05/ses-02/func/sub-05_ses-02_task-learnAtt_acq-TR1920_desc-confounds_regressors.tsv',\n",
       " '/scratch/qbi/uqkgarn1/STRIWP1/derivatives/sub-05/ses-03/func/sub-05_ses-03_task-learnAtt_acq-TR1510_desc-confounds_regressors.tsv',\n",
       " '/scratch/qbi/uqkgarn1/STRIWP1/derivatives/sub-05/ses-03/func/sub-05_ses-03_task-learnAtt_acq-TR1920_desc-confounds_regressors.tsv',\n",
       " '/scratch/qbi/uqkgarn1/STRIWP1/derivatives/sub-05/ses-04/func/sub-05_ses-04_task-learnAtt_acq-TR1510_desc-confounds_regressors.tsv',\n",
       " '/scratch/qbi/uqkgarn1/STRIWP1/derivatives/sub-05/ses-04/func/sub-05_ses-04_task-learnAtt_acq-TR1920_desc-confounds_regressors.tsv',\n",
       " '/scratch/qbi/uqkgarn1/STRIWP1/derivatives/sub-01/ses-02/func/sub-01_ses-02_task-learnAtt_acq-TR700_echo-1_desc-confounds_regressors.tsv',\n",
       " '/scratch/qbi/uqkgarn1/STRIWP1/derivatives/sub-01/ses-02/func/sub-01_ses-02_task-learnAtt_acq-TR700_echo-2_desc-confounds_regressors.tsv',\n",
       " '/scratch/qbi/uqkgarn1/STRIWP1/derivatives/sub-01/ses-03/func/sub-01_ses-03_task-learnAtt_acq-TR700_echo-1_desc-confounds_regressors.tsv',\n",
       " '/scratch/qbi/uqkgarn1/STRIWP1/derivatives/sub-01/ses-03/func/sub-01_ses-03_task-learnAtt_acq-TR700_echo-2_desc-confounds_regressors.tsv',\n",
       " '/scratch/qbi/uqkgarn1/STRIWP1/derivatives/sub-02/ses-02/func/sub-02_ses-02_task-learnAtt_acq-TR700_echo-1_desc-confounds_regressors.tsv',\n",
       " '/scratch/qbi/uqkgarn1/STRIWP1/derivatives/sub-02/ses-02/func/sub-02_ses-02_task-learnAtt_acq-TR700_echo-2_desc-confounds_regressors.tsv',\n",
       " '/scratch/qbi/uqkgarn1/STRIWP1/derivatives/sub-02/ses-03/func/sub-02_ses-03_task-learnAtt_acq-TR700_echo-1_desc-confounds_regressors.tsv',\n",
       " '/scratch/qbi/uqkgarn1/STRIWP1/derivatives/sub-02/ses-03/func/sub-02_ses-03_task-learnAtt_acq-TR700_echo-2_desc-confounds_regressors.tsv',\n",
       " '/scratch/qbi/uqkgarn1/STRIWP1/derivatives/sub-02/ses-04/func/sub-02_ses-04_task-learnAtt_acq-TR700_echo-1_desc-confounds_regressors.tsv',\n",
       " '/scratch/qbi/uqkgarn1/STRIWP1/derivatives/sub-02/ses-04/func/sub-02_ses-04_task-learnAtt_acq-TR700_echo-2_desc-confounds_regressors.tsv',\n",
       " '/scratch/qbi/uqkgarn1/STRIWP1/derivatives/sub-03/ses-02/func/sub-03_ses-02_task-learnAtt_acq-TR700_echo-1_desc-confounds_regressors.tsv',\n",
       " '/scratch/qbi/uqkgarn1/STRIWP1/derivatives/sub-03/ses-02/func/sub-03_ses-02_task-learnAtt_acq-TR700_echo-2_desc-confounds_regressors.tsv',\n",
       " '/scratch/qbi/uqkgarn1/STRIWP1/derivatives/sub-03/ses-03/func/sub-03_ses-03_task-learnAtt_acq-TR700_echo-1_desc-confounds_regressors.tsv',\n",
       " '/scratch/qbi/uqkgarn1/STRIWP1/derivatives/sub-03/ses-03/func/sub-03_ses-03_task-learnAtt_acq-TR700_echo-2_desc-confounds_regressors.tsv',\n",
       " '/scratch/qbi/uqkgarn1/STRIWP1/derivatives/sub-03/ses-04/func/sub-03_ses-04_task-learnAtt_acq-TR700_echo-1_desc-confounds_regressors.tsv',\n",
       " '/scratch/qbi/uqkgarn1/STRIWP1/derivatives/sub-03/ses-04/func/sub-03_ses-04_task-learnAtt_acq-TR700_echo-2_desc-confounds_regressors.tsv',\n",
       " '/scratch/qbi/uqkgarn1/STRIWP1/derivatives/sub-04/ses-02/func/sub-04_ses-02_task-learnAtt_acq-TR700_echo-1_desc-confounds_regressors.tsv',\n",
       " '/scratch/qbi/uqkgarn1/STRIWP1/derivatives/sub-04/ses-02/func/sub-04_ses-02_task-learnAtt_acq-TR700_echo-2_desc-confounds_regressors.tsv',\n",
       " '/scratch/qbi/uqkgarn1/STRIWP1/derivatives/sub-04/ses-03/func/sub-04_ses-03_task-learnAtt_acq-TR700_echo-1_desc-confounds_regressors.tsv',\n",
       " '/scratch/qbi/uqkgarn1/STRIWP1/derivatives/sub-04/ses-03/func/sub-04_ses-03_task-learnAtt_acq-TR700_echo-2_desc-confounds_regressors.tsv',\n",
       " '/scratch/qbi/uqkgarn1/STRIWP1/derivatives/sub-04/ses-04/func/sub-04_ses-04_task-learnAtt_acq-TR700_echo-1_desc-confounds_regressors.tsv',\n",
       " '/scratch/qbi/uqkgarn1/STRIWP1/derivatives/sub-04/ses-04/func/sub-04_ses-04_task-learnAtt_acq-TR700_echo-2_desc-confounds_regressors.tsv',\n",
       " '/scratch/qbi/uqkgarn1/STRIWP1/derivatives/sub-05/ses-02/func/sub-05_ses-02_task-learnAtt_acq-TR700_echo-1_desc-confounds_regressors.tsv',\n",
       " '/scratch/qbi/uqkgarn1/STRIWP1/derivatives/sub-05/ses-02/func/sub-05_ses-02_task-learnAtt_acq-TR700_echo-2_desc-confounds_regressors.tsv',\n",
       " '/scratch/qbi/uqkgarn1/STRIWP1/derivatives/sub-05/ses-03/func/sub-05_ses-03_task-learnAtt_acq-TR700_echo-1_desc-confounds_regressors.tsv',\n",
       " '/scratch/qbi/uqkgarn1/STRIWP1/derivatives/sub-05/ses-03/func/sub-05_ses-03_task-learnAtt_acq-TR700_echo-2_desc-confounds_regressors.tsv',\n",
       " '/scratch/qbi/uqkgarn1/STRIWP1/derivatives/sub-05/ses-04/func/sub-05_ses-04_task-learnAtt_acq-TR700_echo-1_desc-confounds_regressors.tsv',\n",
       " '/scratch/qbi/uqkgarn1/STRIWP1/derivatives/sub-05/ses-04/func/sub-05_ses-04_task-learnAtt_acq-TR700_echo-2_desc-confounds_regressors.tsv']"
      ]
     },
     "execution_count": 3,
     "metadata": {},
     "output_type": "execute_result"
    }
   ],
   "source": [
    "# first get a list of all the confounds files for the single echo TRs to which I will apply the printCensored and printMotion functions below\n",
    "fstr_sing_echo = ''.join([BIDSdir, 'derivatives/sub-{0}/ses-{1}/func/sub-{0}_ses-{1}_task-learnAtt_acq-TR{2}_desc-confounds_regressors.tsv'])\n",
    "fstr_multi_echo = ''.join([BIDSdir, 'derivatives/sub-{0}/ses-{1}/func/sub-{0}_ses-{1}_task-learnAtt_acq-TR{2}_echo-{3}_desc-confounds_regressors.tsv'])\n",
    "fns = [fstr_sing_echo.format(subnum, sesnum, TRnum) for subnum in subs for sesnum in sess for TRnum in TRs_single_echo] + [fstr_multi_echo.format(subnum, sesnum, TRnum, eNum) for subnum in subs for sesnum in sess for TRnum in TRs_multi_echo for eNum in echoes]\n",
    "fns\n",
    "# rfns is a list of non-existent files, for example the subject did not complete the session, which I then exclude from the list of filenames\n",
    "rfns = ['/scratch/qbi/uqkgarn1/STRIWP1/derivatives/sub-01/ses-04/func/sub-01_ses-04_task-learnAtt_acq-TR1510_desc-confounds_regressors.tsv', # didn't complete session\n",
    "        '/scratch/qbi/uqkgarn1/STRIWP1/derivatives/sub-01/ses-04/func/sub-01_ses-04_task-learnAtt_acq-TR1920_desc-confounds_regressors.tsv', # didn't complete session\n",
    "        '/scratch/qbi/uqkgarn1/STRIWP1/derivatives/sub-01/ses-04/func/sub-01_ses-04_task-learnAtt_acq-TR700_echo-1_desc-confounds_regressors.tsv', # didn't complete session\n",
    "        '/scratch/qbi/uqkgarn1/STRIWP1/derivatives/sub-01/ses-04/func/sub-01_ses-04_task-learnAtt_acq-TR700_echo-2_desc-confounds_regressors.tsv', # didn't complete session\n",
    "        '/scratch/qbi/uqkgarn1/STRIWP1/derivatives/sub-03/ses-04/func/sub-03_ses-04_task-learnAtt_acq-TR1920_desc-confounds_regressors.tsv'] # error constructing scan\n",
    "fns_list = [e for e in fns if e not in rfns]\n",
    "fns_list"
   ]
  },
  {
   "cell_type": "code",
   "execution_count": 4,
   "metadata": {},
   "outputs": [],
   "source": [
    "def printNewJson(fname, data): # function to print json file, given fname (str) and data = {}\n",
    "    with open(fname, 'w') as outfile:\n",
    "        json.dump(data, outfile)\n",
    "        \n",
    "def updateJson(json_fname, update_data):\n",
    "    with open(json_fname, \"r+\") as file:\n",
    "        data = json.load(file)\n",
    "        data.update(update_data)\n",
    "        file.seek(0)\n",
    "        json.dump(data, file)"
   ]
  },
  {
   "cell_type": "code",
   "execution_count": 5,
   "metadata": {},
   "outputs": [],
   "source": [
    "def printCensored(fname): # fname = confounds from get_confounds\n",
    "    import pandas as pd\n",
    "    import re\n",
    "#fname = fns_list[-1] # for testing\n",
    "    # set filename for output file\n",
    "    censfname = fname.replace('confounds', 'censor')\n",
    "    censfname = censfname.replace('tsv', '1D')\n",
    "\n",
    "    # read in data, norm and set censored timepoints\n",
    "    data = pd.read_csv(fname, sep='\\t', usecols=['dvars'])\n",
    "    normd = (data-data.mean())/data.std()\n",
    "    normd = normd.abs() < 1.5\n",
    "    normd.dvars.astype(int)\n",
    "    normd = (normd*1)\n",
    "    normd.to_csv(censfname, sep='\\t', index=False, header=False)   \n",
    "#     # now write the json file to accompany it\n",
    "    censfname_json = censfname.replace('1D', 'json')\n",
    "    TR = re.search('.*acq-TR([0-9]*)_.*', censfname_json)\n",
    "    echo = re.search('.*echo-([0-9]*)_.*', censfname_json);\n",
    "    if not re.search('.*echo-([0-9]*)_.*', censfname_json):\n",
    "           cens_json_data = {\"tsvType\":\"AFNI-censor\", \"TR\":str(int(TR.group(1))/1000)}\n",
    "    else: \n",
    "           cens_json_data = {\"tsvType\":\"AFNI-censor\", \"TR\":str(int(TR.group(1))/1000), \n",
    "                             \"echo\": echo.group(1)}\n",
    "    \n",
    "    printNewJson(censfname_json, cens_json_data)\n",
    "    return censfname\n",
    "#censfname"
   ]
  },
  {
   "cell_type": "code",
   "execution_count": 10,
   "metadata": {},
   "outputs": [],
   "source": [
    "def printMotion(fname): # fname = confounds from get_confounds\n",
    "    import pandas as pd\n",
    "    import re \n",
    "    data = pd.read_csv(fname, sep='\\t', usecols=['trans_x', 'trans_x_derivative1',\n",
    "                                                 'trans_y', 'trans_y_derivative1',\n",
    "                                                 'trans_z', 'trans_z_derivative1',\n",
    "                                                 'rot_x', 'rot_x_derivative1',\n",
    "                                                 'rot_y', 'rot_y_derivative1',\n",
    "                                                 'rot_z', 'rot_z_derivative1'])\n",
    "    data = data.fillna(value=0)\n",
    "    \n",
    "    savefname = fname.replace('confounds', 'motion')\n",
    "    savefname = savefname.replace('tsv', 'txt')\n",
    "    data.to_csv(savefname, sep=' ', index=False, header=False)\n",
    "    # write json file to accompany\n",
    "    motionfname_json = savefname.replace('txt', 'json')\n",
    "    TR = re.search('.*acq-TR([0-9]*)_.*', motionfname_json)\n",
    "    echo = re.search('.*echo-([0-9]*)_.*', motionfname_json)\n",
    "    if not re.search('.*echo-([0-9]*)_.*', motionfname_json):\n",
    "        motion_json_data = {\"tsvType\":\"AFNI-motion\", \"TR\":str(int(TR.group(1))/1000)}\n",
    "    else:         \n",
    "        motion_json_data = {\"tsvType\":\"AFNI-motion\", \"TR\":str(int(TR.group(1))/1000), \n",
    "                            \"echo\": echo.group(1)}\n",
    "    printNewJson(motionfname_json, motion_json_data)\n",
    "    return savefname"
   ]
  },
  {
   "cell_type": "code",
   "execution_count": 11,
   "metadata": {},
   "outputs": [],
   "source": [
    "cenf = [printCensored(f) for f in fns_list]\n",
    "motf = [printMotion(f) for f in fns_list]"
   ]
  },
  {
   "cell_type": "code",
   "execution_count": null,
   "metadata": {},
   "outputs": [],
   "source": [
    "fname = '/scratch/qbi/uqkgarn1/STRIWP1/derivatives/sub-01/ses-02/func/sub-01_ses-02_task-learnAtt_acq-TR1510_desc-confounds_regressors.tsv'"
   ]
  },
  {
   "cell_type": "code",
   "execution_count": null,
   "metadata": {},
   "outputs": [],
   "source": [
    "    data = pd.read_csv(fname, sep='\\t', usecols=['trans_x', 'trans_x_derivative1',\n",
    "                                                 'trans_y', 'trans_y_derivative1',\n",
    "                                                 'trans_z', 'trans_z_derivative1',\n",
    "                                                 'rot_x', 'rot_x_derivative1',\n",
    "                                                 'rot_y', 'rot_y_derivative1',\n",
    "                                                 'rot_z', 'rot_z_derivative1'])"
   ]
  },
  {
   "cell_type": "code",
   "execution_count": null,
   "metadata": {},
   "outputs": [],
   "source": [
    "data = data.fillna(value=0)\n",
    "data"
   ]
  },
  {
   "cell_type": "markdown",
   "metadata": {},
   "source": [
    "## manipulating T2 json files to make queries using BIDSDataGrabber"
   ]
  },
  {
   "cell_type": "code",
   "execution_count": null,
   "metadata": {},
   "outputs": [],
   "source": [
    "# first get a list of all the confounds files for the single echo TRs to which I will apply the printCensored and printMotion functions below\n",
    "T2fstr_sing_echo = ''.join([BIDSdir, 'derivatives/sub-{0}/ses-{1}/func/sub-{0}_ses-{1}_task-learnAtt_acq-TR{2}_space-T1w_desc-preproc_bold.json'])\n",
    "T2fstr_multi_echo = ''.join([BIDSdir, 'derivatives/sub-{0}/ses-{1}/func/sub-{0}_ses-{1}_task-learnAtt_acq-TR{2}_echo-{3}_space-T1w_desc-preproc_bold.json'])\n",
    "#T2fns = [T2fstr_sing_echo.format(subnum, sesnum, TRnum) for subnum in subs for sesnum in sess for TRnum in TRs_single_echo] + [T2fstr_multi_echo.format(subnum, sesnum, TRnum, eNum) for subnum in subs for sesnum in sess for TRnum in TRs_multi_echo for eNum in echoes]\n",
    "T2fns_singEcho = [T2fstr_sing_echo.format(subnum, sesnum, TRnum) for subnum in subs for sesnum in sess for TRnum in TRs_single_echo]\n",
    "T2fns_multiEcho = [T2fstr_multi_echo.format(subnum, sesnum, TRnum, eNum) for subnum in subs for sesnum in sess for TRnum in TRs_multi_echo for eNum in echoes]\n",
    "T2fns_multiEcho\n",
    "\n",
    "T2rfns_singEcho = ['/scratch/qbi/uqkgarn1/STRIWP1/derivatives/sub-01/ses-04/func/sub-01_ses-04_task-learnAtt_acq-TR1510_space-T1w_desc-preproc_bold.json', # didn't complete session\n",
    "                   '/scratch/qbi/uqkgarn1/STRIWP1/derivatives/sub-01/ses-04/func/sub-01_ses-04_task-learnAtt_acq-TR1920_space-T1w_desc-preproc_bold.json', # didn't complete session]\n",
    "                   '/scratch/qbi/uqkgarn1/STRIWP1/derivatives/sub-03/ses-04/func/sub-03_ses-04_task-learnAtt_acq-TR1920_space-T1w_desc-preproc_bold.json']\n",
    "                   # remove nonexistent files\n",
    "T2rfns_multiEcho = ['/scratch/qbi/uqkgarn1/STRIWP1/derivatives/sub-01/ses-04/func/sub-01_ses-04_task-learnAtt_acq-TR700_echo-1_space-T1w_desc-preproc_bold.json', # didn't complete session\n",
    "                    '/scratch/qbi/uqkgarn1/STRIWP1/derivatives/sub-01/ses-04/func/sub-01_ses-04_task-learnAtt_acq-TR700_echo-2_space-T1w_desc-preproc_bold.json']\n",
    "    \n",
    "# rfns is a list of non-existent files, for example the subject did not complete the session, which I then exclude from the list of filenames\n",
    "# T2rfns = ['/scratch/qbi/uqkgarn1/STRIWP1/derivatives/sub-01/ses-04/func/sub-01_ses-04_task-learnAtt_acq-TR1510_space-T1w_desc-preproc_bold.json', # didn't complete session\n",
    "#           '/scratch/qbi/uqkgarn1/STRIWP1/derivatives/sub-01/ses-04/func/sub-01_ses-04_task-learnAtt_acq-TR1920_space-T1w_desc-preproc_bold.json', # didn't complete session\n",
    "#           '/scratch/qbi/uqkgarn1/STRIWP1/derivatives/sub-01/ses-04/func/sub-01_ses-04_task-learnAtt_acq-TR700_echo-1_space-T1w_desc-preproc_bold.json', # didn't complete session\n",
    "#           '/scratch/qbi/uqkgarn1/STRIWP1/derivatives/sub-01/ses-04/func/sub-01_ses-04_task-learnAtt_acq-TR700_echo-2_space-T1w_desc-preproc_bold.json', # didn't complete session\n",
    "#           '/scratch/qbi/uqkgarn1/STRIWP1/derivatives/sub-03/ses-04/func/sub-03_ses-04_task-learnAtt_acq-TR1920_space-T1w_desc-preproc_bold.json'] # error constructing scan\n",
    "\n",
    "T2fns_singEcho_list = [e for e in T2fns_singEcho if e not in T2rfns_singEcho]\n",
    "T2fns_multiEcho_list = [e for e in T2fns_multiEcho if e not in T2rfns_multiEcho]\n",
    "# T2fns_list\n",
    "T2fns_multiEcho_list\n"
   ]
  },
  {
   "cell_type": "code",
   "execution_count": null,
   "metadata": {},
   "outputs": [],
   "source": [
    "singEcho_update_data = {\"space\":\"T1w\"}\n",
    "for f in T2fns_singEcho_list: \n",
    "    updateJson(f, singEcho_update_data) "
   ]
  },
  {
   "cell_type": "code",
   "execution_count": null,
   "metadata": {},
   "outputs": [],
   "source": [
    "for f in T2fns_multiEcho_list:\n",
    "    echo = re.search('.*echo-([0-9]*)_.*', f)\n",
    "    echo = echo.group(1)\n",
    "    update_data = {\"space\":\"T1w\", \"echo\": echo }\n",
    "    updateJson(f, update_data)"
   ]
  }
 ],
 "metadata": {
  "kernelspec": {
   "display_name": "Python 3",
   "language": "python",
   "name": "python3"
  },
  "language_info": {
   "codemirror_mode": {
    "name": "ipython",
    "version": 3
   },
   "file_extension": ".py",
   "mimetype": "text/x-python",
   "name": "python",
   "nbconvert_exporter": "python",
   "pygments_lexer": "ipython3",
   "version": "3.6.10"
  }
 },
 "nbformat": 4,
 "nbformat_minor": 4
}
