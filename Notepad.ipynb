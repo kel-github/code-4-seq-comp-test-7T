{
 "cells": [
  {
   "cell_type": "markdown",
   "metadata": {},
   "source": [
    "# Examining image sizes of T1, MNI T1, T2*, and mask files\n",
    "\n",
    "K. Garner, 2020"
   ]
  },
  {
   "cell_type": "code",
   "execution_count": 1,
   "metadata": {},
   "outputs": [],
   "source": [
    "import nilearn.plotting as niplt # for debugging\n",
    "import nilearn.image as img\n",
    "import pandas as pd\n",
    "import nibabel as nib\n",
    "import os"
   ]
  },
  {
   "cell_type": "code",
   "execution_count": 2,
   "metadata": {},
   "outputs": [],
   "source": [
    "# define subject paths\n",
    "Basedir =  \"/scratch/qbi/uqkgarn1/STRIWP1/\"\n",
    "T1fname = \"derivatives/sub-01/anat/sub-01_desc-preproc_T1w.nii.gz\"\n",
    "T2s = [\"derivatives/sub-01/ses-02/tSNR/sub-01_ses-02_task-learnAtt_acq-TR700_echo-1_space-T1w_desc-tSNR-resamp_bold.nii.gz\",\n",
    "       \"derivatives/sub-01/ses-02/tSNR/sub-01_ses-02_task-learnAtt_acq-TR700_echo-2_space-T1w_desc-tSNR-resamp_bold.nii.gz\",\n",
    "       \"derivatives/sub-01/ses-02/tSNR/sub-01_ses-02_task-learnAtt_acq-TR1510_space-T1w_desc-tSNR-resamp_bold.nii.gz\",\n",
    "       \"derivatives/sub-01/ses-02/tSNR/sub-01_ses-02_task-learnAtt_acq-TR1920_space-T1w_desc-tSNR-resamp_bold.nii.gz\"]\n",
    "MNI = \"derivatives/sub-01/anat/sub-01_space-MNI152NLin2009cAsym_desc-preproc_T1w.nii.gz\"\n",
    "Kmask = \"derivatives/roi-masks/Keuken/LCN.nii.gz\"\n",
    "RFLmask = \"derivatives/roi-masks/RFL/ca_mni.nii.gz\"\n",
    "T1fname = os.path.join(Basedir, T1fname)\n",
    "MNIfname = os.path.join(Basedir, MNI)\n",
    "Kfname = os.path.join(Basedir, Kmask)\n",
    "RFLfname = os.path.join(Basedir, RFLmask)\n",
    "#subMask = "
   ]
  },
  {
   "cell_type": "markdown",
   "metadata": {},
   "source": [
    "## check details re: the T1"
   ]
  },
  {
   "cell_type": "code",
   "execution_count": 3,
   "metadata": {},
   "outputs": [
    {
     "data": {
      "text/plain": [
       "(0.75, 0.75, 0.75)"
      ]
     },
     "execution_count": 3,
     "metadata": {},
     "output_type": "execute_result"
    }
   ],
   "source": [
    "T1 = nib.load(T1fname)\n",
    "T1.shape\n",
    "\n",
    "# T1.affine.shape\n",
    "T1hdr = T1.header\n",
    "T1hdr.get_zooms()"
   ]
  },
  {
   "cell_type": "markdown",
   "metadata": {},
   "source": [
    "# comparing affine information for T2 resampled and T2 mean bold"
   ]
  },
  {
   "cell_type": "markdown",
   "metadata": {},
   "source": [
    "See https://nipy.org/nibabel/nifti_images.html\n",
    "The affine relates the voxel coordinates to world coordinates in RAS+ space (whatever that is).\n",
    "Nibabel has an algorithm to pick whether it will use the sform, qform ro fall-back header affine\n",
    "\n",
    "a) are there any differences in the affine info for the resampled and the mean bold images? \n",
    "b) how does spm choose which affine to use?\n",
    "c) can I set an affine for spm?\n",
    "\n",
    "__spm info on the nibabel page__\n",
    "This is the affine of last resort, constructed only from the pixdim voxel sizes. The NIfTI specification says that this should set the first voxel in the image as [0, 0, 0] in world coordinates, but we nibabblers follow SPM in preferring to set the central voxel to have [0, 0, 0] world coordinate. The NIfTI spec also implies that the image should be assumed to be in RAS+ voxel orientation for this affine (see Coordinate systems and affines). Again like SPM, we prefer to assume LAS+ voxel orientation by default."
   ]
  },
  {
   "cell_type": "code",
   "execution_count": 46,
   "metadata": {},
   "outputs": [],
   "source": [
    "# has been averaged but not resampled\n",
    "T2mu = nib.load(os.path.join(Basedir, 'derivatives/sub-01/ses-02/func/sub-01_ses-02_task-learnAtt_acq-TR700_echo-1_space-T1w_desc-mean_bold.nii.gz'))\n",
    "# has been used by afni but not resampled\n",
    "# T2tSNR = nib.load(os.path.join(Basedir, 'derivatives/sub-01/ses-02/func/sub-01_ses-02_task-learnAtt_acq-TR1510_space-T1w_desc-mean_bold.nii.gz')       \n",
    "# has been resampled by afni\n",
    "T2tSNR_resamp = nib.load(os.path.join(Basedir, 'derivatives/sub-01/ses-02/tSNR/sub-01_ses-02_task-learnAtt_acq-TR700_echo-2_space-T1w_desc-tSNR-resamp_bold.nii.gz'))"
   ]
  },
  {
   "cell_type": "markdown",
   "metadata": {},
   "source": [
    "first get the sform info for each file type"
   ]
  },
  {
   "cell_type": "code",
   "execution_count": 47,
   "metadata": {},
   "outputs": [],
   "source": [
    "T2mu_hdr = T2mu.header\n",
    "T2tSNR_resamp_hdr = T2tSNR_resamp.header"
   ]
  },
  {
   "cell_type": "code",
   "execution_count": 48,
   "metadata": {},
   "outputs": [
    {
     "data": {
      "text/plain": [
       "array([[ -2.,   0.,   0.,  70.],\n",
       "       [  0.,   2.,   0., -94.],\n",
       "       [  0.,   0.,   2., -68.],\n",
       "       [  0.,   0.,   0.,   1.]])"
      ]
     },
     "execution_count": 48,
     "metadata": {},
     "output_type": "execute_result"
    }
   ],
   "source": [
    "T2mu_hdr.get_base_affine()"
   ]
  },
  {
   "cell_type": "code",
   "execution_count": 20,
   "metadata": {},
   "outputs": [
    {
     "name": "stdout",
     "output_type": "stream",
     "text": [
      "2\n"
     ]
    }
   ],
   "source": [
    "print(T2mu_hdr['sform_code'])"
   ]
  },
  {
   "cell_type": "code",
   "execution_count": null,
   "metadata": {},
   "outputs": [],
   "source": [
    "#T2mu_hdr = #"
   ]
  },
  {
   "cell_type": "code",
   "execution_count": 28,
   "metadata": {},
   "outputs": [
    {
     "data": {
      "text/plain": [
       "array([[ -0.75 ,   0.   ,   0.   ,  70.5  ],\n",
       "       [  0.   ,   0.75 ,   0.   , -94.5  ],\n",
       "       [  0.   ,   0.   ,   0.75 , -68.625],\n",
       "       [  0.   ,   0.   ,   0.   ,   1.   ]])"
      ]
     },
     "execution_count": 28,
     "metadata": {},
     "output_type": "execute_result"
    }
   ],
   "source": [
    "T2tSNR_resamp_hdr.get_base_affine()"
   ]
  },
  {
   "cell_type": "code",
   "execution_count": 21,
   "metadata": {},
   "outputs": [
    {
     "name": "stdout",
     "output_type": "stream",
     "text": [
      "3\n"
     ]
    }
   ],
   "source": [
    "print(T2tSNR_resamp_hdr['sform_code'])"
   ]
  },
  {
   "cell_type": "markdown",
   "metadata": {},
   "source": [
    "It looks like AFNI have changed the code on the affine during resample, to put into talaraich space, given that the sform code is now 3 (aligned + Talairach), instead of 2 (aligned to an unknown space), which is what it should be. I am assuming that AFNI detected the master as being a Talaraich.\n",
    "\n",
    "So I will rerun the tSNR code WITHOUT resampling, and check whether or not I get a RAS code of 2 for the output. I will then try using this in SPM, once it has the 'correct' RAS code."
   ]
  },
  {
   "cell_type": "code",
   "execution_count": 23,
   "metadata": {},
   "outputs": [],
   "source": [
    "T2_tSNR = nib.load(os.path.join(Basedir, 'derivatives/sub-01/ses-02/tSNR/sub-01_ses-02_task-learnAtt_acq-TR700_echo-1_space-T1w_desc-tSNR_bold.nii.gz'))"
   ]
  },
  {
   "cell_type": "code",
   "execution_count": 25,
   "metadata": {},
   "outputs": [
    {
     "name": "stdout",
     "output_type": "stream",
     "text": [
      "3\n"
     ]
    }
   ],
   "source": [
    "print(T2tSNR_hdr['sform_code'])"
   ]
  },
  {
   "cell_type": "markdown",
   "metadata": {},
   "source": [
    "Weird - so its not the resample function that has done it. I'll open the residual file to see if that is what happened"
   ]
  },
  {
   "cell_type": "code",
   "execution_count": 26,
   "metadata": {},
   "outputs": [],
   "source": [
    "T2_resid = nib.load(os.path.join(Basedir, 'derivatives/glm/sub-01/ses-02/func/sub-01_ses-02_task-learnAtt_acq-TR700_echo-1_space-T1w_desc-resid_bold.nii.gz'))\n",
    "T2_resid_hdr = T2_resid.header"
   ]
  },
  {
   "cell_type": "code",
   "execution_count": 27,
   "metadata": {},
   "outputs": [
    {
     "name": "stdout",
     "output_type": "stream",
     "text": [
      "3\n"
     ]
    }
   ],
   "source": [
    "print(T2_resid_hdr['sform_code'])"
   ]
  },
  {
   "cell_type": "markdown",
   "metadata": {},
   "source": [
    "OK, so the mean bold, which has not been passed through the AFNI glm function, has the correct code. I'll just check the pre-processed bold that is fed into the AFNI glm function, and if that has code 2, then I know its the GLM function. If thats the case, I'll see if I can switch the header information for the T2 data, prior to the tSNR comp/resampling.\n"
   ]
  },
  {
   "cell_type": "code",
   "execution_count": 29,
   "metadata": {},
   "outputs": [],
   "source": [
    "T2_preproc = nib.load(os.path.join(Basedir, 'derivatives/sub-01/ses-02/func/sub-01_ses-02_task-learnAtt_acq-TR700_echo-1_space-T1w_desc-preproc_bold.nii.gz'))"
   ]
  },
  {
   "cell_type": "code",
   "execution_count": 30,
   "metadata": {},
   "outputs": [],
   "source": [
    "T2_preproc_hdr = T2_preproc.header"
   ]
  },
  {
   "cell_type": "code",
   "execution_count": 32,
   "metadata": {},
   "outputs": [
    {
     "name": "stdout",
     "output_type": "stream",
     "text": [
      "2\n"
     ]
    }
   ],
   "source": [
    "print(T2_preproc_hdr['sform_code'])"
   ]
  },
  {
   "cell_type": "markdown",
   "metadata": {},
   "source": [
    "Alriiiiight - so it looks like the afni glm function I used at the beginning is to blame. The question is whether it applied a transformation when it changed the code (maybe it was to automatically apply a brain mask). To check the spaces, I'll compare the T2_preproc_hdr affine intel and the T2_resid affine intel - below (and will also compare to the T2_mu stuff above)"
   ]
  },
  {
   "cell_type": "code",
   "execution_count": 33,
   "metadata": {},
   "outputs": [
    {
     "data": {
      "text/plain": [
       "array([[ -2.,   0.,   0.,  70.],\n",
       "       [  0.,   2.,   0., -94.],\n",
       "       [  0.,   0.,   2., -68.],\n",
       "       [  0.,   0.,   0.,   1.]])"
      ]
     },
     "execution_count": 33,
     "metadata": {},
     "output_type": "execute_result"
    }
   ],
   "source": [
    "T2_preproc_hdr.get_base_affine()"
   ]
  },
  {
   "cell_type": "code",
   "execution_count": 35,
   "metadata": {},
   "outputs": [
    {
     "data": {
      "text/plain": [
       "array([[ -2.,   0.,   0.,  70.],\n",
       "       [  0.,   2.,   0., -94.],\n",
       "       [  0.,   0.,   2., -68.],\n",
       "       [  0.,   0.,   0.,   1.]])"
      ]
     },
     "execution_count": 35,
     "metadata": {},
     "output_type": "execute_result"
    }
   ],
   "source": [
    "T2_resid_hdr.get_base_affine()"
   ]
  },
  {
   "cell_type": "markdown",
   "metadata": {},
   "source": [
    "This suggests that the base affine information is the same across the two files. Now I'll check the sform affine"
   ]
  },
  {
   "cell_type": "code",
   "execution_count": 36,
   "metadata": {},
   "outputs": [
    {
     "name": "stdout",
     "output_type": "stream",
     "text": [
      "[[  2.           0.           0.         -67.32543182]\n",
      " [  0.           2.           0.         -73.50365448]\n",
      " [  0.           0.           2.         -79.72452545]\n",
      " [  0.           0.           0.           1.        ]]\n"
     ]
    }
   ],
   "source": [
    "print(T2_preproc_hdr.get_sform())"
   ]
  },
  {
   "cell_type": "code",
   "execution_count": 37,
   "metadata": {},
   "outputs": [
    {
     "name": "stdout",
     "output_type": "stream",
     "text": [
      "[[  2.          -0.          -0.         -67.32543182]\n",
      " [ -0.           2.          -0.         -73.50365448]\n",
      " [  0.           0.           2.         -79.72452545]\n",
      " [  0.           0.           0.           1.        ]]\n"
     ]
    }
   ],
   "source": [
    "print(T2_resid_hdr.get_sform())"
   ]
  },
  {
   "cell_type": "code",
   "execution_count": 39,
   "metadata": {},
   "outputs": [
    {
     "name": "stdout",
     "output_type": "stream",
     "text": [
      "[[  2.          -0.          -0.         -67.32543182]\n",
      " [ -0.           2.          -0.         -73.50365448]\n",
      " [  0.           0.           2.         -79.72452545]\n",
      " [  0.           0.           0.           1.        ]]\n"
     ]
    }
   ],
   "source": [
    "print(T2tSNR_hdr.get_sform())"
   ]
  },
  {
   "cell_type": "markdown",
   "metadata": {},
   "source": [
    "Apart from the changing zeros to minuses, it looks the same across the two filetypes. I am going to now just check the dimensions of the data between the two files to check they are the same. If so, I think that resetting the RAS code is a good experimental test for the spm_get_data function. In fact, it is highly unlikely that any tranform was actually applied, because the tSNR files line up over the participant T1s pretty well."
   ]
  },
  {
   "cell_type": "code",
   "execution_count": 38,
   "metadata": {},
   "outputs": [
    {
     "data": {
      "text/plain": [
       "(71, 95, 69, 918)"
      ]
     },
     "execution_count": 38,
     "metadata": {},
     "output_type": "execute_result"
    }
   ],
   "source": [
    "T2_preproc.shape"
   ]
  },
  {
   "cell_type": "code",
   "execution_count": 40,
   "metadata": {},
   "outputs": [
    {
     "data": {
      "text/plain": [
       "(71, 95, 69, 812)"
      ]
     },
     "execution_count": 40,
     "metadata": {},
     "output_type": "execute_result"
    }
   ],
   "source": [
    "T2_resid.shape"
   ]
  },
  {
   "cell_type": "code",
   "execution_count": 42,
   "metadata": {},
   "outputs": [
    {
     "data": {
      "text/plain": [
       "(71, 95, 69)"
      ]
     },
     "execution_count": 42,
     "metadata": {},
     "output_type": "execute_result"
    }
   ],
   "source": [
    "T2_tSNR.shape "
   ]
  },
  {
   "cell_type": "code",
   "execution_count": 49,
   "metadata": {},
   "outputs": [
    {
     "data": {
      "text/plain": [
       "(71, 95, 69)"
      ]
     },
     "execution_count": 49,
     "metadata": {},
     "output_type": "execute_result"
    }
   ],
   "source": [
    "T2mu.shape"
   ]
  },
  {
   "cell_type": "markdown",
   "metadata": {},
   "source": [
    "They are all lining up, so I will seek to change the RAS code of the TSNR shape file. I'll then download that and apply the SPM get data function to it."
   ]
  },
  {
   "cell_type": "markdown",
   "metadata": {},
   "source": [
    "Hmmm, so if I look at the resampled data, the xyz (offset?) is approx the same (i.e. the values in the final column)"
   ]
  },
  {
   "cell_type": "markdown",
   "metadata": {},
   "source": [
    "I think I need to look into the spm_get_data file to understand how these numbers will affect my output.\n",
    "euw - there be monsters there"
   ]
  },
  {
   "cell_type": "markdown",
   "metadata": {},
   "source": [
    "I will compare the data I get out when a) the affine is the same, but the RAS is different, then\n",
    "b) I'll check the output"
   ]
  },
  {
   "cell_type": "markdown",
   "metadata": {},
   "source": [
    "Checks to make - 1) apply spm_get_data to the mean BOLD data - then change the RAS code to see if I get different values.\n",
    "\n",
    "Matlab test showed that the sform_code (RAS) does not make a difference for spm_get_data - so I will next try extracting the data using the new tSNR images that I made earlier today (I will download the first and try it in matlab with spm)."
   ]
  },
  {
   "cell_type": "markdown",
   "metadata": {},
   "source": [
    "# quickly look at the image to check its ok"
   ]
  },
  {
   "cell_type": "code",
   "execution_count": null,
   "metadata": {},
   "outputs": [],
   "source": [
    "meanT2_700 = img.mean_img(T2_700_resamp)"
   ]
  },
  {
   "cell_type": "markdown",
   "metadata": {},
   "source": [
    "# overlaying functional and anatomical images"
   ]
  },
  {
   "cell_type": "markdown",
   "metadata": {},
   "source": [
    "Here I will plot the participant T1 image, with the resampled T2 over the top"
   ]
  },
  {
   "cell_type": "code",
   "execution_count": null,
   "metadata": {},
   "outputs": [],
   "source": [
    "fig = niplt.plot_epi(meanT2_700, alpha=0.2)\n",
    "fig.add_edges(T1, colors='r')"
   ]
  },
  {
   "cell_type": "code",
   "execution_count": null,
   "metadata": {},
   "outputs": [],
   "source": [
    "from IPython.display import SVG"
   ]
  },
  {
   "cell_type": "code",
   "execution_count": null,
   "metadata": {},
   "outputs": [],
   "source": [
    "SVG(\"/scratch/qbi/uqkgarn1/STRIWP1/derivatives/sub-01/ses-02/figures/sub-01_ses-02_task-learnAtt_acq-TR1920_desc-bbregister_bold.svg\")"
   ]
  },
  {
   "cell_type": "markdown",
   "metadata": {},
   "source": [
    "# compute mean images for download for examination in fsleyes\n",
    "\n",
    "(have done sub 01, ses 02 already)"
   ]
  },
  {
   "cell_type": "code",
   "execution_count": null,
   "metadata": {},
   "outputs": [],
   "source": []
  }
 ],
 "metadata": {
  "kernelspec": {
   "display_name": "Python 3",
   "language": "python",
   "name": "python3"
  },
  "language_info": {
   "codemirror_mode": {
    "name": "ipython",
    "version": 3
   },
   "file_extension": ".py",
   "mimetype": "text/x-python",
   "name": "python",
   "nbconvert_exporter": "python",
   "pygments_lexer": "ipython3",
   "version": "3.6.10"
  }
 },
 "nbformat": 4,
 "nbformat_minor": 4
}
