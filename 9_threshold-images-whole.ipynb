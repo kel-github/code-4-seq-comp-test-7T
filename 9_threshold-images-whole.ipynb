{
 "cells": [
  {
   "cell_type": "markdown",
   "metadata": {},
   "source": [
    "Use this code to threshold the whole brain images for plotting (for values that would be significant)\n",
    "You can run two workflows, one thresholds at a given value (set below to 3.09 for t, and 5.44 for F)\n",
    "for the second workflow, idea is to take the images, take the absolute value and square root (to go from F to t), then create a binarised image keeping any value > 3.09. This output is then used as a mask for the original image."
   ]
  },
  {
   "cell_type": "markdown",
   "metadata": {},
   "source": [
    "### settings"
   ]
  },
  {
   "cell_type": "code",
   "execution_count": 1,
   "metadata": {},
   "outputs": [
    {
     "name": "stdout",
     "output_type": "stream",
     "text": [
      "210701-12:54:38,193 nipype.utils WARNING:\n",
      "\t A newer version (1.5.1) of nipy/nipype is available. You are using 1.5.0\n"
     ]
    }
   ],
   "source": [
    "from nipype.interfaces.io import BIDSDataGrabber, DataFinder, DataSink, DataGrabber\n",
    "import nipype.pipeline as pe\n",
    "import nipype as ni\n",
    "import nipype.interfaces.fsl.maths as fsl\n",
    "import pandas as pd\n",
    "import os, re, json"
   ]
  },
  {
   "cell_type": "code",
   "execution_count": 2,
   "metadata": {},
   "outputs": [],
   "source": [
    "Basedir = \"/scratch/qbi/uqkgarn1/STRIWP1/\"\n",
    "thrsh = pe.Workflow(name=\"thrshold\") # workflow to run the analysis"
   ]
  },
  {
   "cell_type": "markdown",
   "metadata": {},
   "source": [
    "### data grabbing and sinking"
   ]
  },
  {
   "cell_type": "code",
   "execution_count": 3,
   "metadata": {},
   "outputs": [],
   "source": [
    "dg = pe.Node(DataGrabber(infields=['sub', 'TR', 'data_folder'], \n",
    "                         outfields=['ts']), name='data-grabber')\n",
    "dg.inputs.base_dir = \"/scratch/qbi/uqkgarn1/STRIWP1/\"\n",
    "dg.inputs.sort_filelist = True\n",
    "dg.inputs.template='*'\n",
    "dg.inputs.template_args = {'ts': [['data_folder', 'sub', 'TR']]}\n",
    "dg.inputs.field_template = {'ts': '/scratch/qbi/uqkgarn1/STRIWP1/derivatives/%s/sub-%s/TR%s/FLGLM/spmF*.nii'}"
   ]
  },
  {
   "cell_type": "code",
   "execution_count": 4,
   "metadata": {},
   "outputs": [
    {
     "name": "stdout",
     "output_type": "stream",
     "text": [
      "210701-12:54:38,918 nipype.workflow INFO:\n",
      "\t [Node] Setting-up \"data-grabber\" in \"/tmp/tmpmlju9c6f/data-grabber\".\n",
      "210701-12:54:38,924 nipype.workflow INFO:\n",
      "\t [Node] Running \"data-grabber\" (\"nipype.interfaces.io.DataGrabber\")\n",
      "210701-12:54:38,931 nipype.workflow INFO:\n",
      "\t [Node] Finished \"data-grabber\".\n"
     ]
    },
    {
     "data": {
      "text/plain": [
       "\n",
       "ts = /scratch/qbi/uqkgarn1/STRIWP1/derivatives/glmTDFAST_HANDS/sub-01/TR700/FLGLM/spmF_0001.nii"
      ]
     },
     "execution_count": 4,
     "metadata": {},
     "output_type": "execute_result"
    }
   ],
   "source": [
    "# test it\n",
    "dg.inputs.sub = '01'\n",
    "dg.inputs.TR = '700'\n",
    "dg.inputs.data_folder = 'glmTDFAST_HANDS'\n",
    "res = dg.run()\n",
    "res.outputs"
   ]
  },
  {
   "cell_type": "code",
   "execution_count": 5,
   "metadata": {},
   "outputs": [],
   "source": [
    "def printSubPath(fullFilePath):\n",
    "    # function to split filepath into constituent parts, then print string to add as input to DataSink for the container string\n",
    "    # given the full filepath, this extracts the subject folder and TR strings for input\n",
    "    # into DataSink\n",
    "    import os\n",
    "    import re\n",
    "    #fname = os.path.normpath(fullFilePath[0])\n",
    "    fname = os.path.normpath(fullFilePath)\n",
    "    l = fname.split(os.sep)\n",
    "    name = [s for s in l if re.search('sub', s)][0], [t for t in l if re.search('TR([0-9])', t)][0]\n",
    "    name = '/'.join(name)\n",
    "    name\n",
    "    return name"
   ]
  },
  {
   "cell_type": "code",
   "execution_count": 6,
   "metadata": {},
   "outputs": [
    {
     "data": {
      "text/plain": [
       "'sub-01/TR700'"
      ]
     },
     "execution_count": 6,
     "metadata": {},
     "output_type": "execute_result"
    }
   ],
   "source": [
    "printSubPath(res.outputs.ts)"
   ]
  },
  {
   "cell_type": "code",
   "execution_count": 7,
   "metadata": {},
   "outputs": [],
   "source": [
    "# directory requires setting!\n",
    "ds = pe.Node(DataSink(), name='sink-stuff')\n",
    "ds.inputs.base_directory = \"/scratch/qbi/uqkgarn1/STRIWP1/derivatives/glmTDFAST_HANDS\"\n",
    "substitutions = [('_TR_([0-9]*)_sub_([0-9]*)', ''),\n",
    "                 ('_apply-thrsh([0-9]*)', ''),\n",
    "                 ('_doabs([0-9]*)', ''),\n",
    "                 ('_dosqrt([0-9]*)', ''),\n",
    "                 ('_dobin([0-9]*)', ''),\n",
    "                 ('_domsk([0-9]*)', '')] \n",
    "ds.inputs.regexp_substitutions = substitutions"
   ]
  },
  {
   "cell_type": "code",
   "execution_count": 8,
   "metadata": {},
   "outputs": [
    {
     "data": {
      "text/plain": [
       "[('sub', ['01', '02', '03', '04', '05']), ('TR', ['700', '1510', '1920'])]"
      ]
     },
     "execution_count": 8,
     "metadata": {},
     "output_type": "execute_result"
    }
   ],
   "source": [
    "# to feed into datagrabber\n",
    "datinf = pe.Node(ni.IdentityInterface(fields=['sub', 'TR']),\n",
    "                 name='dat-info')\n",
    "datinf.iterables = [('sub', ['01', '02', '03', '04', '05']), ('TR', ['700', '1510', '1920'])]\n",
    "#datinf.iterables = [('sub', ['04']), ('TR', ['700', '1510', '1920'])]\n",
    "datinf.iterables "
   ]
  },
  {
   "cell_type": "markdown",
   "metadata": {},
   "source": [
    "## take absolute and square root of images"
   ]
  },
  {
   "cell_type": "code",
   "execution_count": 9,
   "metadata": {},
   "outputs": [],
   "source": [
    "doabs = pe.MapNode(fsl.UnaryMaths(), iterfield = ['in_file'], name = 'doabs')\n",
    "doabs.inputs.operation = \"abs\""
   ]
  },
  {
   "cell_type": "code",
   "execution_count": 10,
   "metadata": {},
   "outputs": [],
   "source": [
    "dosqrt = pe.MapNode(fsl.UnaryMaths(), iterfield = ['in_file'], name = 'dosqrt')\n",
    "dosqrt.inputs.operation = \"sqrt\""
   ]
  },
  {
   "cell_type": "markdown",
   "metadata": {},
   "source": [
    "### threshold"
   ]
  },
  {
   "cell_type": "code",
   "execution_count": 11,
   "metadata": {},
   "outputs": [],
   "source": [
    "applythrsh = pe.MapNode(fsl.Threshold(), iterfield = ['in_file'], name='apply-thrsh')\n",
    "applythrsh.inputs.thresh = 5.44\n",
    "applythrsh.inputs.direction = 'below'\n",
    "applythrsh.inputs.nan2zeros = True"
   ]
  },
  {
   "cell_type": "markdown",
   "metadata": {},
   "source": [
    "## binarise"
   ]
  },
  {
   "cell_type": "code",
   "execution_count": 12,
   "metadata": {},
   "outputs": [],
   "source": [
    "applybin = pe.MapNode(fsl.UnaryMaths(), iterfield = ['in_file'], name = 'dobin')\n",
    "applybin.inputs.operation = \"bin\""
   ]
  },
  {
   "cell_type": "markdown",
   "metadata": {},
   "source": [
    "## apply binarised image to original image"
   ]
  },
  {
   "cell_type": "code",
   "execution_count": 13,
   "metadata": {},
   "outputs": [],
   "source": [
    "applymsk = pe.MapNode(fsl.ApplyMask(), iterfield = ['in_file', 'mask_file'], name = 'domsk')"
   ]
  },
  {
   "cell_type": "markdown",
   "metadata": {},
   "source": [
    "## linking workflow for F contrasts"
   ]
  },
  {
   "cell_type": "code",
   "execution_count": 14,
   "metadata": {},
   "outputs": [],
   "source": [
    "# thrsh.connect([(datinf, dg, [('sub', 'sub')]),\n",
    "#                (datinf, dg, [('TR', 'TR')]),\n",
    "#                (dg, ds, [(('ts', printSubPath), 'container')]),\n",
    "#                (dg, doabs, [('ts', 'in_file')]),\n",
    "#                (doabs, dosqrt, [('out_file', 'in_file')]),\n",
    "#                (dosqrt, applythrsh, [('out_file', 'in_file')]),\n",
    "#                (applythrsh, applybin, [('out_file', 'in_file')]),\n",
    "#                (dg, applymsk, [('ts', 'in_file')]),\n",
    "#                (applybin, applymsk, [('out_file', 'mask_file')]),\n",
    "#                (applymsk, ds, [('out_file', 'THRSH')])\n",
    "#               ])\n",
    "# res = thrsh.run()"
   ]
  },
  {
   "cell_type": "markdown",
   "metadata": {},
   "source": [
    "### link workflow"
   ]
  },
  {
   "cell_type": "code",
   "execution_count": 15,
   "metadata": {},
   "outputs": [
    {
     "name": "stdout",
     "output_type": "stream",
     "text": [
      "210701-12:54:39,28 nipype.workflow INFO:\n",
      "\t Workflow thrshold settings: ['check', 'execution', 'logging', 'monitoring']\n",
      "210701-12:54:39,93 nipype.workflow INFO:\n",
      "\t Running serially.\n",
      "210701-12:54:39,94 nipype.workflow INFO:\n",
      "\t [Node] Setting-up \"thrshold.data-grabber\" in \"/tmp/tmpmlju9c6f/data-grabber\".\n",
      "210701-12:54:39,100 nipype.workflow INFO:\n",
      "\t [Node] Running \"data-grabber\" (\"nipype.interfaces.io.DataGrabber\")\n",
      "210701-12:54:39,105 nipype.workflow INFO:\n",
      "\t [Node] Finished \"thrshold.data-grabber\".\n",
      "210701-12:54:39,106 nipype.workflow INFO:\n",
      "\t [Node] Setting-up \"thrshold.apply-thrsh\" in \"/tmp/tmpuic8on4t/thrshold/_TR_1920_sub_05/apply-thrsh\".\n",
      "210701-12:54:39,112 nipype.workflow INFO:\n",
      "\t [Node] Setting-up \"_apply-thrsh0\" in \"/tmp/tmpuic8on4t/thrshold/_TR_1920_sub_05/apply-thrsh/mapflow/_apply-thrsh0\".\n",
      "210701-12:54:39,117 nipype.workflow INFO:\n",
      "\t [Node] Running \"_apply-thrsh0\" (\"nipype.interfaces.fsl.maths.Threshold\"), a CommandLine Interface with command:\n",
      "fslmaths /scratch/qbi/uqkgarn1/STRIWP1/derivatives/glmTDFAST_HANDS/sub-05/TR1920/FLGLM/spmF_0001.nii -nan -thr 5.4400000000 /tmp/tmpuic8on4t/thrshold/_TR_1920_sub_05/apply-thrsh/mapflow/_apply-thrsh0/spmF_0001_thresh.nii.gz\n",
      "210701-12:54:39,302 nipype.workflow INFO:\n",
      "\t [Node] Finished \"_apply-thrsh0\".\n",
      "210701-12:54:39,305 nipype.workflow INFO:\n",
      "\t [Node] Finished \"thrshold.apply-thrsh\".\n",
      "210701-12:54:39,306 nipype.workflow INFO:\n",
      "\t [Node] Setting-up \"thrshold.sink-stuff\" in \"/tmp/tmpeu6neu__/thrshold/_TR_1920_sub_05/sink-stuff\".\n",
      "210701-12:54:39,314 nipype.workflow INFO:\n",
      "\t [Node] Running \"sink-stuff\" (\"nipype.interfaces.io.DataSink\")\n",
      "210701-12:54:39,316 nipype.interface INFO:\n",
      "\t sub: /scratch/qbi/uqkgarn1/STRIWP1/derivatives/glmTDFAST_HANDS/sub-05/TR1920/THRSH/_TR_1920_sub_05/_apply-thrsh0/spmF_0001_thresh.nii.gz -> /scratch/qbi/uqkgarn1/STRIWP1/derivatives/glmTDFAST_HANDS/sub-05/TR1920/THRSH///spmF_0001_thresh.nii.gz\n",
      "210701-12:54:39,321 nipype.workflow INFO:\n",
      "\t [Node] Finished \"thrshold.sink-stuff\".\n",
      "210701-12:54:39,321 nipype.workflow INFO:\n",
      "\t [Node] Setting-up \"thrshold.data-grabber\" in \"/tmp/tmpmlju9c6f/data-grabber\".\n",
      "210701-12:54:39,327 nipype.workflow INFO:\n",
      "\t [Node] Running \"data-grabber\" (\"nipype.interfaces.io.DataGrabber\")\n",
      "210701-12:54:39,331 nipype.workflow INFO:\n",
      "\t [Node] Finished \"thrshold.data-grabber\".\n",
      "210701-12:54:39,332 nipype.workflow INFO:\n",
      "\t [Node] Setting-up \"thrshold.apply-thrsh\" in \"/tmp/tmp0tp93ln_/thrshold/_TR_1510_sub_05/apply-thrsh\".\n",
      "210701-12:54:39,339 nipype.workflow INFO:\n",
      "\t [Node] Setting-up \"_apply-thrsh0\" in \"/tmp/tmp0tp93ln_/thrshold/_TR_1510_sub_05/apply-thrsh/mapflow/_apply-thrsh0\".\n",
      "210701-12:54:39,344 nipype.workflow INFO:\n",
      "\t [Node] Running \"_apply-thrsh0\" (\"nipype.interfaces.fsl.maths.Threshold\"), a CommandLine Interface with command:\n",
      "fslmaths /scratch/qbi/uqkgarn1/STRIWP1/derivatives/glmTDFAST_HANDS/sub-05/TR1510/FLGLM/spmF_0001.nii -nan -thr 5.4400000000 /tmp/tmp0tp93ln_/thrshold/_TR_1510_sub_05/apply-thrsh/mapflow/_apply-thrsh0/spmF_0001_thresh.nii.gz\n",
      "210701-12:54:39,559 nipype.workflow INFO:\n",
      "\t [Node] Finished \"_apply-thrsh0\".\n",
      "210701-12:54:39,562 nipype.workflow INFO:\n",
      "\t [Node] Finished \"thrshold.apply-thrsh\".\n",
      "210701-12:54:39,563 nipype.workflow INFO:\n",
      "\t [Node] Setting-up \"thrshold.sink-stuff\" in \"/tmp/tmpnwq8z78z/thrshold/_TR_1510_sub_05/sink-stuff\".\n",
      "210701-12:54:39,570 nipype.workflow INFO:\n",
      "\t [Node] Running \"sink-stuff\" (\"nipype.interfaces.io.DataSink\")\n",
      "210701-12:54:39,572 nipype.interface INFO:\n",
      "\t sub: /scratch/qbi/uqkgarn1/STRIWP1/derivatives/glmTDFAST_HANDS/sub-05/TR1510/THRSH/_TR_1510_sub_05/_apply-thrsh0/spmF_0001_thresh.nii.gz -> /scratch/qbi/uqkgarn1/STRIWP1/derivatives/glmTDFAST_HANDS/sub-05/TR1510/THRSH///spmF_0001_thresh.nii.gz\n",
      "210701-12:54:39,577 nipype.workflow INFO:\n",
      "\t [Node] Finished \"thrshold.sink-stuff\".\n",
      "210701-12:54:39,578 nipype.workflow INFO:\n",
      "\t [Node] Setting-up \"thrshold.data-grabber\" in \"/tmp/tmpmlju9c6f/data-grabber\".\n",
      "210701-12:54:39,583 nipype.workflow INFO:\n",
      "\t [Node] Running \"data-grabber\" (\"nipype.interfaces.io.DataGrabber\")\n",
      "210701-12:54:39,588 nipype.workflow INFO:\n",
      "\t [Node] Finished \"thrshold.data-grabber\".\n",
      "210701-12:54:39,589 nipype.workflow INFO:\n",
      "\t [Node] Setting-up \"thrshold.apply-thrsh\" in \"/tmp/tmp_075p1g4/thrshold/_TR_700_sub_05/apply-thrsh\".\n",
      "210701-12:54:39,595 nipype.workflow INFO:\n",
      "\t [Node] Setting-up \"_apply-thrsh0\" in \"/tmp/tmp_075p1g4/thrshold/_TR_700_sub_05/apply-thrsh/mapflow/_apply-thrsh0\".\n",
      "210701-12:54:39,600 nipype.workflow INFO:\n",
      "\t [Node] Running \"_apply-thrsh0\" (\"nipype.interfaces.fsl.maths.Threshold\"), a CommandLine Interface with command:\n",
      "fslmaths /scratch/qbi/uqkgarn1/STRIWP1/derivatives/glmTDFAST_HANDS/sub-05/TR700/FLGLM/spmF_0001.nii -nan -thr 5.4400000000 /tmp/tmp_075p1g4/thrshold/_TR_700_sub_05/apply-thrsh/mapflow/_apply-thrsh0/spmF_0001_thresh.nii.gz\n",
      "210701-12:54:39,760 nipype.workflow INFO:\n",
      "\t [Node] Finished \"_apply-thrsh0\".\n",
      "210701-12:54:39,764 nipype.workflow INFO:\n",
      "\t [Node] Finished \"thrshold.apply-thrsh\".\n",
      "210701-12:54:39,764 nipype.workflow INFO:\n",
      "\t [Node] Setting-up \"thrshold.sink-stuff\" in \"/tmp/tmp6axbav84/thrshold/_TR_700_sub_05/sink-stuff\".\n",
      "210701-12:54:39,771 nipype.workflow INFO:\n",
      "\t [Node] Running \"sink-stuff\" (\"nipype.interfaces.io.DataSink\")\n",
      "210701-12:54:39,773 nipype.interface INFO:\n",
      "\t sub: /scratch/qbi/uqkgarn1/STRIWP1/derivatives/glmTDFAST_HANDS/sub-05/TR700/THRSH/_TR_700_sub_05/_apply-thrsh0/spmF_0001_thresh.nii.gz -> /scratch/qbi/uqkgarn1/STRIWP1/derivatives/glmTDFAST_HANDS/sub-05/TR700/THRSH///spmF_0001_thresh.nii.gz\n",
      "210701-12:54:39,778 nipype.workflow INFO:\n",
      "\t [Node] Finished \"thrshold.sink-stuff\".\n",
      "210701-12:54:39,779 nipype.workflow INFO:\n",
      "\t [Node] Setting-up \"thrshold.data-grabber\" in \"/tmp/tmpmlju9c6f/data-grabber\".\n",
      "210701-12:54:39,784 nipype.workflow INFO:\n",
      "\t [Node] Running \"data-grabber\" (\"nipype.interfaces.io.DataGrabber\")\n",
      "210701-12:54:39,789 nipype.workflow INFO:\n",
      "\t [Node] Finished \"thrshold.data-grabber\".\n",
      "210701-12:54:39,789 nipype.workflow INFO:\n",
      "\t [Node] Setting-up \"thrshold.apply-thrsh\" in \"/tmp/tmphdh70iab/thrshold/_TR_1920_sub_04/apply-thrsh\".\n",
      "210701-12:54:39,796 nipype.workflow INFO:\n",
      "\t [Node] Setting-up \"_apply-thrsh0\" in \"/tmp/tmphdh70iab/thrshold/_TR_1920_sub_04/apply-thrsh/mapflow/_apply-thrsh0\".\n",
      "210701-12:54:39,801 nipype.workflow INFO:\n",
      "\t [Node] Running \"_apply-thrsh0\" (\"nipype.interfaces.fsl.maths.Threshold\"), a CommandLine Interface with command:\n",
      "fslmaths /scratch/qbi/uqkgarn1/STRIWP1/derivatives/glmTDFAST_HANDS/sub-04/TR1920/FLGLM/spmF_0001.nii -nan -thr 5.4400000000 /tmp/tmphdh70iab/thrshold/_TR_1920_sub_04/apply-thrsh/mapflow/_apply-thrsh0/spmF_0001_thresh.nii.gz\n",
      "210701-12:54:39,985 nipype.workflow INFO:\n",
      "\t [Node] Finished \"_apply-thrsh0\".\n",
      "210701-12:54:39,988 nipype.workflow INFO:\n",
      "\t [Node] Finished \"thrshold.apply-thrsh\".\n",
      "210701-12:54:39,989 nipype.workflow INFO:\n",
      "\t [Node] Setting-up \"thrshold.sink-stuff\" in \"/tmp/tmpeold_s2p/thrshold/_TR_1920_sub_04/sink-stuff\".\n",
      "210701-12:54:39,996 nipype.workflow INFO:\n",
      "\t [Node] Running \"sink-stuff\" (\"nipype.interfaces.io.DataSink\")\n",
      "210701-12:54:39,997 nipype.interface INFO:\n",
      "\t sub: /scratch/qbi/uqkgarn1/STRIWP1/derivatives/glmTDFAST_HANDS/sub-04/TR1920/THRSH/_TR_1920_sub_04/_apply-thrsh0/spmF_0001_thresh.nii.gz -> /scratch/qbi/uqkgarn1/STRIWP1/derivatives/glmTDFAST_HANDS/sub-04/TR1920/THRSH///spmF_0001_thresh.nii.gz\n",
      "210701-12:54:40,2 nipype.workflow INFO:\n",
      "\t [Node] Finished \"thrshold.sink-stuff\".\n",
      "210701-12:54:40,3 nipype.workflow INFO:\n",
      "\t [Node] Setting-up \"thrshold.data-grabber\" in \"/tmp/tmpmlju9c6f/data-grabber\".\n",
      "210701-12:54:40,7 nipype.workflow INFO:\n",
      "\t [Node] Running \"data-grabber\" (\"nipype.interfaces.io.DataGrabber\")\n",
      "210701-12:54:40,12 nipype.workflow INFO:\n",
      "\t [Node] Finished \"thrshold.data-grabber\".\n",
      "210701-12:54:40,12 nipype.workflow INFO:\n",
      "\t [Node] Setting-up \"thrshold.apply-thrsh\" in \"/tmp/tmpr9_82di1/thrshold/_TR_1510_sub_04/apply-thrsh\".\n",
      "210701-12:54:40,18 nipype.workflow INFO:\n",
      "\t [Node] Setting-up \"_apply-thrsh0\" in \"/tmp/tmpr9_82di1/thrshold/_TR_1510_sub_04/apply-thrsh/mapflow/_apply-thrsh0\".\n",
      "210701-12:54:40,23 nipype.workflow INFO:\n",
      "\t [Node] Running \"_apply-thrsh0\" (\"nipype.interfaces.fsl.maths.Threshold\"), a CommandLine Interface with command:\n",
      "fslmaths /scratch/qbi/uqkgarn1/STRIWP1/derivatives/glmTDFAST_HANDS/sub-04/TR1510/FLGLM/spmF_0001.nii -nan -thr 5.4400000000 /tmp/tmpr9_82di1/thrshold/_TR_1510_sub_04/apply-thrsh/mapflow/_apply-thrsh0/spmF_0001_thresh.nii.gz\n"
     ]
    },
    {
     "name": "stdout",
     "output_type": "stream",
     "text": [
      "210701-12:54:40,211 nipype.workflow INFO:\n",
      "\t [Node] Finished \"_apply-thrsh0\".\n",
      "210701-12:54:40,214 nipype.workflow INFO:\n",
      "\t [Node] Finished \"thrshold.apply-thrsh\".\n",
      "210701-12:54:40,215 nipype.workflow INFO:\n",
      "\t [Node] Setting-up \"thrshold.sink-stuff\" in \"/tmp/tmpitt0q64v/thrshold/_TR_1510_sub_04/sink-stuff\".\n",
      "210701-12:54:40,222 nipype.workflow INFO:\n",
      "\t [Node] Running \"sink-stuff\" (\"nipype.interfaces.io.DataSink\")\n",
      "210701-12:54:40,223 nipype.interface INFO:\n",
      "\t sub: /scratch/qbi/uqkgarn1/STRIWP1/derivatives/glmTDFAST_HANDS/sub-04/TR1510/THRSH/_TR_1510_sub_04/_apply-thrsh0/spmF_0001_thresh.nii.gz -> /scratch/qbi/uqkgarn1/STRIWP1/derivatives/glmTDFAST_HANDS/sub-04/TR1510/THRSH///spmF_0001_thresh.nii.gz\n",
      "210701-12:54:40,228 nipype.workflow INFO:\n",
      "\t [Node] Finished \"thrshold.sink-stuff\".\n",
      "210701-12:54:40,229 nipype.workflow INFO:\n",
      "\t [Node] Setting-up \"thrshold.data-grabber\" in \"/tmp/tmpmlju9c6f/data-grabber\".\n",
      "210701-12:54:40,233 nipype.workflow INFO:\n",
      "\t [Node] Running \"data-grabber\" (\"nipype.interfaces.io.DataGrabber\")\n",
      "210701-12:54:40,238 nipype.workflow INFO:\n",
      "\t [Node] Finished \"thrshold.data-grabber\".\n",
      "210701-12:54:40,238 nipype.workflow INFO:\n",
      "\t [Node] Setting-up \"thrshold.apply-thrsh\" in \"/tmp/tmpb02e_k2j/thrshold/_TR_700_sub_04/apply-thrsh\".\n",
      "210701-12:54:40,244 nipype.workflow INFO:\n",
      "\t [Node] Setting-up \"_apply-thrsh0\" in \"/tmp/tmpb02e_k2j/thrshold/_TR_700_sub_04/apply-thrsh/mapflow/_apply-thrsh0\".\n",
      "210701-12:54:40,249 nipype.workflow INFO:\n",
      "\t [Node] Running \"_apply-thrsh0\" (\"nipype.interfaces.fsl.maths.Threshold\"), a CommandLine Interface with command:\n",
      "fslmaths /scratch/qbi/uqkgarn1/STRIWP1/derivatives/glmTDFAST_HANDS/sub-04/TR700/FLGLM/spmF_0001.nii -nan -thr 5.4400000000 /tmp/tmpb02e_k2j/thrshold/_TR_700_sub_04/apply-thrsh/mapflow/_apply-thrsh0/spmF_0001_thresh.nii.gz\n",
      "210701-12:54:40,391 nipype.workflow INFO:\n",
      "\t [Node] Finished \"_apply-thrsh0\".\n",
      "210701-12:54:40,394 nipype.workflow INFO:\n",
      "\t [Node] Finished \"thrshold.apply-thrsh\".\n",
      "210701-12:54:40,395 nipype.workflow INFO:\n",
      "\t [Node] Setting-up \"thrshold.sink-stuff\" in \"/tmp/tmp7kdhvuxy/thrshold/_TR_700_sub_04/sink-stuff\".\n",
      "210701-12:54:40,402 nipype.workflow INFO:\n",
      "\t [Node] Running \"sink-stuff\" (\"nipype.interfaces.io.DataSink\")\n",
      "210701-12:54:40,404 nipype.interface INFO:\n",
      "\t sub: /scratch/qbi/uqkgarn1/STRIWP1/derivatives/glmTDFAST_HANDS/sub-04/TR700/THRSH/_TR_700_sub_04/_apply-thrsh0/spmF_0001_thresh.nii.gz -> /scratch/qbi/uqkgarn1/STRIWP1/derivatives/glmTDFAST_HANDS/sub-04/TR700/THRSH///spmF_0001_thresh.nii.gz\n",
      "210701-12:54:40,409 nipype.workflow INFO:\n",
      "\t [Node] Finished \"thrshold.sink-stuff\".\n",
      "210701-12:54:40,410 nipype.workflow INFO:\n",
      "\t [Node] Setting-up \"thrshold.data-grabber\" in \"/tmp/tmpmlju9c6f/data-grabber\".\n",
      "210701-12:54:40,415 nipype.workflow INFO:\n",
      "\t [Node] Running \"data-grabber\" (\"nipype.interfaces.io.DataGrabber\")\n",
      "210701-12:54:40,420 nipype.workflow INFO:\n",
      "\t [Node] Finished \"thrshold.data-grabber\".\n",
      "210701-12:54:40,421 nipype.workflow INFO:\n",
      "\t [Node] Setting-up \"thrshold.apply-thrsh\" in \"/tmp/tmpgrhfvrwh/thrshold/_TR_1920_sub_03/apply-thrsh\".\n",
      "210701-12:54:40,427 nipype.workflow INFO:\n",
      "\t [Node] Setting-up \"_apply-thrsh0\" in \"/tmp/tmpgrhfvrwh/thrshold/_TR_1920_sub_03/apply-thrsh/mapflow/_apply-thrsh0\".\n",
      "210701-12:54:40,432 nipype.workflow INFO:\n",
      "\t [Node] Running \"_apply-thrsh0\" (\"nipype.interfaces.fsl.maths.Threshold\"), a CommandLine Interface with command:\n",
      "fslmaths /scratch/qbi/uqkgarn1/STRIWP1/derivatives/glmTDFAST_HANDS/sub-03/TR1920/FLGLM/spmF_0001.nii -nan -thr 5.4400000000 /tmp/tmpgrhfvrwh/thrshold/_TR_1920_sub_03/apply-thrsh/mapflow/_apply-thrsh0/spmF_0001_thresh.nii.gz\n",
      "210701-12:54:40,643 nipype.workflow INFO:\n",
      "\t [Node] Finished \"_apply-thrsh0\".\n",
      "210701-12:54:40,646 nipype.workflow INFO:\n",
      "\t [Node] Finished \"thrshold.apply-thrsh\".\n",
      "210701-12:54:40,647 nipype.workflow INFO:\n",
      "\t [Node] Setting-up \"thrshold.sink-stuff\" in \"/tmp/tmp5qve5uhz/thrshold/_TR_1920_sub_03/sink-stuff\".\n",
      "210701-12:54:40,654 nipype.workflow INFO:\n",
      "\t [Node] Running \"sink-stuff\" (\"nipype.interfaces.io.DataSink\")\n",
      "210701-12:54:40,656 nipype.interface INFO:\n",
      "\t sub: /scratch/qbi/uqkgarn1/STRIWP1/derivatives/glmTDFAST_HANDS/sub-03/TR1920/THRSH/_TR_1920_sub_03/_apply-thrsh0/spmF_0001_thresh.nii.gz -> /scratch/qbi/uqkgarn1/STRIWP1/derivatives/glmTDFAST_HANDS/sub-03/TR1920/THRSH///spmF_0001_thresh.nii.gz\n",
      "210701-12:54:40,660 nipype.workflow INFO:\n",
      "\t [Node] Finished \"thrshold.sink-stuff\".\n",
      "210701-12:54:40,661 nipype.workflow INFO:\n",
      "\t [Node] Setting-up \"thrshold.data-grabber\" in \"/tmp/tmpmlju9c6f/data-grabber\".\n",
      "210701-12:54:40,666 nipype.workflow INFO:\n",
      "\t [Node] Running \"data-grabber\" (\"nipype.interfaces.io.DataGrabber\")\n",
      "210701-12:54:40,670 nipype.workflow INFO:\n",
      "\t [Node] Finished \"thrshold.data-grabber\".\n",
      "210701-12:54:40,671 nipype.workflow INFO:\n",
      "\t [Node] Setting-up \"thrshold.apply-thrsh\" in \"/tmp/tmpe97z6kcm/thrshold/_TR_1510_sub_03/apply-thrsh\".\n",
      "210701-12:54:40,677 nipype.workflow INFO:\n",
      "\t [Node] Setting-up \"_apply-thrsh0\" in \"/tmp/tmpe97z6kcm/thrshold/_TR_1510_sub_03/apply-thrsh/mapflow/_apply-thrsh0\".\n",
      "210701-12:54:40,682 nipype.workflow INFO:\n",
      "\t [Node] Running \"_apply-thrsh0\" (\"nipype.interfaces.fsl.maths.Threshold\"), a CommandLine Interface with command:\n",
      "fslmaths /scratch/qbi/uqkgarn1/STRIWP1/derivatives/glmTDFAST_HANDS/sub-03/TR1510/FLGLM/spmF_0001.nii -nan -thr 5.4400000000 /tmp/tmpe97z6kcm/thrshold/_TR_1510_sub_03/apply-thrsh/mapflow/_apply-thrsh0/spmF_0001_thresh.nii.gz\n",
      "210701-12:54:40,906 nipype.workflow INFO:\n",
      "\t [Node] Finished \"_apply-thrsh0\".\n",
      "210701-12:54:40,909 nipype.workflow INFO:\n",
      "\t [Node] Finished \"thrshold.apply-thrsh\".\n",
      "210701-12:54:40,910 nipype.workflow INFO:\n",
      "\t [Node] Setting-up \"thrshold.sink-stuff\" in \"/tmp/tmpkmz6g5we/thrshold/_TR_1510_sub_03/sink-stuff\".\n",
      "210701-12:54:40,918 nipype.workflow INFO:\n",
      "\t [Node] Running \"sink-stuff\" (\"nipype.interfaces.io.DataSink\")\n",
      "210701-12:54:40,919 nipype.interface INFO:\n",
      "\t sub: /scratch/qbi/uqkgarn1/STRIWP1/derivatives/glmTDFAST_HANDS/sub-03/TR1510/THRSH/_TR_1510_sub_03/_apply-thrsh0/spmF_0001_thresh.nii.gz -> /scratch/qbi/uqkgarn1/STRIWP1/derivatives/glmTDFAST_HANDS/sub-03/TR1510/THRSH///spmF_0001_thresh.nii.gz\n",
      "210701-12:54:40,925 nipype.workflow INFO:\n",
      "\t [Node] Finished \"thrshold.sink-stuff\".\n",
      "210701-12:54:40,926 nipype.workflow INFO:\n",
      "\t [Node] Setting-up \"thrshold.data-grabber\" in \"/tmp/tmpmlju9c6f/data-grabber\".\n",
      "210701-12:54:40,931 nipype.workflow INFO:\n",
      "\t [Node] Running \"data-grabber\" (\"nipype.interfaces.io.DataGrabber\")\n",
      "210701-12:54:40,936 nipype.workflow INFO:\n",
      "\t [Node] Finished \"thrshold.data-grabber\".\n",
      "210701-12:54:40,936 nipype.workflow INFO:\n",
      "\t [Node] Setting-up \"thrshold.apply-thrsh\" in \"/tmp/tmpbggs2xcy/thrshold/_TR_700_sub_03/apply-thrsh\".\n",
      "210701-12:54:40,943 nipype.workflow INFO:\n",
      "\t [Node] Setting-up \"_apply-thrsh0\" in \"/tmp/tmpbggs2xcy/thrshold/_TR_700_sub_03/apply-thrsh/mapflow/_apply-thrsh0\".\n",
      "210701-12:54:40,948 nipype.workflow INFO:\n",
      "\t [Node] Running \"_apply-thrsh0\" (\"nipype.interfaces.fsl.maths.Threshold\"), a CommandLine Interface with command:\n",
      "fslmaths /scratch/qbi/uqkgarn1/STRIWP1/derivatives/glmTDFAST_HANDS/sub-03/TR700/FLGLM/spmF_0001.nii -nan -thr 5.4400000000 /tmp/tmpbggs2xcy/thrshold/_TR_700_sub_03/apply-thrsh/mapflow/_apply-thrsh0/spmF_0001_thresh.nii.gz\n",
      "210701-12:54:41,98 nipype.workflow INFO:\n",
      "\t [Node] Finished \"_apply-thrsh0\".\n",
      "210701-12:54:41,101 nipype.workflow INFO:\n",
      "\t [Node] Finished \"thrshold.apply-thrsh\".\n",
      "210701-12:54:41,101 nipype.workflow INFO:\n",
      "\t [Node] Setting-up \"thrshold.sink-stuff\" in \"/tmp/tmp1telfmhd/thrshold/_TR_700_sub_03/sink-stuff\".\n",
      "210701-12:54:41,108 nipype.workflow INFO:\n",
      "\t [Node] Running \"sink-stuff\" (\"nipype.interfaces.io.DataSink\")\n",
      "210701-12:54:41,110 nipype.interface INFO:\n",
      "\t sub: /scratch/qbi/uqkgarn1/STRIWP1/derivatives/glmTDFAST_HANDS/sub-03/TR700/THRSH/_TR_700_sub_03/_apply-thrsh0/spmF_0001_thresh.nii.gz -> /scratch/qbi/uqkgarn1/STRIWP1/derivatives/glmTDFAST_HANDS/sub-03/TR700/THRSH///spmF_0001_thresh.nii.gz\n",
      "210701-12:54:41,114 nipype.workflow INFO:\n",
      "\t [Node] Finished \"thrshold.sink-stuff\".\n",
      "210701-12:54:41,115 nipype.workflow INFO:\n",
      "\t [Node] Setting-up \"thrshold.data-grabber\" in \"/tmp/tmpmlju9c6f/data-grabber\".\n",
      "210701-12:54:41,120 nipype.workflow INFO:\n",
      "\t [Node] Running \"data-grabber\" (\"nipype.interfaces.io.DataGrabber\")\n",
      "210701-12:54:41,124 nipype.workflow INFO:\n",
      "\t [Node] Finished \"thrshold.data-grabber\".\n"
     ]
    },
    {
     "name": "stdout",
     "output_type": "stream",
     "text": [
      "210701-12:54:41,125 nipype.workflow INFO:\n",
      "\t [Node] Setting-up \"thrshold.apply-thrsh\" in \"/tmp/tmpx206n3kh/thrshold/_TR_1920_sub_02/apply-thrsh\".\n",
      "210701-12:54:41,131 nipype.workflow INFO:\n",
      "\t [Node] Setting-up \"_apply-thrsh0\" in \"/tmp/tmpx206n3kh/thrshold/_TR_1920_sub_02/apply-thrsh/mapflow/_apply-thrsh0\".\n",
      "210701-12:54:41,135 nipype.workflow INFO:\n",
      "\t [Node] Running \"_apply-thrsh0\" (\"nipype.interfaces.fsl.maths.Threshold\"), a CommandLine Interface with command:\n",
      "fslmaths /scratch/qbi/uqkgarn1/STRIWP1/derivatives/glmTDFAST_HANDS/sub-02/TR1920/FLGLM/spmF_0001.nii -nan -thr 5.4400000000 /tmp/tmpx206n3kh/thrshold/_TR_1920_sub_02/apply-thrsh/mapflow/_apply-thrsh0/spmF_0001_thresh.nii.gz\n",
      "210701-12:54:41,362 nipype.workflow INFO:\n",
      "\t [Node] Finished \"_apply-thrsh0\".\n",
      "210701-12:54:41,365 nipype.workflow INFO:\n",
      "\t [Node] Finished \"thrshold.apply-thrsh\".\n",
      "210701-12:54:41,366 nipype.workflow INFO:\n",
      "\t [Node] Setting-up \"thrshold.sink-stuff\" in \"/tmp/tmphaf2rnb2/thrshold/_TR_1920_sub_02/sink-stuff\".\n",
      "210701-12:54:41,373 nipype.workflow INFO:\n",
      "\t [Node] Running \"sink-stuff\" (\"nipype.interfaces.io.DataSink\")\n",
      "210701-12:54:41,374 nipype.interface INFO:\n",
      "\t sub: /scratch/qbi/uqkgarn1/STRIWP1/derivatives/glmTDFAST_HANDS/sub-02/TR1920/THRSH/_TR_1920_sub_02/_apply-thrsh0/spmF_0001_thresh.nii.gz -> /scratch/qbi/uqkgarn1/STRIWP1/derivatives/glmTDFAST_HANDS/sub-02/TR1920/THRSH///spmF_0001_thresh.nii.gz\n",
      "210701-12:54:41,379 nipype.workflow INFO:\n",
      "\t [Node] Finished \"thrshold.sink-stuff\".\n",
      "210701-12:54:41,379 nipype.workflow INFO:\n",
      "\t [Node] Setting-up \"thrshold.data-grabber\" in \"/tmp/tmpmlju9c6f/data-grabber\".\n",
      "210701-12:54:41,385 nipype.workflow INFO:\n",
      "\t [Node] Running \"data-grabber\" (\"nipype.interfaces.io.DataGrabber\")\n",
      "210701-12:54:41,389 nipype.workflow INFO:\n",
      "\t [Node] Finished \"thrshold.data-grabber\".\n",
      "210701-12:54:41,390 nipype.workflow INFO:\n",
      "\t [Node] Setting-up \"thrshold.apply-thrsh\" in \"/tmp/tmp4nv8e7qu/thrshold/_TR_1510_sub_02/apply-thrsh\".\n",
      "210701-12:54:41,396 nipype.workflow INFO:\n",
      "\t [Node] Setting-up \"_apply-thrsh0\" in \"/tmp/tmp4nv8e7qu/thrshold/_TR_1510_sub_02/apply-thrsh/mapflow/_apply-thrsh0\".\n",
      "210701-12:54:41,401 nipype.workflow INFO:\n",
      "\t [Node] Running \"_apply-thrsh0\" (\"nipype.interfaces.fsl.maths.Threshold\"), a CommandLine Interface with command:\n",
      "fslmaths /scratch/qbi/uqkgarn1/STRIWP1/derivatives/glmTDFAST_HANDS/sub-02/TR1510/FLGLM/spmF_0001.nii -nan -thr 5.4400000000 /tmp/tmp4nv8e7qu/thrshold/_TR_1510_sub_02/apply-thrsh/mapflow/_apply-thrsh0/spmF_0001_thresh.nii.gz\n",
      "210701-12:54:41,608 nipype.workflow INFO:\n",
      "\t [Node] Finished \"_apply-thrsh0\".\n",
      "210701-12:54:41,611 nipype.workflow INFO:\n",
      "\t [Node] Finished \"thrshold.apply-thrsh\".\n",
      "210701-12:54:41,612 nipype.workflow INFO:\n",
      "\t [Node] Setting-up \"thrshold.sink-stuff\" in \"/tmp/tmpyb9ci2pc/thrshold/_TR_1510_sub_02/sink-stuff\".\n",
      "210701-12:54:41,619 nipype.workflow INFO:\n",
      "\t [Node] Running \"sink-stuff\" (\"nipype.interfaces.io.DataSink\")\n",
      "210701-12:54:41,621 nipype.interface INFO:\n",
      "\t sub: /scratch/qbi/uqkgarn1/STRIWP1/derivatives/glmTDFAST_HANDS/sub-02/TR1510/THRSH/_TR_1510_sub_02/_apply-thrsh0/spmF_0001_thresh.nii.gz -> /scratch/qbi/uqkgarn1/STRIWP1/derivatives/glmTDFAST_HANDS/sub-02/TR1510/THRSH///spmF_0001_thresh.nii.gz\n",
      "210701-12:54:41,625 nipype.workflow INFO:\n",
      "\t [Node] Finished \"thrshold.sink-stuff\".\n",
      "210701-12:54:41,626 nipype.workflow INFO:\n",
      "\t [Node] Setting-up \"thrshold.data-grabber\" in \"/tmp/tmpmlju9c6f/data-grabber\".\n",
      "210701-12:54:41,631 nipype.workflow INFO:\n",
      "\t [Node] Running \"data-grabber\" (\"nipype.interfaces.io.DataGrabber\")\n",
      "210701-12:54:41,635 nipype.workflow INFO:\n",
      "\t [Node] Finished \"thrshold.data-grabber\".\n",
      "210701-12:54:41,636 nipype.workflow INFO:\n",
      "\t [Node] Setting-up \"thrshold.apply-thrsh\" in \"/tmp/tmp90w_z6ti/thrshold/_TR_700_sub_02/apply-thrsh\".\n",
      "210701-12:54:41,642 nipype.workflow INFO:\n",
      "\t [Node] Setting-up \"_apply-thrsh0\" in \"/tmp/tmp90w_z6ti/thrshold/_TR_700_sub_02/apply-thrsh/mapflow/_apply-thrsh0\".\n",
      "210701-12:54:41,646 nipype.workflow INFO:\n",
      "\t [Node] Running \"_apply-thrsh0\" (\"nipype.interfaces.fsl.maths.Threshold\"), a CommandLine Interface with command:\n",
      "fslmaths /scratch/qbi/uqkgarn1/STRIWP1/derivatives/glmTDFAST_HANDS/sub-02/TR700/FLGLM/spmF_0001.nii -nan -thr 5.4400000000 /tmp/tmp90w_z6ti/thrshold/_TR_700_sub_02/apply-thrsh/mapflow/_apply-thrsh0/spmF_0001_thresh.nii.gz\n",
      "210701-12:54:41,837 nipype.workflow INFO:\n",
      "\t [Node] Finished \"_apply-thrsh0\".\n",
      "210701-12:54:41,840 nipype.workflow INFO:\n",
      "\t [Node] Finished \"thrshold.apply-thrsh\".\n",
      "210701-12:54:41,840 nipype.workflow INFO:\n",
      "\t [Node] Setting-up \"thrshold.sink-stuff\" in \"/tmp/tmpuy4bv9sw/thrshold/_TR_700_sub_02/sink-stuff\".\n",
      "210701-12:54:41,847 nipype.workflow INFO:\n",
      "\t [Node] Running \"sink-stuff\" (\"nipype.interfaces.io.DataSink\")\n",
      "210701-12:54:41,849 nipype.interface INFO:\n",
      "\t sub: /scratch/qbi/uqkgarn1/STRIWP1/derivatives/glmTDFAST_HANDS/sub-02/TR700/THRSH/_TR_700_sub_02/_apply-thrsh0/spmF_0001_thresh.nii.gz -> /scratch/qbi/uqkgarn1/STRIWP1/derivatives/glmTDFAST_HANDS/sub-02/TR700/THRSH///spmF_0001_thresh.nii.gz\n",
      "210701-12:54:41,854 nipype.workflow INFO:\n",
      "\t [Node] Finished \"thrshold.sink-stuff\".\n",
      "210701-12:54:41,854 nipype.workflow INFO:\n",
      "\t [Node] Setting-up \"thrshold.data-grabber\" in \"/tmp/tmpmlju9c6f/data-grabber\".\n",
      "210701-12:54:41,859 nipype.workflow INFO:\n",
      "\t [Node] Running \"data-grabber\" (\"nipype.interfaces.io.DataGrabber\")\n",
      "210701-12:54:41,863 nipype.workflow INFO:\n",
      "\t [Node] Finished \"thrshold.data-grabber\".\n",
      "210701-12:54:41,864 nipype.workflow INFO:\n",
      "\t [Node] Setting-up \"thrshold.apply-thrsh\" in \"/tmp/tmp9agcyoac/thrshold/_TR_1920_sub_01/apply-thrsh\".\n",
      "210701-12:54:41,870 nipype.workflow INFO:\n",
      "\t [Node] Setting-up \"_apply-thrsh0\" in \"/tmp/tmp9agcyoac/thrshold/_TR_1920_sub_01/apply-thrsh/mapflow/_apply-thrsh0\".\n",
      "210701-12:54:41,874 nipype.workflow INFO:\n",
      "\t [Node] Running \"_apply-thrsh0\" (\"nipype.interfaces.fsl.maths.Threshold\"), a CommandLine Interface with command:\n",
      "fslmaths /scratch/qbi/uqkgarn1/STRIWP1/derivatives/glmTDFAST_HANDS/sub-01/TR1920/FLGLM/spmF_0001.nii -nan -thr 5.4400000000 /tmp/tmp9agcyoac/thrshold/_TR_1920_sub_01/apply-thrsh/mapflow/_apply-thrsh0/spmF_0001_thresh.nii.gz\n",
      "210701-12:54:42,54 nipype.workflow INFO:\n",
      "\t [Node] Finished \"_apply-thrsh0\".\n",
      "210701-12:54:42,57 nipype.workflow INFO:\n",
      "\t [Node] Finished \"thrshold.apply-thrsh\".\n",
      "210701-12:54:42,57 nipype.workflow INFO:\n",
      "\t [Node] Setting-up \"thrshold.sink-stuff\" in \"/tmp/tmpn_4qb7xd/thrshold/_TR_1920_sub_01/sink-stuff\".\n",
      "210701-12:54:42,65 nipype.workflow INFO:\n",
      "\t [Node] Running \"sink-stuff\" (\"nipype.interfaces.io.DataSink\")\n",
      "210701-12:54:42,66 nipype.interface INFO:\n",
      "\t sub: /scratch/qbi/uqkgarn1/STRIWP1/derivatives/glmTDFAST_HANDS/sub-01/TR1920/THRSH/_TR_1920_sub_01/_apply-thrsh0/spmF_0001_thresh.nii.gz -> /scratch/qbi/uqkgarn1/STRIWP1/derivatives/glmTDFAST_HANDS/sub-01/TR1920/THRSH///spmF_0001_thresh.nii.gz\n",
      "210701-12:54:42,71 nipype.workflow INFO:\n",
      "\t [Node] Finished \"thrshold.sink-stuff\".\n",
      "210701-12:54:42,71 nipype.workflow INFO:\n",
      "\t [Node] Setting-up \"thrshold.data-grabber\" in \"/tmp/tmpmlju9c6f/data-grabber\".\n",
      "210701-12:54:42,76 nipype.workflow INFO:\n",
      "\t [Node] Running \"data-grabber\" (\"nipype.interfaces.io.DataGrabber\")\n",
      "210701-12:54:42,80 nipype.workflow INFO:\n",
      "\t [Node] Finished \"thrshold.data-grabber\".\n",
      "210701-12:54:42,81 nipype.workflow INFO:\n",
      "\t [Node] Setting-up \"thrshold.apply-thrsh\" in \"/tmp/tmpufwei57s/thrshold/_TR_1510_sub_01/apply-thrsh\".\n",
      "210701-12:54:42,87 nipype.workflow INFO:\n",
      "\t [Node] Setting-up \"_apply-thrsh0\" in \"/tmp/tmpufwei57s/thrshold/_TR_1510_sub_01/apply-thrsh/mapflow/_apply-thrsh0\".\n",
      "210701-12:54:42,91 nipype.workflow INFO:\n",
      "\t [Node] Running \"_apply-thrsh0\" (\"nipype.interfaces.fsl.maths.Threshold\"), a CommandLine Interface with command:\n",
      "fslmaths /scratch/qbi/uqkgarn1/STRIWP1/derivatives/glmTDFAST_HANDS/sub-01/TR1510/FLGLM/spmF_0001.nii -nan -thr 5.4400000000 /tmp/tmpufwei57s/thrshold/_TR_1510_sub_01/apply-thrsh/mapflow/_apply-thrsh0/spmF_0001_thresh.nii.gz\n",
      "210701-12:54:42,271 nipype.workflow INFO:\n",
      "\t [Node] Finished \"_apply-thrsh0\".\n",
      "210701-12:54:42,274 nipype.workflow INFO:\n",
      "\t [Node] Finished \"thrshold.apply-thrsh\".\n",
      "210701-12:54:42,275 nipype.workflow INFO:\n",
      "\t [Node] Setting-up \"thrshold.sink-stuff\" in \"/tmp/tmp7mnnz09a/thrshold/_TR_1510_sub_01/sink-stuff\".\n",
      "210701-12:54:42,282 nipype.workflow INFO:\n",
      "\t [Node] Running \"sink-stuff\" (\"nipype.interfaces.io.DataSink\")\n"
     ]
    },
    {
     "name": "stdout",
     "output_type": "stream",
     "text": [
      "210701-12:54:42,283 nipype.interface INFO:\n",
      "\t sub: /scratch/qbi/uqkgarn1/STRIWP1/derivatives/glmTDFAST_HANDS/sub-01/TR1510/THRSH/_TR_1510_sub_01/_apply-thrsh0/spmF_0001_thresh.nii.gz -> /scratch/qbi/uqkgarn1/STRIWP1/derivatives/glmTDFAST_HANDS/sub-01/TR1510/THRSH///spmF_0001_thresh.nii.gz\n",
      "210701-12:54:42,288 nipype.workflow INFO:\n",
      "\t [Node] Finished \"thrshold.sink-stuff\".\n",
      "210701-12:54:42,288 nipype.workflow INFO:\n",
      "\t [Node] Setting-up \"thrshold.data-grabber\" in \"/tmp/tmpmlju9c6f/data-grabber\".\n",
      "210701-12:54:42,293 nipype.workflow INFO:\n",
      "\t [Node] Running \"data-grabber\" (\"nipype.interfaces.io.DataGrabber\")\n",
      "210701-12:54:42,297 nipype.workflow INFO:\n",
      "\t [Node] Finished \"thrshold.data-grabber\".\n",
      "210701-12:54:42,297 nipype.workflow INFO:\n",
      "\t [Node] Setting-up \"thrshold.apply-thrsh\" in \"/tmp/tmpoyzz8rag/thrshold/_TR_700_sub_01/apply-thrsh\".\n",
      "210701-12:54:42,303 nipype.workflow INFO:\n",
      "\t [Node] Setting-up \"_apply-thrsh0\" in \"/tmp/tmpoyzz8rag/thrshold/_TR_700_sub_01/apply-thrsh/mapflow/_apply-thrsh0\".\n",
      "210701-12:54:42,308 nipype.workflow INFO:\n",
      "\t [Node] Running \"_apply-thrsh0\" (\"nipype.interfaces.fsl.maths.Threshold\"), a CommandLine Interface with command:\n",
      "fslmaths /scratch/qbi/uqkgarn1/STRIWP1/derivatives/glmTDFAST_HANDS/sub-01/TR700/FLGLM/spmF_0001.nii -nan -thr 5.4400000000 /tmp/tmpoyzz8rag/thrshold/_TR_700_sub_01/apply-thrsh/mapflow/_apply-thrsh0/spmF_0001_thresh.nii.gz\n",
      "210701-12:54:42,436 nipype.workflow INFO:\n",
      "\t [Node] Finished \"_apply-thrsh0\".\n",
      "210701-12:54:42,439 nipype.workflow INFO:\n",
      "\t [Node] Finished \"thrshold.apply-thrsh\".\n",
      "210701-12:54:42,440 nipype.workflow INFO:\n",
      "\t [Node] Setting-up \"thrshold.sink-stuff\" in \"/tmp/tmpnkeo3f8w/thrshold/_TR_700_sub_01/sink-stuff\".\n",
      "210701-12:54:42,447 nipype.workflow INFO:\n",
      "\t [Node] Running \"sink-stuff\" (\"nipype.interfaces.io.DataSink\")\n",
      "210701-12:54:42,448 nipype.interface INFO:\n",
      "\t sub: /scratch/qbi/uqkgarn1/STRIWP1/derivatives/glmTDFAST_HANDS/sub-01/TR700/THRSH/_TR_700_sub_01/_apply-thrsh0/spmF_0001_thresh.nii.gz -> /scratch/qbi/uqkgarn1/STRIWP1/derivatives/glmTDFAST_HANDS/sub-01/TR700/THRSH///spmF_0001_thresh.nii.gz\n",
      "210701-12:54:42,453 nipype.workflow INFO:\n",
      "\t [Node] Finished \"thrshold.sink-stuff\".\n"
     ]
    }
   ],
   "source": [
    "thrsh.connect([(datinf, dg, [('sub', 'sub')]),\n",
    "               (datinf, dg, [('TR', 'TR')]),\n",
    "               (dg, ds, [(('ts', printSubPath), 'container')]),\n",
    "               (dg, applythrsh, [('ts', 'in_file')]), \n",
    "               (applythrsh, ds, [('out_file', 'THRSH')])\n",
    "])\n",
    "res = thrsh.run()"
   ]
  },
  {
   "cell_type": "code",
   "execution_count": null,
   "metadata": {},
   "outputs": [],
   "source": []
  }
 ],
 "metadata": {
  "kernelspec": {
   "display_name": "Python 3",
   "language": "python",
   "name": "python3"
  },
  "language_info": {
   "codemirror_mode": {
    "name": "ipython",
    "version": 3
   },
   "file_extension": ".py",
   "mimetype": "text/x-python",
   "name": "python",
   "nbconvert_exporter": "python",
   "pygments_lexer": "ipython3",
   "version": "3.6.10"
  }
 },
 "nbformat": 4,
 "nbformat_minor": 4
}
