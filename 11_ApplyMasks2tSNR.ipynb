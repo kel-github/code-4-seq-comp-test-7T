{
 "cells": [
  {
   "cell_type": "markdown",
   "metadata": {},
   "source": [
    "# Mask tSNR images"
   ]
  },
  {
   "cell_type": "markdown",
   "metadata": {},
   "source": [
    "K.Garner, 2021\n",
    "Note: run by participant, and by session (if unequal n runs between TRs)"
   ]
  },
  {
   "cell_type": "code",
   "execution_count": 17,
   "metadata": {},
   "outputs": [],
   "source": [
    "from nipype.interfaces.io import BIDSDataGrabber, DataFinder, DataSink, DataGrabber\n",
    "import nipype.pipeline as pe\n",
    "import nipype as ni\n",
    "import nipype.interfaces.fsl.maths as fsl\n",
    "import pandas as pd\n",
    "import os, re, json\n"
   ]
  },
  {
   "cell_type": "code",
   "execution_count": 18,
   "metadata": {},
   "outputs": [],
   "source": [
    "Basedir = \"/scratch/qbi/uqkgarn1/STRIWP1/\"\n",
    "thrsh = pe.Workflow(name=\"msktSNR\") # workflow to run the analysis"
   ]
  },
  {
   "cell_type": "markdown",
   "metadata": {},
   "source": [
    "## Data grabbing and sinking"
   ]
  },
  {
   "cell_type": "code",
   "execution_count": 19,
   "metadata": {},
   "outputs": [],
   "source": [
    "dg = pe.Node(DataGrabber(infields=['sub', 'TR'], \n",
    "                         outfields=['ts','msks']), name='data-grabber')\n",
    "dg.inputs.base_dir = \"/scratch/qbi/uqkgarn1/STRIWP1/\"\n",
    "dg.inputs.sort_filelist = True\n",
    "dg.inputs.template='*'\n",
    "dg.inputs.template_args = {'ts': [['sub', 'TR']],\n",
    "                           'msks': [['sub', 'TR']]}\n",
    "dg.inputs.field_template = {'msks': '/scratch/qbi/uqkgarn1/STRIWP1/derivatives/tSNR/sub-%s/TR%s/MASKS/*.nii.gz',\n",
    "                            'ts': '/scratch/qbi/uqkgarn1/STRIWP1/derivatives/tSNR/sub-%s/TR%s/SNR/*/*.nii.gz'}"
   ]
  },
  {
   "cell_type": "code",
   "execution_count": 20,
   "metadata": {},
   "outputs": [
    {
     "name": "stdout",
     "output_type": "stream",
     "text": [
      "210704-08:53:28,821 nipype.workflow INFO:\n",
      "\t [Node] Setting-up \"data-grabber\" in \"/tmp/tmp7cuxlcnk/data-grabber\".\n",
      "210704-08:53:28,826 nipype.workflow INFO:\n",
      "\t [Node] Running \"data-grabber\" (\"nipype.interfaces.io.DataGrabber\")\n",
      "210704-08:53:28,832 nipype.workflow INFO:\n",
      "\t [Node] Finished \"data-grabber\".\n"
     ]
    },
    {
     "data": {
      "text/plain": [
       "\n",
       "msks = ['/scratch/qbi/uqkgarn1/STRIWP1/derivatives/tSNR/sub-03/TR1920/MASKS/rCN_trans.nii.gz', '/scratch/qbi/uqkgarn1/STRIWP1/derivatives/tSNR/sub-03/TR1920/MASKS/rFEF_trans.nii.gz', '/scratch/qbi/uqkgarn1/STRIWP1/derivatives/tSNR/sub-03/TR1920/MASKS/rGPe_trans.nii.gz', '/scratch/qbi/uqkgarn1/STRIWP1/derivatives/tSNR/sub-03/TR1920/MASKS/rGPi_trans.nii.gz', '/scratch/qbi/uqkgarn1/STRIWP1/derivatives/tSNR/sub-03/TR1920/MASKS/rIPS_trans.nii.gz', '/scratch/qbi/uqkgarn1/STRIWP1/derivatives/tSNR/sub-03/TR1920/MASKS/rLOC_trans.nii.gz', '/scratch/qbi/uqkgarn1/STRIWP1/derivatives/tSNR/sub-03/TR1920/MASKS/rPut_trans.nii.gz', '/scratch/qbi/uqkgarn1/STRIWP1/derivatives/tSNR/sub-03/TR1920/MASKS/rSTN_trans.nii.gz', '/scratch/qbi/uqkgarn1/STRIWP1/derivatives/tSNR/sub-03/TR1920/MASKS/rVS_trans.nii.gz']\n",
       "ts = ['/scratch/qbi/uqkgarn1/STRIWP1/derivatives/tSNR/sub-03/TR1920/SNR/_do-tsnr0/tsnr.nii.gz', '/scratch/qbi/uqkgarn1/STRIWP1/derivatives/tSNR/sub-03/TR1920/SNR/_do-tsnr1/tsnr.nii.gz']"
      ]
     },
     "execution_count": 20,
     "metadata": {},
     "output_type": "execute_result"
    }
   ],
   "source": [
    "# # debugging\n",
    "dg.inputs.sub = '03'\n",
    "dg.inputs.TR = '1920'\n",
    "res = dg.run()\n",
    "res.outputs"
   ]
  },
  {
   "cell_type": "code",
   "execution_count": 21,
   "metadata": {},
   "outputs": [],
   "source": [
    "def printSubPath(fullFilePath):\n",
    "    # function to split filepath into constituent parts, then print string to add as input to DataSink for the container string\n",
    "    # given the full filepath, this extracts the subject folder and TR strings for input\n",
    "    # into DataSink\n",
    "    import os\n",
    "    import re\n",
    "    fname = os.path.normpath(fullFilePath[0])\n",
    "    l = fname.split(os.sep)\n",
    "    name = [s for s in l if re.search('sub', s)][0], [t for t in l if re.search('TR([0-9])', t)][0]\n",
    "    name = '/'.join(name)\n",
    "    name\n",
    "    return name"
   ]
  },
  {
   "cell_type": "code",
   "execution_count": 22,
   "metadata": {},
   "outputs": [
    {
     "data": {
      "text/plain": [
       "'sub-03/TR1920'"
      ]
     },
     "execution_count": 22,
     "metadata": {},
     "output_type": "execute_result"
    }
   ],
   "source": [
    "printSubPath(res.outputs.msks)"
   ]
  },
  {
   "cell_type": "code",
   "execution_count": 23,
   "metadata": {},
   "outputs": [],
   "source": [
    "ds = pe.Node(DataSink(), name='sink-stuff')\n",
    "ds.inputs.base_directory = \"/scratch/qbi/uqkgarn1/STRIWP1/derivatives/tSNR/\"\n",
    "substitutions = [('_TR_([0-9]*)_sub_([0-9]*)', ''),\n",
    "                 ('_thrsh-t([0-9]*)', ''),\n",
    "                 ('_absthat([0-9]*)', ''),\n",
    "                 ('_mask-t([0-9])*', ''),\n",
    "                 ('_multi([0-9])*', '')] \n",
    "ds.inputs.regexp_substitutions = substitutions"
   ]
  },
  {
   "cell_type": "code",
   "execution_count": 24,
   "metadata": {},
   "outputs": [
    {
     "data": {
      "text/plain": [
       "[('sub', ['03']), ('TR', ['1920'])]"
      ]
     },
     "execution_count": 24,
     "metadata": {},
     "output_type": "execute_result"
    }
   ],
   "source": [
    "datinf = pe.Node(ni.IdentityInterface(fields=['sub', 'TR']),\n",
    "                 name='dat-info')\n",
    "#datinf.iterables = [('sub', ['01', '02', '03', '04', '05']), ('TR', ['700', '1510', '1920'])]\n",
    "datinf.iterables = [('sub', ['03']), ('TR', ['1920'])]\n",
    "datinf.iterables "
   ]
  },
  {
   "cell_type": "markdown",
   "metadata": {},
   "source": [
    "## functions for list cats"
   ]
  },
  {
   "cell_type": "code",
   "execution_count": 25,
   "metadata": {},
   "outputs": [],
   "source": [
    "def tcat(fullFileList, nMasks=9):\n",
    "    #return [fullFileList]*nMasks\n",
    "    return fullFileList*nMasks # use this line when n fullFileList > 1"
   ]
  },
  {
   "cell_type": "code",
   "execution_count": 26,
   "metadata": {},
   "outputs": [
    {
     "data": {
      "text/plain": [
       "['/scratch/qbi/uqkgarn1/STRIWP1/derivatives/tSNR/sub-03/TR1920/SNR/_do-tsnr0/tsnr.nii.gz',\n",
       " '/scratch/qbi/uqkgarn1/STRIWP1/derivatives/tSNR/sub-03/TR1920/SNR/_do-tsnr1/tsnr.nii.gz',\n",
       " '/scratch/qbi/uqkgarn1/STRIWP1/derivatives/tSNR/sub-03/TR1920/SNR/_do-tsnr0/tsnr.nii.gz',\n",
       " '/scratch/qbi/uqkgarn1/STRIWP1/derivatives/tSNR/sub-03/TR1920/SNR/_do-tsnr1/tsnr.nii.gz',\n",
       " '/scratch/qbi/uqkgarn1/STRIWP1/derivatives/tSNR/sub-03/TR1920/SNR/_do-tsnr0/tsnr.nii.gz',\n",
       " '/scratch/qbi/uqkgarn1/STRIWP1/derivatives/tSNR/sub-03/TR1920/SNR/_do-tsnr1/tsnr.nii.gz',\n",
       " '/scratch/qbi/uqkgarn1/STRIWP1/derivatives/tSNR/sub-03/TR1920/SNR/_do-tsnr0/tsnr.nii.gz',\n",
       " '/scratch/qbi/uqkgarn1/STRIWP1/derivatives/tSNR/sub-03/TR1920/SNR/_do-tsnr1/tsnr.nii.gz',\n",
       " '/scratch/qbi/uqkgarn1/STRIWP1/derivatives/tSNR/sub-03/TR1920/SNR/_do-tsnr0/tsnr.nii.gz',\n",
       " '/scratch/qbi/uqkgarn1/STRIWP1/derivatives/tSNR/sub-03/TR1920/SNR/_do-tsnr1/tsnr.nii.gz',\n",
       " '/scratch/qbi/uqkgarn1/STRIWP1/derivatives/tSNR/sub-03/TR1920/SNR/_do-tsnr0/tsnr.nii.gz',\n",
       " '/scratch/qbi/uqkgarn1/STRIWP1/derivatives/tSNR/sub-03/TR1920/SNR/_do-tsnr1/tsnr.nii.gz',\n",
       " '/scratch/qbi/uqkgarn1/STRIWP1/derivatives/tSNR/sub-03/TR1920/SNR/_do-tsnr0/tsnr.nii.gz',\n",
       " '/scratch/qbi/uqkgarn1/STRIWP1/derivatives/tSNR/sub-03/TR1920/SNR/_do-tsnr1/tsnr.nii.gz',\n",
       " '/scratch/qbi/uqkgarn1/STRIWP1/derivatives/tSNR/sub-03/TR1920/SNR/_do-tsnr0/tsnr.nii.gz',\n",
       " '/scratch/qbi/uqkgarn1/STRIWP1/derivatives/tSNR/sub-03/TR1920/SNR/_do-tsnr1/tsnr.nii.gz',\n",
       " '/scratch/qbi/uqkgarn1/STRIWP1/derivatives/tSNR/sub-03/TR1920/SNR/_do-tsnr0/tsnr.nii.gz',\n",
       " '/scratch/qbi/uqkgarn1/STRIWP1/derivatives/tSNR/sub-03/TR1920/SNR/_do-tsnr1/tsnr.nii.gz']"
      ]
     },
     "execution_count": 26,
     "metadata": {},
     "output_type": "execute_result"
    }
   ],
   "source": [
    "tcat(res.outputs.ts)"
   ]
  },
  {
   "cell_type": "code",
   "execution_count": 27,
   "metadata": {},
   "outputs": [],
   "source": [
    "def maskcat(fullFileList, nCon=2):\n",
    "    import numpy as np\n",
    "    return np.ndarray.tolist(np.repeat(fullFileList, nCon))"
   ]
  },
  {
   "cell_type": "code",
   "execution_count": 28,
   "metadata": {},
   "outputs": [
    {
     "data": {
      "text/plain": [
       "['/scratch/qbi/uqkgarn1/STRIWP1/derivatives/tSNR/sub-03/TR1920/MASKS/rCN_trans.nii.gz',\n",
       " '/scratch/qbi/uqkgarn1/STRIWP1/derivatives/tSNR/sub-03/TR1920/MASKS/rCN_trans.nii.gz',\n",
       " '/scratch/qbi/uqkgarn1/STRIWP1/derivatives/tSNR/sub-03/TR1920/MASKS/rFEF_trans.nii.gz',\n",
       " '/scratch/qbi/uqkgarn1/STRIWP1/derivatives/tSNR/sub-03/TR1920/MASKS/rFEF_trans.nii.gz',\n",
       " '/scratch/qbi/uqkgarn1/STRIWP1/derivatives/tSNR/sub-03/TR1920/MASKS/rGPe_trans.nii.gz',\n",
       " '/scratch/qbi/uqkgarn1/STRIWP1/derivatives/tSNR/sub-03/TR1920/MASKS/rGPe_trans.nii.gz',\n",
       " '/scratch/qbi/uqkgarn1/STRIWP1/derivatives/tSNR/sub-03/TR1920/MASKS/rGPi_trans.nii.gz',\n",
       " '/scratch/qbi/uqkgarn1/STRIWP1/derivatives/tSNR/sub-03/TR1920/MASKS/rGPi_trans.nii.gz',\n",
       " '/scratch/qbi/uqkgarn1/STRIWP1/derivatives/tSNR/sub-03/TR1920/MASKS/rIPS_trans.nii.gz',\n",
       " '/scratch/qbi/uqkgarn1/STRIWP1/derivatives/tSNR/sub-03/TR1920/MASKS/rIPS_trans.nii.gz',\n",
       " '/scratch/qbi/uqkgarn1/STRIWP1/derivatives/tSNR/sub-03/TR1920/MASKS/rLOC_trans.nii.gz',\n",
       " '/scratch/qbi/uqkgarn1/STRIWP1/derivatives/tSNR/sub-03/TR1920/MASKS/rLOC_trans.nii.gz',\n",
       " '/scratch/qbi/uqkgarn1/STRIWP1/derivatives/tSNR/sub-03/TR1920/MASKS/rPut_trans.nii.gz',\n",
       " '/scratch/qbi/uqkgarn1/STRIWP1/derivatives/tSNR/sub-03/TR1920/MASKS/rPut_trans.nii.gz',\n",
       " '/scratch/qbi/uqkgarn1/STRIWP1/derivatives/tSNR/sub-03/TR1920/MASKS/rSTN_trans.nii.gz',\n",
       " '/scratch/qbi/uqkgarn1/STRIWP1/derivatives/tSNR/sub-03/TR1920/MASKS/rSTN_trans.nii.gz',\n",
       " '/scratch/qbi/uqkgarn1/STRIWP1/derivatives/tSNR/sub-03/TR1920/MASKS/rVS_trans.nii.gz',\n",
       " '/scratch/qbi/uqkgarn1/STRIWP1/derivatives/tSNR/sub-03/TR1920/MASKS/rVS_trans.nii.gz']"
      ]
     },
     "execution_count": 28,
     "metadata": {},
     "output_type": "execute_result"
    }
   ],
   "source": [
    "maskcat(res.outputs.msks)"
   ]
  },
  {
   "cell_type": "markdown",
   "metadata": {},
   "source": [
    "## define output names for t x msk"
   ]
  },
  {
   "cell_type": "code",
   "execution_count": 29,
   "metadata": {},
   "outputs": [],
   "source": [
    "# warning! needs to be adjusted for each participant\n",
    "tnms = ['tsnr_ses-02', 'tsnr_ses-03']\n",
    "msks = ['rCN', 'rFEF', 'rGPe', 'rGPi', 'rIPS', 'rLOC', 'rPut', 'rSTN', 'rVS']\n",
    "touts = [i+'_'+n+'.nii.gz' for i in msks for n in tnms]"
   ]
  },
  {
   "cell_type": "code",
   "execution_count": 30,
   "metadata": {},
   "outputs": [
    {
     "data": {
      "text/plain": [
       "['rCN_tsnr_ses-02.nii.gz',\n",
       " 'rCN_tsnr_ses-03.nii.gz',\n",
       " 'rFEF_tsnr_ses-02.nii.gz',\n",
       " 'rFEF_tsnr_ses-03.nii.gz',\n",
       " 'rGPe_tsnr_ses-02.nii.gz',\n",
       " 'rGPe_tsnr_ses-03.nii.gz',\n",
       " 'rGPi_tsnr_ses-02.nii.gz',\n",
       " 'rGPi_tsnr_ses-03.nii.gz',\n",
       " 'rIPS_tsnr_ses-02.nii.gz',\n",
       " 'rIPS_tsnr_ses-03.nii.gz',\n",
       " 'rLOC_tsnr_ses-02.nii.gz',\n",
       " 'rLOC_tsnr_ses-03.nii.gz',\n",
       " 'rPut_tsnr_ses-02.nii.gz',\n",
       " 'rPut_tsnr_ses-03.nii.gz',\n",
       " 'rSTN_tsnr_ses-02.nii.gz',\n",
       " 'rSTN_tsnr_ses-03.nii.gz',\n",
       " 'rVS_tsnr_ses-02.nii.gz',\n",
       " 'rVS_tsnr_ses-03.nii.gz']"
      ]
     },
     "execution_count": 30,
     "metadata": {},
     "output_type": "execute_result"
    }
   ],
   "source": [
    "touts"
   ]
  },
  {
   "cell_type": "markdown",
   "metadata": {},
   "source": [
    "## FSL functionality to apply anatomical mask"
   ]
  },
  {
   "cell_type": "code",
   "execution_count": 31,
   "metadata": {},
   "outputs": [],
   "source": [
    "maskt = pe.MapNode(fsl.BinaryMaths(), iterfield = ['in_file', 'operand_file', 'out_file'], name='mask-t')\n",
    "maskt.inputs.operation = 'mul'\n",
    "maskt.inputs.nan2zeros = True\n",
    "maskt.inputs.out_file = touts"
   ]
  },
  {
   "cell_type": "markdown",
   "metadata": {},
   "source": [
    "## Connect workflow"
   ]
  },
  {
   "cell_type": "code",
   "execution_count": 32,
   "metadata": {
    "scrolled": false
   },
   "outputs": [
    {
     "name": "stdout",
     "output_type": "stream",
     "text": [
      "210704-08:54:29,943 nipype.workflow INFO:\n",
      "\t Workflow msktSNR settings: ['check', 'execution', 'logging', 'monitoring']\n",
      "210704-08:54:29,955 nipype.workflow INFO:\n",
      "\t Running serially.\n",
      "210704-08:54:29,956 nipype.workflow INFO:\n",
      "\t [Node] Setting-up \"msktSNR.data-grabber\" in \"/tmp/tmp7cuxlcnk/data-grabber\".\n",
      "210704-08:54:29,962 nipype.workflow INFO:\n",
      "\t [Node] Running \"data-grabber\" (\"nipype.interfaces.io.DataGrabber\")\n",
      "210704-08:54:29,967 nipype.workflow INFO:\n",
      "\t [Node] Finished \"msktSNR.data-grabber\".\n",
      "210704-08:54:29,968 nipype.workflow INFO:\n",
      "\t [Node] Setting-up \"msktSNR.mask-t\" in \"/tmp/tmpj6qg0ina/msktSNR/_TR_1920_sub_03/mask-t\".\n",
      "210704-08:54:29,980 nipype.workflow INFO:\n",
      "\t [Node] Setting-up \"_mask-t0\" in \"/tmp/tmpj6qg0ina/msktSNR/_TR_1920_sub_03/mask-t/mapflow/_mask-t0\".\n",
      "210704-08:54:29,985 nipype.workflow INFO:\n",
      "\t [Node] Running \"_mask-t0\" (\"nipype.interfaces.fsl.maths.BinaryMaths\"), a CommandLine Interface with command:\n",
      "fslmaths /scratch/qbi/uqkgarn1/STRIWP1/derivatives/tSNR/sub-03/TR1920/SNR/_do-tsnr0/tsnr.nii.gz -nan -mul /scratch/qbi/uqkgarn1/STRIWP1/derivatives/tSNR/sub-03/TR1920/MASKS/rCN_trans.nii.gz rCN_tsnr_ses-02.nii.gz\n",
      "210704-08:54:30,217 nipype.workflow INFO:\n",
      "\t [Node] Finished \"_mask-t0\".\n",
      "210704-08:54:30,219 nipype.workflow INFO:\n",
      "\t [Node] Setting-up \"_mask-t1\" in \"/tmp/tmpj6qg0ina/msktSNR/_TR_1920_sub_03/mask-t/mapflow/_mask-t1\".\n",
      "210704-08:54:30,224 nipype.workflow INFO:\n",
      "\t [Node] Running \"_mask-t1\" (\"nipype.interfaces.fsl.maths.BinaryMaths\"), a CommandLine Interface with command:\n",
      "fslmaths /scratch/qbi/uqkgarn1/STRIWP1/derivatives/tSNR/sub-03/TR1920/SNR/_do-tsnr1/tsnr.nii.gz -nan -mul /scratch/qbi/uqkgarn1/STRIWP1/derivatives/tSNR/sub-03/TR1920/MASKS/rCN_trans.nii.gz rCN_tsnr_ses-03.nii.gz\n",
      "210704-08:54:30,471 nipype.workflow INFO:\n",
      "\t [Node] Finished \"_mask-t1\".\n",
      "210704-08:54:30,474 nipype.workflow INFO:\n",
      "\t [Node] Setting-up \"_mask-t2\" in \"/tmp/tmpj6qg0ina/msktSNR/_TR_1920_sub_03/mask-t/mapflow/_mask-t2\".\n",
      "210704-08:54:30,478 nipype.workflow INFO:\n",
      "\t [Node] Running \"_mask-t2\" (\"nipype.interfaces.fsl.maths.BinaryMaths\"), a CommandLine Interface with command:\n",
      "fslmaths /scratch/qbi/uqkgarn1/STRIWP1/derivatives/tSNR/sub-03/TR1920/SNR/_do-tsnr0/tsnr.nii.gz -nan -mul /scratch/qbi/uqkgarn1/STRIWP1/derivatives/tSNR/sub-03/TR1920/MASKS/rFEF_trans.nii.gz rFEF_tsnr_ses-02.nii.gz\n",
      "210704-08:54:30,683 nipype.workflow INFO:\n",
      "\t [Node] Finished \"_mask-t2\".\n",
      "210704-08:54:30,686 nipype.workflow INFO:\n",
      "\t [Node] Setting-up \"_mask-t3\" in \"/tmp/tmpj6qg0ina/msktSNR/_TR_1920_sub_03/mask-t/mapflow/_mask-t3\".\n",
      "210704-08:54:30,691 nipype.workflow INFO:\n",
      "\t [Node] Running \"_mask-t3\" (\"nipype.interfaces.fsl.maths.BinaryMaths\"), a CommandLine Interface with command:\n",
      "fslmaths /scratch/qbi/uqkgarn1/STRIWP1/derivatives/tSNR/sub-03/TR1920/SNR/_do-tsnr1/tsnr.nii.gz -nan -mul /scratch/qbi/uqkgarn1/STRIWP1/derivatives/tSNR/sub-03/TR1920/MASKS/rFEF_trans.nii.gz rFEF_tsnr_ses-03.nii.gz\n",
      "210704-08:54:30,890 nipype.workflow INFO:\n",
      "\t [Node] Finished \"_mask-t3\".\n",
      "210704-08:54:30,892 nipype.workflow INFO:\n",
      "\t [Node] Setting-up \"_mask-t4\" in \"/tmp/tmpj6qg0ina/msktSNR/_TR_1920_sub_03/mask-t/mapflow/_mask-t4\".\n",
      "210704-08:54:30,897 nipype.workflow INFO:\n",
      "\t [Node] Running \"_mask-t4\" (\"nipype.interfaces.fsl.maths.BinaryMaths\"), a CommandLine Interface with command:\n",
      "fslmaths /scratch/qbi/uqkgarn1/STRIWP1/derivatives/tSNR/sub-03/TR1920/SNR/_do-tsnr0/tsnr.nii.gz -nan -mul /scratch/qbi/uqkgarn1/STRIWP1/derivatives/tSNR/sub-03/TR1920/MASKS/rGPe_trans.nii.gz rGPe_tsnr_ses-02.nii.gz\n",
      "210704-08:54:31,132 nipype.workflow INFO:\n",
      "\t [Node] Finished \"_mask-t4\".\n",
      "210704-08:54:31,135 nipype.workflow INFO:\n",
      "\t [Node] Setting-up \"_mask-t5\" in \"/tmp/tmpj6qg0ina/msktSNR/_TR_1920_sub_03/mask-t/mapflow/_mask-t5\".\n",
      "210704-08:54:31,139 nipype.workflow INFO:\n",
      "\t [Node] Running \"_mask-t5\" (\"nipype.interfaces.fsl.maths.BinaryMaths\"), a CommandLine Interface with command:\n",
      "fslmaths /scratch/qbi/uqkgarn1/STRIWP1/derivatives/tSNR/sub-03/TR1920/SNR/_do-tsnr1/tsnr.nii.gz -nan -mul /scratch/qbi/uqkgarn1/STRIWP1/derivatives/tSNR/sub-03/TR1920/MASKS/rGPe_trans.nii.gz rGPe_tsnr_ses-03.nii.gz\n",
      "210704-08:54:31,364 nipype.workflow INFO:\n",
      "\t [Node] Finished \"_mask-t5\".\n",
      "210704-08:54:31,367 nipype.workflow INFO:\n",
      "\t [Node] Setting-up \"_mask-t6\" in \"/tmp/tmpj6qg0ina/msktSNR/_TR_1920_sub_03/mask-t/mapflow/_mask-t6\".\n",
      "210704-08:54:31,372 nipype.workflow INFO:\n",
      "\t [Node] Running \"_mask-t6\" (\"nipype.interfaces.fsl.maths.BinaryMaths\"), a CommandLine Interface with command:\n",
      "fslmaths /scratch/qbi/uqkgarn1/STRIWP1/derivatives/tSNR/sub-03/TR1920/SNR/_do-tsnr0/tsnr.nii.gz -nan -mul /scratch/qbi/uqkgarn1/STRIWP1/derivatives/tSNR/sub-03/TR1920/MASKS/rGPi_trans.nii.gz rGPi_tsnr_ses-02.nii.gz\n",
      "210704-08:54:31,572 nipype.workflow INFO:\n",
      "\t [Node] Finished \"_mask-t6\".\n",
      "210704-08:54:31,575 nipype.workflow INFO:\n",
      "\t [Node] Setting-up \"_mask-t7\" in \"/tmp/tmpj6qg0ina/msktSNR/_TR_1920_sub_03/mask-t/mapflow/_mask-t7\".\n",
      "210704-08:54:31,579 nipype.workflow INFO:\n",
      "\t [Node] Running \"_mask-t7\" (\"nipype.interfaces.fsl.maths.BinaryMaths\"), a CommandLine Interface with command:\n",
      "fslmaths /scratch/qbi/uqkgarn1/STRIWP1/derivatives/tSNR/sub-03/TR1920/SNR/_do-tsnr1/tsnr.nii.gz -nan -mul /scratch/qbi/uqkgarn1/STRIWP1/derivatives/tSNR/sub-03/TR1920/MASKS/rGPi_trans.nii.gz rGPi_tsnr_ses-03.nii.gz\n",
      "210704-08:54:31,783 nipype.workflow INFO:\n",
      "\t [Node] Finished \"_mask-t7\".\n",
      "210704-08:54:31,785 nipype.workflow INFO:\n",
      "\t [Node] Setting-up \"_mask-t8\" in \"/tmp/tmpj6qg0ina/msktSNR/_TR_1920_sub_03/mask-t/mapflow/_mask-t8\".\n",
      "210704-08:54:31,790 nipype.workflow INFO:\n",
      "\t [Node] Running \"_mask-t8\" (\"nipype.interfaces.fsl.maths.BinaryMaths\"), a CommandLine Interface with command:\n",
      "fslmaths /scratch/qbi/uqkgarn1/STRIWP1/derivatives/tSNR/sub-03/TR1920/SNR/_do-tsnr0/tsnr.nii.gz -nan -mul /scratch/qbi/uqkgarn1/STRIWP1/derivatives/tSNR/sub-03/TR1920/MASKS/rIPS_trans.nii.gz rIPS_tsnr_ses-02.nii.gz\n",
      "210704-08:54:32,23 nipype.workflow INFO:\n",
      "\t [Node] Finished \"_mask-t8\".\n",
      "210704-08:54:32,25 nipype.workflow INFO:\n",
      "\t [Node] Setting-up \"_mask-t9\" in \"/tmp/tmpj6qg0ina/msktSNR/_TR_1920_sub_03/mask-t/mapflow/_mask-t9\".\n",
      "210704-08:54:32,30 nipype.workflow INFO:\n",
      "\t [Node] Running \"_mask-t9\" (\"nipype.interfaces.fsl.maths.BinaryMaths\"), a CommandLine Interface with command:\n",
      "fslmaths /scratch/qbi/uqkgarn1/STRIWP1/derivatives/tSNR/sub-03/TR1920/SNR/_do-tsnr1/tsnr.nii.gz -nan -mul /scratch/qbi/uqkgarn1/STRIWP1/derivatives/tSNR/sub-03/TR1920/MASKS/rIPS_trans.nii.gz rIPS_tsnr_ses-03.nii.gz\n",
      "210704-08:54:32,255 nipype.workflow INFO:\n",
      "\t [Node] Finished \"_mask-t9\".\n",
      "210704-08:54:32,257 nipype.workflow INFO:\n",
      "\t [Node] Setting-up \"_mask-t10\" in \"/tmp/tmpj6qg0ina/msktSNR/_TR_1920_sub_03/mask-t/mapflow/_mask-t10\".\n",
      "210704-08:54:32,262 nipype.workflow INFO:\n",
      "\t [Node] Running \"_mask-t10\" (\"nipype.interfaces.fsl.maths.BinaryMaths\"), a CommandLine Interface with command:\n",
      "fslmaths /scratch/qbi/uqkgarn1/STRIWP1/derivatives/tSNR/sub-03/TR1920/SNR/_do-tsnr0/tsnr.nii.gz -nan -mul /scratch/qbi/uqkgarn1/STRIWP1/derivatives/tSNR/sub-03/TR1920/MASKS/rLOC_trans.nii.gz rLOC_tsnr_ses-02.nii.gz\n",
      "210704-08:54:32,469 nipype.workflow INFO:\n",
      "\t [Node] Finished \"_mask-t10\".\n",
      "210704-08:54:32,471 nipype.workflow INFO:\n",
      "\t [Node] Setting-up \"_mask-t11\" in \"/tmp/tmpj6qg0ina/msktSNR/_TR_1920_sub_03/mask-t/mapflow/_mask-t11\".\n",
      "210704-08:54:32,476 nipype.workflow INFO:\n",
      "\t [Node] Running \"_mask-t11\" (\"nipype.interfaces.fsl.maths.BinaryMaths\"), a CommandLine Interface with command:\n",
      "fslmaths /scratch/qbi/uqkgarn1/STRIWP1/derivatives/tSNR/sub-03/TR1920/SNR/_do-tsnr1/tsnr.nii.gz -nan -mul /scratch/qbi/uqkgarn1/STRIWP1/derivatives/tSNR/sub-03/TR1920/MASKS/rLOC_trans.nii.gz rLOC_tsnr_ses-03.nii.gz\n",
      "210704-08:54:32,694 nipype.workflow INFO:\n",
      "\t [Node] Finished \"_mask-t11\".\n",
      "210704-08:54:32,696 nipype.workflow INFO:\n",
      "\t [Node] Setting-up \"_mask-t12\" in \"/tmp/tmpj6qg0ina/msktSNR/_TR_1920_sub_03/mask-t/mapflow/_mask-t12\".\n",
      "210704-08:54:32,701 nipype.workflow INFO:\n",
      "\t [Node] Running \"_mask-t12\" (\"nipype.interfaces.fsl.maths.BinaryMaths\"), a CommandLine Interface with command:\n",
      "fslmaths /scratch/qbi/uqkgarn1/STRIWP1/derivatives/tSNR/sub-03/TR1920/SNR/_do-tsnr0/tsnr.nii.gz -nan -mul /scratch/qbi/uqkgarn1/STRIWP1/derivatives/tSNR/sub-03/TR1920/MASKS/rPut_trans.nii.gz rPut_tsnr_ses-02.nii.gz\n",
      "210704-08:54:32,939 nipype.workflow INFO:\n",
      "\t [Node] Finished \"_mask-t12\".\n"
     ]
    },
    {
     "name": "stdout",
     "output_type": "stream",
     "text": [
      "210704-08:54:32,942 nipype.workflow INFO:\n",
      "\t [Node] Setting-up \"_mask-t13\" in \"/tmp/tmpj6qg0ina/msktSNR/_TR_1920_sub_03/mask-t/mapflow/_mask-t13\".\n",
      "210704-08:54:32,946 nipype.workflow INFO:\n",
      "\t [Node] Running \"_mask-t13\" (\"nipype.interfaces.fsl.maths.BinaryMaths\"), a CommandLine Interface with command:\n",
      "fslmaths /scratch/qbi/uqkgarn1/STRIWP1/derivatives/tSNR/sub-03/TR1920/SNR/_do-tsnr1/tsnr.nii.gz -nan -mul /scratch/qbi/uqkgarn1/STRIWP1/derivatives/tSNR/sub-03/TR1920/MASKS/rPut_trans.nii.gz rPut_tsnr_ses-03.nii.gz\n",
      "210704-08:54:33,155 nipype.workflow INFO:\n",
      "\t [Node] Finished \"_mask-t13\".\n",
      "210704-08:54:33,158 nipype.workflow INFO:\n",
      "\t [Node] Setting-up \"_mask-t14\" in \"/tmp/tmpj6qg0ina/msktSNR/_TR_1920_sub_03/mask-t/mapflow/_mask-t14\".\n",
      "210704-08:54:33,163 nipype.workflow INFO:\n",
      "\t [Node] Running \"_mask-t14\" (\"nipype.interfaces.fsl.maths.BinaryMaths\"), a CommandLine Interface with command:\n",
      "fslmaths /scratch/qbi/uqkgarn1/STRIWP1/derivatives/tSNR/sub-03/TR1920/SNR/_do-tsnr0/tsnr.nii.gz -nan -mul /scratch/qbi/uqkgarn1/STRIWP1/derivatives/tSNR/sub-03/TR1920/MASKS/rSTN_trans.nii.gz rSTN_tsnr_ses-02.nii.gz\n",
      "210704-08:54:33,364 nipype.workflow INFO:\n",
      "\t [Node] Finished \"_mask-t14\".\n",
      "210704-08:54:33,366 nipype.workflow INFO:\n",
      "\t [Node] Setting-up \"_mask-t15\" in \"/tmp/tmpj6qg0ina/msktSNR/_TR_1920_sub_03/mask-t/mapflow/_mask-t15\".\n",
      "210704-08:54:33,371 nipype.workflow INFO:\n",
      "\t [Node] Running \"_mask-t15\" (\"nipype.interfaces.fsl.maths.BinaryMaths\"), a CommandLine Interface with command:\n",
      "fslmaths /scratch/qbi/uqkgarn1/STRIWP1/derivatives/tSNR/sub-03/TR1920/SNR/_do-tsnr1/tsnr.nii.gz -nan -mul /scratch/qbi/uqkgarn1/STRIWP1/derivatives/tSNR/sub-03/TR1920/MASKS/rSTN_trans.nii.gz rSTN_tsnr_ses-03.nii.gz\n",
      "210704-08:54:33,572 nipype.workflow INFO:\n",
      "\t [Node] Finished \"_mask-t15\".\n",
      "210704-08:54:33,574 nipype.workflow INFO:\n",
      "\t [Node] Setting-up \"_mask-t16\" in \"/tmp/tmpj6qg0ina/msktSNR/_TR_1920_sub_03/mask-t/mapflow/_mask-t16\".\n",
      "210704-08:54:33,579 nipype.workflow INFO:\n",
      "\t [Node] Running \"_mask-t16\" (\"nipype.interfaces.fsl.maths.BinaryMaths\"), a CommandLine Interface with command:\n",
      "fslmaths /scratch/qbi/uqkgarn1/STRIWP1/derivatives/tSNR/sub-03/TR1920/SNR/_do-tsnr0/tsnr.nii.gz -nan -mul /scratch/qbi/uqkgarn1/STRIWP1/derivatives/tSNR/sub-03/TR1920/MASKS/rVS_trans.nii.gz rVS_tsnr_ses-02.nii.gz\n",
      "210704-08:54:33,780 nipype.workflow INFO:\n",
      "\t [Node] Finished \"_mask-t16\".\n",
      "210704-08:54:33,782 nipype.workflow INFO:\n",
      "\t [Node] Setting-up \"_mask-t17\" in \"/tmp/tmpj6qg0ina/msktSNR/_TR_1920_sub_03/mask-t/mapflow/_mask-t17\".\n",
      "210704-08:54:33,787 nipype.workflow INFO:\n",
      "\t [Node] Running \"_mask-t17\" (\"nipype.interfaces.fsl.maths.BinaryMaths\"), a CommandLine Interface with command:\n",
      "fslmaths /scratch/qbi/uqkgarn1/STRIWP1/derivatives/tSNR/sub-03/TR1920/SNR/_do-tsnr1/tsnr.nii.gz -nan -mul /scratch/qbi/uqkgarn1/STRIWP1/derivatives/tSNR/sub-03/TR1920/MASKS/rVS_trans.nii.gz rVS_tsnr_ses-03.nii.gz\n",
      "210704-08:54:34,0 nipype.workflow INFO:\n",
      "\t [Node] Finished \"_mask-t17\".\n",
      "210704-08:54:34,13 nipype.workflow INFO:\n",
      "\t [Node] Finished \"msktSNR.mask-t\".\n",
      "210704-08:54:34,14 nipype.workflow INFO:\n",
      "\t [Node] Setting-up \"msktSNR.sink-stuff\" in \"/tmp/tmpmuge6759/msktSNR/_TR_1920_sub_03/sink-stuff\".\n",
      "210704-08:54:34,23 nipype.workflow INFO:\n",
      "\t [Node] Running \"sink-stuff\" (\"nipype.interfaces.io.DataSink\")\n",
      "210704-08:54:34,25 nipype.interface INFO:\n",
      "\t sub: /scratch/qbi/uqkgarn1/STRIWP1/derivatives/tSNR/sub-03/TR1920/MSKD/_TR_1920_sub_03/_mask-t0/rCN_tsnr_ses-02.nii.gz -> /scratch/qbi/uqkgarn1/STRIWP1/derivatives/tSNR/sub-03/TR1920/MSKD///rCN_tsnr_ses-02.nii.gz\n",
      "210704-08:54:34,27 nipype.interface INFO:\n",
      "\t sub: /scratch/qbi/uqkgarn1/STRIWP1/derivatives/tSNR/sub-03/TR1920/MSKD/_TR_1920_sub_03/_mask-t1/rCN_tsnr_ses-03.nii.gz -> /scratch/qbi/uqkgarn1/STRIWP1/derivatives/tSNR/sub-03/TR1920/MSKD///rCN_tsnr_ses-03.nii.gz\n",
      "210704-08:54:34,29 nipype.interface INFO:\n",
      "\t sub: /scratch/qbi/uqkgarn1/STRIWP1/derivatives/tSNR/sub-03/TR1920/MSKD/_TR_1920_sub_03/_mask-t2/rFEF_tsnr_ses-02.nii.gz -> /scratch/qbi/uqkgarn1/STRIWP1/derivatives/tSNR/sub-03/TR1920/MSKD///rFEF_tsnr_ses-02.nii.gz\n",
      "210704-08:54:34,31 nipype.interface INFO:\n",
      "\t sub: /scratch/qbi/uqkgarn1/STRIWP1/derivatives/tSNR/sub-03/TR1920/MSKD/_TR_1920_sub_03/_mask-t3/rFEF_tsnr_ses-03.nii.gz -> /scratch/qbi/uqkgarn1/STRIWP1/derivatives/tSNR/sub-03/TR1920/MSKD///rFEF_tsnr_ses-03.nii.gz\n",
      "210704-08:54:34,33 nipype.interface INFO:\n",
      "\t sub: /scratch/qbi/uqkgarn1/STRIWP1/derivatives/tSNR/sub-03/TR1920/MSKD/_TR_1920_sub_03/_mask-t4/rGPe_tsnr_ses-02.nii.gz -> /scratch/qbi/uqkgarn1/STRIWP1/derivatives/tSNR/sub-03/TR1920/MSKD///rGPe_tsnr_ses-02.nii.gz\n",
      "210704-08:54:34,35 nipype.interface INFO:\n",
      "\t sub: /scratch/qbi/uqkgarn1/STRIWP1/derivatives/tSNR/sub-03/TR1920/MSKD/_TR_1920_sub_03/_mask-t5/rGPe_tsnr_ses-03.nii.gz -> /scratch/qbi/uqkgarn1/STRIWP1/derivatives/tSNR/sub-03/TR1920/MSKD///rGPe_tsnr_ses-03.nii.gz\n",
      "210704-08:54:34,36 nipype.interface INFO:\n",
      "\t sub: /scratch/qbi/uqkgarn1/STRIWP1/derivatives/tSNR/sub-03/TR1920/MSKD/_TR_1920_sub_03/_mask-t6/rGPi_tsnr_ses-02.nii.gz -> /scratch/qbi/uqkgarn1/STRIWP1/derivatives/tSNR/sub-03/TR1920/MSKD///rGPi_tsnr_ses-02.nii.gz\n",
      "210704-08:54:34,38 nipype.interface INFO:\n",
      "\t sub: /scratch/qbi/uqkgarn1/STRIWP1/derivatives/tSNR/sub-03/TR1920/MSKD/_TR_1920_sub_03/_mask-t7/rGPi_tsnr_ses-03.nii.gz -> /scratch/qbi/uqkgarn1/STRIWP1/derivatives/tSNR/sub-03/TR1920/MSKD///rGPi_tsnr_ses-03.nii.gz\n",
      "210704-08:54:34,40 nipype.interface INFO:\n",
      "\t sub: /scratch/qbi/uqkgarn1/STRIWP1/derivatives/tSNR/sub-03/TR1920/MSKD/_TR_1920_sub_03/_mask-t8/rIPS_tsnr_ses-02.nii.gz -> /scratch/qbi/uqkgarn1/STRIWP1/derivatives/tSNR/sub-03/TR1920/MSKD///rIPS_tsnr_ses-02.nii.gz\n",
      "210704-08:54:34,42 nipype.interface INFO:\n",
      "\t sub: /scratch/qbi/uqkgarn1/STRIWP1/derivatives/tSNR/sub-03/TR1920/MSKD/_TR_1920_sub_03/_mask-t9/rIPS_tsnr_ses-03.nii.gz -> /scratch/qbi/uqkgarn1/STRIWP1/derivatives/tSNR/sub-03/TR1920/MSKD///rIPS_tsnr_ses-03.nii.gz\n",
      "210704-08:54:34,43 nipype.interface INFO:\n",
      "\t sub: /scratch/qbi/uqkgarn1/STRIWP1/derivatives/tSNR/sub-03/TR1920/MSKD/_TR_1920_sub_03/_mask-t10/rLOC_tsnr_ses-02.nii.gz -> /scratch/qbi/uqkgarn1/STRIWP1/derivatives/tSNR/sub-03/TR1920/MSKD///rLOC_tsnr_ses-02.nii.gz\n",
      "210704-08:54:34,45 nipype.interface INFO:\n",
      "\t sub: /scratch/qbi/uqkgarn1/STRIWP1/derivatives/tSNR/sub-03/TR1920/MSKD/_TR_1920_sub_03/_mask-t11/rLOC_tsnr_ses-03.nii.gz -> /scratch/qbi/uqkgarn1/STRIWP1/derivatives/tSNR/sub-03/TR1920/MSKD///rLOC_tsnr_ses-03.nii.gz\n",
      "210704-08:54:34,47 nipype.interface INFO:\n",
      "\t sub: /scratch/qbi/uqkgarn1/STRIWP1/derivatives/tSNR/sub-03/TR1920/MSKD/_TR_1920_sub_03/_mask-t12/rPut_tsnr_ses-02.nii.gz -> /scratch/qbi/uqkgarn1/STRIWP1/derivatives/tSNR/sub-03/TR1920/MSKD///rPut_tsnr_ses-02.nii.gz\n",
      "210704-08:54:34,48 nipype.interface INFO:\n",
      "\t sub: /scratch/qbi/uqkgarn1/STRIWP1/derivatives/tSNR/sub-03/TR1920/MSKD/_TR_1920_sub_03/_mask-t13/rPut_tsnr_ses-03.nii.gz -> /scratch/qbi/uqkgarn1/STRIWP1/derivatives/tSNR/sub-03/TR1920/MSKD///rPut_tsnr_ses-03.nii.gz\n",
      "210704-08:54:34,50 nipype.interface INFO:\n",
      "\t sub: /scratch/qbi/uqkgarn1/STRIWP1/derivatives/tSNR/sub-03/TR1920/MSKD/_TR_1920_sub_03/_mask-t14/rSTN_tsnr_ses-02.nii.gz -> /scratch/qbi/uqkgarn1/STRIWP1/derivatives/tSNR/sub-03/TR1920/MSKD///rSTN_tsnr_ses-02.nii.gz\n",
      "210704-08:54:34,52 nipype.interface INFO:\n",
      "\t sub: /scratch/qbi/uqkgarn1/STRIWP1/derivatives/tSNR/sub-03/TR1920/MSKD/_TR_1920_sub_03/_mask-t15/rSTN_tsnr_ses-03.nii.gz -> /scratch/qbi/uqkgarn1/STRIWP1/derivatives/tSNR/sub-03/TR1920/MSKD///rSTN_tsnr_ses-03.nii.gz\n",
      "210704-08:54:34,54 nipype.interface INFO:\n",
      "\t sub: /scratch/qbi/uqkgarn1/STRIWP1/derivatives/tSNR/sub-03/TR1920/MSKD/_TR_1920_sub_03/_mask-t16/rVS_tsnr_ses-02.nii.gz -> /scratch/qbi/uqkgarn1/STRIWP1/derivatives/tSNR/sub-03/TR1920/MSKD///rVS_tsnr_ses-02.nii.gz\n",
      "210704-08:54:34,56 nipype.interface INFO:\n",
      "\t sub: /scratch/qbi/uqkgarn1/STRIWP1/derivatives/tSNR/sub-03/TR1920/MSKD/_TR_1920_sub_03/_mask-t17/rVS_tsnr_ses-03.nii.gz -> /scratch/qbi/uqkgarn1/STRIWP1/derivatives/tSNR/sub-03/TR1920/MSKD///rVS_tsnr_ses-03.nii.gz\n",
      "210704-08:54:34,61 nipype.workflow INFO:\n",
      "\t [Node] Finished \"msktSNR.sink-stuff\".\n"
     ]
    }
   ],
   "source": [
    "thrsh.connect([(datinf, dg, [('sub', 'sub')]),\n",
    "               (datinf, dg, [('TR', 'TR')]),\n",
    "               (dg, ds, [(('msks', printSubPath), 'container')]),\n",
    "               (dg, maskt, [(('ts', tcat), 'in_file')]), \n",
    "               (dg, maskt, [(('msks', maskcat), 'operand_file')]),\n",
    "               (maskt, ds, [('out_file', 'MSKD')])\n",
    "])\n",
    "res = thrsh.run()"
   ]
  },
  {
   "cell_type": "code",
   "execution_count": null,
   "metadata": {},
   "outputs": [],
   "source": []
  },
  {
   "cell_type": "code",
   "execution_count": null,
   "metadata": {},
   "outputs": [],
   "source": []
  }
 ],
 "metadata": {
  "kernelspec": {
   "display_name": "Python 3",
   "language": "python",
   "name": "python3"
  },
  "language_info": {
   "codemirror_mode": {
    "name": "ipython",
    "version": 3
   },
   "file_extension": ".py",
   "mimetype": "text/x-python",
   "name": "python",
   "nbconvert_exporter": "python",
   "pygments_lexer": "ipython3",
   "version": "3.6.10"
  }
 },
 "nbformat": 4,
 "nbformat_minor": 4
}
