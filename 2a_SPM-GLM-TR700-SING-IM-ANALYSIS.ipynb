{
 "cells": [
  {
   "cell_type": "markdown",
   "metadata": {},
   "source": [
    "# Run SPM GLM to get condition beta weights and residual files"
   ]
  },
  {
   "cell_type": "markdown",
   "metadata": {},
   "source": [
    "Loop over subject and TR, thereby concatenating across session"
   ]
  },
  {
   "cell_type": "code",
   "execution_count": 1,
   "metadata": {},
   "outputs": [
    {
     "name": "stdout",
     "output_type": "stream",
     "text": [
      "210503-15:07:50,982 nipype.utils WARNING:\n",
      "\t A newer version (1.5.1) of nipy/nipype is available. You are using 1.5.0\n"
     ]
    }
   ],
   "source": [
    "from bids.layout import BIDSLayout\n",
    "from nipype.interfaces import afni \n",
    "from nipype.interfaces.io import BIDSDataGrabber, DataFinder, DataSink, DataGrabber\n",
    "import nipype.pipeline as pe\n",
    "import nipype as ni\n",
    "from nipype.interfaces.utility import Function\n",
    "import nipype.interfaces.fsl.maths as fsl\n",
    "from nipype.interfaces import spm as spm\n",
    "from nipype.algorithms import modelgen as mgen\n",
    "from nipype.algorithms.misc import Gunzip \n",
    "import pandas as pd\n",
    "import os, re, json\n",
    "# https://nipype.readthedocs.io/en/0.11.0/users/spmmcr.html\n",
    "\n",
    "matlab_cmd = '/opt/spm12-r7219/run_spm12.sh /opt/matlabmcr-2010a/v713/ script'\n",
    "spm.SPMCommand.set_mlab_paths(matlab_cmd=matlab_cmd, use_mcr=True)"
   ]
  },
  {
   "cell_type": "code",
   "execution_count": 2,
   "metadata": {},
   "outputs": [
    {
     "name": "stderr",
     "output_type": "stream",
     "text": [
      "/opt/miniconda-latest/envs/neuro/lib/python3.6/site-packages/bids/layout/models.py:102: FutureWarning: The 'extension' entity currently excludes the leading dot ('.'). As of version 0.14.0, it will include the leading dot. To suppress this warning and include the leading dot, use `bids.config.set_option('extension_initial_dot', True)`.\n",
      "  FutureWarning)\n"
     ]
    }
   ],
   "source": [
    "Basedir = \"/scratch/qbi/uqkgarn1/STRIWP1/\"\n",
    "layout = BIDSLayout(Basedir)\n",
    "subs = layout.get_subjects()\n",
    "\n",
    "glm = pe.Workflow(name=\"glms\") # workflow to run the analysis"
   ]
  },
  {
   "cell_type": "markdown",
   "metadata": {},
   "source": [
    "## Data grabbing and saving nodes"
   ]
  },
  {
   "cell_type": "markdown",
   "metadata": {},
   "source": [
    "Note: I copied the motion files from the derivatives/etc path to derivatives/glm/sub-etc and I removed the T2 echo-1 and echo-2 .nii.gz data from the func folder below. I also removed the echo 2 motion files from the same folder, and the bjson files (renaming echo 1 of the 700 TR to fit the below field template"
   ]
  },
  {
   "cell_type": "code",
   "execution_count": 3,
   "metadata": {},
   "outputs": [],
   "source": [
    "# THIS CODE DEFINITELY WORKS\n",
    "dgT2s = pe.Node(DataGrabber(infields=['sub', 'TR'], \n",
    "                            outfields=['func','motion','onsets','bjson','mask']), name='T2-grabber')\n",
    "dgT2s.inputs.base_dir = \"/scratch/qbi/uqkgarn1/STRIWP1/\"\n",
    "dgT2s.inputs.sort_filelist = True\n",
    "dgT2s.inputs.template='*'\n",
    "dgT2s.inputs.template_args = {'func': [['sub', 'sub', 'TR']],\n",
    "                              'motion':[['sub', 'sub', 'TR']],\n",
    "                              'onsets':[['sub', 'sub', 'TR']],\n",
    "                              'bjson':[['sub', 'sub', 'TR']],\n",
    "                              'mask':[['sub', 'sub', 'TR']]}\n",
    "dgT2s.inputs.field_template = {'func': '/scratch/qbi/uqkgarn1/STRIWP1/derivatives/sub-%s/ses-*/func/sub-%s_*TR%s_echo-2_space-T1w_desc-preproc_bold.nii.gz',\n",
    "                               'motion': '/scratch/qbi/uqkgarn1/STRIWP1/derivatives/glm/sub-%s/ses-*/func/sub-%s_*-TR%s_echo-1_*desc-motion_regressors.txt',\n",
    "                               'onsets': '/scratch/qbi/uqkgarn1/STRIWP1/derivatives/sub-%s/ses-*/func/sub-%s_*-TR%s_glm_onsets.json',\n",
    "                               'bjson': '/scratch/qbi/uqkgarn1/STRIWP1/derivatives/sub-%s/ses-*/func/sub-%s_*-TR%s_echo-1_*space-T1w_desc-preproc_bold.json',\n",
    "                               'mask': '/scratch/qbi/uqkgarn1/STRIWP1/derivatives/sub-%s/ses-02/func/sub-%s_*TR%s_space-T1w_desc-brain_mask.nii.gz'}\n"
   ]
  },
  {
   "cell_type": "code",
   "execution_count": 4,
   "metadata": {},
   "outputs": [
    {
     "name": "stdout",
     "output_type": "stream",
     "text": [
      "210503-15:08:02,795 nipype.workflow INFO:\n",
      "\t [Node] Setting-up \"T2-grabber\" in \"/tmp/tmpgtwdbw3v/T2-grabber\".\n",
      "210503-15:08:02,801 nipype.workflow INFO:\n",
      "\t [Node] Running \"T2-grabber\" (\"nipype.interfaces.io.DataGrabber\")\n",
      "210503-15:08:02,811 nipype.workflow INFO:\n",
      "\t [Node] Finished \"T2-grabber\".\n"
     ]
    },
    {
     "data": {
      "text/plain": [
       "\n",
       "bjson = ['/scratch/qbi/uqkgarn1/STRIWP1/derivatives/sub-05/ses-02/func/sub-05_ses-02_task-learnAtt_acq-TR700_echo-1_space-T1w_desc-preproc_bold.json', '/scratch/qbi/uqkgarn1/STRIWP1/derivatives/sub-05/ses-03/func/sub-05_ses-03_task-learnAtt_acq-TR700_echo-1_space-T1w_desc-preproc_bold.json', '/scratch/qbi/uqkgarn1/STRIWP1/derivatives/sub-05/ses-04/func/sub-05_ses-04_task-learnAtt_acq-TR700_echo-1_space-T1w_desc-preproc_bold.json']\n",
       "func = ['/scratch/qbi/uqkgarn1/STRIWP1/derivatives/sub-05/ses-02/func/sub-05_ses-02_task-learnAtt_acq-TR700_echo-2_space-T1w_desc-preproc_bold.nii.gz', '/scratch/qbi/uqkgarn1/STRIWP1/derivatives/sub-05/ses-03/func/sub-05_ses-03_task-learnAtt_acq-TR700_echo-2_space-T1w_desc-preproc_bold.nii.gz', '/scratch/qbi/uqkgarn1/STRIWP1/derivatives/sub-05/ses-04/func/sub-05_ses-04_task-learnAtt_acq-TR700_echo-2_space-T1w_desc-preproc_bold.nii.gz']\n",
       "mask = /scratch/qbi/uqkgarn1/STRIWP1/derivatives/sub-05/ses-02/func/sub-05_ses-02_task-learnAtt_acq-TR700_space-T1w_desc-brain_mask.nii.gz\n",
       "motion = ['/scratch/qbi/uqkgarn1/STRIWP1/derivatives/glm/sub-05/ses-02/func/sub-05_ses-02_task-learnAtt_acq-TR700_echo-1_desc-motion_regressors.txt', '/scratch/qbi/uqkgarn1/STRIWP1/derivatives/glm/sub-05/ses-03/func/sub-05_ses-03_task-learnAtt_acq-TR700_echo-1_desc-motion_regressors.txt', '/scratch/qbi/uqkgarn1/STRIWP1/derivatives/glm/sub-05/ses-04/func/sub-05_ses-04_task-learnAtt_acq-TR700_echo-1_desc-motion_regressors.txt']\n",
       "onsets = ['/scratch/qbi/uqkgarn1/STRIWP1/derivatives/sub-05/ses-02/func/sub-05_ses-02_task-learnAtt_acq-TR700_glm_onsets.json', '/scratch/qbi/uqkgarn1/STRIWP1/derivatives/sub-05/ses-03/func/sub-05_ses-03_task-learnAtt_acq-TR700_glm_onsets.json', '/scratch/qbi/uqkgarn1/STRIWP1/derivatives/sub-05/ses-04/func/sub-05_ses-04_task-learnAtt_acq-TR700_glm_onsets.json']"
      ]
     },
     "execution_count": 4,
     "metadata": {},
     "output_type": "execute_result"
    }
   ],
   "source": [
    "# # # debugging\n",
    "dgT2s.inputs.sub = '05'\n",
    "dgT2s.inputs.TR = '700'\n",
    "res = dgT2s.run()\n",
    "res.outputs"
   ]
  },
  {
   "cell_type": "code",
   "execution_count": 5,
   "metadata": {},
   "outputs": [
    {
     "data": {
      "text/plain": [
       "[('sub', ['05']), ('TR', ['700'])]"
      ]
     },
     "execution_count": 5,
     "metadata": {},
     "output_type": "execute_result"
    }
   ],
   "source": [
    "# THIS WORKS\n",
    "T2inf = pe.Node(ni.IdentityInterface(fields=['sub', 'TR', 'sess']),\n",
    "                   name='T2-info')\n",
    "#T2inf.iterables = [('sub', ['01', '02', '03', '04', '05']), ('TR', ['700'])]\n",
    "\n",
    "T2inf.iterables = [('sub', ['05']), ('TR', ['700'])]\n",
    "T2inf.iterables "
   ]
  },
  {
   "cell_type": "code",
   "execution_count": 6,
   "metadata": {},
   "outputs": [],
   "source": [
    "def printSubPath(fullFilePath):\n",
    "    ###### NOTE: THE ECHO MUST BE CHANGED BEFORE RUNNING!\n",
    "    # function to split filepath into constituent parts, then print string to add as input to DataSink for the container string\n",
    "    # given the full filepath, this extracts the subject folder and TR strings for input\n",
    "    # into DataSink\n",
    "    import os\n",
    "    import re\n",
    "    fname = os.path.normpath(fullFilePath[0])\n",
    "    fname\n",
    "    l = fname.split(os.sep)\n",
    "    TR = re.search('.*acq-TR([0-9]*)_.*',l[-1])\n",
    "    TR = str(int(TR.group(1)))\n",
    "    name = [s for s in l if re.search('sub', s)][0]\n",
    "    name = [name, \"TR\"+TR+\"ECHO2\"]\n",
    "    name\n",
    "    name = '/'.join(name)\n",
    "    return name"
   ]
  },
  {
   "cell_type": "markdown",
   "metadata": {},
   "source": [
    "# Data sink\n"
   ]
  },
  {
   "cell_type": "code",
   "execution_count": 7,
   "metadata": {},
   "outputs": [],
   "source": [
    "ds = pe.Node(DataSink(), name='sink-stuff')\n",
    "ds.inputs.base_directory = \"/scratch/qbi/uqkgarn1/STRIWP1/derivatives/glmTDFAST/\"\n",
    "# glm Time and Dispersion derivatives and FAST correction of serial correlations\n",
    "substitutions = [('_TR_([0-9]*)_sub_([0-9]*)', '')]\n",
    "ds.inputs.regexp_substitutions = substitutions"
   ]
  },
  {
   "cell_type": "markdown",
   "metadata": {},
   "source": [
    "# Get design info"
   ]
  },
  {
   "cell_type": "code",
   "execution_count": 8,
   "metadata": {},
   "outputs": [],
   "source": [
    "# the input function should be a list of the prt files, taken across sessions, for each TR\n",
    "def getOnsetsJson(input_files):\n",
    "    from nipype.interfaces.base import Bunch\n",
    "    import json\n",
    "    prt_output = [] #prt=protocol\n",
    "    count = 0\n",
    "    for f in input_files: \n",
    "        count = count + 1\n",
    "        with open(f, \"r+\") as file:\n",
    "            data = json.load(file)\n",
    "            prt_output.insert(count, \n",
    "                              Bunch(conditions=data['names'],\n",
    "                                    onsets=data['onsets'],\n",
    "                                    durations=data['durations']))\n",
    "    return prt_output"
   ]
  },
  {
   "cell_type": "code",
   "execution_count": 9,
   "metadata": {},
   "outputs": [],
   "source": [
    "getOnsets = pe.Node(Function(input_names=['input_files'],\n",
    "                             output_names=['prt_output'],\n",
    "                             function=getOnsetsJson),\n",
    "                    name='get_prt_onsets')"
   ]
  },
  {
   "cell_type": "markdown",
   "metadata": {},
   "source": [
    "# Gunzip Nodes\n",
    "\n",
    "1 for functional data, 1 for mask (condense during finesse)"
   ]
  },
  {
   "cell_type": "code",
   "execution_count": 10,
   "metadata": {},
   "outputs": [],
   "source": [
    "gunzipfunc = pe.MapNode(Gunzip(), name='gunzipfunc', iterfield=['in_file'])"
   ]
  },
  {
   "cell_type": "code",
   "execution_count": 11,
   "metadata": {},
   "outputs": [],
   "source": [
    "gmask = pe.Node(Gunzip(), name='m-zip')"
   ]
  },
  {
   "cell_type": "markdown",
   "metadata": {},
   "source": [
    "# Smooth the functional data"
   ]
  },
  {
   "cell_type": "code",
   "execution_count": 12,
   "metadata": {},
   "outputs": [],
   "source": [
    "# smooth = pe.Node(spm.Smooth(), name='smoooooth')\n",
    "# smooth.inputs.fwhm = [3, 3, 3]"
   ]
  },
  {
   "cell_type": "markdown",
   "metadata": {},
   "source": [
    "# Get the TR for the model spec"
   ]
  },
  {
   "cell_type": "code",
   "execution_count": 13,
   "metadata": {},
   "outputs": [],
   "source": [
    "# the input function should be a list of the prt files, taken across sessions, for each TR\n",
    "def getTRJson(input_files):\n",
    "    import json\n",
    "    with open(input_files[0], \"r+\") as file:\n",
    "            data = json.load(file)\n",
    "            TR = data['RepetitionTime'] \n",
    "    if TR < .5:\n",
    "        TR = 1.92\n",
    "    return TR"
   ]
  },
  {
   "cell_type": "code",
   "execution_count": 14,
   "metadata": {},
   "outputs": [],
   "source": [
    "getTR = pe.Node(Function(input_names=['input_files'],\n",
    "                         output_names=['TR'],\n",
    "                         function=getTRJson),\n",
    "                name='get_TR')"
   ]
  },
  {
   "cell_type": "code",
   "execution_count": 15,
   "metadata": {},
   "outputs": [],
   "source": [
    "def printSavFol(TR):\n",
    "    # function to append the TR to a name for the save folder\n",
    "    name = \"TR\" + TR\n",
    "    return name"
   ]
  },
  {
   "cell_type": "markdown",
   "metadata": {},
   "source": [
    "# Specify GLM Model"
   ]
  },
  {
   "cell_type": "code",
   "execution_count": 16,
   "metadata": {},
   "outputs": [],
   "source": [
    "# SpecifyModel - Generates SPM-specific Model\n",
    "modelspec = pe.Node(mgen.SpecifySPMModel(concatenate_runs=False,\n",
    "                                         input_units='secs',\n",
    "                                         output_units='secs',\n",
    "                                         high_pass_filter_cutoff=128),\n",
    "                    name=\"modelspec\")"
   ]
  },
  {
   "cell_type": "markdown",
   "metadata": {},
   "source": [
    "# Generate design matrix"
   ]
  },
  {
   "cell_type": "code",
   "execution_count": 17,
   "metadata": {},
   "outputs": [],
   "source": [
    "# Level1Design - Generates an SPM design matrix\n",
    "level1design = pe.Node(spm.Level1Design(bases={'hrf': {'derivs': [1, 1]}},\n",
    "                                 timing_units='secs',\n",
    "                                 model_serial_correlations='FAST'),\n",
    "                       name=\"level1design\")"
   ]
  },
  {
   "cell_type": "markdown",
   "metadata": {},
   "source": [
    "# Estimate model"
   ]
  },
  {
   "cell_type": "code",
   "execution_count": 18,
   "metadata": {},
   "outputs": [],
   "source": [
    "# EstimateModel - estimate the parameters of the model\n",
    "estimate = pe.Node(spm.EstimateModel(estimation_method={'Classical': 1},\n",
    "                                     write_residuals=False),\n",
    "                                     name=\"estimate\")\n",
    "\n",
    "# inputs\n",
    "# spm mat file\n",
    "# outputs\n",
    "# beta_images\n",
    "# residual_images\n",
    "# spm_mat_file\n",
    "\n",
    "# will input the spm.mat files output by the design module above\n",
    "\n",
    "# # EstimateContrast - estimates contrasts\n",
    "# level1conest = pe.Node(spm.EstimateContrast(), name=\"level1conest\")\n",
    "# level1conest.inputs.contrasts = contrast_list"
   ]
  },
  {
   "cell_type": "markdown",
   "metadata": {},
   "source": [
    "### esimating beta weights and some contrasts due to below from Puckett's paper:\n",
    "\n",
    "All functional time-courses were scaled to percent signal change (i.e.\n",
    "each voxel time series was scaled to have a mean of 100) before calculating a multiple linear regression. The regression model contained 2\n",
    "regressors corresponding to each experimental condition (simple and\n",
    "complex movement, Fig. 1C) generated by convolving the stimulus\n",
    "timing of each condition with a canonical hemodynamic response function model. A further 6 regressors, estimated from the volume registration step and representing the participant's head movement during the\n",
    "scan, were also included. From the calculated regression model, contrast to-noise ratio (CNR) was calculated on a voxel-wise basis for each condition by dividing each voxel's beta or linear contrast value from the\n",
    "general linear model analysis by the standard deviation of the residual\n",
    "error of the time-series for that voxel. Results from the single-subject\n",
    "regression analysis \n",
    "\n",
    "So I can just take each regressor and I will take the RMSE of the effect sizes (making negative positive) and divide that by the standard deviation of the residuals, within each region"
   ]
  },
  {
   "cell_type": "markdown",
   "metadata": {},
   "source": [
    "# Specify GLM contrasts (Canonical only)"
   ]
  },
  {
   "cell_type": "code",
   "execution_count": 19,
   "metadata": {},
   "outputs": [],
   "source": [
    "# names = ['att_left_5','att_left_8','att_right_5','att_right_8','ll','lh','hh','hl','exp_high','exp_low','unexp_high','unexp_low','right_hand','left_hand','invalid']\n",
    "# #len(names)\n",
    "# attend_lvr = ('att_lvr', 'T', names, [-1, -1, 1, 1, 0, 0, 0, 0, 0, 0, 0, 0, 0, 0, 0])\n",
    "# attend_p = ('att_p', 'T', names, [-1, 1, -1, 1, 0, 0, 0, 0, 0, 0, 0, 0, 0, 0, 0])\n",
    "# attend_interaction = ('att_int', 'T', names, [1, -1, -1, 1, 0, 0, 0, 0, 0, 0, 0, 0, 0, 0, 0])\n",
    "# attend_cue = ('att_cue', 'F', [attend_lvr, attend_p, attend_interaction])\n",
    "# # attend_cue = ('att_cue', 'F', names, [[-1, 1, 0, 0, 0, 0, 0, 0, 0, 0, 0, 0, 0, 0, 0],\n",
    "# #                                       [0, 0, -1, 1, 0, 0, 0, 0, 0, 0, 0, 0, 0, 0, 0],\n",
    "# #                                       [1, -1, -1, 1, 0, 0, 0, 0, 0, 0, 0, 0, 0, 0, 0]])\n",
    "\n",
    "# llvhh = ('llvhh', 'T', names, [0, 0, 0, 0, -1, 0, 1, 0, 0, 0, 0, 0, 0, 0, 0])\n",
    "# lhvhl = ('lhvhl', 'T', names, [0, 0, 0, 0, 0, -1, 0, 1, 0, 0, 0, 0, 0, 0, 0])\n",
    "# relval = ('relval', 'T', names, [0, 0, 0, 0, 1, -1, -1, 1, 0, 0, 0, 0, 0, 0, 0])\n",
    "# value_cue = ('value_cue', 'F', [llvhh, lhvhl, relval])\n",
    "# # value_cue = ('value_cue', 'F', names, [[0, 0, 0, 0, -1, 0, 1, 0, 0, 0, 0, 0, 0, 0, 0],\n",
    "# #                                        [0, 0, 0, 0, 0, -1, 0, 1, 0, 0, 0, 0, 0, 0, 0],\n",
    "# #                                        [0, 0, 0, 0, 1, -1, -1, 1, 0, 0, 0, 0, 0, 0, 0]])\n",
    "# hand = ('hand', 'T', names, [0, 0, 0, 0, 0, 0, 0, 0, 0, 0, 0, 0, -1, 1, 0])\n",
    "# contrasts = [attend_lvr, attend_p, attend_interaction, attend_cue, llvhh, lhvhl, relval, value_cue, hand]\n",
    "# #contrasts\n",
    "# hand"
   ]
  },
  {
   "cell_type": "markdown",
   "metadata": {},
   "source": [
    "# Specify GLM contrasts (when using Time and Dispersion Derivatives)"
   ]
  },
  {
   "cell_type": "code",
   "execution_count": 20,
   "metadata": {},
   "outputs": [],
   "source": [
    "# names = ['att_left_5','att_left_5T','att_left_5D','att_left_8','att_left_8T','att_left_8D',\n",
    "#          'att_right_5','att_right_5T','att_right_5D','att_right_8','att_right_8T','att_right_8D',\n",
    "#          'll','llT','llD',\n",
    "#          'lh','lhT','lhD',\n",
    "#          'hh','hhT','hhD',\n",
    "#          'hl','hlT','hlD',\n",
    "#          'exp_high','exp_highT','exp_highD',\n",
    "#          'exp_low','exp_lowT','exp_lowD',\n",
    "#          'unexp_high','unexp_highT','unexp_highD',\n",
    "#          'unexp_low','unexp_lowT','unexp_lowD',\n",
    "#          'right_hand','right_handT','right_handD',\n",
    "#          'left_hand','left_handT','left_handD',\n",
    "#          'invalid','invalidT','invalidD']\n",
    "\n",
    "\n",
    "def do_name_lookup(name, lookup):\n",
    "    if name in lookup.keys():\n",
    "        return lookup[name]\n",
    "    else:\n",
    "        return 0\n",
    "names = ['att_left_5','att_left_8','att_right_5','att_right_8','ll','lh','hh','hl','exp_high','exp_low','unexp_high','unexp_low','right_hand','left_hand','invalid']\n",
    "# Spatial cue related contrasts\n",
    "left_tgt = ('left_tgt', 'T', names, [do_name_lookup(name, {'att_left_5':0.5, 'att_left_8':0.5}) for name in names])\n",
    "right_tgt = ('right_tgt', 'T', names, [do_name_lookup(name, {'att_right_5':0.5, 'att_right_8':0.5}) for name in names])\n",
    "cue_p = ('cue_p', 'T', names, [do_name_lookup(name, {'att_right_8':0.5, 'att_left_8':0.5}) for name in names])\n",
    "cue_np = ('cue_np', 'T', names, [do_name_lookup(name, {'att_right_5':0.5, 'att_left_5':0.5}) for name in names])\n",
    "attend_lvr = ('att_lvr', 'T', names, [do_name_lookup(name, {'att_left_5':1, 'att_left_8':1, 'att_right_5':-1, 'att_right_8':-1}) for name in names])\n",
    "attend_p = ('att_p', 'T', names, [do_name_lookup(name, {'att_left_5':-1, 'att_left_8':1, 'att_right_5':-1, 'att_right_8':1}) for name in names])\n",
    "attend_interaction = ('att_int', 'T', names, [do_name_lookup(name, {'att_left_5':1, 'att_left_8':-1, 'att_right_5':-1, 'att_right_8':1}) for name in names])\n",
    "attend_cue = ('att_cue', 'F', [attend_lvr, attend_p, attend_interaction])                                             \n",
    "# # Value contrasts\n",
    "llvhh = ('llvhh', 'T', names, [do_name_lookup(name, {'ll':-1, 'hh':1}) for name in names])\n",
    "lhvhl = ('lhvhl', 'T', names, [do_name_lookup(name, {'lh':-1, 'hl':1}) for name in names])\n",
    "relval = ('relval', 'T', names, [do_name_lookup(name, {'ll':1, 'lh':-1, 'hh':-1, 'hl':1}) for name in names])\n",
    "value_cue = ('value_cue', 'F', [llvhh, lhvhl])\n",
    "# Motoric contrast\n",
    "rhand = ('rhand', 'T', names, [do_name_lookup(name, {'right_hand':1}) for name in names])\n",
    "lhand = ('lhand', 'T', names, [do_name_lookup(name, {'left_hand':1}) for name in names])\n",
    "hand = ('hand', 'T', names, [do_name_lookup(name, {'right_hand':-1, 'left_hand':1}) for name in names])\n",
    "contrasts = [left_tgt, right_tgt, cue_p, cue_np, attend_lvr, attend_p, attend_interaction, attend_cue, llvhh, lhvhl, relval, value_cue, rhand, lhand, hand]\n",
    "# contrasts = [attend_lvr, llvhh]"
   ]
  },
  {
   "cell_type": "code",
   "execution_count": 21,
   "metadata": {},
   "outputs": [
    {
     "data": {
      "text/plain": [
       "('left_tgt',\n",
       " 'T',\n",
       " ['att_left_5',\n",
       "  'att_left_8',\n",
       "  'att_right_5',\n",
       "  'att_right_8',\n",
       "  'll',\n",
       "  'lh',\n",
       "  'hh',\n",
       "  'hl',\n",
       "  'exp_high',\n",
       "  'exp_low',\n",
       "  'unexp_high',\n",
       "  'unexp_low',\n",
       "  'right_hand',\n",
       "  'left_hand',\n",
       "  'invalid'],\n",
       " [0.5, 0.5, 0, 0, 0, 0, 0, 0, 0, 0, 0, 0, 0, 0, 0])"
      ]
     },
     "execution_count": 21,
     "metadata": {},
     "output_type": "execute_result"
    }
   ],
   "source": [
    "left_tgt"
   ]
  },
  {
   "cell_type": "code",
   "execution_count": 22,
   "metadata": {},
   "outputs": [],
   "source": [
    "conts = pe.Node(spm.EstimateContrast(contrasts=contrasts),\n",
    "                                     name=\"conts\")"
   ]
  },
  {
   "cell_type": "markdown",
   "metadata": {},
   "source": [
    "# Connect Workflow"
   ]
  },
  {
   "cell_type": "code",
   "execution_count": 23,
   "metadata": {},
   "outputs": [],
   "source": [
    "glm.connect([(T2inf, dgT2s, [('sub',  'sub')]), \n",
    "             (T2inf, dgT2s, [('TR',   'TR')]),\n",
    "             (dgT2s, ds, [(('motion', printSubPath),\n",
    "                            'container')]),\n",
    "             (dgT2s, getOnsets, [('onsets', 'input_files')]),\n",
    "             (dgT2s, gunzipfunc, [('func', 'in_file')]),\n",
    "             (dgT2s, gmask, [('mask', 'in_file')]),\n",
    "             (dgT2s, getTR, [('bjson', 'input_files')]),\n",
    "             (getTR, modelspec, [('TR', 'time_repetition')]),\n",
    "             (dgT2s, modelspec, [('motion', 'realignment_parameters')]),\n",
    "             (getOnsets, modelspec, [('prt_output', 'subject_info')]),\n",
    "             (gunzipfunc, modelspec, [('out_file', 'functional_runs')]),\n",
    "             (getTR, level1design, [('TR', 'interscan_interval')]),\n",
    "             (modelspec, level1design, [('session_info', 'session_info')]),\n",
    "             (gmask, level1design, [('out_file', 'mask_image')]),\n",
    "             (level1design, estimate, [('spm_mat_file', 'spm_mat_file')]),\n",
    "             (estimate, ds, [('beta_images', 'FLGLM.@beta')]),\n",
    "             (estimate, ds, [('residual_image', 'FLGLM.@resid')]),\n",
    "             (estimate, conts, [('beta_images', 'beta_images')]),\n",
    "             (estimate, conts, [('residual_image', 'residual_image')]),\n",
    "             (estimate, conts, [('spm_mat_file','spm_mat_file')]),\n",
    "             (conts, ds, [('con_images', 'FLGLM.@con')]),\n",
    "             (conts, ds, [('spmT_images', 'FLGLM.@T')]),\n",
    "             (conts, ds, [('spm_mat_file', 'FLGLM.@spm')])\n",
    "            ])      "
   ]
  },
  {
   "cell_type": "code",
   "execution_count": 24,
   "metadata": {},
   "outputs": [
    {
     "name": "stdout",
     "output_type": "stream",
     "text": [
      "210503-15:08:02,990 nipype.workflow INFO:\n",
      "\t Workflow glms settings: ['check', 'execution', 'logging', 'monitoring']\n",
      "210503-15:08:03,13 nipype.workflow INFO:\n",
      "\t Running serially.\n",
      "210503-15:08:03,14 nipype.workflow INFO:\n",
      "\t [Node] Setting-up \"glms.T2-grabber\" in \"/tmp/tmpgtwdbw3v/T2-grabber\".\n",
      "210503-15:08:03,15 nipype.workflow INFO:\n",
      "\t [Node] Outdated cache found for \"glms.T2-grabber\".\n",
      "210503-15:08:03,21 nipype.workflow INFO:\n",
      "\t [Node] Running \"T2-grabber\" (\"nipype.interfaces.io.DataGrabber\")\n",
      "210503-15:08:03,29 nipype.workflow INFO:\n",
      "\t [Node] Finished \"glms.T2-grabber\".\n",
      "210503-15:08:03,29 nipype.workflow INFO:\n",
      "\t [Node] Setting-up \"glms.get_TR\" in \"/tmp/tmpwcpkr3jz/glms/_TR_700_sub_05/get_TR\".\n",
      "210503-15:08:03,34 nipype.workflow INFO:\n",
      "\t [Node] Running \"get_TR\" (\"nipype.interfaces.utility.wrappers.Function\")\n",
      "210503-15:08:03,37 nipype.workflow INFO:\n",
      "\t [Node] Finished \"glms.get_TR\".\n",
      "210503-15:08:03,38 nipype.workflow INFO:\n",
      "\t [Node] Setting-up \"glms.m-zip\" in \"/tmp/tmp2w2njuz4/glms/_TR_700_sub_05/m-zip\".\n",
      "210503-15:08:03,42 nipype.workflow INFO:\n",
      "\t [Node] Running \"m-zip\" (\"nipype.algorithms.misc.Gunzip\")\n",
      "210503-15:08:03,53 nipype.workflow INFO:\n",
      "\t [Node] Finished \"glms.m-zip\".\n",
      "210503-15:08:03,54 nipype.workflow INFO:\n",
      "\t [Node] Setting-up \"glms.gunzipfunc\" in \"/tmp/tmpsj2877sk/glms/_TR_700_sub_05/gunzipfunc\".\n",
      "210503-15:08:03,59 nipype.workflow INFO:\n",
      "\t [Node] Setting-up \"_gunzipfunc0\" in \"/tmp/tmpsj2877sk/glms/_TR_700_sub_05/gunzipfunc/mapflow/_gunzipfunc0\".\n",
      "210503-15:08:03,154 nipype.workflow INFO:\n",
      "\t [Node] Running \"_gunzipfunc0\" (\"nipype.algorithms.misc.Gunzip\")\n",
      "210503-15:08:08,588 nipype.workflow INFO:\n",
      "\t [Node] Finished \"_gunzipfunc0\".\n",
      "210503-15:08:08,591 nipype.workflow INFO:\n",
      "\t [Node] Setting-up \"_gunzipfunc1\" in \"/tmp/tmpsj2877sk/glms/_TR_700_sub_05/gunzipfunc/mapflow/_gunzipfunc1\".\n",
      "210503-15:08:08,595 nipype.workflow INFO:\n",
      "\t [Node] Running \"_gunzipfunc1\" (\"nipype.algorithms.misc.Gunzip\")\n",
      "210503-15:08:13,836 nipype.workflow INFO:\n",
      "\t [Node] Finished \"_gunzipfunc1\".\n",
      "210503-15:08:13,838 nipype.workflow INFO:\n",
      "\t [Node] Setting-up \"_gunzipfunc2\" in \"/tmp/tmpsj2877sk/glms/_TR_700_sub_05/gunzipfunc/mapflow/_gunzipfunc2\".\n",
      "210503-15:08:13,843 nipype.workflow INFO:\n",
      "\t [Node] Running \"_gunzipfunc2\" (\"nipype.algorithms.misc.Gunzip\")\n",
      "210503-15:08:19,323 nipype.workflow INFO:\n",
      "\t [Node] Finished \"_gunzipfunc2\".\n",
      "210503-15:08:19,329 nipype.workflow INFO:\n",
      "\t [Node] Finished \"glms.gunzipfunc\".\n",
      "210503-15:08:19,330 nipype.workflow INFO:\n",
      "\t [Node] Setting-up \"glms.get_prt_onsets\" in \"/tmp/tmp2jzbu6be/glms/_TR_700_sub_05/get_prt_onsets\".\n",
      "210503-15:08:19,336 nipype.workflow INFO:\n",
      "\t [Node] Running \"get_prt_onsets\" (\"nipype.interfaces.utility.wrappers.Function\")\n",
      "210503-15:08:19,343 nipype.workflow INFO:\n",
      "\t [Node] Finished \"glms.get_prt_onsets\".\n",
      "210503-15:08:19,344 nipype.workflow INFO:\n",
      "\t [Node] Setting-up \"glms.modelspec\" in \"/tmp/tmpq1pp0khd/glms/_TR_700_sub_05/modelspec\".\n",
      "210503-15:08:19,367 nipype.workflow INFO:\n",
      "\t [Node] Running \"modelspec\" (\"nipype.algorithms.modelgen.SpecifySPMModel\")\n",
      "210503-15:08:19,695 nipype.workflow INFO:\n",
      "\t [Node] Finished \"glms.modelspec\".\n",
      "210503-15:08:19,696 nipype.workflow INFO:\n",
      "\t [Node] Setting-up \"glms.level1design\" in \"/tmp/tmps2_mcq9f/glms/_TR_700_sub_05/level1design\".\n",
      "210503-15:08:20,584 nipype.workflow INFO:\n",
      "\t [Node] Running \"level1design\" (\"nipype.interfaces.spm.model.Level1Design\")\n",
      "210503-15:09:20,90 nipype.workflow INFO:\n",
      "\t [Node] Finished \"glms.level1design\".\n",
      "210503-15:09:20,93 nipype.workflow INFO:\n",
      "\t [Node] Setting-up \"glms.estimate\" in \"/tmp/tmp_t3co234/glms/_TR_700_sub_05/estimate\".\n",
      "210503-15:09:20,228 nipype.workflow INFO:\n",
      "\t [Node] Running \"estimate\" (\"nipype.interfaces.spm.model.EstimateModel\")\n",
      "210503-15:24:38,131 nipype.workflow INFO:\n",
      "\t [Node] Finished \"glms.estimate\".\n",
      "210503-15:24:38,133 nipype.workflow INFO:\n",
      "\t [Node] Setting-up \"glms.conts\" in \"/tmp/tmpqh8a7ymn/glms/_TR_700_sub_05/conts\".\n",
      "210503-15:24:38,569 nipype.workflow INFO:\n",
      "\t [Node] Running \"conts\" (\"nipype.interfaces.spm.model.EstimateContrast\")\n",
      "210503-15:25:07,922 nipype.workflow INFO:\n",
      "\t [Node] Finished \"glms.conts\".\n",
      "210503-15:25:07,924 nipype.workflow INFO:\n",
      "\t [Node] Setting-up \"glms.sink-stuff\" in \"/tmp/tmpiy8p3ln3/glms/_TR_700_sub_05/sink-stuff\".\n",
      "210503-15:25:07,961 nipype.workflow INFO:\n",
      "\t [Node] Running \"sink-stuff\" (\"nipype.interfaces.io.DataSink\")\n",
      "210503-15:25:07,963 nipype.interface INFO:\n",
      "\t sub: /scratch/qbi/uqkgarn1/STRIWP1/derivatives/glmTDFAST/sub-05/TR700ECHO2/FLGLM/_TR_700_sub_05/beta_0001.nii -> /scratch/qbi/uqkgarn1/STRIWP1/derivatives/glmTDFAST/sub-05/TR700ECHO2/FLGLM//beta_0001.nii\n",
      "210503-15:25:07,966 nipype.interface INFO:\n",
      "\t sub: /scratch/qbi/uqkgarn1/STRIWP1/derivatives/glmTDFAST/sub-05/TR700ECHO2/FLGLM/_TR_700_sub_05/beta_0002.nii -> /scratch/qbi/uqkgarn1/STRIWP1/derivatives/glmTDFAST/sub-05/TR700ECHO2/FLGLM//beta_0002.nii\n",
      "210503-15:25:07,969 nipype.interface INFO:\n",
      "\t sub: /scratch/qbi/uqkgarn1/STRIWP1/derivatives/glmTDFAST/sub-05/TR700ECHO2/FLGLM/_TR_700_sub_05/beta_0003.nii -> /scratch/qbi/uqkgarn1/STRIWP1/derivatives/glmTDFAST/sub-05/TR700ECHO2/FLGLM//beta_0003.nii\n",
      "210503-15:25:07,971 nipype.interface INFO:\n",
      "\t sub: /scratch/qbi/uqkgarn1/STRIWP1/derivatives/glmTDFAST/sub-05/TR700ECHO2/FLGLM/_TR_700_sub_05/beta_0004.nii -> /scratch/qbi/uqkgarn1/STRIWP1/derivatives/glmTDFAST/sub-05/TR700ECHO2/FLGLM//beta_0004.nii\n",
      "210503-15:25:07,973 nipype.interface INFO:\n",
      "\t sub: /scratch/qbi/uqkgarn1/STRIWP1/derivatives/glmTDFAST/sub-05/TR700ECHO2/FLGLM/_TR_700_sub_05/beta_0005.nii -> /scratch/qbi/uqkgarn1/STRIWP1/derivatives/glmTDFAST/sub-05/TR700ECHO2/FLGLM//beta_0005.nii\n",
      "210503-15:25:07,975 nipype.interface INFO:\n",
      "\t sub: /scratch/qbi/uqkgarn1/STRIWP1/derivatives/glmTDFAST/sub-05/TR700ECHO2/FLGLM/_TR_700_sub_05/beta_0006.nii -> /scratch/qbi/uqkgarn1/STRIWP1/derivatives/glmTDFAST/sub-05/TR700ECHO2/FLGLM//beta_0006.nii\n",
      "210503-15:25:07,978 nipype.interface INFO:\n",
      "\t sub: /scratch/qbi/uqkgarn1/STRIWP1/derivatives/glmTDFAST/sub-05/TR700ECHO2/FLGLM/_TR_700_sub_05/beta_0007.nii -> /scratch/qbi/uqkgarn1/STRIWP1/derivatives/glmTDFAST/sub-05/TR700ECHO2/FLGLM//beta_0007.nii\n",
      "210503-15:25:07,980 nipype.interface INFO:\n",
      "\t sub: /scratch/qbi/uqkgarn1/STRIWP1/derivatives/glmTDFAST/sub-05/TR700ECHO2/FLGLM/_TR_700_sub_05/beta_0008.nii -> /scratch/qbi/uqkgarn1/STRIWP1/derivatives/glmTDFAST/sub-05/TR700ECHO2/FLGLM//beta_0008.nii\n",
      "210503-15:25:07,982 nipype.interface INFO:\n",
      "\t sub: /scratch/qbi/uqkgarn1/STRIWP1/derivatives/glmTDFAST/sub-05/TR700ECHO2/FLGLM/_TR_700_sub_05/beta_0009.nii -> /scratch/qbi/uqkgarn1/STRIWP1/derivatives/glmTDFAST/sub-05/TR700ECHO2/FLGLM//beta_0009.nii\n",
      "210503-15:25:07,985 nipype.interface INFO:\n",
      "\t sub: /scratch/qbi/uqkgarn1/STRIWP1/derivatives/glmTDFAST/sub-05/TR700ECHO2/FLGLM/_TR_700_sub_05/beta_0010.nii -> /scratch/qbi/uqkgarn1/STRIWP1/derivatives/glmTDFAST/sub-05/TR700ECHO2/FLGLM//beta_0010.nii\n",
      "210503-15:25:07,987 nipype.interface INFO:\n",
      "\t sub: /scratch/qbi/uqkgarn1/STRIWP1/derivatives/glmTDFAST/sub-05/TR700ECHO2/FLGLM/_TR_700_sub_05/beta_0011.nii -> /scratch/qbi/uqkgarn1/STRIWP1/derivatives/glmTDFAST/sub-05/TR700ECHO2/FLGLM//beta_0011.nii\n",
      "210503-15:25:07,989 nipype.interface INFO:\n",
      "\t sub: /scratch/qbi/uqkgarn1/STRIWP1/derivatives/glmTDFAST/sub-05/TR700ECHO2/FLGLM/_TR_700_sub_05/beta_0012.nii -> /scratch/qbi/uqkgarn1/STRIWP1/derivatives/glmTDFAST/sub-05/TR700ECHO2/FLGLM//beta_0012.nii\n",
      "210503-15:25:07,991 nipype.interface INFO:\n",
      "\t sub: /scratch/qbi/uqkgarn1/STRIWP1/derivatives/glmTDFAST/sub-05/TR700ECHO2/FLGLM/_TR_700_sub_05/beta_0013.nii -> /scratch/qbi/uqkgarn1/STRIWP1/derivatives/glmTDFAST/sub-05/TR700ECHO2/FLGLM//beta_0013.nii\n",
      "210503-15:25:07,994 nipype.interface INFO:\n",
      "\t sub: /scratch/qbi/uqkgarn1/STRIWP1/derivatives/glmTDFAST/sub-05/TR700ECHO2/FLGLM/_TR_700_sub_05/beta_0014.nii -> /scratch/qbi/uqkgarn1/STRIWP1/derivatives/glmTDFAST/sub-05/TR700ECHO2/FLGLM//beta_0014.nii\n",
      "210503-15:25:07,996 nipype.interface INFO:\n",
      "\t sub: /scratch/qbi/uqkgarn1/STRIWP1/derivatives/glmTDFAST/sub-05/TR700ECHO2/FLGLM/_TR_700_sub_05/beta_0015.nii -> /scratch/qbi/uqkgarn1/STRIWP1/derivatives/glmTDFAST/sub-05/TR700ECHO2/FLGLM//beta_0015.nii\n",
      "210503-15:25:07,998 nipype.interface INFO:\n",
      "\t sub: /scratch/qbi/uqkgarn1/STRIWP1/derivatives/glmTDFAST/sub-05/TR700ECHO2/FLGLM/_TR_700_sub_05/beta_0016.nii -> /scratch/qbi/uqkgarn1/STRIWP1/derivatives/glmTDFAST/sub-05/TR700ECHO2/FLGLM//beta_0016.nii\n"
     ]
    },
    {
     "name": "stdout",
     "output_type": "stream",
     "text": [
      "210503-15:25:08,0 nipype.interface INFO:\n",
      "\t sub: /scratch/qbi/uqkgarn1/STRIWP1/derivatives/glmTDFAST/sub-05/TR700ECHO2/FLGLM/_TR_700_sub_05/beta_0017.nii -> /scratch/qbi/uqkgarn1/STRIWP1/derivatives/glmTDFAST/sub-05/TR700ECHO2/FLGLM//beta_0017.nii\n",
      "210503-15:25:08,2 nipype.interface INFO:\n",
      "\t sub: /scratch/qbi/uqkgarn1/STRIWP1/derivatives/glmTDFAST/sub-05/TR700ECHO2/FLGLM/_TR_700_sub_05/beta_0018.nii -> /scratch/qbi/uqkgarn1/STRIWP1/derivatives/glmTDFAST/sub-05/TR700ECHO2/FLGLM//beta_0018.nii\n",
      "210503-15:25:08,5 nipype.interface INFO:\n",
      "\t sub: /scratch/qbi/uqkgarn1/STRIWP1/derivatives/glmTDFAST/sub-05/TR700ECHO2/FLGLM/_TR_700_sub_05/beta_0019.nii -> /scratch/qbi/uqkgarn1/STRIWP1/derivatives/glmTDFAST/sub-05/TR700ECHO2/FLGLM//beta_0019.nii\n",
      "210503-15:25:08,7 nipype.interface INFO:\n",
      "\t sub: /scratch/qbi/uqkgarn1/STRIWP1/derivatives/glmTDFAST/sub-05/TR700ECHO2/FLGLM/_TR_700_sub_05/beta_0020.nii -> /scratch/qbi/uqkgarn1/STRIWP1/derivatives/glmTDFAST/sub-05/TR700ECHO2/FLGLM//beta_0020.nii\n",
      "210503-15:25:08,9 nipype.interface INFO:\n",
      "\t sub: /scratch/qbi/uqkgarn1/STRIWP1/derivatives/glmTDFAST/sub-05/TR700ECHO2/FLGLM/_TR_700_sub_05/beta_0021.nii -> /scratch/qbi/uqkgarn1/STRIWP1/derivatives/glmTDFAST/sub-05/TR700ECHO2/FLGLM//beta_0021.nii\n",
      "210503-15:25:08,11 nipype.interface INFO:\n",
      "\t sub: /scratch/qbi/uqkgarn1/STRIWP1/derivatives/glmTDFAST/sub-05/TR700ECHO2/FLGLM/_TR_700_sub_05/beta_0022.nii -> /scratch/qbi/uqkgarn1/STRIWP1/derivatives/glmTDFAST/sub-05/TR700ECHO2/FLGLM//beta_0022.nii\n",
      "210503-15:25:08,14 nipype.interface INFO:\n",
      "\t sub: /scratch/qbi/uqkgarn1/STRIWP1/derivatives/glmTDFAST/sub-05/TR700ECHO2/FLGLM/_TR_700_sub_05/beta_0023.nii -> /scratch/qbi/uqkgarn1/STRIWP1/derivatives/glmTDFAST/sub-05/TR700ECHO2/FLGLM//beta_0023.nii\n",
      "210503-15:25:08,16 nipype.interface INFO:\n",
      "\t sub: /scratch/qbi/uqkgarn1/STRIWP1/derivatives/glmTDFAST/sub-05/TR700ECHO2/FLGLM/_TR_700_sub_05/beta_0024.nii -> /scratch/qbi/uqkgarn1/STRIWP1/derivatives/glmTDFAST/sub-05/TR700ECHO2/FLGLM//beta_0024.nii\n",
      "210503-15:25:08,18 nipype.interface INFO:\n",
      "\t sub: /scratch/qbi/uqkgarn1/STRIWP1/derivatives/glmTDFAST/sub-05/TR700ECHO2/FLGLM/_TR_700_sub_05/beta_0025.nii -> /scratch/qbi/uqkgarn1/STRIWP1/derivatives/glmTDFAST/sub-05/TR700ECHO2/FLGLM//beta_0025.nii\n",
      "210503-15:25:08,20 nipype.interface INFO:\n",
      "\t sub: /scratch/qbi/uqkgarn1/STRIWP1/derivatives/glmTDFAST/sub-05/TR700ECHO2/FLGLM/_TR_700_sub_05/beta_0026.nii -> /scratch/qbi/uqkgarn1/STRIWP1/derivatives/glmTDFAST/sub-05/TR700ECHO2/FLGLM//beta_0026.nii\n",
      "210503-15:25:08,23 nipype.interface INFO:\n",
      "\t sub: /scratch/qbi/uqkgarn1/STRIWP1/derivatives/glmTDFAST/sub-05/TR700ECHO2/FLGLM/_TR_700_sub_05/beta_0027.nii -> /scratch/qbi/uqkgarn1/STRIWP1/derivatives/glmTDFAST/sub-05/TR700ECHO2/FLGLM//beta_0027.nii\n",
      "210503-15:25:08,25 nipype.interface INFO:\n",
      "\t sub: /scratch/qbi/uqkgarn1/STRIWP1/derivatives/glmTDFAST/sub-05/TR700ECHO2/FLGLM/_TR_700_sub_05/beta_0028.nii -> /scratch/qbi/uqkgarn1/STRIWP1/derivatives/glmTDFAST/sub-05/TR700ECHO2/FLGLM//beta_0028.nii\n",
      "210503-15:25:08,27 nipype.interface INFO:\n",
      "\t sub: /scratch/qbi/uqkgarn1/STRIWP1/derivatives/glmTDFAST/sub-05/TR700ECHO2/FLGLM/_TR_700_sub_05/beta_0029.nii -> /scratch/qbi/uqkgarn1/STRIWP1/derivatives/glmTDFAST/sub-05/TR700ECHO2/FLGLM//beta_0029.nii\n",
      "210503-15:25:08,30 nipype.interface INFO:\n",
      "\t sub: /scratch/qbi/uqkgarn1/STRIWP1/derivatives/glmTDFAST/sub-05/TR700ECHO2/FLGLM/_TR_700_sub_05/beta_0030.nii -> /scratch/qbi/uqkgarn1/STRIWP1/derivatives/glmTDFAST/sub-05/TR700ECHO2/FLGLM//beta_0030.nii\n",
      "210503-15:25:08,32 nipype.interface INFO:\n",
      "\t sub: /scratch/qbi/uqkgarn1/STRIWP1/derivatives/glmTDFAST/sub-05/TR700ECHO2/FLGLM/_TR_700_sub_05/beta_0031.nii -> /scratch/qbi/uqkgarn1/STRIWP1/derivatives/glmTDFAST/sub-05/TR700ECHO2/FLGLM//beta_0031.nii\n",
      "210503-15:25:08,35 nipype.interface INFO:\n",
      "\t sub: /scratch/qbi/uqkgarn1/STRIWP1/derivatives/glmTDFAST/sub-05/TR700ECHO2/FLGLM/_TR_700_sub_05/beta_0032.nii -> /scratch/qbi/uqkgarn1/STRIWP1/derivatives/glmTDFAST/sub-05/TR700ECHO2/FLGLM//beta_0032.nii\n",
      "210503-15:25:08,37 nipype.interface INFO:\n",
      "\t sub: /scratch/qbi/uqkgarn1/STRIWP1/derivatives/glmTDFAST/sub-05/TR700ECHO2/FLGLM/_TR_700_sub_05/beta_0033.nii -> /scratch/qbi/uqkgarn1/STRIWP1/derivatives/glmTDFAST/sub-05/TR700ECHO2/FLGLM//beta_0033.nii\n",
      "210503-15:25:08,39 nipype.interface INFO:\n",
      "\t sub: /scratch/qbi/uqkgarn1/STRIWP1/derivatives/glmTDFAST/sub-05/TR700ECHO2/FLGLM/_TR_700_sub_05/beta_0034.nii -> /scratch/qbi/uqkgarn1/STRIWP1/derivatives/glmTDFAST/sub-05/TR700ECHO2/FLGLM//beta_0034.nii\n",
      "210503-15:25:08,42 nipype.interface INFO:\n",
      "\t sub: /scratch/qbi/uqkgarn1/STRIWP1/derivatives/glmTDFAST/sub-05/TR700ECHO2/FLGLM/_TR_700_sub_05/beta_0035.nii -> /scratch/qbi/uqkgarn1/STRIWP1/derivatives/glmTDFAST/sub-05/TR700ECHO2/FLGLM//beta_0035.nii\n",
      "210503-15:25:08,44 nipype.interface INFO:\n",
      "\t sub: /scratch/qbi/uqkgarn1/STRIWP1/derivatives/glmTDFAST/sub-05/TR700ECHO2/FLGLM/_TR_700_sub_05/beta_0036.nii -> /scratch/qbi/uqkgarn1/STRIWP1/derivatives/glmTDFAST/sub-05/TR700ECHO2/FLGLM//beta_0036.nii\n",
      "210503-15:25:08,46 nipype.interface INFO:\n",
      "\t sub: /scratch/qbi/uqkgarn1/STRIWP1/derivatives/glmTDFAST/sub-05/TR700ECHO2/FLGLM/_TR_700_sub_05/beta_0037.nii -> /scratch/qbi/uqkgarn1/STRIWP1/derivatives/glmTDFAST/sub-05/TR700ECHO2/FLGLM//beta_0037.nii\n",
      "210503-15:25:08,48 nipype.interface INFO:\n",
      "\t sub: /scratch/qbi/uqkgarn1/STRIWP1/derivatives/glmTDFAST/sub-05/TR700ECHO2/FLGLM/_TR_700_sub_05/beta_0038.nii -> /scratch/qbi/uqkgarn1/STRIWP1/derivatives/glmTDFAST/sub-05/TR700ECHO2/FLGLM//beta_0038.nii\n",
      "210503-15:25:08,50 nipype.interface INFO:\n",
      "\t sub: /scratch/qbi/uqkgarn1/STRIWP1/derivatives/glmTDFAST/sub-05/TR700ECHO2/FLGLM/_TR_700_sub_05/beta_0039.nii -> /scratch/qbi/uqkgarn1/STRIWP1/derivatives/glmTDFAST/sub-05/TR700ECHO2/FLGLM//beta_0039.nii\n",
      "210503-15:25:08,53 nipype.interface INFO:\n",
      "\t sub: /scratch/qbi/uqkgarn1/STRIWP1/derivatives/glmTDFAST/sub-05/TR700ECHO2/FLGLM/_TR_700_sub_05/beta_0040.nii -> /scratch/qbi/uqkgarn1/STRIWP1/derivatives/glmTDFAST/sub-05/TR700ECHO2/FLGLM//beta_0040.nii\n",
      "210503-15:25:08,55 nipype.interface INFO:\n",
      "\t sub: /scratch/qbi/uqkgarn1/STRIWP1/derivatives/glmTDFAST/sub-05/TR700ECHO2/FLGLM/_TR_700_sub_05/beta_0041.nii -> /scratch/qbi/uqkgarn1/STRIWP1/derivatives/glmTDFAST/sub-05/TR700ECHO2/FLGLM//beta_0041.nii\n",
      "210503-15:25:08,57 nipype.interface INFO:\n",
      "\t sub: /scratch/qbi/uqkgarn1/STRIWP1/derivatives/glmTDFAST/sub-05/TR700ECHO2/FLGLM/_TR_700_sub_05/beta_0042.nii -> /scratch/qbi/uqkgarn1/STRIWP1/derivatives/glmTDFAST/sub-05/TR700ECHO2/FLGLM//beta_0042.nii\n",
      "210503-15:25:08,60 nipype.interface INFO:\n",
      "\t sub: /scratch/qbi/uqkgarn1/STRIWP1/derivatives/glmTDFAST/sub-05/TR700ECHO2/FLGLM/_TR_700_sub_05/beta_0043.nii -> /scratch/qbi/uqkgarn1/STRIWP1/derivatives/glmTDFAST/sub-05/TR700ECHO2/FLGLM//beta_0043.nii\n",
      "210503-15:25:08,62 nipype.interface INFO:\n",
      "\t sub: /scratch/qbi/uqkgarn1/STRIWP1/derivatives/glmTDFAST/sub-05/TR700ECHO2/FLGLM/_TR_700_sub_05/beta_0044.nii -> /scratch/qbi/uqkgarn1/STRIWP1/derivatives/glmTDFAST/sub-05/TR700ECHO2/FLGLM//beta_0044.nii\n",
      "210503-15:25:08,64 nipype.interface INFO:\n",
      "\t sub: /scratch/qbi/uqkgarn1/STRIWP1/derivatives/glmTDFAST/sub-05/TR700ECHO2/FLGLM/_TR_700_sub_05/beta_0045.nii -> /scratch/qbi/uqkgarn1/STRIWP1/derivatives/glmTDFAST/sub-05/TR700ECHO2/FLGLM//beta_0045.nii\n",
      "210503-15:25:08,66 nipype.interface INFO:\n",
      "\t sub: /scratch/qbi/uqkgarn1/STRIWP1/derivatives/glmTDFAST/sub-05/TR700ECHO2/FLGLM/_TR_700_sub_05/beta_0046.nii -> /scratch/qbi/uqkgarn1/STRIWP1/derivatives/glmTDFAST/sub-05/TR700ECHO2/FLGLM//beta_0046.nii\n",
      "210503-15:25:08,69 nipype.interface INFO:\n",
      "\t sub: /scratch/qbi/uqkgarn1/STRIWP1/derivatives/glmTDFAST/sub-05/TR700ECHO2/FLGLM/_TR_700_sub_05/beta_0047.nii -> /scratch/qbi/uqkgarn1/STRIWP1/derivatives/glmTDFAST/sub-05/TR700ECHO2/FLGLM//beta_0047.nii\n",
      "210503-15:25:08,71 nipype.interface INFO:\n",
      "\t sub: /scratch/qbi/uqkgarn1/STRIWP1/derivatives/glmTDFAST/sub-05/TR700ECHO2/FLGLM/_TR_700_sub_05/beta_0048.nii -> /scratch/qbi/uqkgarn1/STRIWP1/derivatives/glmTDFAST/sub-05/TR700ECHO2/FLGLM//beta_0048.nii\n",
      "210503-15:25:08,73 nipype.interface INFO:\n",
      "\t sub: /scratch/qbi/uqkgarn1/STRIWP1/derivatives/glmTDFAST/sub-05/TR700ECHO2/FLGLM/_TR_700_sub_05/beta_0049.nii -> /scratch/qbi/uqkgarn1/STRIWP1/derivatives/glmTDFAST/sub-05/TR700ECHO2/FLGLM//beta_0049.nii\n",
      "210503-15:25:08,75 nipype.interface INFO:\n",
      "\t sub: /scratch/qbi/uqkgarn1/STRIWP1/derivatives/glmTDFAST/sub-05/TR700ECHO2/FLGLM/_TR_700_sub_05/beta_0050.nii -> /scratch/qbi/uqkgarn1/STRIWP1/derivatives/glmTDFAST/sub-05/TR700ECHO2/FLGLM//beta_0050.nii\n"
     ]
    },
    {
     "name": "stdout",
     "output_type": "stream",
     "text": [
      "210503-15:25:08,78 nipype.interface INFO:\n",
      "\t sub: /scratch/qbi/uqkgarn1/STRIWP1/derivatives/glmTDFAST/sub-05/TR700ECHO2/FLGLM/_TR_700_sub_05/beta_0051.nii -> /scratch/qbi/uqkgarn1/STRIWP1/derivatives/glmTDFAST/sub-05/TR700ECHO2/FLGLM//beta_0051.nii\n",
      "210503-15:25:08,80 nipype.interface INFO:\n",
      "\t sub: /scratch/qbi/uqkgarn1/STRIWP1/derivatives/glmTDFAST/sub-05/TR700ECHO2/FLGLM/_TR_700_sub_05/beta_0052.nii -> /scratch/qbi/uqkgarn1/STRIWP1/derivatives/glmTDFAST/sub-05/TR700ECHO2/FLGLM//beta_0052.nii\n",
      "210503-15:25:08,82 nipype.interface INFO:\n",
      "\t sub: /scratch/qbi/uqkgarn1/STRIWP1/derivatives/glmTDFAST/sub-05/TR700ECHO2/FLGLM/_TR_700_sub_05/beta_0053.nii -> /scratch/qbi/uqkgarn1/STRIWP1/derivatives/glmTDFAST/sub-05/TR700ECHO2/FLGLM//beta_0053.nii\n",
      "210503-15:25:08,85 nipype.interface INFO:\n",
      "\t sub: /scratch/qbi/uqkgarn1/STRIWP1/derivatives/glmTDFAST/sub-05/TR700ECHO2/FLGLM/_TR_700_sub_05/beta_0054.nii -> /scratch/qbi/uqkgarn1/STRIWP1/derivatives/glmTDFAST/sub-05/TR700ECHO2/FLGLM//beta_0054.nii\n",
      "210503-15:25:08,87 nipype.interface INFO:\n",
      "\t sub: /scratch/qbi/uqkgarn1/STRIWP1/derivatives/glmTDFAST/sub-05/TR700ECHO2/FLGLM/_TR_700_sub_05/beta_0055.nii -> /scratch/qbi/uqkgarn1/STRIWP1/derivatives/glmTDFAST/sub-05/TR700ECHO2/FLGLM//beta_0055.nii\n",
      "210503-15:25:08,89 nipype.interface INFO:\n",
      "\t sub: /scratch/qbi/uqkgarn1/STRIWP1/derivatives/glmTDFAST/sub-05/TR700ECHO2/FLGLM/_TR_700_sub_05/beta_0056.nii -> /scratch/qbi/uqkgarn1/STRIWP1/derivatives/glmTDFAST/sub-05/TR700ECHO2/FLGLM//beta_0056.nii\n",
      "210503-15:25:08,91 nipype.interface INFO:\n",
      "\t sub: /scratch/qbi/uqkgarn1/STRIWP1/derivatives/glmTDFAST/sub-05/TR700ECHO2/FLGLM/_TR_700_sub_05/beta_0057.nii -> /scratch/qbi/uqkgarn1/STRIWP1/derivatives/glmTDFAST/sub-05/TR700ECHO2/FLGLM//beta_0057.nii\n",
      "210503-15:25:08,94 nipype.interface INFO:\n",
      "\t sub: /scratch/qbi/uqkgarn1/STRIWP1/derivatives/glmTDFAST/sub-05/TR700ECHO2/FLGLM/_TR_700_sub_05/beta_0058.nii -> /scratch/qbi/uqkgarn1/STRIWP1/derivatives/glmTDFAST/sub-05/TR700ECHO2/FLGLM//beta_0058.nii\n",
      "210503-15:25:08,96 nipype.interface INFO:\n",
      "\t sub: /scratch/qbi/uqkgarn1/STRIWP1/derivatives/glmTDFAST/sub-05/TR700ECHO2/FLGLM/_TR_700_sub_05/beta_0059.nii -> /scratch/qbi/uqkgarn1/STRIWP1/derivatives/glmTDFAST/sub-05/TR700ECHO2/FLGLM//beta_0059.nii\n",
      "210503-15:25:08,98 nipype.interface INFO:\n",
      "\t sub: /scratch/qbi/uqkgarn1/STRIWP1/derivatives/glmTDFAST/sub-05/TR700ECHO2/FLGLM/_TR_700_sub_05/beta_0060.nii -> /scratch/qbi/uqkgarn1/STRIWP1/derivatives/glmTDFAST/sub-05/TR700ECHO2/FLGLM//beta_0060.nii\n",
      "210503-15:25:08,100 nipype.interface INFO:\n",
      "\t sub: /scratch/qbi/uqkgarn1/STRIWP1/derivatives/glmTDFAST/sub-05/TR700ECHO2/FLGLM/_TR_700_sub_05/beta_0061.nii -> /scratch/qbi/uqkgarn1/STRIWP1/derivatives/glmTDFAST/sub-05/TR700ECHO2/FLGLM//beta_0061.nii\n",
      "210503-15:25:08,102 nipype.interface INFO:\n",
      "\t sub: /scratch/qbi/uqkgarn1/STRIWP1/derivatives/glmTDFAST/sub-05/TR700ECHO2/FLGLM/_TR_700_sub_05/beta_0062.nii -> /scratch/qbi/uqkgarn1/STRIWP1/derivatives/glmTDFAST/sub-05/TR700ECHO2/FLGLM//beta_0062.nii\n",
      "210503-15:25:08,104 nipype.interface INFO:\n",
      "\t sub: /scratch/qbi/uqkgarn1/STRIWP1/derivatives/glmTDFAST/sub-05/TR700ECHO2/FLGLM/_TR_700_sub_05/beta_0063.nii -> /scratch/qbi/uqkgarn1/STRIWP1/derivatives/glmTDFAST/sub-05/TR700ECHO2/FLGLM//beta_0063.nii\n",
      "210503-15:25:08,107 nipype.interface INFO:\n",
      "\t sub: /scratch/qbi/uqkgarn1/STRIWP1/derivatives/glmTDFAST/sub-05/TR700ECHO2/FLGLM/_TR_700_sub_05/beta_0064.nii -> /scratch/qbi/uqkgarn1/STRIWP1/derivatives/glmTDFAST/sub-05/TR700ECHO2/FLGLM//beta_0064.nii\n",
      "210503-15:25:08,109 nipype.interface INFO:\n",
      "\t sub: /scratch/qbi/uqkgarn1/STRIWP1/derivatives/glmTDFAST/sub-05/TR700ECHO2/FLGLM/_TR_700_sub_05/beta_0065.nii -> /scratch/qbi/uqkgarn1/STRIWP1/derivatives/glmTDFAST/sub-05/TR700ECHO2/FLGLM//beta_0065.nii\n",
      "210503-15:25:08,111 nipype.interface INFO:\n",
      "\t sub: /scratch/qbi/uqkgarn1/STRIWP1/derivatives/glmTDFAST/sub-05/TR700ECHO2/FLGLM/_TR_700_sub_05/beta_0066.nii -> /scratch/qbi/uqkgarn1/STRIWP1/derivatives/glmTDFAST/sub-05/TR700ECHO2/FLGLM//beta_0066.nii\n",
      "210503-15:25:08,114 nipype.interface INFO:\n",
      "\t sub: /scratch/qbi/uqkgarn1/STRIWP1/derivatives/glmTDFAST/sub-05/TR700ECHO2/FLGLM/_TR_700_sub_05/beta_0067.nii -> /scratch/qbi/uqkgarn1/STRIWP1/derivatives/glmTDFAST/sub-05/TR700ECHO2/FLGLM//beta_0067.nii\n",
      "210503-15:25:08,116 nipype.interface INFO:\n",
      "\t sub: /scratch/qbi/uqkgarn1/STRIWP1/derivatives/glmTDFAST/sub-05/TR700ECHO2/FLGLM/_TR_700_sub_05/beta_0068.nii -> /scratch/qbi/uqkgarn1/STRIWP1/derivatives/glmTDFAST/sub-05/TR700ECHO2/FLGLM//beta_0068.nii\n",
      "210503-15:25:08,118 nipype.interface INFO:\n",
      "\t sub: /scratch/qbi/uqkgarn1/STRIWP1/derivatives/glmTDFAST/sub-05/TR700ECHO2/FLGLM/_TR_700_sub_05/beta_0069.nii -> /scratch/qbi/uqkgarn1/STRIWP1/derivatives/glmTDFAST/sub-05/TR700ECHO2/FLGLM//beta_0069.nii\n",
      "210503-15:25:08,120 nipype.interface INFO:\n",
      "\t sub: /scratch/qbi/uqkgarn1/STRIWP1/derivatives/glmTDFAST/sub-05/TR700ECHO2/FLGLM/_TR_700_sub_05/beta_0070.nii -> /scratch/qbi/uqkgarn1/STRIWP1/derivatives/glmTDFAST/sub-05/TR700ECHO2/FLGLM//beta_0070.nii\n",
      "210503-15:25:08,123 nipype.interface INFO:\n",
      "\t sub: /scratch/qbi/uqkgarn1/STRIWP1/derivatives/glmTDFAST/sub-05/TR700ECHO2/FLGLM/_TR_700_sub_05/beta_0071.nii -> /scratch/qbi/uqkgarn1/STRIWP1/derivatives/glmTDFAST/sub-05/TR700ECHO2/FLGLM//beta_0071.nii\n",
      "210503-15:25:08,125 nipype.interface INFO:\n",
      "\t sub: /scratch/qbi/uqkgarn1/STRIWP1/derivatives/glmTDFAST/sub-05/TR700ECHO2/FLGLM/_TR_700_sub_05/beta_0072.nii -> /scratch/qbi/uqkgarn1/STRIWP1/derivatives/glmTDFAST/sub-05/TR700ECHO2/FLGLM//beta_0072.nii\n",
      "210503-15:25:08,127 nipype.interface INFO:\n",
      "\t sub: /scratch/qbi/uqkgarn1/STRIWP1/derivatives/glmTDFAST/sub-05/TR700ECHO2/FLGLM/_TR_700_sub_05/beta_0073.nii -> /scratch/qbi/uqkgarn1/STRIWP1/derivatives/glmTDFAST/sub-05/TR700ECHO2/FLGLM//beta_0073.nii\n",
      "210503-15:25:08,129 nipype.interface INFO:\n",
      "\t sub: /scratch/qbi/uqkgarn1/STRIWP1/derivatives/glmTDFAST/sub-05/TR700ECHO2/FLGLM/_TR_700_sub_05/beta_0074.nii -> /scratch/qbi/uqkgarn1/STRIWP1/derivatives/glmTDFAST/sub-05/TR700ECHO2/FLGLM//beta_0074.nii\n",
      "210503-15:25:08,131 nipype.interface INFO:\n",
      "\t sub: /scratch/qbi/uqkgarn1/STRIWP1/derivatives/glmTDFAST/sub-05/TR700ECHO2/FLGLM/_TR_700_sub_05/beta_0075.nii -> /scratch/qbi/uqkgarn1/STRIWP1/derivatives/glmTDFAST/sub-05/TR700ECHO2/FLGLM//beta_0075.nii\n",
      "210503-15:25:08,133 nipype.interface INFO:\n",
      "\t sub: /scratch/qbi/uqkgarn1/STRIWP1/derivatives/glmTDFAST/sub-05/TR700ECHO2/FLGLM/_TR_700_sub_05/beta_0076.nii -> /scratch/qbi/uqkgarn1/STRIWP1/derivatives/glmTDFAST/sub-05/TR700ECHO2/FLGLM//beta_0076.nii\n",
      "210503-15:25:08,136 nipype.interface INFO:\n",
      "\t sub: /scratch/qbi/uqkgarn1/STRIWP1/derivatives/glmTDFAST/sub-05/TR700ECHO2/FLGLM/_TR_700_sub_05/beta_0077.nii -> /scratch/qbi/uqkgarn1/STRIWP1/derivatives/glmTDFAST/sub-05/TR700ECHO2/FLGLM//beta_0077.nii\n",
      "210503-15:25:08,138 nipype.interface INFO:\n",
      "\t sub: /scratch/qbi/uqkgarn1/STRIWP1/derivatives/glmTDFAST/sub-05/TR700ECHO2/FLGLM/_TR_700_sub_05/beta_0078.nii -> /scratch/qbi/uqkgarn1/STRIWP1/derivatives/glmTDFAST/sub-05/TR700ECHO2/FLGLM//beta_0078.nii\n",
      "210503-15:25:08,140 nipype.interface INFO:\n",
      "\t sub: /scratch/qbi/uqkgarn1/STRIWP1/derivatives/glmTDFAST/sub-05/TR700ECHO2/FLGLM/_TR_700_sub_05/beta_0079.nii -> /scratch/qbi/uqkgarn1/STRIWP1/derivatives/glmTDFAST/sub-05/TR700ECHO2/FLGLM//beta_0079.nii\n",
      "210503-15:25:08,142 nipype.interface INFO:\n",
      "\t sub: /scratch/qbi/uqkgarn1/STRIWP1/derivatives/glmTDFAST/sub-05/TR700ECHO2/FLGLM/_TR_700_sub_05/beta_0080.nii -> /scratch/qbi/uqkgarn1/STRIWP1/derivatives/glmTDFAST/sub-05/TR700ECHO2/FLGLM//beta_0080.nii\n",
      "210503-15:25:08,145 nipype.interface INFO:\n",
      "\t sub: /scratch/qbi/uqkgarn1/STRIWP1/derivatives/glmTDFAST/sub-05/TR700ECHO2/FLGLM/_TR_700_sub_05/beta_0081.nii -> /scratch/qbi/uqkgarn1/STRIWP1/derivatives/glmTDFAST/sub-05/TR700ECHO2/FLGLM//beta_0081.nii\n",
      "210503-15:25:08,147 nipype.interface INFO:\n",
      "\t sub: /scratch/qbi/uqkgarn1/STRIWP1/derivatives/glmTDFAST/sub-05/TR700ECHO2/FLGLM/_TR_700_sub_05/beta_0082.nii -> /scratch/qbi/uqkgarn1/STRIWP1/derivatives/glmTDFAST/sub-05/TR700ECHO2/FLGLM//beta_0082.nii\n",
      "210503-15:25:08,149 nipype.interface INFO:\n",
      "\t sub: /scratch/qbi/uqkgarn1/STRIWP1/derivatives/glmTDFAST/sub-05/TR700ECHO2/FLGLM/_TR_700_sub_05/beta_0083.nii -> /scratch/qbi/uqkgarn1/STRIWP1/derivatives/glmTDFAST/sub-05/TR700ECHO2/FLGLM//beta_0083.nii\n"
     ]
    },
    {
     "name": "stdout",
     "output_type": "stream",
     "text": [
      "210503-15:25:08,151 nipype.interface INFO:\n",
      "\t sub: /scratch/qbi/uqkgarn1/STRIWP1/derivatives/glmTDFAST/sub-05/TR700ECHO2/FLGLM/_TR_700_sub_05/beta_0084.nii -> /scratch/qbi/uqkgarn1/STRIWP1/derivatives/glmTDFAST/sub-05/TR700ECHO2/FLGLM//beta_0084.nii\n",
      "210503-15:25:08,154 nipype.interface INFO:\n",
      "\t sub: /scratch/qbi/uqkgarn1/STRIWP1/derivatives/glmTDFAST/sub-05/TR700ECHO2/FLGLM/_TR_700_sub_05/beta_0085.nii -> /scratch/qbi/uqkgarn1/STRIWP1/derivatives/glmTDFAST/sub-05/TR700ECHO2/FLGLM//beta_0085.nii\n",
      "210503-15:25:08,156 nipype.interface INFO:\n",
      "\t sub: /scratch/qbi/uqkgarn1/STRIWP1/derivatives/glmTDFAST/sub-05/TR700ECHO2/FLGLM/_TR_700_sub_05/beta_0086.nii -> /scratch/qbi/uqkgarn1/STRIWP1/derivatives/glmTDFAST/sub-05/TR700ECHO2/FLGLM//beta_0086.nii\n",
      "210503-15:25:08,158 nipype.interface INFO:\n",
      "\t sub: /scratch/qbi/uqkgarn1/STRIWP1/derivatives/glmTDFAST/sub-05/TR700ECHO2/FLGLM/_TR_700_sub_05/beta_0087.nii -> /scratch/qbi/uqkgarn1/STRIWP1/derivatives/glmTDFAST/sub-05/TR700ECHO2/FLGLM//beta_0087.nii\n",
      "210503-15:25:08,160 nipype.interface INFO:\n",
      "\t sub: /scratch/qbi/uqkgarn1/STRIWP1/derivatives/glmTDFAST/sub-05/TR700ECHO2/FLGLM/_TR_700_sub_05/beta_0088.nii -> /scratch/qbi/uqkgarn1/STRIWP1/derivatives/glmTDFAST/sub-05/TR700ECHO2/FLGLM//beta_0088.nii\n",
      "210503-15:25:08,162 nipype.interface INFO:\n",
      "\t sub: /scratch/qbi/uqkgarn1/STRIWP1/derivatives/glmTDFAST/sub-05/TR700ECHO2/FLGLM/_TR_700_sub_05/beta_0089.nii -> /scratch/qbi/uqkgarn1/STRIWP1/derivatives/glmTDFAST/sub-05/TR700ECHO2/FLGLM//beta_0089.nii\n",
      "210503-15:25:08,165 nipype.interface INFO:\n",
      "\t sub: /scratch/qbi/uqkgarn1/STRIWP1/derivatives/glmTDFAST/sub-05/TR700ECHO2/FLGLM/_TR_700_sub_05/beta_0090.nii -> /scratch/qbi/uqkgarn1/STRIWP1/derivatives/glmTDFAST/sub-05/TR700ECHO2/FLGLM//beta_0090.nii\n",
      "210503-15:25:08,167 nipype.interface INFO:\n",
      "\t sub: /scratch/qbi/uqkgarn1/STRIWP1/derivatives/glmTDFAST/sub-05/TR700ECHO2/FLGLM/_TR_700_sub_05/beta_0091.nii -> /scratch/qbi/uqkgarn1/STRIWP1/derivatives/glmTDFAST/sub-05/TR700ECHO2/FLGLM//beta_0091.nii\n",
      "210503-15:25:08,169 nipype.interface INFO:\n",
      "\t sub: /scratch/qbi/uqkgarn1/STRIWP1/derivatives/glmTDFAST/sub-05/TR700ECHO2/FLGLM/_TR_700_sub_05/beta_0092.nii -> /scratch/qbi/uqkgarn1/STRIWP1/derivatives/glmTDFAST/sub-05/TR700ECHO2/FLGLM//beta_0092.nii\n",
      "210503-15:25:08,171 nipype.interface INFO:\n",
      "\t sub: /scratch/qbi/uqkgarn1/STRIWP1/derivatives/glmTDFAST/sub-05/TR700ECHO2/FLGLM/_TR_700_sub_05/beta_0093.nii -> /scratch/qbi/uqkgarn1/STRIWP1/derivatives/glmTDFAST/sub-05/TR700ECHO2/FLGLM//beta_0093.nii\n",
      "210503-15:25:08,174 nipype.interface INFO:\n",
      "\t sub: /scratch/qbi/uqkgarn1/STRIWP1/derivatives/glmTDFAST/sub-05/TR700ECHO2/FLGLM/_TR_700_sub_05/beta_0094.nii -> /scratch/qbi/uqkgarn1/STRIWP1/derivatives/glmTDFAST/sub-05/TR700ECHO2/FLGLM//beta_0094.nii\n",
      "210503-15:25:08,176 nipype.interface INFO:\n",
      "\t sub: /scratch/qbi/uqkgarn1/STRIWP1/derivatives/glmTDFAST/sub-05/TR700ECHO2/FLGLM/_TR_700_sub_05/beta_0095.nii -> /scratch/qbi/uqkgarn1/STRIWP1/derivatives/glmTDFAST/sub-05/TR700ECHO2/FLGLM//beta_0095.nii\n",
      "210503-15:25:08,178 nipype.interface INFO:\n",
      "\t sub: /scratch/qbi/uqkgarn1/STRIWP1/derivatives/glmTDFAST/sub-05/TR700ECHO2/FLGLM/_TR_700_sub_05/beta_0096.nii -> /scratch/qbi/uqkgarn1/STRIWP1/derivatives/glmTDFAST/sub-05/TR700ECHO2/FLGLM//beta_0096.nii\n",
      "210503-15:25:08,180 nipype.interface INFO:\n",
      "\t sub: /scratch/qbi/uqkgarn1/STRIWP1/derivatives/glmTDFAST/sub-05/TR700ECHO2/FLGLM/_TR_700_sub_05/beta_0097.nii -> /scratch/qbi/uqkgarn1/STRIWP1/derivatives/glmTDFAST/sub-05/TR700ECHO2/FLGLM//beta_0097.nii\n",
      "210503-15:25:08,182 nipype.interface INFO:\n",
      "\t sub: /scratch/qbi/uqkgarn1/STRIWP1/derivatives/glmTDFAST/sub-05/TR700ECHO2/FLGLM/_TR_700_sub_05/beta_0098.nii -> /scratch/qbi/uqkgarn1/STRIWP1/derivatives/glmTDFAST/sub-05/TR700ECHO2/FLGLM//beta_0098.nii\n",
      "210503-15:25:08,185 nipype.interface INFO:\n",
      "\t sub: /scratch/qbi/uqkgarn1/STRIWP1/derivatives/glmTDFAST/sub-05/TR700ECHO2/FLGLM/_TR_700_sub_05/beta_0099.nii -> /scratch/qbi/uqkgarn1/STRIWP1/derivatives/glmTDFAST/sub-05/TR700ECHO2/FLGLM//beta_0099.nii\n",
      "210503-15:25:08,187 nipype.interface INFO:\n",
      "\t sub: /scratch/qbi/uqkgarn1/STRIWP1/derivatives/glmTDFAST/sub-05/TR700ECHO2/FLGLM/_TR_700_sub_05/beta_0100.nii -> /scratch/qbi/uqkgarn1/STRIWP1/derivatives/glmTDFAST/sub-05/TR700ECHO2/FLGLM//beta_0100.nii\n",
      "210503-15:25:08,189 nipype.interface INFO:\n",
      "\t sub: /scratch/qbi/uqkgarn1/STRIWP1/derivatives/glmTDFAST/sub-05/TR700ECHO2/FLGLM/_TR_700_sub_05/beta_0101.nii -> /scratch/qbi/uqkgarn1/STRIWP1/derivatives/glmTDFAST/sub-05/TR700ECHO2/FLGLM//beta_0101.nii\n",
      "210503-15:25:08,191 nipype.interface INFO:\n",
      "\t sub: /scratch/qbi/uqkgarn1/STRIWP1/derivatives/glmTDFAST/sub-05/TR700ECHO2/FLGLM/_TR_700_sub_05/beta_0102.nii -> /scratch/qbi/uqkgarn1/STRIWP1/derivatives/glmTDFAST/sub-05/TR700ECHO2/FLGLM//beta_0102.nii\n",
      "210503-15:25:08,194 nipype.interface INFO:\n",
      "\t sub: /scratch/qbi/uqkgarn1/STRIWP1/derivatives/glmTDFAST/sub-05/TR700ECHO2/FLGLM/_TR_700_sub_05/beta_0103.nii -> /scratch/qbi/uqkgarn1/STRIWP1/derivatives/glmTDFAST/sub-05/TR700ECHO2/FLGLM//beta_0103.nii\n",
      "210503-15:25:08,196 nipype.interface INFO:\n",
      "\t sub: /scratch/qbi/uqkgarn1/STRIWP1/derivatives/glmTDFAST/sub-05/TR700ECHO2/FLGLM/_TR_700_sub_05/beta_0104.nii -> /scratch/qbi/uqkgarn1/STRIWP1/derivatives/glmTDFAST/sub-05/TR700ECHO2/FLGLM//beta_0104.nii\n",
      "210503-15:25:08,198 nipype.interface INFO:\n",
      "\t sub: /scratch/qbi/uqkgarn1/STRIWP1/derivatives/glmTDFAST/sub-05/TR700ECHO2/FLGLM/_TR_700_sub_05/beta_0105.nii -> /scratch/qbi/uqkgarn1/STRIWP1/derivatives/glmTDFAST/sub-05/TR700ECHO2/FLGLM//beta_0105.nii\n",
      "210503-15:25:08,200 nipype.interface INFO:\n",
      "\t sub: /scratch/qbi/uqkgarn1/STRIWP1/derivatives/glmTDFAST/sub-05/TR700ECHO2/FLGLM/_TR_700_sub_05/beta_0106.nii -> /scratch/qbi/uqkgarn1/STRIWP1/derivatives/glmTDFAST/sub-05/TR700ECHO2/FLGLM//beta_0106.nii\n",
      "210503-15:25:08,203 nipype.interface INFO:\n",
      "\t sub: /scratch/qbi/uqkgarn1/STRIWP1/derivatives/glmTDFAST/sub-05/TR700ECHO2/FLGLM/_TR_700_sub_05/beta_0107.nii -> /scratch/qbi/uqkgarn1/STRIWP1/derivatives/glmTDFAST/sub-05/TR700ECHO2/FLGLM//beta_0107.nii\n",
      "210503-15:25:08,205 nipype.interface INFO:\n",
      "\t sub: /scratch/qbi/uqkgarn1/STRIWP1/derivatives/glmTDFAST/sub-05/TR700ECHO2/FLGLM/_TR_700_sub_05/beta_0108.nii -> /scratch/qbi/uqkgarn1/STRIWP1/derivatives/glmTDFAST/sub-05/TR700ECHO2/FLGLM//beta_0108.nii\n",
      "210503-15:25:08,207 nipype.interface INFO:\n",
      "\t sub: /scratch/qbi/uqkgarn1/STRIWP1/derivatives/glmTDFAST/sub-05/TR700ECHO2/FLGLM/_TR_700_sub_05/beta_0109.nii -> /scratch/qbi/uqkgarn1/STRIWP1/derivatives/glmTDFAST/sub-05/TR700ECHO2/FLGLM//beta_0109.nii\n",
      "210503-15:25:08,209 nipype.interface INFO:\n",
      "\t sub: /scratch/qbi/uqkgarn1/STRIWP1/derivatives/glmTDFAST/sub-05/TR700ECHO2/FLGLM/_TR_700_sub_05/beta_0110.nii -> /scratch/qbi/uqkgarn1/STRIWP1/derivatives/glmTDFAST/sub-05/TR700ECHO2/FLGLM//beta_0110.nii\n",
      "210503-15:25:08,211 nipype.interface INFO:\n",
      "\t sub: /scratch/qbi/uqkgarn1/STRIWP1/derivatives/glmTDFAST/sub-05/TR700ECHO2/FLGLM/_TR_700_sub_05/beta_0111.nii -> /scratch/qbi/uqkgarn1/STRIWP1/derivatives/glmTDFAST/sub-05/TR700ECHO2/FLGLM//beta_0111.nii\n",
      "210503-15:25:08,214 nipype.interface INFO:\n",
      "\t sub: /scratch/qbi/uqkgarn1/STRIWP1/derivatives/glmTDFAST/sub-05/TR700ECHO2/FLGLM/_TR_700_sub_05/beta_0112.nii -> /scratch/qbi/uqkgarn1/STRIWP1/derivatives/glmTDFAST/sub-05/TR700ECHO2/FLGLM//beta_0112.nii\n",
      "210503-15:25:08,216 nipype.interface INFO:\n",
      "\t sub: /scratch/qbi/uqkgarn1/STRIWP1/derivatives/glmTDFAST/sub-05/TR700ECHO2/FLGLM/_TR_700_sub_05/beta_0113.nii -> /scratch/qbi/uqkgarn1/STRIWP1/derivatives/glmTDFAST/sub-05/TR700ECHO2/FLGLM//beta_0113.nii\n",
      "210503-15:25:08,218 nipype.interface INFO:\n",
      "\t sub: /scratch/qbi/uqkgarn1/STRIWP1/derivatives/glmTDFAST/sub-05/TR700ECHO2/FLGLM/_TR_700_sub_05/beta_0114.nii -> /scratch/qbi/uqkgarn1/STRIWP1/derivatives/glmTDFAST/sub-05/TR700ECHO2/FLGLM//beta_0114.nii\n",
      "210503-15:25:08,221 nipype.interface INFO:\n",
      "\t sub: /scratch/qbi/uqkgarn1/STRIWP1/derivatives/glmTDFAST/sub-05/TR700ECHO2/FLGLM/_TR_700_sub_05/beta_0115.nii -> /scratch/qbi/uqkgarn1/STRIWP1/derivatives/glmTDFAST/sub-05/TR700ECHO2/FLGLM//beta_0115.nii\n",
      "210503-15:25:08,224 nipype.interface INFO:\n",
      "\t sub: /scratch/qbi/uqkgarn1/STRIWP1/derivatives/glmTDFAST/sub-05/TR700ECHO2/FLGLM/_TR_700_sub_05/beta_0116.nii -> /scratch/qbi/uqkgarn1/STRIWP1/derivatives/glmTDFAST/sub-05/TR700ECHO2/FLGLM//beta_0116.nii\n"
     ]
    },
    {
     "name": "stdout",
     "output_type": "stream",
     "text": [
      "210503-15:25:08,227 nipype.interface INFO:\n",
      "\t sub: /scratch/qbi/uqkgarn1/STRIWP1/derivatives/glmTDFAST/sub-05/TR700ECHO2/FLGLM/_TR_700_sub_05/beta_0117.nii -> /scratch/qbi/uqkgarn1/STRIWP1/derivatives/glmTDFAST/sub-05/TR700ECHO2/FLGLM//beta_0117.nii\n",
      "210503-15:25:08,229 nipype.interface INFO:\n",
      "\t sub: /scratch/qbi/uqkgarn1/STRIWP1/derivatives/glmTDFAST/sub-05/TR700ECHO2/FLGLM/_TR_700_sub_05/beta_0118.nii -> /scratch/qbi/uqkgarn1/STRIWP1/derivatives/glmTDFAST/sub-05/TR700ECHO2/FLGLM//beta_0118.nii\n",
      "210503-15:25:08,231 nipype.interface INFO:\n",
      "\t sub: /scratch/qbi/uqkgarn1/STRIWP1/derivatives/glmTDFAST/sub-05/TR700ECHO2/FLGLM/_TR_700_sub_05/beta_0119.nii -> /scratch/qbi/uqkgarn1/STRIWP1/derivatives/glmTDFAST/sub-05/TR700ECHO2/FLGLM//beta_0119.nii\n",
      "210503-15:25:08,233 nipype.interface INFO:\n",
      "\t sub: /scratch/qbi/uqkgarn1/STRIWP1/derivatives/glmTDFAST/sub-05/TR700ECHO2/FLGLM/_TR_700_sub_05/beta_0120.nii -> /scratch/qbi/uqkgarn1/STRIWP1/derivatives/glmTDFAST/sub-05/TR700ECHO2/FLGLM//beta_0120.nii\n",
      "210503-15:25:08,235 nipype.interface INFO:\n",
      "\t sub: /scratch/qbi/uqkgarn1/STRIWP1/derivatives/glmTDFAST/sub-05/TR700ECHO2/FLGLM/_TR_700_sub_05/beta_0121.nii -> /scratch/qbi/uqkgarn1/STRIWP1/derivatives/glmTDFAST/sub-05/TR700ECHO2/FLGLM//beta_0121.nii\n",
      "210503-15:25:08,237 nipype.interface INFO:\n",
      "\t sub: /scratch/qbi/uqkgarn1/STRIWP1/derivatives/glmTDFAST/sub-05/TR700ECHO2/FLGLM/_TR_700_sub_05/beta_0122.nii -> /scratch/qbi/uqkgarn1/STRIWP1/derivatives/glmTDFAST/sub-05/TR700ECHO2/FLGLM//beta_0122.nii\n",
      "210503-15:25:08,240 nipype.interface INFO:\n",
      "\t sub: /scratch/qbi/uqkgarn1/STRIWP1/derivatives/glmTDFAST/sub-05/TR700ECHO2/FLGLM/_TR_700_sub_05/beta_0123.nii -> /scratch/qbi/uqkgarn1/STRIWP1/derivatives/glmTDFAST/sub-05/TR700ECHO2/FLGLM//beta_0123.nii\n",
      "210503-15:25:08,242 nipype.interface INFO:\n",
      "\t sub: /scratch/qbi/uqkgarn1/STRIWP1/derivatives/glmTDFAST/sub-05/TR700ECHO2/FLGLM/_TR_700_sub_05/beta_0124.nii -> /scratch/qbi/uqkgarn1/STRIWP1/derivatives/glmTDFAST/sub-05/TR700ECHO2/FLGLM//beta_0124.nii\n",
      "210503-15:25:08,244 nipype.interface INFO:\n",
      "\t sub: /scratch/qbi/uqkgarn1/STRIWP1/derivatives/glmTDFAST/sub-05/TR700ECHO2/FLGLM/_TR_700_sub_05/beta_0125.nii -> /scratch/qbi/uqkgarn1/STRIWP1/derivatives/glmTDFAST/sub-05/TR700ECHO2/FLGLM//beta_0125.nii\n",
      "210503-15:25:08,247 nipype.interface INFO:\n",
      "\t sub: /scratch/qbi/uqkgarn1/STRIWP1/derivatives/glmTDFAST/sub-05/TR700ECHO2/FLGLM/_TR_700_sub_05/beta_0126.nii -> /scratch/qbi/uqkgarn1/STRIWP1/derivatives/glmTDFAST/sub-05/TR700ECHO2/FLGLM//beta_0126.nii\n",
      "210503-15:25:08,249 nipype.interface INFO:\n",
      "\t sub: /scratch/qbi/uqkgarn1/STRIWP1/derivatives/glmTDFAST/sub-05/TR700ECHO2/FLGLM/_TR_700_sub_05/beta_0127.nii -> /scratch/qbi/uqkgarn1/STRIWP1/derivatives/glmTDFAST/sub-05/TR700ECHO2/FLGLM//beta_0127.nii\n",
      "210503-15:25:08,251 nipype.interface INFO:\n",
      "\t sub: /scratch/qbi/uqkgarn1/STRIWP1/derivatives/glmTDFAST/sub-05/TR700ECHO2/FLGLM/_TR_700_sub_05/beta_0128.nii -> /scratch/qbi/uqkgarn1/STRIWP1/derivatives/glmTDFAST/sub-05/TR700ECHO2/FLGLM//beta_0128.nii\n",
      "210503-15:25:08,253 nipype.interface INFO:\n",
      "\t sub: /scratch/qbi/uqkgarn1/STRIWP1/derivatives/glmTDFAST/sub-05/TR700ECHO2/FLGLM/_TR_700_sub_05/beta_0129.nii -> /scratch/qbi/uqkgarn1/STRIWP1/derivatives/glmTDFAST/sub-05/TR700ECHO2/FLGLM//beta_0129.nii\n",
      "210503-15:25:08,255 nipype.interface INFO:\n",
      "\t sub: /scratch/qbi/uqkgarn1/STRIWP1/derivatives/glmTDFAST/sub-05/TR700ECHO2/FLGLM/_TR_700_sub_05/beta_0130.nii -> /scratch/qbi/uqkgarn1/STRIWP1/derivatives/glmTDFAST/sub-05/TR700ECHO2/FLGLM//beta_0130.nii\n",
      "210503-15:25:08,259 nipype.interface INFO:\n",
      "\t sub: /scratch/qbi/uqkgarn1/STRIWP1/derivatives/glmTDFAST/sub-05/TR700ECHO2/FLGLM/_TR_700_sub_05/beta_0131.nii -> /scratch/qbi/uqkgarn1/STRIWP1/derivatives/glmTDFAST/sub-05/TR700ECHO2/FLGLM//beta_0131.nii\n",
      "210503-15:25:08,262 nipype.interface INFO:\n",
      "\t sub: /scratch/qbi/uqkgarn1/STRIWP1/derivatives/glmTDFAST/sub-05/TR700ECHO2/FLGLM/_TR_700_sub_05/beta_0132.nii -> /scratch/qbi/uqkgarn1/STRIWP1/derivatives/glmTDFAST/sub-05/TR700ECHO2/FLGLM//beta_0132.nii\n",
      "210503-15:25:08,264 nipype.interface INFO:\n",
      "\t sub: /scratch/qbi/uqkgarn1/STRIWP1/derivatives/glmTDFAST/sub-05/TR700ECHO2/FLGLM/_TR_700_sub_05/beta_0133.nii -> /scratch/qbi/uqkgarn1/STRIWP1/derivatives/glmTDFAST/sub-05/TR700ECHO2/FLGLM//beta_0133.nii\n",
      "210503-15:25:08,267 nipype.interface INFO:\n",
      "\t sub: /scratch/qbi/uqkgarn1/STRIWP1/derivatives/glmTDFAST/sub-05/TR700ECHO2/FLGLM/_TR_700_sub_05/beta_0134.nii -> /scratch/qbi/uqkgarn1/STRIWP1/derivatives/glmTDFAST/sub-05/TR700ECHO2/FLGLM//beta_0134.nii\n",
      "210503-15:25:08,269 nipype.interface INFO:\n",
      "\t sub: /scratch/qbi/uqkgarn1/STRIWP1/derivatives/glmTDFAST/sub-05/TR700ECHO2/FLGLM/_TR_700_sub_05/beta_0135.nii -> /scratch/qbi/uqkgarn1/STRIWP1/derivatives/glmTDFAST/sub-05/TR700ECHO2/FLGLM//beta_0135.nii\n",
      "210503-15:25:08,271 nipype.interface INFO:\n",
      "\t sub: /scratch/qbi/uqkgarn1/STRIWP1/derivatives/glmTDFAST/sub-05/TR700ECHO2/FLGLM/_TR_700_sub_05/beta_0136.nii -> /scratch/qbi/uqkgarn1/STRIWP1/derivatives/glmTDFAST/sub-05/TR700ECHO2/FLGLM//beta_0136.nii\n",
      "210503-15:25:08,273 nipype.interface INFO:\n",
      "\t sub: /scratch/qbi/uqkgarn1/STRIWP1/derivatives/glmTDFAST/sub-05/TR700ECHO2/FLGLM/_TR_700_sub_05/beta_0137.nii -> /scratch/qbi/uqkgarn1/STRIWP1/derivatives/glmTDFAST/sub-05/TR700ECHO2/FLGLM//beta_0137.nii\n",
      "210503-15:25:08,275 nipype.interface INFO:\n",
      "\t sub: /scratch/qbi/uqkgarn1/STRIWP1/derivatives/glmTDFAST/sub-05/TR700ECHO2/FLGLM/_TR_700_sub_05/beta_0138.nii -> /scratch/qbi/uqkgarn1/STRIWP1/derivatives/glmTDFAST/sub-05/TR700ECHO2/FLGLM//beta_0138.nii\n",
      "210503-15:25:08,278 nipype.interface INFO:\n",
      "\t sub: /scratch/qbi/uqkgarn1/STRIWP1/derivatives/glmTDFAST/sub-05/TR700ECHO2/FLGLM/_TR_700_sub_05/beta_0139.nii -> /scratch/qbi/uqkgarn1/STRIWP1/derivatives/glmTDFAST/sub-05/TR700ECHO2/FLGLM//beta_0139.nii\n",
      "210503-15:25:08,280 nipype.interface INFO:\n",
      "\t sub: /scratch/qbi/uqkgarn1/STRIWP1/derivatives/glmTDFAST/sub-05/TR700ECHO2/FLGLM/_TR_700_sub_05/beta_0140.nii -> /scratch/qbi/uqkgarn1/STRIWP1/derivatives/glmTDFAST/sub-05/TR700ECHO2/FLGLM//beta_0140.nii\n",
      "210503-15:25:08,282 nipype.interface INFO:\n",
      "\t sub: /scratch/qbi/uqkgarn1/STRIWP1/derivatives/glmTDFAST/sub-05/TR700ECHO2/FLGLM/_TR_700_sub_05/beta_0141.nii -> /scratch/qbi/uqkgarn1/STRIWP1/derivatives/glmTDFAST/sub-05/TR700ECHO2/FLGLM//beta_0141.nii\n",
      "210503-15:25:08,285 nipype.interface INFO:\n",
      "\t sub: /scratch/qbi/uqkgarn1/STRIWP1/derivatives/glmTDFAST/sub-05/TR700ECHO2/FLGLM/_TR_700_sub_05/beta_0142.nii -> /scratch/qbi/uqkgarn1/STRIWP1/derivatives/glmTDFAST/sub-05/TR700ECHO2/FLGLM//beta_0142.nii\n",
      "210503-15:25:08,287 nipype.interface INFO:\n",
      "\t sub: /scratch/qbi/uqkgarn1/STRIWP1/derivatives/glmTDFAST/sub-05/TR700ECHO2/FLGLM/_TR_700_sub_05/beta_0143.nii -> /scratch/qbi/uqkgarn1/STRIWP1/derivatives/glmTDFAST/sub-05/TR700ECHO2/FLGLM//beta_0143.nii\n",
      "210503-15:25:08,289 nipype.interface INFO:\n",
      "\t sub: /scratch/qbi/uqkgarn1/STRIWP1/derivatives/glmTDFAST/sub-05/TR700ECHO2/FLGLM/_TR_700_sub_05/beta_0144.nii -> /scratch/qbi/uqkgarn1/STRIWP1/derivatives/glmTDFAST/sub-05/TR700ECHO2/FLGLM//beta_0144.nii\n",
      "210503-15:25:08,291 nipype.interface INFO:\n",
      "\t sub: /scratch/qbi/uqkgarn1/STRIWP1/derivatives/glmTDFAST/sub-05/TR700ECHO2/FLGLM/_TR_700_sub_05/beta_0145.nii -> /scratch/qbi/uqkgarn1/STRIWP1/derivatives/glmTDFAST/sub-05/TR700ECHO2/FLGLM//beta_0145.nii\n",
      "210503-15:25:08,293 nipype.interface INFO:\n",
      "\t sub: /scratch/qbi/uqkgarn1/STRIWP1/derivatives/glmTDFAST/sub-05/TR700ECHO2/FLGLM/_TR_700_sub_05/beta_0146.nii -> /scratch/qbi/uqkgarn1/STRIWP1/derivatives/glmTDFAST/sub-05/TR700ECHO2/FLGLM//beta_0146.nii\n",
      "210503-15:25:08,296 nipype.interface INFO:\n",
      "\t sub: /scratch/qbi/uqkgarn1/STRIWP1/derivatives/glmTDFAST/sub-05/TR700ECHO2/FLGLM/_TR_700_sub_05/beta_0147.nii -> /scratch/qbi/uqkgarn1/STRIWP1/derivatives/glmTDFAST/sub-05/TR700ECHO2/FLGLM//beta_0147.nii\n",
      "210503-15:25:08,298 nipype.interface INFO:\n",
      "\t sub: /scratch/qbi/uqkgarn1/STRIWP1/derivatives/glmTDFAST/sub-05/TR700ECHO2/FLGLM/_TR_700_sub_05/beta_0148.nii -> /scratch/qbi/uqkgarn1/STRIWP1/derivatives/glmTDFAST/sub-05/TR700ECHO2/FLGLM//beta_0148.nii\n",
      "210503-15:25:08,300 nipype.interface INFO:\n",
      "\t sub: /scratch/qbi/uqkgarn1/STRIWP1/derivatives/glmTDFAST/sub-05/TR700ECHO2/FLGLM/_TR_700_sub_05/beta_0149.nii -> /scratch/qbi/uqkgarn1/STRIWP1/derivatives/glmTDFAST/sub-05/TR700ECHO2/FLGLM//beta_0149.nii\n"
     ]
    },
    {
     "name": "stdout",
     "output_type": "stream",
     "text": [
      "210503-15:25:08,302 nipype.interface INFO:\n",
      "\t sub: /scratch/qbi/uqkgarn1/STRIWP1/derivatives/glmTDFAST/sub-05/TR700ECHO2/FLGLM/_TR_700_sub_05/beta_0150.nii -> /scratch/qbi/uqkgarn1/STRIWP1/derivatives/glmTDFAST/sub-05/TR700ECHO2/FLGLM//beta_0150.nii\n",
      "210503-15:25:08,304 nipype.interface INFO:\n",
      "\t sub: /scratch/qbi/uqkgarn1/STRIWP1/derivatives/glmTDFAST/sub-05/TR700ECHO2/FLGLM/_TR_700_sub_05/beta_0151.nii -> /scratch/qbi/uqkgarn1/STRIWP1/derivatives/glmTDFAST/sub-05/TR700ECHO2/FLGLM//beta_0151.nii\n",
      "210503-15:25:08,307 nipype.interface INFO:\n",
      "\t sub: /scratch/qbi/uqkgarn1/STRIWP1/derivatives/glmTDFAST/sub-05/TR700ECHO2/FLGLM/_TR_700_sub_05/beta_0152.nii -> /scratch/qbi/uqkgarn1/STRIWP1/derivatives/glmTDFAST/sub-05/TR700ECHO2/FLGLM//beta_0152.nii\n",
      "210503-15:25:08,309 nipype.interface INFO:\n",
      "\t sub: /scratch/qbi/uqkgarn1/STRIWP1/derivatives/glmTDFAST/sub-05/TR700ECHO2/FLGLM/_TR_700_sub_05/beta_0153.nii -> /scratch/qbi/uqkgarn1/STRIWP1/derivatives/glmTDFAST/sub-05/TR700ECHO2/FLGLM//beta_0153.nii\n",
      "210503-15:25:08,311 nipype.interface INFO:\n",
      "\t sub: /scratch/qbi/uqkgarn1/STRIWP1/derivatives/glmTDFAST/sub-05/TR700ECHO2/FLGLM/_TR_700_sub_05/beta_0154.nii -> /scratch/qbi/uqkgarn1/STRIWP1/derivatives/glmTDFAST/sub-05/TR700ECHO2/FLGLM//beta_0154.nii\n",
      "210503-15:25:08,313 nipype.interface INFO:\n",
      "\t sub: /scratch/qbi/uqkgarn1/STRIWP1/derivatives/glmTDFAST/sub-05/TR700ECHO2/FLGLM/_TR_700_sub_05/beta_0155.nii -> /scratch/qbi/uqkgarn1/STRIWP1/derivatives/glmTDFAST/sub-05/TR700ECHO2/FLGLM//beta_0155.nii\n",
      "210503-15:25:08,316 nipype.interface INFO:\n",
      "\t sub: /scratch/qbi/uqkgarn1/STRIWP1/derivatives/glmTDFAST/sub-05/TR700ECHO2/FLGLM/_TR_700_sub_05/beta_0156.nii -> /scratch/qbi/uqkgarn1/STRIWP1/derivatives/glmTDFAST/sub-05/TR700ECHO2/FLGLM//beta_0156.nii\n",
      "210503-15:25:08,318 nipype.interface INFO:\n",
      "\t sub: /scratch/qbi/uqkgarn1/STRIWP1/derivatives/glmTDFAST/sub-05/TR700ECHO2/FLGLM/_TR_700_sub_05/beta_0157.nii -> /scratch/qbi/uqkgarn1/STRIWP1/derivatives/glmTDFAST/sub-05/TR700ECHO2/FLGLM//beta_0157.nii\n",
      "210503-15:25:08,320 nipype.interface INFO:\n",
      "\t sub: /scratch/qbi/uqkgarn1/STRIWP1/derivatives/glmTDFAST/sub-05/TR700ECHO2/FLGLM/_TR_700_sub_05/beta_0158.nii -> /scratch/qbi/uqkgarn1/STRIWP1/derivatives/glmTDFAST/sub-05/TR700ECHO2/FLGLM//beta_0158.nii\n",
      "210503-15:25:08,323 nipype.interface INFO:\n",
      "\t sub: /scratch/qbi/uqkgarn1/STRIWP1/derivatives/glmTDFAST/sub-05/TR700ECHO2/FLGLM/_TR_700_sub_05/beta_0159.nii -> /scratch/qbi/uqkgarn1/STRIWP1/derivatives/glmTDFAST/sub-05/TR700ECHO2/FLGLM//beta_0159.nii\n",
      "210503-15:25:08,325 nipype.interface INFO:\n",
      "\t sub: /scratch/qbi/uqkgarn1/STRIWP1/derivatives/glmTDFAST/sub-05/TR700ECHO2/FLGLM/_TR_700_sub_05/beta_0160.nii -> /scratch/qbi/uqkgarn1/STRIWP1/derivatives/glmTDFAST/sub-05/TR700ECHO2/FLGLM//beta_0160.nii\n",
      "210503-15:25:08,327 nipype.interface INFO:\n",
      "\t sub: /scratch/qbi/uqkgarn1/STRIWP1/derivatives/glmTDFAST/sub-05/TR700ECHO2/FLGLM/_TR_700_sub_05/beta_0161.nii -> /scratch/qbi/uqkgarn1/STRIWP1/derivatives/glmTDFAST/sub-05/TR700ECHO2/FLGLM//beta_0161.nii\n",
      "210503-15:25:08,330 nipype.interface INFO:\n",
      "\t sub: /scratch/qbi/uqkgarn1/STRIWP1/derivatives/glmTDFAST/sub-05/TR700ECHO2/FLGLM/_TR_700_sub_05/beta_0162.nii -> /scratch/qbi/uqkgarn1/STRIWP1/derivatives/glmTDFAST/sub-05/TR700ECHO2/FLGLM//beta_0162.nii\n",
      "210503-15:25:08,332 nipype.interface INFO:\n",
      "\t sub: /scratch/qbi/uqkgarn1/STRIWP1/derivatives/glmTDFAST/sub-05/TR700ECHO2/FLGLM/_TR_700_sub_05/beta_0163.nii -> /scratch/qbi/uqkgarn1/STRIWP1/derivatives/glmTDFAST/sub-05/TR700ECHO2/FLGLM//beta_0163.nii\n",
      "210503-15:25:08,334 nipype.interface INFO:\n",
      "\t sub: /scratch/qbi/uqkgarn1/STRIWP1/derivatives/glmTDFAST/sub-05/TR700ECHO2/FLGLM/_TR_700_sub_05/beta_0164.nii -> /scratch/qbi/uqkgarn1/STRIWP1/derivatives/glmTDFAST/sub-05/TR700ECHO2/FLGLM//beta_0164.nii\n",
      "210503-15:25:08,336 nipype.interface INFO:\n",
      "\t sub: /scratch/qbi/uqkgarn1/STRIWP1/derivatives/glmTDFAST/sub-05/TR700ECHO2/FLGLM/_TR_700_sub_05/beta_0165.nii -> /scratch/qbi/uqkgarn1/STRIWP1/derivatives/glmTDFAST/sub-05/TR700ECHO2/FLGLM//beta_0165.nii\n",
      "210503-15:25:08,338 nipype.interface INFO:\n",
      "\t sub: /scratch/qbi/uqkgarn1/STRIWP1/derivatives/glmTDFAST/sub-05/TR700ECHO2/FLGLM/_TR_700_sub_05/beta_0166.nii -> /scratch/qbi/uqkgarn1/STRIWP1/derivatives/glmTDFAST/sub-05/TR700ECHO2/FLGLM//beta_0166.nii\n",
      "210503-15:25:08,340 nipype.interface INFO:\n",
      "\t sub: /scratch/qbi/uqkgarn1/STRIWP1/derivatives/glmTDFAST/sub-05/TR700ECHO2/FLGLM/_TR_700_sub_05/beta_0167.nii -> /scratch/qbi/uqkgarn1/STRIWP1/derivatives/glmTDFAST/sub-05/TR700ECHO2/FLGLM//beta_0167.nii\n",
      "210503-15:25:08,343 nipype.interface INFO:\n",
      "\t sub: /scratch/qbi/uqkgarn1/STRIWP1/derivatives/glmTDFAST/sub-05/TR700ECHO2/FLGLM/_TR_700_sub_05/beta_0168.nii -> /scratch/qbi/uqkgarn1/STRIWP1/derivatives/glmTDFAST/sub-05/TR700ECHO2/FLGLM//beta_0168.nii\n",
      "210503-15:25:08,346 nipype.interface INFO:\n",
      "\t sub: /scratch/qbi/uqkgarn1/STRIWP1/derivatives/glmTDFAST/sub-05/TR700ECHO2/FLGLM/_TR_700_sub_05/beta_0169.nii -> /scratch/qbi/uqkgarn1/STRIWP1/derivatives/glmTDFAST/sub-05/TR700ECHO2/FLGLM//beta_0169.nii\n",
      "210503-15:25:08,348 nipype.interface INFO:\n",
      "\t sub: /scratch/qbi/uqkgarn1/STRIWP1/derivatives/glmTDFAST/sub-05/TR700ECHO2/FLGLM/_TR_700_sub_05/beta_0170.nii -> /scratch/qbi/uqkgarn1/STRIWP1/derivatives/glmTDFAST/sub-05/TR700ECHO2/FLGLM//beta_0170.nii\n",
      "210503-15:25:08,350 nipype.interface INFO:\n",
      "\t sub: /scratch/qbi/uqkgarn1/STRIWP1/derivatives/glmTDFAST/sub-05/TR700ECHO2/FLGLM/_TR_700_sub_05/beta_0171.nii -> /scratch/qbi/uqkgarn1/STRIWP1/derivatives/glmTDFAST/sub-05/TR700ECHO2/FLGLM//beta_0171.nii\n",
      "210503-15:25:08,353 nipype.interface INFO:\n",
      "\t sub: /scratch/qbi/uqkgarn1/STRIWP1/derivatives/glmTDFAST/sub-05/TR700ECHO2/FLGLM/_TR_700_sub_05/beta_0172.nii -> /scratch/qbi/uqkgarn1/STRIWP1/derivatives/glmTDFAST/sub-05/TR700ECHO2/FLGLM//beta_0172.nii\n",
      "210503-15:25:08,355 nipype.interface INFO:\n",
      "\t sub: /scratch/qbi/uqkgarn1/STRIWP1/derivatives/glmTDFAST/sub-05/TR700ECHO2/FLGLM/_TR_700_sub_05/beta_0173.nii -> /scratch/qbi/uqkgarn1/STRIWP1/derivatives/glmTDFAST/sub-05/TR700ECHO2/FLGLM//beta_0173.nii\n",
      "210503-15:25:08,357 nipype.interface INFO:\n",
      "\t sub: /scratch/qbi/uqkgarn1/STRIWP1/derivatives/glmTDFAST/sub-05/TR700ECHO2/FLGLM/_TR_700_sub_05/beta_0174.nii -> /scratch/qbi/uqkgarn1/STRIWP1/derivatives/glmTDFAST/sub-05/TR700ECHO2/FLGLM//beta_0174.nii\n",
      "210503-15:25:08,359 nipype.interface INFO:\n",
      "\t sub: /scratch/qbi/uqkgarn1/STRIWP1/derivatives/glmTDFAST/sub-05/TR700ECHO2/FLGLM/_TR_700_sub_05/ResMS.nii -> /scratch/qbi/uqkgarn1/STRIWP1/derivatives/glmTDFAST/sub-05/TR700ECHO2/FLGLM//ResMS.nii\n",
      "210503-15:25:08,363 nipype.interface INFO:\n",
      "\t sub: /scratch/qbi/uqkgarn1/STRIWP1/derivatives/glmTDFAST/sub-05/TR700ECHO2/FLGLM/_TR_700_sub_05/con_0001.nii -> /scratch/qbi/uqkgarn1/STRIWP1/derivatives/glmTDFAST/sub-05/TR700ECHO2/FLGLM//con_0001.nii\n",
      "210503-15:25:08,365 nipype.interface INFO:\n",
      "\t sub: /scratch/qbi/uqkgarn1/STRIWP1/derivatives/glmTDFAST/sub-05/TR700ECHO2/FLGLM/_TR_700_sub_05/con_0002.nii -> /scratch/qbi/uqkgarn1/STRIWP1/derivatives/glmTDFAST/sub-05/TR700ECHO2/FLGLM//con_0002.nii\n",
      "210503-15:25:08,367 nipype.interface INFO:\n",
      "\t sub: /scratch/qbi/uqkgarn1/STRIWP1/derivatives/glmTDFAST/sub-05/TR700ECHO2/FLGLM/_TR_700_sub_05/con_0003.nii -> /scratch/qbi/uqkgarn1/STRIWP1/derivatives/glmTDFAST/sub-05/TR700ECHO2/FLGLM//con_0003.nii\n",
      "210503-15:25:08,369 nipype.interface INFO:\n",
      "\t sub: /scratch/qbi/uqkgarn1/STRIWP1/derivatives/glmTDFAST/sub-05/TR700ECHO2/FLGLM/_TR_700_sub_05/con_0004.nii -> /scratch/qbi/uqkgarn1/STRIWP1/derivatives/glmTDFAST/sub-05/TR700ECHO2/FLGLM//con_0004.nii\n",
      "210503-15:25:08,372 nipype.interface INFO:\n",
      "\t sub: /scratch/qbi/uqkgarn1/STRIWP1/derivatives/glmTDFAST/sub-05/TR700ECHO2/FLGLM/_TR_700_sub_05/con_0005.nii -> /scratch/qbi/uqkgarn1/STRIWP1/derivatives/glmTDFAST/sub-05/TR700ECHO2/FLGLM//con_0005.nii\n",
      "210503-15:25:08,374 nipype.interface INFO:\n",
      "\t sub: /scratch/qbi/uqkgarn1/STRIWP1/derivatives/glmTDFAST/sub-05/TR700ECHO2/FLGLM/_TR_700_sub_05/con_0006.nii -> /scratch/qbi/uqkgarn1/STRIWP1/derivatives/glmTDFAST/sub-05/TR700ECHO2/FLGLM//con_0006.nii\n",
      "210503-15:25:08,376 nipype.interface INFO:\n",
      "\t sub: /scratch/qbi/uqkgarn1/STRIWP1/derivatives/glmTDFAST/sub-05/TR700ECHO2/FLGLM/_TR_700_sub_05/con_0007.nii -> /scratch/qbi/uqkgarn1/STRIWP1/derivatives/glmTDFAST/sub-05/TR700ECHO2/FLGLM//con_0007.nii\n"
     ]
    },
    {
     "name": "stdout",
     "output_type": "stream",
     "text": [
      "210503-15:25:08,379 nipype.interface INFO:\n",
      "\t sub: /scratch/qbi/uqkgarn1/STRIWP1/derivatives/glmTDFAST/sub-05/TR700ECHO2/FLGLM/_TR_700_sub_05/ess_0008.nii -> /scratch/qbi/uqkgarn1/STRIWP1/derivatives/glmTDFAST/sub-05/TR700ECHO2/FLGLM//ess_0008.nii\n",
      "210503-15:25:08,381 nipype.interface INFO:\n",
      "\t sub: /scratch/qbi/uqkgarn1/STRIWP1/derivatives/glmTDFAST/sub-05/TR700ECHO2/FLGLM/_TR_700_sub_05/con_0009.nii -> /scratch/qbi/uqkgarn1/STRIWP1/derivatives/glmTDFAST/sub-05/TR700ECHO2/FLGLM//con_0009.nii\n",
      "210503-15:25:08,383 nipype.interface INFO:\n",
      "\t sub: /scratch/qbi/uqkgarn1/STRIWP1/derivatives/glmTDFAST/sub-05/TR700ECHO2/FLGLM/_TR_700_sub_05/con_0010.nii -> /scratch/qbi/uqkgarn1/STRIWP1/derivatives/glmTDFAST/sub-05/TR700ECHO2/FLGLM//con_0010.nii\n",
      "210503-15:25:08,385 nipype.interface INFO:\n",
      "\t sub: /scratch/qbi/uqkgarn1/STRIWP1/derivatives/glmTDFAST/sub-05/TR700ECHO2/FLGLM/_TR_700_sub_05/con_0011.nii -> /scratch/qbi/uqkgarn1/STRIWP1/derivatives/glmTDFAST/sub-05/TR700ECHO2/FLGLM//con_0011.nii\n",
      "210503-15:25:08,387 nipype.interface INFO:\n",
      "\t sub: /scratch/qbi/uqkgarn1/STRIWP1/derivatives/glmTDFAST/sub-05/TR700ECHO2/FLGLM/_TR_700_sub_05/ess_0012.nii -> /scratch/qbi/uqkgarn1/STRIWP1/derivatives/glmTDFAST/sub-05/TR700ECHO2/FLGLM//ess_0012.nii\n",
      "210503-15:25:08,389 nipype.interface INFO:\n",
      "\t sub: /scratch/qbi/uqkgarn1/STRIWP1/derivatives/glmTDFAST/sub-05/TR700ECHO2/FLGLM/_TR_700_sub_05/con_0013.nii -> /scratch/qbi/uqkgarn1/STRIWP1/derivatives/glmTDFAST/sub-05/TR700ECHO2/FLGLM//con_0013.nii\n",
      "210503-15:25:08,392 nipype.interface INFO:\n",
      "\t sub: /scratch/qbi/uqkgarn1/STRIWP1/derivatives/glmTDFAST/sub-05/TR700ECHO2/FLGLM/_TR_700_sub_05/con_0014.nii -> /scratch/qbi/uqkgarn1/STRIWP1/derivatives/glmTDFAST/sub-05/TR700ECHO2/FLGLM//con_0014.nii\n",
      "210503-15:25:08,394 nipype.interface INFO:\n",
      "\t sub: /scratch/qbi/uqkgarn1/STRIWP1/derivatives/glmTDFAST/sub-05/TR700ECHO2/FLGLM/_TR_700_sub_05/con_0015.nii -> /scratch/qbi/uqkgarn1/STRIWP1/derivatives/glmTDFAST/sub-05/TR700ECHO2/FLGLM//con_0015.nii\n",
      "210503-15:25:08,396 nipype.interface INFO:\n",
      "\t sub: /scratch/qbi/uqkgarn1/STRIWP1/derivatives/glmTDFAST/sub-05/TR700ECHO2/FLGLM/_TR_700_sub_05/spmT_0001.nii -> /scratch/qbi/uqkgarn1/STRIWP1/derivatives/glmTDFAST/sub-05/TR700ECHO2/FLGLM//spmT_0001.nii\n",
      "210503-15:25:08,399 nipype.interface INFO:\n",
      "\t sub: /scratch/qbi/uqkgarn1/STRIWP1/derivatives/glmTDFAST/sub-05/TR700ECHO2/FLGLM/_TR_700_sub_05/spmT_0002.nii -> /scratch/qbi/uqkgarn1/STRIWP1/derivatives/glmTDFAST/sub-05/TR700ECHO2/FLGLM//spmT_0002.nii\n",
      "210503-15:25:08,401 nipype.interface INFO:\n",
      "\t sub: /scratch/qbi/uqkgarn1/STRIWP1/derivatives/glmTDFAST/sub-05/TR700ECHO2/FLGLM/_TR_700_sub_05/spmT_0003.nii -> /scratch/qbi/uqkgarn1/STRIWP1/derivatives/glmTDFAST/sub-05/TR700ECHO2/FLGLM//spmT_0003.nii\n",
      "210503-15:25:08,403 nipype.interface INFO:\n",
      "\t sub: /scratch/qbi/uqkgarn1/STRIWP1/derivatives/glmTDFAST/sub-05/TR700ECHO2/FLGLM/_TR_700_sub_05/spmT_0004.nii -> /scratch/qbi/uqkgarn1/STRIWP1/derivatives/glmTDFAST/sub-05/TR700ECHO2/FLGLM//spmT_0004.nii\n",
      "210503-15:25:08,405 nipype.interface INFO:\n",
      "\t sub: /scratch/qbi/uqkgarn1/STRIWP1/derivatives/glmTDFAST/sub-05/TR700ECHO2/FLGLM/_TR_700_sub_05/spmT_0005.nii -> /scratch/qbi/uqkgarn1/STRIWP1/derivatives/glmTDFAST/sub-05/TR700ECHO2/FLGLM//spmT_0005.nii\n",
      "210503-15:25:08,408 nipype.interface INFO:\n",
      "\t sub: /scratch/qbi/uqkgarn1/STRIWP1/derivatives/glmTDFAST/sub-05/TR700ECHO2/FLGLM/_TR_700_sub_05/spmT_0006.nii -> /scratch/qbi/uqkgarn1/STRIWP1/derivatives/glmTDFAST/sub-05/TR700ECHO2/FLGLM//spmT_0006.nii\n",
      "210503-15:25:08,410 nipype.interface INFO:\n",
      "\t sub: /scratch/qbi/uqkgarn1/STRIWP1/derivatives/glmTDFAST/sub-05/TR700ECHO2/FLGLM/_TR_700_sub_05/spmT_0007.nii -> /scratch/qbi/uqkgarn1/STRIWP1/derivatives/glmTDFAST/sub-05/TR700ECHO2/FLGLM//spmT_0007.nii\n",
      "210503-15:25:08,412 nipype.interface INFO:\n",
      "\t sub: /scratch/qbi/uqkgarn1/STRIWP1/derivatives/glmTDFAST/sub-05/TR700ECHO2/FLGLM/_TR_700_sub_05/spmF_0008.nii -> /scratch/qbi/uqkgarn1/STRIWP1/derivatives/glmTDFAST/sub-05/TR700ECHO2/FLGLM//spmF_0008.nii\n",
      "210503-15:25:08,414 nipype.interface INFO:\n",
      "\t sub: /scratch/qbi/uqkgarn1/STRIWP1/derivatives/glmTDFAST/sub-05/TR700ECHO2/FLGLM/_TR_700_sub_05/spmT_0009.nii -> /scratch/qbi/uqkgarn1/STRIWP1/derivatives/glmTDFAST/sub-05/TR700ECHO2/FLGLM//spmT_0009.nii\n",
      "210503-15:25:08,417 nipype.interface INFO:\n",
      "\t sub: /scratch/qbi/uqkgarn1/STRIWP1/derivatives/glmTDFAST/sub-05/TR700ECHO2/FLGLM/_TR_700_sub_05/spmT_0010.nii -> /scratch/qbi/uqkgarn1/STRIWP1/derivatives/glmTDFAST/sub-05/TR700ECHO2/FLGLM//spmT_0010.nii\n",
      "210503-15:25:08,419 nipype.interface INFO:\n",
      "\t sub: /scratch/qbi/uqkgarn1/STRIWP1/derivatives/glmTDFAST/sub-05/TR700ECHO2/FLGLM/_TR_700_sub_05/spmT_0011.nii -> /scratch/qbi/uqkgarn1/STRIWP1/derivatives/glmTDFAST/sub-05/TR700ECHO2/FLGLM//spmT_0011.nii\n",
      "210503-15:25:08,421 nipype.interface INFO:\n",
      "\t sub: /scratch/qbi/uqkgarn1/STRIWP1/derivatives/glmTDFAST/sub-05/TR700ECHO2/FLGLM/_TR_700_sub_05/spmF_0012.nii -> /scratch/qbi/uqkgarn1/STRIWP1/derivatives/glmTDFAST/sub-05/TR700ECHO2/FLGLM//spmF_0012.nii\n",
      "210503-15:25:08,424 nipype.interface INFO:\n",
      "\t sub: /scratch/qbi/uqkgarn1/STRIWP1/derivatives/glmTDFAST/sub-05/TR700ECHO2/FLGLM/_TR_700_sub_05/spmT_0013.nii -> /scratch/qbi/uqkgarn1/STRIWP1/derivatives/glmTDFAST/sub-05/TR700ECHO2/FLGLM//spmT_0013.nii\n",
      "210503-15:25:08,426 nipype.interface INFO:\n",
      "\t sub: /scratch/qbi/uqkgarn1/STRIWP1/derivatives/glmTDFAST/sub-05/TR700ECHO2/FLGLM/_TR_700_sub_05/spmT_0014.nii -> /scratch/qbi/uqkgarn1/STRIWP1/derivatives/glmTDFAST/sub-05/TR700ECHO2/FLGLM//spmT_0014.nii\n",
      "210503-15:25:08,428 nipype.interface INFO:\n",
      "\t sub: /scratch/qbi/uqkgarn1/STRIWP1/derivatives/glmTDFAST/sub-05/TR700ECHO2/FLGLM/_TR_700_sub_05/spmT_0015.nii -> /scratch/qbi/uqkgarn1/STRIWP1/derivatives/glmTDFAST/sub-05/TR700ECHO2/FLGLM//spmT_0015.nii\n",
      "210503-15:25:08,430 nipype.interface INFO:\n",
      "\t sub: /scratch/qbi/uqkgarn1/STRIWP1/derivatives/glmTDFAST/sub-05/TR700ECHO2/FLGLM/_TR_700_sub_05/SPM.mat -> /scratch/qbi/uqkgarn1/STRIWP1/derivatives/glmTDFAST/sub-05/TR700ECHO2/FLGLM//SPM.mat\n",
      "210503-15:25:08,818 nipype.workflow INFO:\n",
      "\t [Node] Finished \"glms.sink-stuff\".\n"
     ]
    },
    {
     "data": {
      "text/plain": [
       "<networkx.classes.digraph.DiGraph at 0x7fcd7fd9d710>"
      ]
     },
     "execution_count": 24,
     "metadata": {},
     "output_type": "execute_result"
    }
   ],
   "source": [
    "glm.run()"
   ]
  },
  {
   "cell_type": "code",
   "execution_count": null,
   "metadata": {},
   "outputs": [],
   "source": []
  }
 ],
 "metadata": {
  "kernelspec": {
   "display_name": "Python 3",
   "language": "python",
   "name": "python3"
  },
  "language_info": {
   "codemirror_mode": {
    "name": "ipython",
    "version": 3
   },
   "file_extension": ".py",
   "mimetype": "text/x-python",
   "name": "python",
   "nbconvert_exporter": "python",
   "pygments_lexer": "ipython3",
   "version": "3.6.10"
  }
 },
 "nbformat": 4,
 "nbformat_minor": 4
}
