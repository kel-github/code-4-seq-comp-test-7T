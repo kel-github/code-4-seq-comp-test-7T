{
 "cells": [
  {
   "cell_type": "markdown",
   "metadata": {},
   "source": [
    "# Combining mask files\n",
    "\n",
    "Written by K. Garner, 2020\n",
    "This code will take the relevant mask files from the Keuken atlas, and combine them to make a single bilateral mask file for each ROI"
   ]
  },
  {
   "cell_type": "code",
   "execution_count": 1,
   "metadata": {},
   "outputs": [],
   "source": [
    "import pandas as pd\n",
    "import os, re, json, glob\n",
    "# import nipype.algorithms.confounds as cfg - not using because of bug https://neurostars.org/t/nipype-isdefined-error-when-using-combine-mask-files/6888\n",
    "import nibabel as nib\n",
    "import numpy as np"
   ]
  },
  {
   "cell_type": "code",
   "execution_count": 2,
   "metadata": {},
   "outputs": [
    {
     "data": {
      "text/plain": [
       "['/scratch/qbi/uqkgarn1/STRIWP1/derivatives/roi-masks/Keuken/lateralised/RSN.nii.gz',\n",
       " '/scratch/qbi/uqkgarn1/STRIWP1/derivatives/roi-masks/Keuken/lateralised/RSTN.nii.gz',\n",
       " '/scratch/qbi/uqkgarn1/STRIWP1/derivatives/roi-masks/Keuken/lateralised/LSTN.nii.gz',\n",
       " '/scratch/qbi/uqkgarn1/STRIWP1/derivatives/roi-masks/Keuken/lateralised/LGPi.nii.gz',\n",
       " '/scratch/qbi/uqkgarn1/STRIWP1/derivatives/roi-masks/Keuken/lateralised/LSN.nii.gz',\n",
       " '/scratch/qbi/uqkgarn1/STRIWP1/derivatives/roi-masks/Keuken/lateralised/LCN.nii.gz',\n",
       " '/scratch/qbi/uqkgarn1/STRIWP1/derivatives/roi-masks/Keuken/lateralised/RCN.nii.gz',\n",
       " '/scratch/qbi/uqkgarn1/STRIWP1/derivatives/roi-masks/Keuken/lateralised/LGPe.nii.gz',\n",
       " '/scratch/qbi/uqkgarn1/STRIWP1/derivatives/roi-masks/Keuken/lateralised/RP.nii.gz',\n",
       " '/scratch/qbi/uqkgarn1/STRIWP1/derivatives/roi-masks/Keuken/lateralised/RRN.nii.gz',\n",
       " '/scratch/qbi/uqkgarn1/STRIWP1/derivatives/roi-masks/Keuken/lateralised/LRN.nii.gz',\n",
       " '/scratch/qbi/uqkgarn1/STRIWP1/derivatives/roi-masks/Keuken/lateralised/LP.nii.gz',\n",
       " '/scratch/qbi/uqkgarn1/STRIWP1/derivatives/roi-masks/Keuken/lateralised/RGPi.nii.gz',\n",
       " '/scratch/qbi/uqkgarn1/STRIWP1/derivatives/roi-masks/Keuken/lateralised/RVS.nii.gz',\n",
       " '/scratch/qbi/uqkgarn1/STRIWP1/derivatives/roi-masks/Keuken/lateralised/LVS.nii.gz',\n",
       " '/scratch/qbi/uqkgarn1/STRIWP1/derivatives/roi-masks/Keuken/lateralised/RGPe.nii.gz']"
      ]
     },
     "execution_count": 2,
     "metadata": {},
     "output_type": "execute_result"
    }
   ],
   "source": [
    "Basedir = \"/scratch/qbi/uqkgarn1/STRIWP1/\"\n",
    "Keuken = ''.join([Basedir, 'derivatives/roi-masks/Keuken/lateralised/*.nii.gz'])\n",
    "KeukenAll = glob.glob(Keuken)\n",
    "KeukenAll"
   ]
  },
  {
   "cell_type": "markdown",
   "metadata": {},
   "source": [
    "Now I will make some 'keys' of reg expressions that will grab the correct 2 files I need, for each application of the 'combine_mask_files' function"
   ]
  },
  {
   "cell_type": "code",
   "execution_count": 3,
   "metadata": {},
   "outputs": [
    {
     "data": {
      "text/plain": [
       "'derivatives/roi-masks/Keuken/lateralised/'"
      ]
     },
     "execution_count": 3,
     "metadata": {},
     "output_type": "execute_result"
    }
   ],
   "source": [
    "keys = ['*STN.', '*CN.', '*VS.', '*GPe.', '*GPi.', '*P.']\n",
    "labels = [ '/scratch/qbi/uqkgarn1/STRIWP1/derivatives/roi-masks/Keuken/STN.nii.gz', \n",
    "           '/scratch/qbi/uqkgarn1/STRIWP1/derivatives/roi-masks/Keuken/CN.nii.gz', \n",
    "           '/scratch/qbi/uqkgarn1/STRIWP1/derivatives/roi-masks/Keuken/VS.nii.gz', \n",
    "           '/scratch/qbi/uqkgarn1/STRIWP1/derivatives/roi-masks/Keuken/GPe.nii.gz', \n",
    "           '/scratch/qbi/uqkgarn1/STRIWP1/derivatives/roi-masks/Keuken/GPi.nii.gz',\n",
    "           '/scratch/qbi/uqkgarn1/STRIWP1/derivatives/roi-masks/Keuken/Put.nii.gz']\n",
    "mask_pattern = 'derivatives/roi-masks/Keuken/lateralised/'\n",
    "mask_pattern"
   ]
  },
  {
   "cell_type": "markdown",
   "metadata": {},
   "source": [
    "And define a function for combining mask files:"
   ]
  },
  {
   "cell_type": "markdown",
   "metadata": {},
   "source": [
    "For some reason, the combine_mask_files function fails on its first logical definition, so pasting code across from function to use manually...https://github.com/nipy/nipype/blob/1.4.2/nipype/algorithms/confounds.py"
   ]
  },
  {
   "cell_type": "code",
   "execution_count": 4,
   "metadata": {},
   "outputs": [],
   "source": [
    "def combine_mask_files_kg(key, mask_pattern, fname, Basedir):\n",
    "    # key = a reg exp to find specific ROIs\n",
    "    # mask pattern = a template to find file names using glob\n",
    "    # fname = save filename\n",
    "    # combines using the union method\n",
    "    fs = ''.join([Basedir, mask_pattern, key, 'nii.gz'])\n",
    "    mask_files = glob.glob(fs)\n",
    "    mask = None\n",
    "    for filename in mask_files:\n",
    "        img = nib.load(filename)\n",
    "        img_as_mask = np.asanyarray(img.dataobj).astype(\"int32\") > 0\n",
    "        if mask is None:\n",
    "            mask = img_as_mask\n",
    "    np.logical_or(mask, img_as_mask, mask)\n",
    "    img = nib.Nifti1Image(mask, img.affine, header=img.header)\n",
    "    nib.save(img, fname)"
   ]
  },
  {
   "cell_type": "markdown",
   "metadata": {},
   "source": [
    "Now I apply the function over the key and label lists\n"
   ]
  },
  {
   "cell_type": "code",
   "execution_count": null,
   "metadata": {},
   "outputs": [],
   "source": [
    "for key, label in zip(keys, labels):\n",
    "    combine_mask_files_kg(key=key, mask_pattern=mask_pattern, fname=label, Basedir=Basedir)\n",
    "\n"
   ]
  },
  {
   "cell_type": "markdown",
   "metadata": {},
   "source": [
    "et viola! :)"
   ]
  },
  {
   "cell_type": "markdown",
   "metadata": {},
   "source": [
    "## And now the same for the cortical mask files"
   ]
  },
  {
   "cell_type": "code",
   "execution_count": 5,
   "metadata": {},
   "outputs": [
    {
     "data": {
      "text/plain": [
       "['/scratch/qbi/uqkgarn1/STRIWP1/derivatives/roi-masks/Cort/lateralized/LIPSsphere_bin.nii.gz',\n",
       " '/scratch/qbi/uqkgarn1/STRIWP1/derivatives/roi-masks/Cort/lateralized/RIPSsphere_bin.nii.gz',\n",
       " '/scratch/qbi/uqkgarn1/STRIWP1/derivatives/roi-masks/Cort/lateralized/RFEFsphere_bin.nii.gz',\n",
       " '/scratch/qbi/uqkgarn1/STRIWP1/derivatives/roi-masks/Cort/lateralized/LOCsphere_bin.nii.gz',\n",
       " '/scratch/qbi/uqkgarn1/STRIWP1/derivatives/roi-masks/Cort/lateralized/LFEFsphere_bin.nii.gz']"
      ]
     },
     "execution_count": 5,
     "metadata": {},
     "output_type": "execute_result"
    }
   ],
   "source": [
    "Cort = ''.join([Basedir, 'derivatives/roi-masks/Cort/lateralized/*.nii.gz'])\n",
    "Cort = glob.glob(Cort)\n",
    "Cort"
   ]
  },
  {
   "cell_type": "code",
   "execution_count": 20,
   "metadata": {},
   "outputs": [
    {
     "data": {
      "text/plain": [
       "'derivatives/roi-masks/Cort/lateralized/'"
      ]
     },
     "execution_count": 20,
     "metadata": {},
     "output_type": "execute_result"
    }
   ],
   "source": [
    "keys = ['*FEF*', '*IPS*']\n",
    "labels = [ '/scratch/qbi/uqkgarn1/STRIWP1/derivatives/roi-masks/Cort/FEF.nii.gz', \n",
    "           '/scratch/qbi/uqkgarn1/STRIWP1/derivatives/roi-masks/Cort/IPS.nii.gz']\n",
    "mask_pattern = 'derivatives/roi-masks/Cort/lateralized/'\n",
    "mask_pattern"
   ]
  },
  {
   "cell_type": "code",
   "execution_count": 21,
   "metadata": {},
   "outputs": [],
   "source": [
    "for key, label in zip(keys, labels):\n",
    "    combine_mask_files_kg(key=key, mask_pattern=mask_pattern, fname=label, Basedir=Basedir)"
   ]
  }
 ],
 "metadata": {
  "kernelspec": {
   "display_name": "Python 3",
   "language": "python",
   "name": "python3"
  },
  "language_info": {
   "codemirror_mode": {
    "name": "ipython",
    "version": 3
   },
   "file_extension": ".py",
   "mimetype": "text/x-python",
   "name": "python",
   "nbconvert_exporter": "python",
   "pygments_lexer": "ipython3",
   "version": "3.6.10"
  }
 },
 "nbformat": 4,
 "nbformat_minor": 4
}
