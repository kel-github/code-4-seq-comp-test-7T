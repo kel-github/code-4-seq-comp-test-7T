{
 "cells": [
  {
   "cell_type": "code",
   "execution_count": null,
   "metadata": {},
   "outputs": [],
   "source": []
  },
  {
   "cell_type": "code",
   "execution_count": 1,
   "metadata": {},
   "outputs": [],
   "source": [
    "import nilearn.plotting as niplt # for debugging\n",
    "import nilearn.image as img\n",
    "import pandas as pd\n",
    "import nibabel as nib\n",
    "import os"
   ]
  },
  {
   "cell_type": "code",
   "execution_count": 2,
   "metadata": {},
   "outputs": [],
   "source": [
    "# define subject paths\n",
    "Basedir =  \"/scratch/qbi/uqkgarn1/STRIWP1/\"\n",
    "T2s = [\"derivatives/glm/sub-01/ses-02/tSNR/sub-01_ses-02_task-learnAtt_acq-TR700_space-T1w_desc-tSNR_bold.nii.gz\",\n",
    "       \"derivatives/glm/sub-01/ses-02/tSNR/sub-01_ses-02_task-learnAtt_acq-TR1510_space-T1w_desc-tSNR_bold.nii.gz\",\n",
    "       \"derivatives/glm/sub-01/ses-02/tSNR/sub-01_ses-02_task-learnAtt_acq-TR1920_space-T1w_desc-tSNR_bold.nii.gz\"]\n",
    "\n",
    "#RFLfname = os.path.join(Basedir, RFLmask)\n",
    "#subMask = "
   ]
  },
  {
   "cell_type": "code",
   "execution_count": 3,
   "metadata": {},
   "outputs": [],
   "source": [
    "def get_voxel_sizes(fname):\n",
    "    T2 = nib.load(fname)\n",
    "    T2hdr = T2.header\n",
    "    return T2hdr.get_zooms()"
   ]
  },
  {
   "cell_type": "code",
   "execution_count": 29,
   "metadata": {},
   "outputs": [
    {
     "data": {
      "text/plain": [
       "[(71, 95, 69), (93, 126, 91), (93, 126, 91)]"
      ]
     },
     "execution_count": 29,
     "metadata": {},
     "output_type": "execute_result"
    }
   ],
   "source": [
    "T2_dims"
   ]
  },
  {
   "cell_type": "code",
   "execution_count": 7,
   "metadata": {},
   "outputs": [],
   "source": [
    "T2 = get_voxel_sizes('/scratch/qbi/uqkgarn1/STRIWP1/derivatives/sub-05/ses-03/func/sub-05_ses-03_task-learnAtt_acq-TR700_echo-2_space-T1w_desc-preproc_bold.nii.gz')"
   ]
  },
  {
   "cell_type": "code",
   "execution_count": 34,
   "metadata": {},
   "outputs": [
    {
     "data": {
      "text/plain": [
       "[71, 95, 69]"
      ]
     },
     "execution_count": 34,
     "metadata": {},
     "output_type": "execute_result"
    }
   ],
   "source": [
    "tmp = T2_dims[0]\n",
    "[tmp[0], tmp[1], tmp[2]]"
   ]
  },
  {
   "cell_type": "code",
   "execution_count": null,
   "metadata": {},
   "outputs": [],
   "source": []
  }
 ],
 "metadata": {
  "kernelspec": {
   "display_name": "Python 3",
   "language": "python",
   "name": "python3"
  },
  "language_info": {
   "codemirror_mode": {
    "name": "ipython",
    "version": 3
   },
   "file_extension": ".py",
   "mimetype": "text/x-python",
   "name": "python",
   "nbconvert_exporter": "python",
   "pygments_lexer": "ipython3",
   "version": "3.6.10"
  }
 },
 "nbformat": 4,
 "nbformat_minor": 4
}
