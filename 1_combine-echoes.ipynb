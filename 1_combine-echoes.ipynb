{
 "cells": [
  {
   "cell_type": "markdown",
   "metadata": {},
   "source": [
    "## Combining multiecho sequences \n",
    "\n",
    "This workflow is to be run on the T2 data after preprocessing with fmriprep.\n",
    "Using the equation detailed in https://www.sciencedirect.com/science/article/pii/S1053811917310194\n",
    "to combine the echoes."
   ]
  },
  {
   "cell_type": "code",
   "execution_count": null,
   "metadata": {},
   "outputs": [],
   "source": [
    "from bids.layout import BIDSLayout\n",
    "from nipype.interfaces import afni \n",
    "from nipype.interfaces.io import BIDSDataGrabber, DataFinder, DataSink, DataGrabber\n",
    "import nipype.pipeline as pe\n",
    "import nipype as ni\n",
    "from nipype.interfaces.utility import Function\n",
    "import nipype.interfaces.fsl.maths as fsl\n",
    "import pandas as pd\n",
    "import os, re, json"
   ]
  },
  {
   "cell_type": "markdown",
   "metadata": {},
   "source": [
    "As is tradition, I'll first set out the variables that will apply across the workflow"
   ]
  },
  {
   "cell_type": "code",
   "execution_count": null,
   "metadata": {},
   "outputs": [],
   "source": [
    "Basedir = \"/scratch/qbi/uqkgarn1/STRIWP1/\"\n",
    "layout = BIDSLayout(Basedir)\n",
    "subs = layout.get_subjects()\n",
    "sess = layout.get_sessions()\n",
    "\n",
    "combi = pe.Workflow(name=\"combine-echoes\") # workflow to run the analysis"
   ]
  },
  {
   "cell_type": "markdown",
   "metadata": {},
   "source": [
    "Now I will define the nodes required for the workflow: datagrabber, datasink, combining images using fsl maths."
   ]
  },
  {
   "cell_type": "markdown",
   "metadata": {},
   "source": [
    "## Data grabber Node"
   ]
  },
  {
   "cell_type": "code",
   "execution_count": null,
   "metadata": {},
   "outputs": [],
   "source": [
    "dgT2s = pe.Node(DataGrabber(infields=['sub', 'sess'], \n",
    "                            outfields=['func']), name='T2-grabber')\n",
    "dgT2s.inputs.base_dir = \"/scratch/qbi/uqkgarn1/STRIWP1/\"\n",
    "dgT2s.inputs.sort_filelist = True\n",
    "dgT2s.inputs.template='*'\n",
    "dgT2s.inputs.template_args = {'func': [['sub', 'sess', 'sub']]}\n",
    "dgT2s.inputs.field_template = {'func': '/scratch/qbi/uqkgarn1/STRIWP1/derivatives/sub-%s/ses-%s/func/sub-%s_*-TR700_*_space-T1w_desc-preproc_bold.nii.gz'}"
   ]
  },
  {
   "cell_type": "code",
   "execution_count": null,
   "metadata": {},
   "outputs": [],
   "source": [
    "# debugging\n",
    "# dgT2s.inputs.sub = '01'\n",
    "# dgT2s.inputs.sess = '02'\n",
    "# res = dgT2s.run()\n",
    "# res.outputs"
   ]
  },
  {
   "cell_type": "code",
   "execution_count": null,
   "metadata": {},
   "outputs": [],
   "source": [
    "T2inf = pe.Node(ni.IdentityInterface(fields=['sub', 'sess']),\n",
    "                   name='T2-info')\n",
    "#T2inf.iterables = [('sub', layout.get_subjects()), ('sess', layout.get_session())]\n",
    "T2inf.iterables = [('sub', ['01', '02', '03', '04', '05']), ('sess', layout.get_session())]"
   ]
  },
  {
   "cell_type": "code",
   "execution_count": null,
   "metadata": {},
   "outputs": [],
   "source": [
    "def printSubPath(fullFilePath):\n",
    "    # function to split filepath into constituent parts, then print string to add as input to DataSink for the container string\n",
    "    # given the full filepath, this extracts the subject folder and session folder strings for input\n",
    "    # into DataSink\n",
    "    import os\n",
    "    import re\n",
    "    fname = os.path.normpath(fullFilePath[0])\n",
    "    l = fname.split(os.sep)\n",
    "    name = [[s for s in l if re.search('sub', s)][0], [s for s in l if re.search('ses', s)][0]]\n",
    "    name = '/'.join(name)\n",
    "    return name"
   ]
  },
  {
   "cell_type": "markdown",
   "metadata": {},
   "source": [
    "# Combine echoes\n",
    "\n",
    "Aim: weighted summation of the two images\n",
    "\n",
    "Formula for weights:\n",
    "w_n = \\frac{AVG_n\\cdot TE}\\sum {AVG_n\\cdot TE}\n",
    "\n",
    "Steps:\n",
    "1. for each echo, calculate the average (over the dimension of time)\n",
    "2. multiply the temporal averages by the TEs (10 & 30.56)\n",
    "3. sum the outputs\n",
    "4. calculate the avg x TE over the sum\n",
    "5. multiply the original images by the weights\n",
    "6. sum the outputs"
   ]
  },
  {
   "cell_type": "markdown",
   "metadata": {},
   "source": [
    "### Temporal average"
   ]
  },
  {
   "cell_type": "code",
   "execution_count": null,
   "metadata": {},
   "outputs": [],
   "source": [
    "getmu = pe.MapNode(fsl.MeanImage(), name='mu-image', iterfield=['in_file'])\n",
    "getmu.inputs.dimension = 'T'"
   ]
  },
  {
   "cell_type": "markdown",
   "metadata": {},
   "source": [
    "### multiply by TEs"
   ]
  },
  {
   "cell_type": "code",
   "execution_count": null,
   "metadata": {},
   "outputs": [],
   "source": [
    "wghtTE = pe.MapNode(fsl.BinaryMaths(), name='weight-TE', iterfield=['in_file', 'operand_value'])\n",
    "wghtTE.inputs.operand_value = [10.00, 30.56]\n",
    "wghtTE.inputs.operation = 'mul'"
   ]
  },
  {
   "cell_type": "code",
   "execution_count": null,
   "metadata": {},
   "outputs": [],
   "source": [
    "wghtTE.outputs"
   ]
  },
  {
   "cell_type": "markdown",
   "metadata": {},
   "source": [
    "### sum\n",
    "\n",
    "sum {AVG_n\\cdot TE}"
   ]
  },
  {
   "cell_type": "code",
   "execution_count": null,
   "metadata": {},
   "outputs": [],
   "source": [
    "sumWghtTE = pe.Node(fsl.BinaryMaths(), name='sum-wghted')\n",
    "sumWghtTE.inputs.operation = 'add'"
   ]
  },
  {
   "cell_type": "code",
   "execution_count": null,
   "metadata": {},
   "outputs": [],
   "source": [
    "# just using a couple of fairly dumb functions to get the file that I want\n",
    "def print_in_file(fname): \n",
    "    return fname[0]\n",
    "\n",
    "def print_op_file(fname): \n",
    "    return fname[1]"
   ]
  },
  {
   "cell_type": "markdown",
   "metadata": {},
   "source": [
    "### Divide \n",
    "\n",
    "\\frac{AVG_n\\cdot TE}\\sum {AVG_n\\cdot TE}"
   ]
  },
  {
   "cell_type": "code",
   "execution_count": null,
   "metadata": {},
   "outputs": [],
   "source": [
    "RatWgts = pe.MapNode(fsl.BinaryMaths(), name='ratio-wghted-2-sum', iterfield=['in_file'])\n",
    "RatWgts.inputs.operation = 'div'"
   ]
  },
  {
   "cell_type": "markdown",
   "metadata": {},
   "source": [
    "### Multiply original images by new weights"
   ]
  },
  {
   "cell_type": "code",
   "execution_count": null,
   "metadata": {},
   "outputs": [],
   "source": [
    "MulWgts = pe.MapNode(fsl.BinaryMaths(), name='apply-weights', iterfield=['in_file', 'operand_file'])\n",
    "MulWgts.inputs.operation = 'mul'"
   ]
  },
  {
   "cell_type": "markdown",
   "metadata": {},
   "source": [
    "### Sum outputs"
   ]
  },
  {
   "cell_type": "code",
   "execution_count": null,
   "metadata": {},
   "outputs": [],
   "source": [
    "sumOut = pe.Node(fsl.BinaryMaths(), name='sum-outs')\n",
    "sumOut.inputs.operation = 'add'"
   ]
  },
  {
   "cell_type": "code",
   "execution_count": null,
   "metadata": {},
   "outputs": [],
   "source": [
    "def PrintOutput(results):\n",
    "    # use this to get the filename of the last output\n",
    "    import pandas as pd\n",
    "    import re\n",
    "    import os\n",
    "    fname = os.path.split(results[0])[-1] \n",
    "    fname = fname.replace('_echo-1', '')\n",
    "    return fname"
   ]
  },
  {
   "cell_type": "markdown",
   "metadata": {},
   "source": [
    "# Datasink"
   ]
  },
  {
   "cell_type": "code",
   "execution_count": null,
   "metadata": {},
   "outputs": [],
   "source": [
    "ds = pe.Node(DataSink(), name='sink-stuff')\n",
    "ds.inputs.base_directory = \"/scratch/qbi/uqkgarn1/STRIWP1/derivatives/\""
   ]
  },
  {
   "cell_type": "code",
   "execution_count": null,
   "metadata": {},
   "outputs": [],
   "source": [
    "substitutions = [('_sess_([0-9]*)_sub_([0-9]*)', '')]"
   ]
  },
  {
   "cell_type": "code",
   "execution_count": null,
   "metadata": {},
   "outputs": [],
   "source": [
    "ds.inputs.regexp_substitutions = substitutions\n",
    "ds.inputs"
   ]
  },
  {
   "cell_type": "markdown",
   "metadata": {},
   "source": [
    "## Connect workflow"
   ]
  },
  {
   "cell_type": "code",
   "execution_count": null,
   "metadata": {},
   "outputs": [],
   "source": [
    "combi.connect([(T2inf, dgT2s, [('sub',  'sub')]), \n",
    "               (T2inf, dgT2s, [('sess', 'sess')]),\n",
    "               (dgT2s, ds, [(('func', printSubPath),\n",
    "                              'container')]),\n",
    "               (dgT2s, getmu, [('func', 'in_file')]),\n",
    "               (getmu, wghtTE,[('out_file', 'in_file')]),\n",
    "               (wghtTE, sumWghtTE, [(('out_file', print_in_file), 'in_file')]),\n",
    "               (wghtTE, sumWghtTE, [(('out_file', print_op_file), 'operand_file')]),\n",
    "               (wghtTE, RatWgts, [('out_file', 'in_file')]),\n",
    "               (sumWghtTE, RatWgts, [('out_file', 'operand_file')]),\n",
    "               (RatWgts, MulWgts, [('out_file', 'operand_file')]),\n",
    "               (dgT2s, MulWgts, [('func', 'in_file')]),\n",
    "               (MulWgts, sumOut, [(('out_file', print_in_file), 'in_file')]),\n",
    "               (MulWgts, sumOut, [(('out_file', print_op_file), 'operand_file')]),\n",
    "               (dgT2s, sumOut, [(('func', PrintOutput), 'out_file')]),\n",
    "               (sumOut, ds, [(\"out_file\", \"func.@combd\")])\n",
    "              ])\n",
    "combi.run()"
   ]
  }
 ],
 "metadata": {
  "kernelspec": {
   "display_name": "Python 3",
   "language": "python",
   "name": "python3"
  },
  "language_info": {
   "codemirror_mode": {
    "name": "ipython",
    "version": 3
   },
   "file_extension": ".py",
   "mimetype": "text/x-python",
   "name": "python",
   "nbconvert_exporter": "python",
   "pygments_lexer": "ipython3",
   "version": "3.6.10"
  }
 },
 "nbformat": 4,
 "nbformat_minor": 4
}
