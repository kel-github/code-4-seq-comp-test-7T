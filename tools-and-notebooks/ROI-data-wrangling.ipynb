{
 "cells": [
  {
   "cell_type": "markdown",
   "metadata": {},
   "source": [
    "## ROI-data-wrangling "
   ]
  },
  {
   "cell_type": "markdown",
   "metadata": {},
   "source": [
    "writing json files to allow grabbing of each participants transform files from MNI to T1w space"
   ]
  },
  {
   "cell_type": "code",
   "execution_count": 7,
   "metadata": {},
   "outputs": [],
   "source": [
    "from bids.layout import BIDSLayout\n",
    "import pandas as pd\n",
    "import os, re, json"
   ]
  },
  {
   "cell_type": "markdown",
   "metadata": {},
   "source": [
    "Define variables for grabbing the transform data"
   ]
  },
  {
   "cell_type": "code",
   "execution_count": 8,
   "metadata": {},
   "outputs": [],
   "source": [
    "BIDSdir =  \"/scratch/qbi/uqkgarn1/STRIWP1/\"\n",
    "layout = BIDSLayout(BIDSdir)\n",
    "subs = layout.get_subjects() # BIDSLayout does not appear to detect anything below the session folders, despite them being \n",
    "# BIDS compliant. However, the BIDSDataGrabber does appear to find the files, so pursuing for now\n",
    "sess = layout.get_sessions()"
   ]
  },
  {
   "cell_type": "markdown",
   "metadata": {},
   "source": [
    "Define function to write the json files:"
   ]
  },
  {
   "cell_type": "code",
   "execution_count": 9,
   "metadata": {},
   "outputs": [],
   "source": [
    "def PrintNewJson(fname, data):\n",
    "    with open(fname, 'w') as outfile:\n",
    "        json.dump(data, outfile)"
   ]
  },
  {
   "cell_type": "code",
   "execution_count": 17,
   "metadata": {},
   "outputs": [],
   "source": [
    "def PrintTransformJson(fname):\n",
    "    NuFname = fname.replace('h5', 'json')\n",
    "    jData = {\"Transform\":\"MNI2T1w\"}\n",
    "    PrintNewJson(NuFname, jData)\n",
    "    return NuFname"
   ]
  },
  {
   "cell_type": "markdown",
   "metadata": {},
   "source": [
    "Now grab a list of the files for which to generate json files"
   ]
  },
  {
   "cell_type": "code",
   "execution_count": 15,
   "metadata": {},
   "outputs": [
    {
     "data": {
      "text/plain": [
       "['/scratch/qbi/uqkgarn1/STRIWP1/derivatives/sub-01/anat/sub-01_from-MNI152NLin2009cAsym_to-T1w_mode-image_xfm.h5',\n",
       " '/scratch/qbi/uqkgarn1/STRIWP1/derivatives/sub-02/anat/sub-02_from-MNI152NLin2009cAsym_to-T1w_mode-image_xfm.h5',\n",
       " '/scratch/qbi/uqkgarn1/STRIWP1/derivatives/sub-03/anat/sub-03_from-MNI152NLin2009cAsym_to-T1w_mode-image_xfm.h5',\n",
       " '/scratch/qbi/uqkgarn1/STRIWP1/derivatives/sub-04/anat/sub-04_from-MNI152NLin2009cAsym_to-T1w_mode-image_xfm.h5',\n",
       " '/scratch/qbi/uqkgarn1/STRIWP1/derivatives/sub-05/anat/sub-05_from-MNI152NLin2009cAsym_to-T1w_mode-image_xfm.h5']"
      ]
     },
     "execution_count": 15,
     "metadata": {},
     "output_type": "execute_result"
    }
   ],
   "source": [
    "fstr = ''.join([ BIDSdir, 'derivatives/sub-{0}/anat/sub-{0}_from-MNI152NLin2009cAsym_to-T1w_mode-image_xfm.h5'])\n",
    "fns = [fstr.format(subnum) for subnum in subs]\n",
    "fns"
   ]
  },
  {
   "cell_type": "code",
   "execution_count": 18,
   "metadata": {},
   "outputs": [
    {
     "data": {
      "text/plain": [
       "['/scratch/qbi/uqkgarn1/STRIWP1/derivatives/sub-01/anat/sub-01_from-MNI152NLin2009cAsym_to-T1w_mode-image_xfm.json',\n",
       " '/scratch/qbi/uqkgarn1/STRIWP1/derivatives/sub-02/anat/sub-02_from-MNI152NLin2009cAsym_to-T1w_mode-image_xfm.json',\n",
       " '/scratch/qbi/uqkgarn1/STRIWP1/derivatives/sub-03/anat/sub-03_from-MNI152NLin2009cAsym_to-T1w_mode-image_xfm.json',\n",
       " '/scratch/qbi/uqkgarn1/STRIWP1/derivatives/sub-04/anat/sub-04_from-MNI152NLin2009cAsym_to-T1w_mode-image_xfm.json',\n",
       " '/scratch/qbi/uqkgarn1/STRIWP1/derivatives/sub-05/anat/sub-05_from-MNI152NLin2009cAsym_to-T1w_mode-image_xfm.json']"
      ]
     },
     "execution_count": 18,
     "metadata": {},
     "output_type": "execute_result"
    }
   ],
   "source": [
    "jsonTF = [PrintTransformJson(f) for f in fns]\n",
    "jsonTF"
   ]
  },
  {
   "cell_type": "markdown",
   "metadata": {},
   "source": [
    "Note: I then copied the json files and the h5 file to the sub-0x/ses-02/func/ folders, as BIDSDataGrabber doesn't look any further in the sub-0x/anat/ or in the derivatives/anat folder, for some reason"
   ]
  }
 ],
 "metadata": {
  "kernelspec": {
   "display_name": "Python 3",
   "language": "python",
   "name": "python3"
  },
  "language_info": {
   "codemirror_mode": {
    "name": "ipython",
    "version": 3
   },
   "file_extension": ".py",
   "mimetype": "text/x-python",
   "name": "python",
   "nbconvert_exporter": "python",
   "pygments_lexer": "ipython3",
   "version": "3.6.10"
  }
 },
 "nbformat": 4,
 "nbformat_minor": 4
}
