{
 "cells": [
  {
   "cell_type": "markdown",
   "metadata": {},
   "source": [
    "# convert .nii.gz (3d) images to absolute value"
   ]
  },
  {
   "cell_type": "code",
   "execution_count": 1,
   "metadata": {},
   "outputs": [
    {
     "name": "stdout",
     "output_type": "stream",
     "text": [
      "210503-15:30:51,317 nipype.utils WARNING:\n",
      "\t A newer version (1.5.1) of nipy/nipype is available. You are using 1.5.0\n"
     ]
    }
   ],
   "source": [
    "from nipype.interfaces.io import DataGrabber as dgrb\n",
    "import nipype.pipeline as pe\n",
    "import nipype as ni\n",
    "\n",
    "from nipype.interfaces import fsl as fsl"
   ]
  },
  {
   "cell_type": "code",
   "execution_count": 2,
   "metadata": {},
   "outputs": [],
   "source": [
    "#subs = ['01', '02', '03', '04', '05']\n",
    "subs = ['01', '02', '03', '04']\n",
    "subs = ['05']\n",
    "#TRs = ['700', '1510', '1920']\n",
    "TRs = ['700ECHO1', '700ECHO2']\n",
    "contrasts = ['01','02','05','07','13','14','15']"
   ]
  },
  {
   "cell_type": "code",
   "execution_count": 3,
   "metadata": {},
   "outputs": [
    {
     "data": {
      "text/plain": [
       "['/scratch/qbi/uqkgarn1/STRIWP1/derivatives/glmTDFAST/sub-05/TR700ECHO1/FLGLM/spmT_0001.nii.gz',\n",
       " '/scratch/qbi/uqkgarn1/STRIWP1/derivatives/glmTDFAST/sub-05/TR700ECHO1/FLGLM/spmT_0002.nii.gz',\n",
       " '/scratch/qbi/uqkgarn1/STRIWP1/derivatives/glmTDFAST/sub-05/TR700ECHO1/FLGLM/spmT_0005.nii.gz',\n",
       " '/scratch/qbi/uqkgarn1/STRIWP1/derivatives/glmTDFAST/sub-05/TR700ECHO1/FLGLM/spmT_0007.nii.gz',\n",
       " '/scratch/qbi/uqkgarn1/STRIWP1/derivatives/glmTDFAST/sub-05/TR700ECHO1/FLGLM/spmT_0013.nii.gz',\n",
       " '/scratch/qbi/uqkgarn1/STRIWP1/derivatives/glmTDFAST/sub-05/TR700ECHO1/FLGLM/spmT_0014.nii.gz',\n",
       " '/scratch/qbi/uqkgarn1/STRIWP1/derivatives/glmTDFAST/sub-05/TR700ECHO1/FLGLM/spmT_0015.nii.gz',\n",
       " '/scratch/qbi/uqkgarn1/STRIWP1/derivatives/glmTDFAST/sub-05/TR700ECHO2/FLGLM/spmT_0001.nii.gz',\n",
       " '/scratch/qbi/uqkgarn1/STRIWP1/derivatives/glmTDFAST/sub-05/TR700ECHO2/FLGLM/spmT_0002.nii.gz',\n",
       " '/scratch/qbi/uqkgarn1/STRIWP1/derivatives/glmTDFAST/sub-05/TR700ECHO2/FLGLM/spmT_0005.nii.gz',\n",
       " '/scratch/qbi/uqkgarn1/STRIWP1/derivatives/glmTDFAST/sub-05/TR700ECHO2/FLGLM/spmT_0007.nii.gz',\n",
       " '/scratch/qbi/uqkgarn1/STRIWP1/derivatives/glmTDFAST/sub-05/TR700ECHO2/FLGLM/spmT_0013.nii.gz',\n",
       " '/scratch/qbi/uqkgarn1/STRIWP1/derivatives/glmTDFAST/sub-05/TR700ECHO2/FLGLM/spmT_0014.nii.gz',\n",
       " '/scratch/qbi/uqkgarn1/STRIWP1/derivatives/glmTDFAST/sub-05/TR700ECHO2/FLGLM/spmT_0015.nii.gz']"
      ]
     },
     "execution_count": 3,
     "metadata": {},
     "output_type": "execute_result"
    }
   ],
   "source": [
    "# get list of images\n",
    "BIDSdir = \"/scratch/qbi/uqkgarn1/STRIWP1/\"\n",
    "in_str_echo = ''.join([BIDSdir, 'derivatives/glmTDFAST/sub-{0}/TR{1}/FLGLM/spmT_00{2}.nii.gz'])\n",
    "in_fns = [in_str_echo.format(subnum, TRnum, contrast) for subnum in subs for TRnum in TRs for contrast in contrasts] \n",
    "in_fns"
   ]
  },
  {
   "cell_type": "code",
   "execution_count": 4,
   "metadata": {},
   "outputs": [
    {
     "data": {
      "text/plain": [
       "['/scratch/qbi/uqkgarn1/STRIWP1/derivatives/glmTDFAST/sub-05/TR700ECHO1/FLGLM/abs_spmT_0001.nii.gz',\n",
       " '/scratch/qbi/uqkgarn1/STRIWP1/derivatives/glmTDFAST/sub-05/TR700ECHO1/FLGLM/abs_spmT_0002.nii.gz',\n",
       " '/scratch/qbi/uqkgarn1/STRIWP1/derivatives/glmTDFAST/sub-05/TR700ECHO1/FLGLM/abs_spmT_0005.nii.gz',\n",
       " '/scratch/qbi/uqkgarn1/STRIWP1/derivatives/glmTDFAST/sub-05/TR700ECHO1/FLGLM/abs_spmT_0007.nii.gz',\n",
       " '/scratch/qbi/uqkgarn1/STRIWP1/derivatives/glmTDFAST/sub-05/TR700ECHO1/FLGLM/abs_spmT_0013.nii.gz',\n",
       " '/scratch/qbi/uqkgarn1/STRIWP1/derivatives/glmTDFAST/sub-05/TR700ECHO1/FLGLM/abs_spmT_0014.nii.gz',\n",
       " '/scratch/qbi/uqkgarn1/STRIWP1/derivatives/glmTDFAST/sub-05/TR700ECHO1/FLGLM/abs_spmT_0015.nii.gz',\n",
       " '/scratch/qbi/uqkgarn1/STRIWP1/derivatives/glmTDFAST/sub-05/TR700ECHO2/FLGLM/abs_spmT_0001.nii.gz',\n",
       " '/scratch/qbi/uqkgarn1/STRIWP1/derivatives/glmTDFAST/sub-05/TR700ECHO2/FLGLM/abs_spmT_0002.nii.gz',\n",
       " '/scratch/qbi/uqkgarn1/STRIWP1/derivatives/glmTDFAST/sub-05/TR700ECHO2/FLGLM/abs_spmT_0005.nii.gz',\n",
       " '/scratch/qbi/uqkgarn1/STRIWP1/derivatives/glmTDFAST/sub-05/TR700ECHO2/FLGLM/abs_spmT_0007.nii.gz',\n",
       " '/scratch/qbi/uqkgarn1/STRIWP1/derivatives/glmTDFAST/sub-05/TR700ECHO2/FLGLM/abs_spmT_0013.nii.gz',\n",
       " '/scratch/qbi/uqkgarn1/STRIWP1/derivatives/glmTDFAST/sub-05/TR700ECHO2/FLGLM/abs_spmT_0014.nii.gz',\n",
       " '/scratch/qbi/uqkgarn1/STRIWP1/derivatives/glmTDFAST/sub-05/TR700ECHO2/FLGLM/abs_spmT_0015.nii.gz']"
      ]
     },
     "execution_count": 4,
     "metadata": {},
     "output_type": "execute_result"
    }
   ],
   "source": [
    "out_str_echo = ''.join([BIDSdir, 'derivatives/glmTDFAST/sub-{0}/TR{1}/FLGLM/abs_spmT_00{2}.nii.gz'])\n",
    "out_fns = [out_str_echo.format(subnum, TRnum, contrast) for subnum in subs for TRnum in TRs for contrast in contrasts] \n",
    "out_fns"
   ]
  },
  {
   "cell_type": "code",
   "execution_count": 5,
   "metadata": {},
   "outputs": [],
   "source": [
    "getAbs = pe.MapNode(fsl.UnaryMaths(), name='maths', iterfield=['in_file', 'out_file'])\n",
    "getAbs.inputs.operation = 'abs'\n",
    "getAbs.inputs.in_file = in_fns\n",
    "getAbs.inputs.out_file = out_fns"
   ]
  },
  {
   "cell_type": "code",
   "execution_count": 6,
   "metadata": {},
   "outputs": [
    {
     "name": "stdout",
     "output_type": "stream",
     "text": [
      "210503-15:30:51,482 nipype.workflow INFO:\n",
      "\t [Node] Setting-up \"maths\" in \"/tmp/tmp6vy93ego/maths\".\n",
      "210503-15:30:51,492 nipype.workflow INFO:\n",
      "\t [Node] Setting-up \"_maths0\" in \"/tmp/tmp6vy93ego/maths/mapflow/_maths0\".\n",
      "210503-15:30:51,496 nipype.workflow INFO:\n",
      "\t [Node] Running \"_maths0\" (\"nipype.interfaces.fsl.maths.UnaryMaths\"), a CommandLine Interface with command:\n",
      "fslmaths /scratch/qbi/uqkgarn1/STRIWP1/derivatives/glmTDFAST/sub-05/TR700ECHO1/FLGLM/spmT_0001.nii.gz -abs /scratch/qbi/uqkgarn1/STRIWP1/derivatives/glmTDFAST/sub-05/TR700ECHO1/FLGLM/abs_spmT_0001.nii.gz\n",
      "210503-15:30:51,658 nipype.workflow INFO:\n",
      "\t [Node] Finished \"_maths0\".\n",
      "210503-15:30:51,660 nipype.workflow INFO:\n",
      "\t [Node] Setting-up \"_maths1\" in \"/tmp/tmp6vy93ego/maths/mapflow/_maths1\".\n",
      "210503-15:30:51,665 nipype.workflow INFO:\n",
      "\t [Node] Running \"_maths1\" (\"nipype.interfaces.fsl.maths.UnaryMaths\"), a CommandLine Interface with command:\n",
      "fslmaths /scratch/qbi/uqkgarn1/STRIWP1/derivatives/glmTDFAST/sub-05/TR700ECHO1/FLGLM/spmT_0002.nii.gz -abs /scratch/qbi/uqkgarn1/STRIWP1/derivatives/glmTDFAST/sub-05/TR700ECHO1/FLGLM/abs_spmT_0002.nii.gz\n",
      "210503-15:30:51,786 nipype.workflow INFO:\n",
      "\t [Node] Finished \"_maths1\".\n",
      "210503-15:30:51,788 nipype.workflow INFO:\n",
      "\t [Node] Setting-up \"_maths2\" in \"/tmp/tmp6vy93ego/maths/mapflow/_maths2\".\n",
      "210503-15:30:51,792 nipype.workflow INFO:\n",
      "\t [Node] Running \"_maths2\" (\"nipype.interfaces.fsl.maths.UnaryMaths\"), a CommandLine Interface with command:\n",
      "fslmaths /scratch/qbi/uqkgarn1/STRIWP1/derivatives/glmTDFAST/sub-05/TR700ECHO1/FLGLM/spmT_0005.nii.gz -abs /scratch/qbi/uqkgarn1/STRIWP1/derivatives/glmTDFAST/sub-05/TR700ECHO1/FLGLM/abs_spmT_0005.nii.gz\n",
      "210503-15:30:51,917 nipype.workflow INFO:\n",
      "\t [Node] Finished \"_maths2\".\n",
      "210503-15:30:51,919 nipype.workflow INFO:\n",
      "\t [Node] Setting-up \"_maths3\" in \"/tmp/tmp6vy93ego/maths/mapflow/_maths3\".\n",
      "210503-15:30:51,923 nipype.workflow INFO:\n",
      "\t [Node] Running \"_maths3\" (\"nipype.interfaces.fsl.maths.UnaryMaths\"), a CommandLine Interface with command:\n",
      "fslmaths /scratch/qbi/uqkgarn1/STRIWP1/derivatives/glmTDFAST/sub-05/TR700ECHO1/FLGLM/spmT_0007.nii.gz -abs /scratch/qbi/uqkgarn1/STRIWP1/derivatives/glmTDFAST/sub-05/TR700ECHO1/FLGLM/abs_spmT_0007.nii.gz\n",
      "210503-15:30:52,39 nipype.workflow INFO:\n",
      "\t [Node] Finished \"_maths3\".\n",
      "210503-15:30:52,41 nipype.workflow INFO:\n",
      "\t [Node] Setting-up \"_maths4\" in \"/tmp/tmp6vy93ego/maths/mapflow/_maths4\".\n",
      "210503-15:30:52,45 nipype.workflow INFO:\n",
      "\t [Node] Running \"_maths4\" (\"nipype.interfaces.fsl.maths.UnaryMaths\"), a CommandLine Interface with command:\n",
      "fslmaths /scratch/qbi/uqkgarn1/STRIWP1/derivatives/glmTDFAST/sub-05/TR700ECHO1/FLGLM/spmT_0013.nii.gz -abs /scratch/qbi/uqkgarn1/STRIWP1/derivatives/glmTDFAST/sub-05/TR700ECHO1/FLGLM/abs_spmT_0013.nii.gz\n",
      "210503-15:30:52,159 nipype.workflow INFO:\n",
      "\t [Node] Finished \"_maths4\".\n",
      "210503-15:30:52,161 nipype.workflow INFO:\n",
      "\t [Node] Setting-up \"_maths5\" in \"/tmp/tmp6vy93ego/maths/mapflow/_maths5\".\n",
      "210503-15:30:52,165 nipype.workflow INFO:\n",
      "\t [Node] Running \"_maths5\" (\"nipype.interfaces.fsl.maths.UnaryMaths\"), a CommandLine Interface with command:\n",
      "fslmaths /scratch/qbi/uqkgarn1/STRIWP1/derivatives/glmTDFAST/sub-05/TR700ECHO1/FLGLM/spmT_0014.nii.gz -abs /scratch/qbi/uqkgarn1/STRIWP1/derivatives/glmTDFAST/sub-05/TR700ECHO1/FLGLM/abs_spmT_0014.nii.gz\n",
      "210503-15:30:52,289 nipype.workflow INFO:\n",
      "\t [Node] Finished \"_maths5\".\n",
      "210503-15:30:52,292 nipype.workflow INFO:\n",
      "\t [Node] Setting-up \"_maths6\" in \"/tmp/tmp6vy93ego/maths/mapflow/_maths6\".\n",
      "210503-15:30:52,296 nipype.workflow INFO:\n",
      "\t [Node] Running \"_maths6\" (\"nipype.interfaces.fsl.maths.UnaryMaths\"), a CommandLine Interface with command:\n",
      "fslmaths /scratch/qbi/uqkgarn1/STRIWP1/derivatives/glmTDFAST/sub-05/TR700ECHO1/FLGLM/spmT_0015.nii.gz -abs /scratch/qbi/uqkgarn1/STRIWP1/derivatives/glmTDFAST/sub-05/TR700ECHO1/FLGLM/abs_spmT_0015.nii.gz\n",
      "210503-15:30:52,403 nipype.workflow INFO:\n",
      "\t [Node] Finished \"_maths6\".\n",
      "210503-15:30:52,405 nipype.workflow INFO:\n",
      "\t [Node] Setting-up \"_maths7\" in \"/tmp/tmp6vy93ego/maths/mapflow/_maths7\".\n",
      "210503-15:30:52,409 nipype.workflow INFO:\n",
      "\t [Node] Running \"_maths7\" (\"nipype.interfaces.fsl.maths.UnaryMaths\"), a CommandLine Interface with command:\n",
      "fslmaths /scratch/qbi/uqkgarn1/STRIWP1/derivatives/glmTDFAST/sub-05/TR700ECHO2/FLGLM/spmT_0001.nii.gz -abs /scratch/qbi/uqkgarn1/STRIWP1/derivatives/glmTDFAST/sub-05/TR700ECHO2/FLGLM/abs_spmT_0001.nii.gz\n",
      "210503-15:30:52,532 nipype.workflow INFO:\n",
      "\t [Node] Finished \"_maths7\".\n",
      "210503-15:30:52,534 nipype.workflow INFO:\n",
      "\t [Node] Setting-up \"_maths8\" in \"/tmp/tmp6vy93ego/maths/mapflow/_maths8\".\n",
      "210503-15:30:52,538 nipype.workflow INFO:\n",
      "\t [Node] Running \"_maths8\" (\"nipype.interfaces.fsl.maths.UnaryMaths\"), a CommandLine Interface with command:\n",
      "fslmaths /scratch/qbi/uqkgarn1/STRIWP1/derivatives/glmTDFAST/sub-05/TR700ECHO2/FLGLM/spmT_0002.nii.gz -abs /scratch/qbi/uqkgarn1/STRIWP1/derivatives/glmTDFAST/sub-05/TR700ECHO2/FLGLM/abs_spmT_0002.nii.gz\n",
      "210503-15:30:52,650 nipype.workflow INFO:\n",
      "\t [Node] Finished \"_maths8\".\n",
      "210503-15:30:52,652 nipype.workflow INFO:\n",
      "\t [Node] Setting-up \"_maths9\" in \"/tmp/tmp6vy93ego/maths/mapflow/_maths9\".\n",
      "210503-15:30:52,656 nipype.workflow INFO:\n",
      "\t [Node] Running \"_maths9\" (\"nipype.interfaces.fsl.maths.UnaryMaths\"), a CommandLine Interface with command:\n",
      "fslmaths /scratch/qbi/uqkgarn1/STRIWP1/derivatives/glmTDFAST/sub-05/TR700ECHO2/FLGLM/spmT_0005.nii.gz -abs /scratch/qbi/uqkgarn1/STRIWP1/derivatives/glmTDFAST/sub-05/TR700ECHO2/FLGLM/abs_spmT_0005.nii.gz\n",
      "210503-15:30:52,777 nipype.workflow INFO:\n",
      "\t [Node] Finished \"_maths9\".\n",
      "210503-15:30:52,779 nipype.workflow INFO:\n",
      "\t [Node] Setting-up \"_maths10\" in \"/tmp/tmp6vy93ego/maths/mapflow/_maths10\".\n",
      "210503-15:30:52,783 nipype.workflow INFO:\n",
      "\t [Node] Running \"_maths10\" (\"nipype.interfaces.fsl.maths.UnaryMaths\"), a CommandLine Interface with command:\n",
      "fslmaths /scratch/qbi/uqkgarn1/STRIWP1/derivatives/glmTDFAST/sub-05/TR700ECHO2/FLGLM/spmT_0007.nii.gz -abs /scratch/qbi/uqkgarn1/STRIWP1/derivatives/glmTDFAST/sub-05/TR700ECHO2/FLGLM/abs_spmT_0007.nii.gz\n",
      "210503-15:30:52,899 nipype.workflow INFO:\n",
      "\t [Node] Finished \"_maths10\".\n",
      "210503-15:30:52,902 nipype.workflow INFO:\n",
      "\t [Node] Setting-up \"_maths11\" in \"/tmp/tmp6vy93ego/maths/mapflow/_maths11\".\n",
      "210503-15:30:52,906 nipype.workflow INFO:\n",
      "\t [Node] Running \"_maths11\" (\"nipype.interfaces.fsl.maths.UnaryMaths\"), a CommandLine Interface with command:\n",
      "fslmaths /scratch/qbi/uqkgarn1/STRIWP1/derivatives/glmTDFAST/sub-05/TR700ECHO2/FLGLM/spmT_0013.nii.gz -abs /scratch/qbi/uqkgarn1/STRIWP1/derivatives/glmTDFAST/sub-05/TR700ECHO2/FLGLM/abs_spmT_0013.nii.gz\n",
      "210503-15:30:53,25 nipype.workflow INFO:\n",
      "\t [Node] Finished \"_maths11\".\n",
      "210503-15:30:53,28 nipype.workflow INFO:\n",
      "\t [Node] Setting-up \"_maths12\" in \"/tmp/tmp6vy93ego/maths/mapflow/_maths12\".\n",
      "210503-15:30:53,32 nipype.workflow INFO:\n",
      "\t [Node] Running \"_maths12\" (\"nipype.interfaces.fsl.maths.UnaryMaths\"), a CommandLine Interface with command:\n",
      "fslmaths /scratch/qbi/uqkgarn1/STRIWP1/derivatives/glmTDFAST/sub-05/TR700ECHO2/FLGLM/spmT_0014.nii.gz -abs /scratch/qbi/uqkgarn1/STRIWP1/derivatives/glmTDFAST/sub-05/TR700ECHO2/FLGLM/abs_spmT_0014.nii.gz\n",
      "210503-15:30:53,152 nipype.workflow INFO:\n",
      "\t [Node] Finished \"_maths12\".\n",
      "210503-15:30:53,155 nipype.workflow INFO:\n",
      "\t [Node] Setting-up \"_maths13\" in \"/tmp/tmp6vy93ego/maths/mapflow/_maths13\".\n",
      "210503-15:30:53,159 nipype.workflow INFO:\n",
      "\t [Node] Running \"_maths13\" (\"nipype.interfaces.fsl.maths.UnaryMaths\"), a CommandLine Interface with command:\n",
      "fslmaths /scratch/qbi/uqkgarn1/STRIWP1/derivatives/glmTDFAST/sub-05/TR700ECHO2/FLGLM/spmT_0015.nii.gz -abs /scratch/qbi/uqkgarn1/STRIWP1/derivatives/glmTDFAST/sub-05/TR700ECHO2/FLGLM/abs_spmT_0015.nii.gz\n",
      "210503-15:30:53,281 nipype.workflow INFO:\n",
      "\t [Node] Finished \"_maths13\".\n",
      "210503-15:30:53,290 nipype.workflow INFO:\n",
      "\t [Node] Finished \"maths\".\n"
     ]
    },
    {
     "data": {
      "text/plain": [
       "<nipype.interfaces.base.support.InterfaceResult at 0x7ff05d6cd278>"
      ]
     },
     "execution_count": 6,
     "metadata": {},
     "output_type": "execute_result"
    }
   ],
   "source": [
    "getAbs.run()"
   ]
  },
  {
   "cell_type": "code",
   "execution_count": null,
   "metadata": {},
   "outputs": [],
   "source": []
  }
 ],
 "metadata": {
  "kernelspec": {
   "display_name": "Python 3",
   "language": "python",
   "name": "python3"
  },
  "language_info": {
   "codemirror_mode": {
    "name": "ipython",
    "version": 3
   },
   "file_extension": ".py",
   "mimetype": "text/x-python",
   "name": "python",
   "nbconvert_exporter": "python",
   "pygments_lexer": "ipython3",
   "version": "3.6.10"
  }
 },
 "nbformat": 4,
 "nbformat_minor": 4
}
