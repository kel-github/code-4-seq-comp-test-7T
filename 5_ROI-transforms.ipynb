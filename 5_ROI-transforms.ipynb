{
 "cells": [
  {
   "cell_type": "markdown",
   "metadata": {},
   "source": [
    "# Transforming ROIs from MNI to the participant space\n",
    "\n",
    "written by K. Garner, 2020\n",
    "This code tranforms the pre-defined ROI masks into the participant T1w space for STRIAVISE WP1\n",
    "Contact: getkellygarner@gmail.com"
   ]
  },
  {
   "cell_type": "code",
   "execution_count": 1,
   "metadata": {},
   "outputs": [
    {
     "name": "stdout",
     "output_type": "stream",
     "text": [
      "200518-11:11:13,597 nipype.utils INFO:\n",
      "\t No new version available.\n"
     ]
    }
   ],
   "source": [
    "from bids.layout import BIDSLayout\n",
    "from nipype import IdentityInterface\n",
    "from nipype.interfaces import afni\n",
    "from nipype.interfaces.ants import ApplyTransforms\n",
    "from nipype.interfaces.io import BIDSDataGrabber, DataFinder, DataSink, DataGrabber\n",
    "from nipype.pipeline import Node, MapNode, Workflow \n",
    "from nipype.interfaces.utility import Function\n",
    "import pandas as pd\n",
    "import os, re, json, glob"
   ]
  },
  {
   "cell_type": "markdown",
   "metadata": {},
   "source": [
    "Set variables that apply across the workflow:"
   ]
  },
  {
   "cell_type": "code",
   "execution_count": 2,
   "metadata": {},
   "outputs": [],
   "source": [
    "Basedir = \"/scratch/qbi/uqkgarn1/STRIWP1/\"\n",
    "layout = BIDSLayout(Basedir)\n",
    "tf_wf = Workflow(name=\"roi_tfs\") # workflow to run the analysis\n",
    "#rfl_wf = Workflow(name=\"rfl_roi_tfs\")\n",
    "subs = layout.get_subjects() # BIDSLayout does not appear to detect anything below the session folders, despite them being \n",
    "# BIDS compliant. However, the BIDSDataGrabber does appear to find the files, so pursuing for now\n",
    "sess = layout.get_sessions()\n"
   ]
  },
  {
   "cell_type": "markdown",
   "metadata": {},
   "source": [
    "Get a list of file names for each atlas"
   ]
  },
  {
   "cell_type": "code",
   "execution_count": 3,
   "metadata": {},
   "outputs": [],
   "source": [
    "Keuken = ''.join([Basedir, 'derivatives/roi-masks/Keuken/*.nii.gz'])\n",
    "KeukenAll = glob.glob(Keuken)\n",
    "\n",
    "RFL = ''.join([Basedir, 'derivatives/roi-masks/RFL/*.nii.gz'])\n",
    "RFLAll = glob.glob(RFL)\n",
    "Atlases = [RFLAll, KeukenAll]\n",
    "\n",
    "# define the one to be currently used in the workflow\n",
    "atlas = 'Cort'"
   ]
  },
  {
   "cell_type": "markdown",
   "metadata": {},
   "source": [
    "## User defined functions"
   ]
  },
  {
   "cell_type": "code",
   "execution_count": 4,
   "metadata": {},
   "outputs": [],
   "source": [
    "def printSubPath(fullFilePath):\n",
    "    # function to split filepath into constituent parts, then print string to add as input to DataSink for the container string\n",
    "    # given the full filepath, this extracts the subject folder and session folder strings for input\n",
    "    # into DataSink\n",
    "    import os\n",
    "    import re\n",
    "    fname = os.path.normpath(fullFilePath)\n",
    "    l = fname.split(os.sep)\n",
    "    name = [[s for s in l if re.search('sub', s)][0]]\n",
    "    name = '/'.join(name)\n",
    "    return name"
   ]
  },
  {
   "cell_type": "markdown",
   "metadata": {},
   "source": [
    "Now, define the nodes that form the workflow"
   ]
  },
  {
   "cell_type": "markdown",
   "metadata": {},
   "source": [
    "# Data Grabber Nodes"
   ]
  },
  {
   "cell_type": "markdown",
   "metadata": {},
   "source": [
    "First, a Data Grabber Node to grab the T1 data and the transform data"
   ]
  },
  {
   "cell_type": "code",
   "execution_count": 5,
   "metadata": {},
   "outputs": [],
   "source": [
    "dgT1w = Node(DataGrabber(infields=['sub'], \n",
    "                         outfields=['anat','transform']), name='T1-grabber')\n",
    "dgT1w.inputs.base_dir = \"/scratch/qbi/uqkgarn1/STRIWP1/\"\n",
    "dgT1w.inputs.sort_filelist = True\n",
    "dgT1w.inputs.template='*'\n",
    "dgT1w.inputs.template_args = {'anat': [['sub', 'sub']],\n",
    "                              'transform': [['sub']]}\n",
    "dgT1w.inputs.field_template = {'anat': '/scratch/qbi/uqkgarn1/STRIWP1/derivatives/sub-%s/anat/sub-%s_desc-preproc_T1w.nii.gz',\n",
    "                               'transform': '/scratch/qbi/uqkgarn1/STRIWP1/derivatives/sub-%s/anat/*from-MNI152NLin2009cAsym_to-T1w_mode-image_xfm.h5'}"
   ]
  },
  {
   "cell_type": "markdown",
   "metadata": {},
   "source": [
    "First I test the node by directly entering a sub number, then I set up an IdentityInterface node to wrap around subjects."
   ]
  },
  {
   "cell_type": "code",
   "execution_count": null,
   "metadata": {},
   "outputs": [],
   "source": [
    "# dgT1w.inputs.sub = '01'\n",
    "# dgT1w.run().outputs.transform"
   ]
  },
  {
   "cell_type": "code",
   "execution_count": 6,
   "metadata": {},
   "outputs": [],
   "source": [
    "T1inf = Node(IdentityInterface(fields=['sub']),\n",
    "             name='T1-info')\n",
    "T1inf.iterables = [('sub', layout.get_subjects())]"
   ]
  },
  {
   "cell_type": "markdown",
   "metadata": {},
   "source": [
    "Now use data grabber to get the ROI masks:"
   ]
  },
  {
   "cell_type": "code",
   "execution_count": 7,
   "metadata": {},
   "outputs": [],
   "source": [
    "dgmk = Node(DataGrabber(), name='mask-grabber')\n",
    "dgmk.inputs.base_directory = \"/scratch/qbi/uqkgarn1/STRIWP1/derivatives/roi-masks/\"\n",
    "dgmk.inputs.template = [atlas + '/*.nii.gz'][0]\n",
    "dgmk.inputs.sort_filelist = True\n",
    "# res = dgmk.run()\n",
    "# res.outputs"
   ]
  },
  {
   "cell_type": "code",
   "execution_count": 8,
   "metadata": {},
   "outputs": [
    {
     "data": {
      "text/plain": [
       "\n",
       "base_directory = /scratch/qbi/uqkgarn1/STRIWP1/derivatives/roi-masks\n",
       "drop_blank_outputs = False\n",
       "field_template = <undefined>\n",
       "raise_on_empty = True\n",
       "sort_filelist = True\n",
       "template = Cort/*.nii.gz\n",
       "template_args = {'outfiles': []}"
      ]
     },
     "execution_count": 8,
     "metadata": {},
     "output_type": "execute_result"
    }
   ],
   "source": [
    "dgmk.inputs"
   ]
  },
  {
   "cell_type": "markdown",
   "metadata": {},
   "source": [
    "# Datasink Node"
   ]
  },
  {
   "cell_type": "code",
   "execution_count": 9,
   "metadata": {},
   "outputs": [],
   "source": [
    "ds = Node(DataSink(), name='sink-stuff')\n",
    "ds.inputs.base_directory = \"/scratch/qbi/uqkgarn1/STRIWP1/derivatives/roi-masks/\"\n",
    "ds.inputs.container = atlas"
   ]
  },
  {
   "cell_type": "code",
   "execution_count": 10,
   "metadata": {},
   "outputs": [],
   "source": [
    "substitutions = [('_sub_([0-9]*)', ''),\n",
    "                 ('_transform([0-9]*)', '')\n",
    "                ]\n"
   ]
  },
  {
   "cell_type": "code",
   "execution_count": 11,
   "metadata": {},
   "outputs": [
    {
     "data": {
      "text/plain": [
       "\n",
       "_outputs = {}\n",
       "base_directory = /scratch/qbi/uqkgarn1/STRIWP1/derivatives/roi-masks/\n",
       "bucket = <undefined>\n",
       "container = Cort\n",
       "creds_path = <undefined>\n",
       "encrypt_bucket_keys = <undefined>\n",
       "local_copy = <undefined>\n",
       "parameterization = True\n",
       "regexp_substitutions = [('_sub_([0-9]*)', ''), ('_transform([0-9]*)', '')]\n",
       "remove_dest_dir = False\n",
       "strip_dir = <undefined>\n",
       "substitutions = <undefined>"
      ]
     },
     "execution_count": 11,
     "metadata": {},
     "output_type": "execute_result"
    }
   ],
   "source": [
    "ds.inputs.regexp_substitutions = substitutions\n",
    "ds.inputs"
   ]
  },
  {
   "cell_type": "markdown",
   "metadata": {},
   "source": [
    "# ANTS transform node\n"
   ]
  },
  {
   "cell_type": "code",
   "execution_count": 12,
   "metadata": {},
   "outputs": [],
   "source": [
    "tf = MapNode(ApplyTransforms(), iterfield = ['input_image'], name='transform')\n",
    "tf.inputs.interpolation='NearestNeighbor' # check fmri prep"
   ]
  },
  {
   "cell_type": "code",
   "execution_count": 13,
   "metadata": {},
   "outputs": [
    {
     "data": {
      "text/plain": [
       "Bunch(output_image=<undefined>)"
      ]
     },
     "execution_count": 13,
     "metadata": {},
     "output_type": "execute_result"
    }
   ],
   "source": [
    "tf.outputs"
   ]
  },
  {
   "cell_type": "markdown",
   "metadata": {},
   "source": [
    "## options for ApplyTransforms\n",
    "\n",
    "input_image - will be a list of the relevant mask files\n",
    "interpolation - do I keep to Linear or change to NearestNeighbour (check Alex's)\n",
    "reference_image = subjects T1w, fed through by the BIDS Data Grabber and a print name function\n",
    "transforms = should grab these using the BIDS DataGrabber - need to make json files\n",
    "dimension - can make into '3' if Ants can't detect automatically\n",
    "output_image - a string of the output filename - can adapt one of the predefined functions to wrangle this \n",
    "\n"
   ]
  },
  {
   "cell_type": "markdown",
   "metadata": {},
   "source": [
    "## Connect workflow"
   ]
  },
  {
   "cell_type": "code",
   "execution_count": 14,
   "metadata": {},
   "outputs": [
    {
     "name": "stdout",
     "output_type": "stream",
     "text": [
      "200518-11:11:39,462 nipype.workflow INFO:\n",
      "\t Workflow roi_tfs settings: ['check', 'execution', 'logging', 'monitoring']\n",
      "200518-11:11:39,488 nipype.workflow INFO:\n",
      "\t Running serially.\n",
      "200518-11:11:39,489 nipype.workflow INFO:\n",
      "\t [Node] Setting-up \"roi_tfs.T1-grabber\" in \"/tmp/tmplbrii2d_/roi_tfs/_sub_05/T1-grabber\".\n",
      "200518-11:11:39,495 nipype.workflow INFO:\n",
      "\t [Node] Running \"T1-grabber\" (\"nipype.interfaces.io.DataGrabber\")\n",
      "200518-11:11:39,502 nipype.workflow INFO:\n",
      "\t [Node] Finished \"roi_tfs.T1-grabber\".\n",
      "200518-11:11:39,504 nipype.workflow INFO:\n",
      "\t [Node] Setting-up \"roi_tfs.T1-grabber\" in \"/tmp/tmp_8w6czvq/roi_tfs/_sub_04/T1-grabber\".\n",
      "200518-11:11:39,509 nipype.workflow INFO:\n",
      "\t [Node] Running \"T1-grabber\" (\"nipype.interfaces.io.DataGrabber\")\n",
      "200518-11:11:39,514 nipype.workflow INFO:\n",
      "\t [Node] Finished \"roi_tfs.T1-grabber\".\n",
      "200518-11:11:39,515 nipype.workflow INFO:\n",
      "\t [Node] Setting-up \"roi_tfs.T1-grabber\" in \"/tmp/tmpvu0fjh_5/roi_tfs/_sub_03/T1-grabber\".\n",
      "200518-11:11:39,519 nipype.workflow INFO:\n",
      "\t [Node] Running \"T1-grabber\" (\"nipype.interfaces.io.DataGrabber\")\n",
      "200518-11:11:39,524 nipype.workflow INFO:\n",
      "\t [Node] Finished \"roi_tfs.T1-grabber\".\n",
      "200518-11:11:39,526 nipype.workflow INFO:\n",
      "\t [Node] Setting-up \"roi_tfs.T1-grabber\" in \"/tmp/tmp5a54ycsy/roi_tfs/_sub_02/T1-grabber\".\n",
      "200518-11:11:39,530 nipype.workflow INFO:\n",
      "\t [Node] Running \"T1-grabber\" (\"nipype.interfaces.io.DataGrabber\")\n",
      "200518-11:11:39,535 nipype.workflow INFO:\n",
      "\t [Node] Finished \"roi_tfs.T1-grabber\".\n",
      "200518-11:11:39,536 nipype.workflow INFO:\n",
      "\t [Node] Setting-up \"roi_tfs.T1-grabber\" in \"/tmp/tmpvekknt79/roi_tfs/_sub_01/T1-grabber\".\n",
      "200518-11:11:39,541 nipype.workflow INFO:\n",
      "\t [Node] Running \"T1-grabber\" (\"nipype.interfaces.io.DataGrabber\")\n",
      "200518-11:11:39,545 nipype.workflow INFO:\n",
      "\t [Node] Finished \"roi_tfs.T1-grabber\".\n",
      "200518-11:11:39,546 nipype.workflow INFO:\n",
      "\t [Node] Setting-up \"roi_tfs.mask-grabber\" in \"/tmp/tmpvn2gjoke/roi_tfs/mask-grabber\".\n",
      "200518-11:11:39,550 nipype.workflow INFO:\n",
      "\t [Node] Running \"mask-grabber\" (\"nipype.interfaces.io.DataGrabber\")\n",
      "200518-11:11:39,555 nipype.workflow INFO:\n",
      "\t [Node] Finished \"roi_tfs.mask-grabber\".\n",
      "200518-11:11:39,555 nipype.workflow INFO:\n",
      "\t [Node] Setting-up \"roi_tfs.transform\" in \"/tmp/tmpc928x5hd/roi_tfs/_sub_05/transform\".\n",
      "200518-11:11:39,563 nipype.workflow INFO:\n",
      "\t [Node] Setting-up \"_transform0\" in \"/tmp/tmpc928x5hd/roi_tfs/_sub_05/transform/mapflow/_transform0\".\n",
      "200518-11:11:39,568 nipype.workflow INFO:\n",
      "\t [Node] Running \"_transform0\" (\"nipype.interfaces.ants.resampling.ApplyTransforms\"), a CommandLine Interface with command:\n",
      "antsApplyTransforms --default-value 0 --float 0 --input /scratch/qbi/uqkgarn1/STRIWP1/derivatives/roi-masks/Cort/FEF.nii.gz --interpolation NearestNeighbor --output FEF_trans.nii.gz --reference-image /scratch/qbi/uqkgarn1/STRIWP1/derivatives/sub-05/anat/sub-05_desc-preproc_T1w.nii.gz --transform /scratch/qbi/uqkgarn1/STRIWP1/derivatives/sub-05/anat/sub-05_from-MNI152NLin2009cAsym_to-T1w_mode-image_xfm.h5\n",
      "200518-11:11:44,282 nipype.workflow INFO:\n",
      "\t [Node] Finished \"_transform0\".\n",
      "200518-11:11:44,285 nipype.workflow INFO:\n",
      "\t [Node] Setting-up \"_transform1\" in \"/tmp/tmpc928x5hd/roi_tfs/_sub_05/transform/mapflow/_transform1\".\n",
      "200518-11:11:44,291 nipype.workflow INFO:\n",
      "\t [Node] Running \"_transform1\" (\"nipype.interfaces.ants.resampling.ApplyTransforms\"), a CommandLine Interface with command:\n",
      "antsApplyTransforms --default-value 0 --float 0 --input /scratch/qbi/uqkgarn1/STRIWP1/derivatives/roi-masks/Cort/IPS.nii.gz --interpolation NearestNeighbor --output IPS_trans.nii.gz --reference-image /scratch/qbi/uqkgarn1/STRIWP1/derivatives/sub-05/anat/sub-05_desc-preproc_T1w.nii.gz --transform /scratch/qbi/uqkgarn1/STRIWP1/derivatives/sub-05/anat/sub-05_from-MNI152NLin2009cAsym_to-T1w_mode-image_xfm.h5\n",
      "200518-11:11:48,894 nipype.workflow INFO:\n",
      "\t [Node] Finished \"_transform1\".\n",
      "200518-11:11:48,896 nipype.workflow INFO:\n",
      "\t [Node] Setting-up \"_transform2\" in \"/tmp/tmpc928x5hd/roi_tfs/_sub_05/transform/mapflow/_transform2\".\n",
      "200518-11:11:48,901 nipype.workflow INFO:\n",
      "\t [Node] Running \"_transform2\" (\"nipype.interfaces.ants.resampling.ApplyTransforms\"), a CommandLine Interface with command:\n",
      "antsApplyTransforms --default-value 0 --float 0 --input /scratch/qbi/uqkgarn1/STRIWP1/derivatives/roi-masks/Cort/LOC.nii.gz --interpolation NearestNeighbor --output LOC_trans.nii.gz --reference-image /scratch/qbi/uqkgarn1/STRIWP1/derivatives/sub-05/anat/sub-05_desc-preproc_T1w.nii.gz --transform /scratch/qbi/uqkgarn1/STRIWP1/derivatives/sub-05/anat/sub-05_from-MNI152NLin2009cAsym_to-T1w_mode-image_xfm.h5\n",
      "200518-11:11:53,447 nipype.workflow INFO:\n",
      "\t [Node] Finished \"_transform2\".\n",
      "200518-11:11:53,451 nipype.workflow INFO:\n",
      "\t [Node] Finished \"roi_tfs.transform\".\n",
      "200518-11:11:53,452 nipype.workflow INFO:\n",
      "\t [Node] Setting-up \"roi_tfs.sink-stuff\" in \"/tmp/tmp3ptqxk8k/roi_tfs/_sub_05/sink-stuff\".\n",
      "200518-11:11:53,460 nipype.workflow INFO:\n",
      "\t [Node] Running \"sink-stuff\" (\"nipype.interfaces.io.DataSink\")\n",
      "200518-11:11:53,461 nipype.interface INFO:\n",
      "\t sub: /scratch/qbi/uqkgarn1/STRIWP1/derivatives/roi-masks/sub-05/Cort/_sub_05/_transform0/FEF_trans.nii.gz -> /scratch/qbi/uqkgarn1/STRIWP1/derivatives/roi-masks/sub-05/Cort///FEF_trans.nii.gz\n",
      "200518-11:11:53,465 nipype.interface INFO:\n",
      "\t sub: /scratch/qbi/uqkgarn1/STRIWP1/derivatives/roi-masks/sub-05/Cort/_sub_05/_transform1/IPS_trans.nii.gz -> /scratch/qbi/uqkgarn1/STRIWP1/derivatives/roi-masks/sub-05/Cort///IPS_trans.nii.gz\n",
      "200518-11:11:53,468 nipype.interface INFO:\n",
      "\t sub: /scratch/qbi/uqkgarn1/STRIWP1/derivatives/roi-masks/sub-05/Cort/_sub_05/_transform2/LOC_trans.nii.gz -> /scratch/qbi/uqkgarn1/STRIWP1/derivatives/roi-masks/sub-05/Cort///LOC_trans.nii.gz\n",
      "200518-11:11:53,474 nipype.workflow INFO:\n",
      "\t [Node] Finished \"roi_tfs.sink-stuff\".\n",
      "200518-11:11:53,475 nipype.workflow INFO:\n",
      "\t [Node] Setting-up \"roi_tfs.transform\" in \"/tmp/tmpt1jdqj8j/roi_tfs/_sub_04/transform\".\n",
      "200518-11:11:53,483 nipype.workflow INFO:\n",
      "\t [Node] Setting-up \"_transform0\" in \"/tmp/tmpt1jdqj8j/roi_tfs/_sub_04/transform/mapflow/_transform0\".\n",
      "200518-11:11:53,488 nipype.workflow INFO:\n",
      "\t [Node] Running \"_transform0\" (\"nipype.interfaces.ants.resampling.ApplyTransforms\"), a CommandLine Interface with command:\n",
      "antsApplyTransforms --default-value 0 --float 0 --input /scratch/qbi/uqkgarn1/STRIWP1/derivatives/roi-masks/Cort/FEF.nii.gz --interpolation NearestNeighbor --output FEF_trans.nii.gz --reference-image /scratch/qbi/uqkgarn1/STRIWP1/derivatives/sub-04/anat/sub-04_desc-preproc_T1w.nii.gz --transform /scratch/qbi/uqkgarn1/STRIWP1/derivatives/sub-04/anat/sub-04_from-MNI152NLin2009cAsym_to-T1w_mode-image_xfm.h5\n",
      "200518-11:11:58,132 nipype.workflow INFO:\n",
      "\t [Node] Finished \"_transform0\".\n",
      "200518-11:11:58,135 nipype.workflow INFO:\n",
      "\t [Node] Setting-up \"_transform1\" in \"/tmp/tmpt1jdqj8j/roi_tfs/_sub_04/transform/mapflow/_transform1\".\n",
      "200518-11:11:58,140 nipype.workflow INFO:\n",
      "\t [Node] Running \"_transform1\" (\"nipype.interfaces.ants.resampling.ApplyTransforms\"), a CommandLine Interface with command:\n",
      "antsApplyTransforms --default-value 0 --float 0 --input /scratch/qbi/uqkgarn1/STRIWP1/derivatives/roi-masks/Cort/IPS.nii.gz --interpolation NearestNeighbor --output IPS_trans.nii.gz --reference-image /scratch/qbi/uqkgarn1/STRIWP1/derivatives/sub-04/anat/sub-04_desc-preproc_T1w.nii.gz --transform /scratch/qbi/uqkgarn1/STRIWP1/derivatives/sub-04/anat/sub-04_from-MNI152NLin2009cAsym_to-T1w_mode-image_xfm.h5\n",
      "200518-11:12:02,956 nipype.workflow INFO:\n",
      "\t [Node] Finished \"_transform1\".\n",
      "200518-11:12:02,959 nipype.workflow INFO:\n",
      "\t [Node] Setting-up \"_transform2\" in \"/tmp/tmpt1jdqj8j/roi_tfs/_sub_04/transform/mapflow/_transform2\".\n",
      "200518-11:12:02,964 nipype.workflow INFO:\n",
      "\t [Node] Running \"_transform2\" (\"nipype.interfaces.ants.resampling.ApplyTransforms\"), a CommandLine Interface with command:\n",
      "antsApplyTransforms --default-value 0 --float 0 --input /scratch/qbi/uqkgarn1/STRIWP1/derivatives/roi-masks/Cort/LOC.nii.gz --interpolation NearestNeighbor --output LOC_trans.nii.gz --reference-image /scratch/qbi/uqkgarn1/STRIWP1/derivatives/sub-04/anat/sub-04_desc-preproc_T1w.nii.gz --transform /scratch/qbi/uqkgarn1/STRIWP1/derivatives/sub-04/anat/sub-04_from-MNI152NLin2009cAsym_to-T1w_mode-image_xfm.h5\n",
      "200518-11:12:07,779 nipype.workflow INFO:\n",
      "\t [Node] Finished \"_transform2\".\n"
     ]
    },
    {
     "name": "stdout",
     "output_type": "stream",
     "text": [
      "200518-11:12:07,783 nipype.workflow INFO:\n",
      "\t [Node] Finished \"roi_tfs.transform\".\n",
      "200518-11:12:07,784 nipype.workflow INFO:\n",
      "\t [Node] Setting-up \"roi_tfs.sink-stuff\" in \"/tmp/tmpmvpowwq_/roi_tfs/_sub_04/sink-stuff\".\n",
      "200518-11:12:07,792 nipype.workflow INFO:\n",
      "\t [Node] Running \"sink-stuff\" (\"nipype.interfaces.io.DataSink\")\n",
      "200518-11:12:07,794 nipype.interface INFO:\n",
      "\t sub: /scratch/qbi/uqkgarn1/STRIWP1/derivatives/roi-masks/sub-04/Cort/_sub_04/_transform0/FEF_trans.nii.gz -> /scratch/qbi/uqkgarn1/STRIWP1/derivatives/roi-masks/sub-04/Cort///FEF_trans.nii.gz\n",
      "200518-11:12:07,798 nipype.interface INFO:\n",
      "\t sub: /scratch/qbi/uqkgarn1/STRIWP1/derivatives/roi-masks/sub-04/Cort/_sub_04/_transform1/IPS_trans.nii.gz -> /scratch/qbi/uqkgarn1/STRIWP1/derivatives/roi-masks/sub-04/Cort///IPS_trans.nii.gz\n",
      "200518-11:12:07,801 nipype.interface INFO:\n",
      "\t sub: /scratch/qbi/uqkgarn1/STRIWP1/derivatives/roi-masks/sub-04/Cort/_sub_04/_transform2/LOC_trans.nii.gz -> /scratch/qbi/uqkgarn1/STRIWP1/derivatives/roi-masks/sub-04/Cort///LOC_trans.nii.gz\n",
      "200518-11:12:07,808 nipype.workflow INFO:\n",
      "\t [Node] Finished \"roi_tfs.sink-stuff\".\n",
      "200518-11:12:07,808 nipype.workflow INFO:\n",
      "\t [Node] Setting-up \"roi_tfs.transform\" in \"/tmp/tmpnbd6awp8/roi_tfs/_sub_03/transform\".\n",
      "200518-11:12:07,816 nipype.workflow INFO:\n",
      "\t [Node] Setting-up \"_transform0\" in \"/tmp/tmpnbd6awp8/roi_tfs/_sub_03/transform/mapflow/_transform0\".\n",
      "200518-11:12:07,822 nipype.workflow INFO:\n",
      "\t [Node] Running \"_transform0\" (\"nipype.interfaces.ants.resampling.ApplyTransforms\"), a CommandLine Interface with command:\n",
      "antsApplyTransforms --default-value 0 --float 0 --input /scratch/qbi/uqkgarn1/STRIWP1/derivatives/roi-masks/Cort/FEF.nii.gz --interpolation NearestNeighbor --output FEF_trans.nii.gz --reference-image /scratch/qbi/uqkgarn1/STRIWP1/derivatives/sub-03/anat/sub-03_desc-preproc_T1w.nii.gz --transform /scratch/qbi/uqkgarn1/STRIWP1/derivatives/sub-03/anat/sub-03_from-MNI152NLin2009cAsym_to-T1w_mode-image_xfm.h5\n",
      "200518-11:12:12,563 nipype.workflow INFO:\n",
      "\t [Node] Finished \"_transform0\".\n",
      "200518-11:12:12,566 nipype.workflow INFO:\n",
      "\t [Node] Setting-up \"_transform1\" in \"/tmp/tmpnbd6awp8/roi_tfs/_sub_03/transform/mapflow/_transform1\".\n",
      "200518-11:12:12,572 nipype.workflow INFO:\n",
      "\t [Node] Running \"_transform1\" (\"nipype.interfaces.ants.resampling.ApplyTransforms\"), a CommandLine Interface with command:\n",
      "antsApplyTransforms --default-value 0 --float 0 --input /scratch/qbi/uqkgarn1/STRIWP1/derivatives/roi-masks/Cort/IPS.nii.gz --interpolation NearestNeighbor --output IPS_trans.nii.gz --reference-image /scratch/qbi/uqkgarn1/STRIWP1/derivatives/sub-03/anat/sub-03_desc-preproc_T1w.nii.gz --transform /scratch/qbi/uqkgarn1/STRIWP1/derivatives/sub-03/anat/sub-03_from-MNI152NLin2009cAsym_to-T1w_mode-image_xfm.h5\n",
      "200518-11:12:17,255 nipype.workflow INFO:\n",
      "\t [Node] Finished \"_transform1\".\n",
      "200518-11:12:17,257 nipype.workflow INFO:\n",
      "\t [Node] Setting-up \"_transform2\" in \"/tmp/tmpnbd6awp8/roi_tfs/_sub_03/transform/mapflow/_transform2\".\n",
      "200518-11:12:17,262 nipype.workflow INFO:\n",
      "\t [Node] Running \"_transform2\" (\"nipype.interfaces.ants.resampling.ApplyTransforms\"), a CommandLine Interface with command:\n",
      "antsApplyTransforms --default-value 0 --float 0 --input /scratch/qbi/uqkgarn1/STRIWP1/derivatives/roi-masks/Cort/LOC.nii.gz --interpolation NearestNeighbor --output LOC_trans.nii.gz --reference-image /scratch/qbi/uqkgarn1/STRIWP1/derivatives/sub-03/anat/sub-03_desc-preproc_T1w.nii.gz --transform /scratch/qbi/uqkgarn1/STRIWP1/derivatives/sub-03/anat/sub-03_from-MNI152NLin2009cAsym_to-T1w_mode-image_xfm.h5\n",
      "200518-11:12:21,997 nipype.workflow INFO:\n",
      "\t [Node] Finished \"_transform2\".\n",
      "200518-11:12:22,1 nipype.workflow INFO:\n",
      "\t [Node] Finished \"roi_tfs.transform\".\n",
      "200518-11:12:22,1 nipype.workflow INFO:\n",
      "\t [Node] Setting-up \"roi_tfs.sink-stuff\" in \"/tmp/tmpk4ej1gka/roi_tfs/_sub_03/sink-stuff\".\n",
      "200518-11:12:22,9 nipype.workflow INFO:\n",
      "\t [Node] Running \"sink-stuff\" (\"nipype.interfaces.io.DataSink\")\n",
      "200518-11:12:22,11 nipype.interface INFO:\n",
      "\t sub: /scratch/qbi/uqkgarn1/STRIWP1/derivatives/roi-masks/sub-03/Cort/_sub_03/_transform0/FEF_trans.nii.gz -> /scratch/qbi/uqkgarn1/STRIWP1/derivatives/roi-masks/sub-03/Cort///FEF_trans.nii.gz\n",
      "200518-11:12:22,14 nipype.interface INFO:\n",
      "\t sub: /scratch/qbi/uqkgarn1/STRIWP1/derivatives/roi-masks/sub-03/Cort/_sub_03/_transform1/IPS_trans.nii.gz -> /scratch/qbi/uqkgarn1/STRIWP1/derivatives/roi-masks/sub-03/Cort///IPS_trans.nii.gz\n",
      "200518-11:12:22,18 nipype.interface INFO:\n",
      "\t sub: /scratch/qbi/uqkgarn1/STRIWP1/derivatives/roi-masks/sub-03/Cort/_sub_03/_transform2/LOC_trans.nii.gz -> /scratch/qbi/uqkgarn1/STRIWP1/derivatives/roi-masks/sub-03/Cort///LOC_trans.nii.gz\n",
      "200518-11:12:22,23 nipype.workflow INFO:\n",
      "\t [Node] Finished \"roi_tfs.sink-stuff\".\n",
      "200518-11:12:22,24 nipype.workflow INFO:\n",
      "\t [Node] Setting-up \"roi_tfs.transform\" in \"/tmp/tmpih4vz3ln/roi_tfs/_sub_02/transform\".\n",
      "200518-11:12:22,32 nipype.workflow INFO:\n",
      "\t [Node] Setting-up \"_transform0\" in \"/tmp/tmpih4vz3ln/roi_tfs/_sub_02/transform/mapflow/_transform0\".\n",
      "200518-11:12:22,38 nipype.workflow INFO:\n",
      "\t [Node] Running \"_transform0\" (\"nipype.interfaces.ants.resampling.ApplyTransforms\"), a CommandLine Interface with command:\n",
      "antsApplyTransforms --default-value 0 --float 0 --input /scratch/qbi/uqkgarn1/STRIWP1/derivatives/roi-masks/Cort/FEF.nii.gz --interpolation NearestNeighbor --output FEF_trans.nii.gz --reference-image /scratch/qbi/uqkgarn1/STRIWP1/derivatives/sub-02/anat/sub-02_desc-preproc_T1w.nii.gz --transform /scratch/qbi/uqkgarn1/STRIWP1/derivatives/sub-02/anat/sub-02_from-MNI152NLin2009cAsym_to-T1w_mode-image_xfm.h5\n",
      "200518-11:12:26,846 nipype.workflow INFO:\n",
      "\t [Node] Finished \"_transform0\".\n",
      "200518-11:12:26,849 nipype.workflow INFO:\n",
      "\t [Node] Setting-up \"_transform1\" in \"/tmp/tmpih4vz3ln/roi_tfs/_sub_02/transform/mapflow/_transform1\".\n",
      "200518-11:12:26,854 nipype.workflow INFO:\n",
      "\t [Node] Running \"_transform1\" (\"nipype.interfaces.ants.resampling.ApplyTransforms\"), a CommandLine Interface with command:\n",
      "antsApplyTransforms --default-value 0 --float 0 --input /scratch/qbi/uqkgarn1/STRIWP1/derivatives/roi-masks/Cort/IPS.nii.gz --interpolation NearestNeighbor --output IPS_trans.nii.gz --reference-image /scratch/qbi/uqkgarn1/STRIWP1/derivatives/sub-02/anat/sub-02_desc-preproc_T1w.nii.gz --transform /scratch/qbi/uqkgarn1/STRIWP1/derivatives/sub-02/anat/sub-02_from-MNI152NLin2009cAsym_to-T1w_mode-image_xfm.h5\n",
      "200518-11:12:31,605 nipype.workflow INFO:\n",
      "\t [Node] Finished \"_transform1\".\n",
      "200518-11:12:31,608 nipype.workflow INFO:\n",
      "\t [Node] Setting-up \"_transform2\" in \"/tmp/tmpih4vz3ln/roi_tfs/_sub_02/transform/mapflow/_transform2\".\n",
      "200518-11:12:31,613 nipype.workflow INFO:\n",
      "\t [Node] Running \"_transform2\" (\"nipype.interfaces.ants.resampling.ApplyTransforms\"), a CommandLine Interface with command:\n",
      "antsApplyTransforms --default-value 0 --float 0 --input /scratch/qbi/uqkgarn1/STRIWP1/derivatives/roi-masks/Cort/LOC.nii.gz --interpolation NearestNeighbor --output LOC_trans.nii.gz --reference-image /scratch/qbi/uqkgarn1/STRIWP1/derivatives/sub-02/anat/sub-02_desc-preproc_T1w.nii.gz --transform /scratch/qbi/uqkgarn1/STRIWP1/derivatives/sub-02/anat/sub-02_from-MNI152NLin2009cAsym_to-T1w_mode-image_xfm.h5\n",
      "200518-11:12:36,259 nipype.workflow INFO:\n",
      "\t [Node] Finished \"_transform2\".\n",
      "200518-11:12:36,263 nipype.workflow INFO:\n",
      "\t [Node] Finished \"roi_tfs.transform\".\n",
      "200518-11:12:36,263 nipype.workflow INFO:\n",
      "\t [Node] Setting-up \"roi_tfs.sink-stuff\" in \"/tmp/tmp7upyardb/roi_tfs/_sub_02/sink-stuff\".\n",
      "200518-11:12:36,271 nipype.workflow INFO:\n",
      "\t [Node] Running \"sink-stuff\" (\"nipype.interfaces.io.DataSink\")\n",
      "200518-11:12:36,272 nipype.interface INFO:\n",
      "\t sub: /scratch/qbi/uqkgarn1/STRIWP1/derivatives/roi-masks/sub-02/Cort/_sub_02/_transform0/FEF_trans.nii.gz -> /scratch/qbi/uqkgarn1/STRIWP1/derivatives/roi-masks/sub-02/Cort///FEF_trans.nii.gz\n",
      "200518-11:12:36,276 nipype.interface INFO:\n",
      "\t sub: /scratch/qbi/uqkgarn1/STRIWP1/derivatives/roi-masks/sub-02/Cort/_sub_02/_transform1/IPS_trans.nii.gz -> /scratch/qbi/uqkgarn1/STRIWP1/derivatives/roi-masks/sub-02/Cort///IPS_trans.nii.gz\n",
      "200518-11:12:36,279 nipype.interface INFO:\n",
      "\t sub: /scratch/qbi/uqkgarn1/STRIWP1/derivatives/roi-masks/sub-02/Cort/_sub_02/_transform2/LOC_trans.nii.gz -> /scratch/qbi/uqkgarn1/STRIWP1/derivatives/roi-masks/sub-02/Cort///LOC_trans.nii.gz\n"
     ]
    },
    {
     "name": "stdout",
     "output_type": "stream",
     "text": [
      "200518-11:12:36,284 nipype.workflow INFO:\n",
      "\t [Node] Finished \"roi_tfs.sink-stuff\".\n",
      "200518-11:12:36,285 nipype.workflow INFO:\n",
      "\t [Node] Setting-up \"roi_tfs.transform\" in \"/tmp/tmp46_n9e5z/roi_tfs/_sub_01/transform\".\n",
      "200518-11:12:36,293 nipype.workflow INFO:\n",
      "\t [Node] Setting-up \"_transform0\" in \"/tmp/tmp46_n9e5z/roi_tfs/_sub_01/transform/mapflow/_transform0\".\n",
      "200518-11:12:36,298 nipype.workflow INFO:\n",
      "\t [Node] Running \"_transform0\" (\"nipype.interfaces.ants.resampling.ApplyTransforms\"), a CommandLine Interface with command:\n",
      "antsApplyTransforms --default-value 0 --float 0 --input /scratch/qbi/uqkgarn1/STRIWP1/derivatives/roi-masks/Cort/FEF.nii.gz --interpolation NearestNeighbor --output FEF_trans.nii.gz --reference-image /scratch/qbi/uqkgarn1/STRIWP1/derivatives/sub-01/anat/sub-01_desc-preproc_T1w.nii.gz --transform /scratch/qbi/uqkgarn1/STRIWP1/derivatives/sub-01/anat/sub-01_from-MNI152NLin2009cAsym_to-T1w_mode-image_xfm.h5\n",
      "200518-11:12:41,12 nipype.workflow INFO:\n",
      "\t [Node] Finished \"_transform0\".\n",
      "200518-11:12:41,15 nipype.workflow INFO:\n",
      "\t [Node] Setting-up \"_transform1\" in \"/tmp/tmp46_n9e5z/roi_tfs/_sub_01/transform/mapflow/_transform1\".\n",
      "200518-11:12:41,20 nipype.workflow INFO:\n",
      "\t [Node] Running \"_transform1\" (\"nipype.interfaces.ants.resampling.ApplyTransforms\"), a CommandLine Interface with command:\n",
      "antsApplyTransforms --default-value 0 --float 0 --input /scratch/qbi/uqkgarn1/STRIWP1/derivatives/roi-masks/Cort/IPS.nii.gz --interpolation NearestNeighbor --output IPS_trans.nii.gz --reference-image /scratch/qbi/uqkgarn1/STRIWP1/derivatives/sub-01/anat/sub-01_desc-preproc_T1w.nii.gz --transform /scratch/qbi/uqkgarn1/STRIWP1/derivatives/sub-01/anat/sub-01_from-MNI152NLin2009cAsym_to-T1w_mode-image_xfm.h5\n",
      "200518-11:12:45,819 nipype.workflow INFO:\n",
      "\t [Node] Finished \"_transform1\".\n",
      "200518-11:12:45,822 nipype.workflow INFO:\n",
      "\t [Node] Setting-up \"_transform2\" in \"/tmp/tmp46_n9e5z/roi_tfs/_sub_01/transform/mapflow/_transform2\".\n",
      "200518-11:12:45,828 nipype.workflow INFO:\n",
      "\t [Node] Running \"_transform2\" (\"nipype.interfaces.ants.resampling.ApplyTransforms\"), a CommandLine Interface with command:\n",
      "antsApplyTransforms --default-value 0 --float 0 --input /scratch/qbi/uqkgarn1/STRIWP1/derivatives/roi-masks/Cort/LOC.nii.gz --interpolation NearestNeighbor --output LOC_trans.nii.gz --reference-image /scratch/qbi/uqkgarn1/STRIWP1/derivatives/sub-01/anat/sub-01_desc-preproc_T1w.nii.gz --transform /scratch/qbi/uqkgarn1/STRIWP1/derivatives/sub-01/anat/sub-01_from-MNI152NLin2009cAsym_to-T1w_mode-image_xfm.h5\n",
      "200518-11:12:50,761 nipype.workflow INFO:\n",
      "\t [Node] Finished \"_transform2\".\n",
      "200518-11:12:50,765 nipype.workflow INFO:\n",
      "\t [Node] Finished \"roi_tfs.transform\".\n",
      "200518-11:12:50,765 nipype.workflow INFO:\n",
      "\t [Node] Setting-up \"roi_tfs.sink-stuff\" in \"/tmp/tmpq0hg56p7/roi_tfs/_sub_01/sink-stuff\".\n",
      "200518-11:12:50,773 nipype.workflow INFO:\n",
      "\t [Node] Running \"sink-stuff\" (\"nipype.interfaces.io.DataSink\")\n",
      "200518-11:12:50,775 nipype.interface INFO:\n",
      "\t sub: /scratch/qbi/uqkgarn1/STRIWP1/derivatives/roi-masks/sub-01/Cort/_sub_01/_transform0/FEF_trans.nii.gz -> /scratch/qbi/uqkgarn1/STRIWP1/derivatives/roi-masks/sub-01/Cort///FEF_trans.nii.gz\n",
      "200518-11:12:50,778 nipype.interface INFO:\n",
      "\t sub: /scratch/qbi/uqkgarn1/STRIWP1/derivatives/roi-masks/sub-01/Cort/_sub_01/_transform1/IPS_trans.nii.gz -> /scratch/qbi/uqkgarn1/STRIWP1/derivatives/roi-masks/sub-01/Cort///IPS_trans.nii.gz\n",
      "200518-11:12:50,782 nipype.interface INFO:\n",
      "\t sub: /scratch/qbi/uqkgarn1/STRIWP1/derivatives/roi-masks/sub-01/Cort/_sub_01/_transform2/LOC_trans.nii.gz -> /scratch/qbi/uqkgarn1/STRIWP1/derivatives/roi-masks/sub-01/Cort///LOC_trans.nii.gz\n",
      "200518-11:12:50,788 nipype.workflow INFO:\n",
      "\t [Node] Finished \"roi_tfs.sink-stuff\".\n"
     ]
    },
    {
     "data": {
      "text/plain": [
       "<networkx.classes.digraph.DiGraph at 0x7f48c8305278>"
      ]
     },
     "execution_count": 14,
     "metadata": {},
     "output_type": "execute_result"
    }
   ],
   "source": [
    "tf_wf.connect([(T1inf, dgT1w, [('sub', 'sub')]),\n",
    "               (dgT1w, ds,    [(('transform', printSubPath),\n",
    "                                'container')]),\n",
    "               (dgT1w, tf,    [('anat', 'reference_image')]),\n",
    "               (dgT1w, tf,    [('transform', 'transforms')]),\n",
    "               (dgmk,  tf,    [('outfiles', 'input_image')]),\n",
    "               (tf,    ds,    [('output_image', atlas)])                          \n",
    "              ])\n",
    "tf_wf.run()"
   ]
  }
 ],
 "metadata": {
  "kernelspec": {
   "display_name": "Python 3",
   "language": "python",
   "name": "python3"
  },
  "language_info": {
   "codemirror_mode": {
    "name": "ipython",
    "version": 3
   },
   "file_extension": ".py",
   "mimetype": "text/x-python",
   "name": "python",
   "nbconvert_exporter": "python",
   "pygments_lexer": "ipython3",
   "version": "3.6.10"
  }
 },
 "nbformat": 4,
 "nbformat_minor": 4
}
