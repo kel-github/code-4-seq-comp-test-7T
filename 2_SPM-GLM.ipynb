{
 "cells": [
  {
   "cell_type": "markdown",
   "metadata": {},
   "source": [
    "# Run SPM GLM to get condition beta weights and residual files"
   ]
  },
  {
   "cell_type": "markdown",
   "metadata": {},
   "source": [
    "Loop over subject and TR, thereby concatenating across session"
   ]
  },
  {
   "cell_type": "code",
   "execution_count": 1,
   "metadata": {},
   "outputs": [
    {
     "name": "stdout",
     "output_type": "stream",
     "text": [
      "210308-18:32:22,881 nipype.utils WARNING:\n",
      "\t A newer version (1.5.1) of nipy/nipype is available. You are using 1.5.0\n"
     ]
    }
   ],
   "source": [
    "from bids.layout import BIDSLayout\n",
    "from nipype.interfaces import afni \n",
    "from nipype.interfaces.io import BIDSDataGrabber, DataFinder, DataSink, DataGrabber\n",
    "import nipype.pipeline as pe\n",
    "import nipype as ni\n",
    "from nipype.interfaces.utility import Function\n",
    "import nipype.interfaces.fsl.maths as fsl\n",
    "from nipype.interfaces import spm as spm\n",
    "from nipype.algorithms import modelgen as mgen\n",
    "from nipype.algorithms.misc import Gunzip \n",
    "import pandas as pd\n",
    "import os, re, json\n",
    "# https://nipype.readthedocs.io/en/0.11.0/users/spmmcr.html\n",
    "\n",
    "matlab_cmd = '/opt/spm12-r7219/run_spm12.sh /opt/matlabmcr-2010a/v713/ script'\n",
    "spm.SPMCommand.set_mlab_paths(matlab_cmd=matlab_cmd, use_mcr=True)"
   ]
  },
  {
   "cell_type": "code",
   "execution_count": 2,
   "metadata": {},
   "outputs": [
    {
     "name": "stderr",
     "output_type": "stream",
     "text": [
      "/opt/miniconda-latest/envs/neuro/lib/python3.6/site-packages/bids/layout/models.py:102: FutureWarning: The 'extension' entity currently excludes the leading dot ('.'). As of version 0.14.0, it will include the leading dot. To suppress this warning and include the leading dot, use `bids.config.set_option('extension_initial_dot', True)`.\n",
      "  FutureWarning)\n"
     ]
    }
   ],
   "source": [
    "Basedir = \"/scratch/qbi/uqkgarn1/STRIWP1/\"\n",
    "layout = BIDSLayout(Basedir)\n",
    "subs = layout.get_subjects()\n",
    "\n",
    "glm = pe.Workflow(name=\"glms\") # workflow to run the analysis"
   ]
  },
  {
   "cell_type": "markdown",
   "metadata": {},
   "source": [
    "## Data grabbing and saving nodes"
   ]
  },
  {
   "cell_type": "markdown",
   "metadata": {},
   "source": [
    "Note: I copied the motion files from the derivatives/etc path to derivatives/glm/sub-etc and I removed the T2 echo-1 and echo-2 .nii.gz data from the func folder below. I also removed the echo 2 motion files from the same folder, and the bjson files (renaming echo 1 of the 700 TR to fit the below field template"
   ]
  },
  {
   "cell_type": "code",
   "execution_count": 3,
   "metadata": {},
   "outputs": [],
   "source": [
    "# THIS CODE DEFINITELY WORKS\n",
    "dgT2s = pe.Node(DataGrabber(infields=['sub', 'TR'], \n",
    "                            outfields=['func','motion','onsets','bjson','mask']), name='T2-grabber')\n",
    "dgT2s.inputs.base_dir = \"/scratch/qbi/uqkgarn1/STRIWP1/\"\n",
    "dgT2s.inputs.sort_filelist = True\n",
    "dgT2s.inputs.template='*'\n",
    "dgT2s.inputs.template_args = {'func': [['sub', 'sub', 'TR']],\n",
    "                              'motion':[['sub', 'sub', 'TR']],\n",
    "                              'onsets':[['sub', 'sub', 'TR']],\n",
    "                              'bjson':[['sub', 'sub', 'TR']],\n",
    "                              'mask':[['sub', 'sub', 'TR']]}\n",
    "dgT2s.inputs.field_template = {'func': '/scratch/qbi/uqkgarn1/STRIWP1/derivatives/sub-%s/ses-*/func/sub-%s_*TR%s_space-T1w_desc-preproc_bold.nii.gz',\n",
    "                               'motion': '/scratch/qbi/uqkgarn1/STRIWP1/derivatives/glm/sub-%s/ses-*/func/sub-%s_*-TR%s*desc-motion_regressors.txt',\n",
    "                               'onsets': '/scratch/qbi/uqkgarn1/STRIWP1/derivatives/sub-%s/ses-*/func/sub-%s_*-TR%s_glm_onsets.json',\n",
    "                               'bjson': '/scratch/qbi/uqkgarn1/STRIWP1/derivatives/sub-%s/ses-*/func/sub-%s_*-TR%s*space-T1w_desc-preproc_bold.json',\n",
    "                               'mask': '/scratch/qbi/uqkgarn1/STRIWP1/derivatives/sub-%s/ses-02/func/sub-%s_*TR%s_space-T1w_desc-brain_mask.nii.gz'}\n"
   ]
  },
  {
   "cell_type": "code",
   "execution_count": 4,
   "metadata": {},
   "outputs": [
    {
     "name": "stdout",
     "output_type": "stream",
     "text": [
      "210308-18:32:36,711 nipype.workflow INFO:\n",
      "\t [Node] Setting-up \"T2-grabber\" in \"/tmp/tmptquh1cdo/T2-grabber\".\n",
      "210308-18:32:36,718 nipype.workflow INFO:\n",
      "\t [Node] Running \"T2-grabber\" (\"nipype.interfaces.io.DataGrabber\")\n",
      "210308-18:32:36,730 nipype.workflow INFO:\n",
      "\t [Node] Finished \"T2-grabber\".\n"
     ]
    },
    {
     "data": {
      "text/plain": [
       "\n",
       "bjson = ['/scratch/qbi/uqkgarn1/STRIWP1/derivatives/sub-05/ses-02/func/sub-05_ses-02_task-learnAtt_acq-TR700_echo-1_space-T1w_desc-preproc_bold.json', '/scratch/qbi/uqkgarn1/STRIWP1/derivatives/sub-05/ses-02/func/sub-05_ses-02_task-learnAtt_acq-TR700_echo-2_space-T1w_desc-preproc_bold.json', '/scratch/qbi/uqkgarn1/STRIWP1/derivatives/sub-05/ses-02/func/sub-05_ses-02_task-learnAtt_acq-TR700_space-T1w_desc-preproc_bold.json', '/scratch/qbi/uqkgarn1/STRIWP1/derivatives/sub-05/ses-03/func/sub-05_ses-03_task-learnAtt_acq-TR700_echo-1_space-T1w_desc-preproc_bold.json', '/scratch/qbi/uqkgarn1/STRIWP1/derivatives/sub-05/ses-03/func/sub-05_ses-03_task-learnAtt_acq-TR700_echo-2_space-T1w_desc-preproc_bold.json', '/scratch/qbi/uqkgarn1/STRIWP1/derivatives/sub-05/ses-03/func/sub-05_ses-03_task-learnAtt_acq-TR700_space-T1w_desc-preproc_bold.json', '/scratch/qbi/uqkgarn1/STRIWP1/derivatives/sub-05/ses-04/func/sub-05_ses-04_task-learnAtt_acq-TR700_echo-1_space-T1w_desc-preproc_bold.json', '/scratch/qbi/uqkgarn1/STRIWP1/derivatives/sub-05/ses-04/func/sub-05_ses-04_task-learnAtt_acq-TR700_echo-2_space-T1w_desc-preproc_bold.json', '/scratch/qbi/uqkgarn1/STRIWP1/derivatives/sub-05/ses-04/func/sub-05_ses-04_task-learnAtt_acq-TR700_space-T1w_desc-preproc_bold.json']\n",
       "func = ['/scratch/qbi/uqkgarn1/STRIWP1/derivatives/sub-05/ses-02/func/sub-05_ses-02_task-learnAtt_acq-TR700_space-T1w_desc-preproc_bold.nii.gz', '/scratch/qbi/uqkgarn1/STRIWP1/derivatives/sub-05/ses-03/func/sub-05_ses-03_task-learnAtt_acq-TR700_space-T1w_desc-preproc_bold.nii.gz', '/scratch/qbi/uqkgarn1/STRIWP1/derivatives/sub-05/ses-04/func/sub-05_ses-04_task-learnAtt_acq-TR700_space-T1w_desc-preproc_bold.nii.gz']\n",
       "mask = /scratch/qbi/uqkgarn1/STRIWP1/derivatives/sub-05/ses-02/func/sub-05_ses-02_task-learnAtt_acq-TR700_space-T1w_desc-brain_mask.nii.gz\n",
       "motion = ['/scratch/qbi/uqkgarn1/STRIWP1/derivatives/glm/sub-05/ses-02/func/sub-05_ses-02_task-learnAtt_acq-TR700_echo-1_desc-motion_regressors.txt', '/scratch/qbi/uqkgarn1/STRIWP1/derivatives/glm/sub-05/ses-03/func/sub-05_ses-03_task-learnAtt_acq-TR700_echo-1_desc-motion_regressors.txt', '/scratch/qbi/uqkgarn1/STRIWP1/derivatives/glm/sub-05/ses-04/func/sub-05_ses-04_task-learnAtt_acq-TR700_echo-1_desc-motion_regressors.txt']\n",
       "onsets = ['/scratch/qbi/uqkgarn1/STRIWP1/derivatives/sub-05/ses-02/func/sub-05_ses-02_task-learnAtt_acq-TR700_glm_onsets.json', '/scratch/qbi/uqkgarn1/STRIWP1/derivatives/sub-05/ses-03/func/sub-05_ses-03_task-learnAtt_acq-TR700_glm_onsets.json', '/scratch/qbi/uqkgarn1/STRIWP1/derivatives/sub-05/ses-04/func/sub-05_ses-04_task-learnAtt_acq-TR700_glm_onsets.json']"
      ]
     },
     "execution_count": 4,
     "metadata": {},
     "output_type": "execute_result"
    }
   ],
   "source": [
    "# debugging\n",
    "dgT2s.inputs.sub = '05'\n",
    "dgT2s.inputs.TR = '700'\n",
    "res = dgT2s.run()\n",
    "res.outputs"
   ]
  },
  {
   "cell_type": "code",
   "execution_count": 5,
   "metadata": {},
   "outputs": [
    {
     "data": {
      "text/plain": [
       "[('sub', ['05']), ('TR', ['700'])]"
      ]
     },
     "execution_count": 5,
     "metadata": {},
     "output_type": "execute_result"
    }
   ],
   "source": [
    "# THIS WORKS\n",
    "T2inf = pe.Node(ni.IdentityInterface(fields=['sub', 'TR']),\n",
    "                   name='T2-info')\n",
    "T2inf.iterables = [('sub', ['01', '02', '03', '04', '05']), ('TR', ['700', '1510', '1920'])]\n",
    "T2inf.iterables = [('sub', ['05']), ('TR', ['700'])]\n",
    "T2inf.iterables "
   ]
  },
  {
   "cell_type": "code",
   "execution_count": 6,
   "metadata": {},
   "outputs": [],
   "source": [
    "def printSubPath(fullFilePath):\n",
    "    # function to split filepath into constituent parts, then print string to add as input to DataSink for the container string\n",
    "    # given the full filepath, this extracts the subject folder and TR strings for input\n",
    "    # into DataSink\n",
    "    import os\n",
    "    import re\n",
    "    fname = os.path.normpath(fullFilePath[0])\n",
    "    fname\n",
    "    l = fname.split(os.sep)\n",
    "    TR = re.search('.*acq-TR([0-9]*)_.*',l[-1])\n",
    "    TR = str(int(TR.group(1)))\n",
    "    name = [s for s in l if re.search('sub', s)][0]\n",
    "    name = [name, \"TR\"+TR]\n",
    "    name\n",
    "    name = '/'.join(name)\n",
    "    return name"
   ]
  },
  {
   "cell_type": "markdown",
   "metadata": {},
   "source": [
    "# Data sink\n"
   ]
  },
  {
   "cell_type": "code",
   "execution_count": 7,
   "metadata": {},
   "outputs": [],
   "source": [
    "ds = pe.Node(DataSink(), name='sink-stuff')\n",
    "ds.inputs.base_directory = \"/scratch/qbi/uqkgarn1/STRIWP1/derivatives/glmTDFAST/\"\n",
    "# glm Time and Dispersion derivatives and FAST correction of serial correlations\n",
    "substitutions = [('_TR_([0-9]*)_sub_([0-9]*)', '')]\n",
    "ds.inputs.regexp_substitutions = substitutions"
   ]
  },
  {
   "cell_type": "markdown",
   "metadata": {},
   "source": [
    "# Get design info"
   ]
  },
  {
   "cell_type": "code",
   "execution_count": 8,
   "metadata": {},
   "outputs": [],
   "source": [
    "# the input function should be a list of the prt files, taken across sessions, for each TR\n",
    "def getOnsetsJson(input_files):\n",
    "    from nipype.interfaces.base import Bunch\n",
    "    import json\n",
    "    prt_output = [] #prt=protocol\n",
    "    count = 0\n",
    "    for f in input_files: \n",
    "        count = count + 1\n",
    "        with open(f, \"r+\") as file:\n",
    "            data = json.load(file)\n",
    "            prt_output.insert(count, \n",
    "                              Bunch(conditions=data['names'],\n",
    "                                    onsets=data['onsets'],\n",
    "                                    durations=data['durations']))\n",
    "    return prt_output"
   ]
  },
  {
   "cell_type": "code",
   "execution_count": 9,
   "metadata": {},
   "outputs": [],
   "source": [
    "getOnsets = pe.Node(Function(input_names=['input_files'],\n",
    "                             output_names=['prt_output'],\n",
    "                             function=getOnsetsJson),\n",
    "                    name='get_prt_onsets')"
   ]
  },
  {
   "cell_type": "markdown",
   "metadata": {},
   "source": [
    "# Gunzip Nodes\n",
    "\n",
    "1 for functional data, 1 for mask (condense during finesse)"
   ]
  },
  {
   "cell_type": "code",
   "execution_count": 10,
   "metadata": {},
   "outputs": [],
   "source": [
    "gunzipfunc = pe.MapNode(Gunzip(), name='gunzipfunc', iterfield=['in_file'])"
   ]
  },
  {
   "cell_type": "code",
   "execution_count": 11,
   "metadata": {},
   "outputs": [],
   "source": [
    "gmask = pe.Node(Gunzip(), name='m-zip')"
   ]
  },
  {
   "cell_type": "markdown",
   "metadata": {},
   "source": [
    "# Smooth the functional data"
   ]
  },
  {
   "cell_type": "code",
   "execution_count": 12,
   "metadata": {},
   "outputs": [],
   "source": [
    "# smooth = pe.Node(spm.Smooth(), name='smoooooth')\n",
    "# smooth.inputs.fwhm = [3, 3, 3]"
   ]
  },
  {
   "cell_type": "markdown",
   "metadata": {},
   "source": [
    "# Get the TR for the model spec"
   ]
  },
  {
   "cell_type": "code",
   "execution_count": 13,
   "metadata": {},
   "outputs": [],
   "source": [
    "# the input function should be a list of the prt files, taken across sessions, for each TR\n",
    "def getTRJson(input_files):\n",
    "    import json\n",
    "    with open(input_files[0], \"r+\") as file:\n",
    "            data = json.load(file)\n",
    "            TR = data['RepetitionTime'] \n",
    "    if TR < .5:\n",
    "        TR = 1.92\n",
    "    return TR"
   ]
  },
  {
   "cell_type": "code",
   "execution_count": 14,
   "metadata": {},
   "outputs": [],
   "source": [
    "getTR = pe.Node(Function(input_names=['input_files'],\n",
    "                         output_names=['TR'],\n",
    "                         function=getTRJson),\n",
    "                name='get_TR')"
   ]
  },
  {
   "cell_type": "code",
   "execution_count": 15,
   "metadata": {},
   "outputs": [],
   "source": [
    "def printSavFol(TR):\n",
    "    # function to append the TR to a name for the save folder\n",
    "    name = \"TR\" + TR\n",
    "    return name"
   ]
  },
  {
   "cell_type": "markdown",
   "metadata": {},
   "source": [
    "# Specify GLM Model"
   ]
  },
  {
   "cell_type": "code",
   "execution_count": 16,
   "metadata": {},
   "outputs": [],
   "source": [
    "# SpecifyModel - Generates SPM-specific Model\n",
    "modelspec = pe.Node(mgen.SpecifySPMModel(concatenate_runs=False,\n",
    "                                         input_units='secs',\n",
    "                                         output_units='secs',\n",
    "                                         high_pass_filter_cutoff=128),\n",
    "                    name=\"modelspec\")"
   ]
  },
  {
   "cell_type": "markdown",
   "metadata": {},
   "source": [
    "# Generate design matrix"
   ]
  },
  {
   "cell_type": "code",
   "execution_count": 17,
   "metadata": {},
   "outputs": [],
   "source": [
    "# Level1Design - Generates an SPM design matrix\n",
    "level1design = pe.Node(spm.Level1Design(bases={'hrf': {'derivs': [1, 1]}},\n",
    "                                 timing_units='secs',\n",
    "                                 model_serial_correlations='FAST'),\n",
    "                       name=\"level1design\")"
   ]
  },
  {
   "cell_type": "markdown",
   "metadata": {},
   "source": [
    "# Estimate model"
   ]
  },
  {
   "cell_type": "code",
   "execution_count": 18,
   "metadata": {},
   "outputs": [],
   "source": [
    "# EstimateModel - estimate the parameters of the model\n",
    "estimate = pe.Node(spm.EstimateModel(estimation_method={'Classical': 1},\n",
    "                                     write_residuals=False),\n",
    "                                     name=\"estimate\")\n",
    "\n",
    "# inputs\n",
    "# spm mat file\n",
    "# outputs\n",
    "# beta_images\n",
    "# residual_images\n",
    "# spm_mat_file\n",
    "\n",
    "# will input the spm.mat files output by the design module above\n",
    "\n",
    "# # EstimateContrast - estimates contrasts\n",
    "# level1conest = pe.Node(spm.EstimateContrast(), name=\"level1conest\")\n",
    "# level1conest.inputs.contrasts = contrast_list"
   ]
  },
  {
   "cell_type": "markdown",
   "metadata": {},
   "source": [
    "### esimating beta weights and some contrasts due to below from Puckett's paper:\n",
    "\n",
    "All functional time-courses were scaled to percent signal change (i.e.\n",
    "each voxel time series was scaled to have a mean of 100) before calculating a multiple linear regression. The regression model contained 2\n",
    "regressors corresponding to each experimental condition (simple and\n",
    "complex movement, Fig. 1C) generated by convolving the stimulus\n",
    "timing of each condition with a canonical hemodynamic response function model. A further 6 regressors, estimated from the volume registration step and representing the participant's head movement during the\n",
    "scan, were also included. From the calculated regression model, contrast to-noise ratio (CNR) was calculated on a voxel-wise basis for each condition by dividing each voxel's beta or linear contrast value from the\n",
    "general linear model analysis by the standard deviation of the residual\n",
    "error of the time-series for that voxel. Results from the single-subject\n",
    "regression analysis \n",
    "\n",
    "So I can just take each regressor and I will take the RMSE of the effect sizes (making negative positive) and divide that by the standard deviation of the residuals, within each region"
   ]
  },
  {
   "cell_type": "markdown",
   "metadata": {},
   "source": [
    "# Specify GLM contrasts (Canonical only)"
   ]
  },
  {
   "cell_type": "code",
   "execution_count": 19,
   "metadata": {},
   "outputs": [],
   "source": [
    "# names = ['att_left_5','att_left_8','att_right_5','att_right_8','ll','lh','hh','hl','exp_high','exp_low','unexp_high','unexp_low','right_hand','left_hand','invalid']\n",
    "# #len(names)\n",
    "# attend_lvr = ('att_lvr', 'T', names, [-1, -1, 1, 1, 0, 0, 0, 0, 0, 0, 0, 0, 0, 0, 0])\n",
    "# attend_p = ('att_p', 'T', names, [-1, 1, -1, 1, 0, 0, 0, 0, 0, 0, 0, 0, 0, 0, 0])\n",
    "# attend_interaction = ('att_int', 'T', names, [1, -1, -1, 1, 0, 0, 0, 0, 0, 0, 0, 0, 0, 0, 0])\n",
    "# attend_cue = ('att_cue', 'F', [attend_lvr, attend_p, attend_interaction])\n",
    "# # attend_cue = ('att_cue', 'F', names, [[-1, 1, 0, 0, 0, 0, 0, 0, 0, 0, 0, 0, 0, 0, 0],\n",
    "# #                                       [0, 0, -1, 1, 0, 0, 0, 0, 0, 0, 0, 0, 0, 0, 0],\n",
    "# #                                       [1, -1, -1, 1, 0, 0, 0, 0, 0, 0, 0, 0, 0, 0, 0]])\n",
    "\n",
    "# llvhh = ('llvhh', 'T', names, [0, 0, 0, 0, -1, 0, 1, 0, 0, 0, 0, 0, 0, 0, 0])\n",
    "# lhvhl = ('lhvhl', 'T', names, [0, 0, 0, 0, 0, -1, 0, 1, 0, 0, 0, 0, 0, 0, 0])\n",
    "# relval = ('relval', 'T', names, [0, 0, 0, 0, 1, -1, -1, 1, 0, 0, 0, 0, 0, 0, 0])\n",
    "# value_cue = ('value_cue', 'F', [llvhh, lhvhl, relval])\n",
    "# # value_cue = ('value_cue', 'F', names, [[0, 0, 0, 0, -1, 0, 1, 0, 0, 0, 0, 0, 0, 0, 0],\n",
    "# #                                        [0, 0, 0, 0, 0, -1, 0, 1, 0, 0, 0, 0, 0, 0, 0],\n",
    "# #                                        [0, 0, 0, 0, 1, -1, -1, 1, 0, 0, 0, 0, 0, 0, 0]])\n",
    "# hand = ('hand', 'T', names, [0, 0, 0, 0, 0, 0, 0, 0, 0, 0, 0, 0, -1, 1, 0])\n",
    "# contrasts = [attend_lvr, attend_p, attend_interaction, attend_cue, llvhh, lhvhl, relval, value_cue, hand]\n",
    "# #contrasts\n",
    "# hand"
   ]
  },
  {
   "cell_type": "markdown",
   "metadata": {},
   "source": [
    "# Specify GLM contrasts (when using Time and Dispersion Derivatives)"
   ]
  },
  {
   "cell_type": "code",
   "execution_count": 20,
   "metadata": {},
   "outputs": [],
   "source": [
    "# names = ['att_left_5','att_left_5T','att_left_5D','att_left_8','att_left_8T','att_left_8D',\n",
    "#          'att_right_5','att_right_5T','att_right_5D','att_right_8','att_right_8T','att_right_8D',\n",
    "#          'll','llT','llD',\n",
    "#          'lh','lhT','lhD',\n",
    "#          'hh','hhT','hhD',\n",
    "#          'hl','hlT','hlD',\n",
    "#          'exp_high','exp_highT','exp_highD',\n",
    "#          'exp_low','exp_lowT','exp_lowD',\n",
    "#          'unexp_high','unexp_highT','unexp_highD',\n",
    "#          'unexp_low','unexp_lowT','unexp_lowD',\n",
    "#          'right_hand','right_handT','right_handD',\n",
    "#          'left_hand','left_handT','left_handD',\n",
    "#          'invalid','invalidT','invalidD']\n",
    "\n",
    "\n",
    "def do_name_lookup(name, lookup):\n",
    "    if name in lookup.keys():\n",
    "        return lookup[name]\n",
    "    else:\n",
    "        return 0\n",
    "names = ['att_left_5','att_left_8','att_right_5','att_right_8','ll','lh','hh','hl','exp_high','exp_low','unexp_high','unexp_low','right_hand','left_hand','invalid']\n",
    "# Spatial cue related contrasts\n",
    "attend_lvr = ('att_lvr', 'T', names, [do_name_lookup(name, {'att_left_5':1, 'att_left_8':1, 'att_right_5':-1, 'att_right_8':-1}) for name in names])\n",
    "attend_p = ('att_p', 'T', names, [do_name_lookup(name, {'att_left_5':-1, 'att_left_8':1, 'att_right_5':-1, 'att_right_8':1}) for name in names])\n",
    "attend_interaction = ('att_int', 'T', names, [do_name_lookup(name, {'att_left_5':1, 'att_left_8':-1, 'att_right_5':-1, 'att_right_8':1}) for name in names])\n",
    "attend_cue = ('att_cue', 'F', [attend_lvr, attend_p, attend_interaction])                                             \n",
    "# # Value contrasts\n",
    "llvhh = ('llvhh', 'T', names, [do_name_lookup(name, {'ll':-1, 'hh':1}) for name in names])\n",
    "lhvhl = ('lhvhl', 'T', names, [do_name_lookup(name, {'lh':-1, 'hl':1}) for name in names])\n",
    "relval = ('relval', 'T', names, [do_name_lookup(name, {'ll':1, 'lh':-1, 'hh':-1, 'hl':1}) for name in names])\n",
    "value_cue = ('value_cue', 'F', [llvhh, lhvhl])\n",
    "# Motoric contrast\n",
    "hand = ('hand', 'T', names, [do_name_lookup(name, {'right_hand':-1, 'left_hand':1}) for name in names])\n",
    "contrasts = [attend_lvr, attend_p, attend_interaction, attend_cue, llvhh, lhvhl, relval, value_cue, hand]\n",
    "# contrasts = [attend_lvr, llvhh]"
   ]
  },
  {
   "cell_type": "code",
   "execution_count": 21,
   "metadata": {},
   "outputs": [
    {
     "data": {
      "text/plain": [
       "15"
      ]
     },
     "execution_count": 21,
     "metadata": {},
     "output_type": "execute_result"
    }
   ],
   "source": [
    "len( [do_name_lookup(name, {'att_left_5':1, 'att_left_8':1, 'att_right_5':-1, 'att_right_8':-1}) for name in names])"
   ]
  },
  {
   "cell_type": "code",
   "execution_count": 22,
   "metadata": {},
   "outputs": [],
   "source": [
    "conts = pe.Node(spm.EstimateContrast(contrasts=contrasts),\n",
    "                                     name=\"conts\")"
   ]
  },
  {
   "cell_type": "markdown",
   "metadata": {},
   "source": [
    "# Connect Workflow"
   ]
  },
  {
   "cell_type": "code",
   "execution_count": 23,
   "metadata": {},
   "outputs": [],
   "source": [
    "# glm.connect([(T2inf, dgT2s, [('sub',  'sub')]), \n",
    "#              (T2inf, dgT2s, [('TR',   'TR')]),\n",
    "#              (dgT2s, ds, [(('motion', printSubPath),\n",
    "#                             'container')]),\n",
    "#              (dgT2s, getOnsets, [('onsets', 'input_files')]),\n",
    "#              (dgT2s, gunzipfunc, [('func', 'in_file')]),\n",
    "#              (dgT2s, gmask, [('mask', 'in_file')]),\n",
    "#              (gunzipfunc, smooth, [('out_file', 'in_files')]),\n",
    "#              (dgT2s, getTR, [('bjson', 'input_files')]),\n",
    "#              (getTR, modelspec, [('TR', 'time_repetition')]),\n",
    "#              (dgT2s, modelspec, [('motion', 'realignment_parameters')]),\n",
    "#              (getOnsets, modelspec, [('prt_output', 'subject_info')]),\n",
    "#              (smooth, modelspec, [('smoothed_files', 'functional_runs')]),\n",
    "#              (getTR, level1design, [('TR', 'interscan_interval')]),\n",
    "#              (modelspec, level1design, [('session_info', 'session_info')]),\n",
    "#              (gmask, level1design, [('out_file', 'mask_image')]),\n",
    "#              (level1design, estimate, [('spm_mat_file', 'spm_mat_file')]),\n",
    "#              (estimate, ds, [('beta_images', 'FLGLM.@beta')]),\n",
    "#              (estimate, ds, [('residual_image', 'FLGLM.@resid')]),\n",
    "#              (estimate, conts, [('beta_images', 'beta_images')]),\n",
    "#              (estimate, conts, [('residual_image', 'residual_image')]),\n",
    "#              (estimate, conts, [('spm_mat_file','spm_mat_file')]),\n",
    "#              (conts, ds, [('con_images', 'FLGLM.@con')]),\n",
    "#              (conts, ds, [('spmT_images', 'FLGLM.@T')]),\n",
    "#              (conts, ds, [('spm_mat_file', 'FLGLM.@spm')])\n",
    "#             ])      "
   ]
  },
  {
   "cell_type": "code",
   "execution_count": 24,
   "metadata": {},
   "outputs": [],
   "source": [
    "glm.connect([(T2inf, dgT2s, [('sub',  'sub')]), \n",
    "             (T2inf, dgT2s, [('TR',   'TR')]),\n",
    "             (dgT2s, ds, [(('motion', printSubPath),\n",
    "                            'container')]),\n",
    "             (dgT2s, getOnsets, [('onsets', 'input_files')]),\n",
    "             (dgT2s, gunzipfunc, [('func', 'in_file')]),\n",
    "             (dgT2s, gmask, [('mask', 'in_file')]),\n",
    "             (dgT2s, getTR, [('bjson', 'input_files')]),\n",
    "             (getTR, modelspec, [('TR', 'time_repetition')]),\n",
    "             (dgT2s, modelspec, [('motion', 'realignment_parameters')]),\n",
    "             (getOnsets, modelspec, [('prt_output', 'subject_info')]),\n",
    "             (gunzipfunc, modelspec, [('out_file', 'functional_runs')]),\n",
    "             (getTR, level1design, [('TR', 'interscan_interval')]),\n",
    "             (modelspec, level1design, [('session_info', 'session_info')]),\n",
    "             (gmask, level1design, [('out_file', 'mask_image')]),\n",
    "             (level1design, estimate, [('spm_mat_file', 'spm_mat_file')]),\n",
    "             (estimate, ds, [('beta_images', 'FLGLM.@beta')]),\n",
    "             (estimate, ds, [('residual_image', 'FLGLM.@resid')]),\n",
    "             (estimate, conts, [('beta_images', 'beta_images')]),\n",
    "             (estimate, conts, [('residual_image', 'residual_image')]),\n",
    "             (estimate, conts, [('spm_mat_file','spm_mat_file')]),\n",
    "             (conts, ds, [('con_images', 'FLGLM.@con')]),\n",
    "             (conts, ds, [('spmT_images', 'FLGLM.@T')]),\n",
    "             (conts, ds, [('spm_mat_file', 'FLGLM.@spm')])\n",
    "            ])      "
   ]
  },
  {
   "cell_type": "code",
   "execution_count": 25,
   "metadata": {},
   "outputs": [
    {
     "name": "stdout",
     "output_type": "stream",
     "text": [
      "210308-18:32:36,915 nipype.workflow INFO:\n",
      "\t Workflow glms settings: ['check', 'execution', 'logging', 'monitoring']\n",
      "210308-18:32:36,938 nipype.workflow INFO:\n",
      "\t Running serially.\n",
      "210308-18:32:36,939 nipype.workflow INFO:\n",
      "\t [Node] Setting-up \"glms.T2-grabber\" in \"/tmp/tmptquh1cdo/T2-grabber\".\n",
      "210308-18:32:36,941 nipype.workflow INFO:\n",
      "\t [Node] Outdated cache found for \"glms.T2-grabber\".\n",
      "210308-18:32:36,947 nipype.workflow INFO:\n",
      "\t [Node] Running \"T2-grabber\" (\"nipype.interfaces.io.DataGrabber\")\n",
      "210308-18:32:36,956 nipype.workflow INFO:\n",
      "\t [Node] Finished \"glms.T2-grabber\".\n",
      "210308-18:32:36,956 nipype.workflow INFO:\n",
      "\t [Node] Setting-up \"glms.get_TR\" in \"/tmp/tmpkk6ir8zg/glms/_TR_700_sub_05/get_TR\".\n",
      "210308-18:32:36,962 nipype.workflow INFO:\n",
      "\t [Node] Running \"get_TR\" (\"nipype.interfaces.utility.wrappers.Function\")\n",
      "210308-18:32:36,967 nipype.workflow INFO:\n",
      "\t [Node] Finished \"glms.get_TR\".\n",
      "210308-18:32:36,967 nipype.workflow INFO:\n",
      "\t [Node] Setting-up \"glms.m-zip\" in \"/tmp/tmpwdndya7l/glms/_TR_700_sub_05/m-zip\".\n",
      "210308-18:32:36,972 nipype.workflow INFO:\n",
      "\t [Node] Running \"m-zip\" (\"nipype.algorithms.misc.Gunzip\")\n",
      "210308-18:32:36,984 nipype.workflow INFO:\n",
      "\t [Node] Finished \"glms.m-zip\".\n",
      "210308-18:32:36,984 nipype.workflow INFO:\n",
      "\t [Node] Setting-up \"glms.gunzipfunc\" in \"/tmp/tmpepbuh81n/glms/_TR_700_sub_05/gunzipfunc\".\n",
      "210308-18:32:36,990 nipype.workflow INFO:\n",
      "\t [Node] Setting-up \"_gunzipfunc0\" in \"/tmp/tmpepbuh81n/glms/_TR_700_sub_05/gunzipfunc/mapflow/_gunzipfunc0\".\n",
      "210308-18:32:36,994 nipype.workflow INFO:\n",
      "\t [Node] Running \"_gunzipfunc0\" (\"nipype.algorithms.misc.Gunzip\")\n",
      "210308-18:32:43,611 nipype.workflow INFO:\n",
      "\t [Node] Finished \"_gunzipfunc0\".\n",
      "210308-18:32:43,613 nipype.workflow INFO:\n",
      "\t [Node] Setting-up \"_gunzipfunc1\" in \"/tmp/tmpepbuh81n/glms/_TR_700_sub_05/gunzipfunc/mapflow/_gunzipfunc1\".\n",
      "210308-18:32:43,618 nipype.workflow INFO:\n",
      "\t [Node] Running \"_gunzipfunc1\" (\"nipype.algorithms.misc.Gunzip\")\n",
      "210308-18:32:50,155 nipype.workflow INFO:\n",
      "\t [Node] Finished \"_gunzipfunc1\".\n",
      "210308-18:32:50,158 nipype.workflow INFO:\n",
      "\t [Node] Setting-up \"_gunzipfunc2\" in \"/tmp/tmpepbuh81n/glms/_TR_700_sub_05/gunzipfunc/mapflow/_gunzipfunc2\".\n",
      "210308-18:32:50,162 nipype.workflow INFO:\n",
      "\t [Node] Running \"_gunzipfunc2\" (\"nipype.algorithms.misc.Gunzip\")\n",
      "210308-18:32:56,406 nipype.workflow INFO:\n",
      "\t [Node] Finished \"_gunzipfunc2\".\n",
      "210308-18:32:56,411 nipype.workflow INFO:\n",
      "\t [Node] Finished \"glms.gunzipfunc\".\n",
      "210308-18:32:56,412 nipype.workflow INFO:\n",
      "\t [Node] Setting-up \"glms.get_prt_onsets\" in \"/tmp/tmpxmbf49zb/glms/_TR_700_sub_05/get_prt_onsets\".\n",
      "210308-18:32:56,418 nipype.workflow INFO:\n",
      "\t [Node] Running \"get_prt_onsets\" (\"nipype.interfaces.utility.wrappers.Function\")\n",
      "210308-18:32:56,424 nipype.workflow INFO:\n",
      "\t [Node] Finished \"glms.get_prt_onsets\".\n",
      "210308-18:32:56,425 nipype.workflow INFO:\n",
      "\t [Node] Setting-up \"glms.modelspec\" in \"/tmp/tmpasoqunb9/glms/_TR_700_sub_05/modelspec\".\n",
      "210308-18:32:56,448 nipype.workflow INFO:\n",
      "\t [Node] Running \"modelspec\" (\"nipype.algorithms.modelgen.SpecifySPMModel\")\n",
      "210308-18:32:56,964 nipype.workflow INFO:\n",
      "\t [Node] Finished \"glms.modelspec\".\n",
      "210308-18:32:56,965 nipype.workflow INFO:\n",
      "\t [Node] Setting-up \"glms.level1design\" in \"/tmp/tmpin_xvtvv/glms/_TR_700_sub_05/level1design\".\n",
      "210308-18:32:58,173 nipype.workflow INFO:\n",
      "\t [Node] Running \"level1design\" (\"nipype.interfaces.spm.model.Level1Design\")\n",
      "210308-18:34:04,900 nipype.workflow INFO:\n",
      "\t [Node] Finished \"glms.level1design\".\n",
      "210308-18:34:04,902 nipype.workflow INFO:\n",
      "\t [Node] Setting-up \"glms.estimate\" in \"/tmp/tmpmggl5yl_/glms/_TR_700_sub_05/estimate\".\n",
      "210308-18:34:05,53 nipype.workflow INFO:\n",
      "\t [Node] Running \"estimate\" (\"nipype.interfaces.spm.model.EstimateModel\")\n",
      "210308-18:54:45,582 nipype.workflow INFO:\n",
      "\t [Node] Finished \"glms.estimate\".\n",
      "210308-18:54:45,583 nipype.workflow INFO:\n",
      "\t [Node] Setting-up \"glms.conts\" in \"/tmp/tmpl_mv8ht8/glms/_TR_700_sub_05/conts\".\n",
      "210308-18:54:46,83 nipype.workflow INFO:\n",
      "\t [Node] Running \"conts\" (\"nipype.interfaces.spm.model.EstimateContrast\")\n",
      "210308-18:55:21,532 nipype.workflow INFO:\n",
      "\t [Node] Finished \"glms.conts\".\n",
      "210308-18:55:21,534 nipype.workflow INFO:\n",
      "\t [Node] Setting-up \"glms.sink-stuff\" in \"/tmp/tmpjqp7pio8/glms/_TR_700_sub_05/sink-stuff\".\n",
      "210308-18:55:21,571 nipype.workflow INFO:\n",
      "\t [Node] Running \"sink-stuff\" (\"nipype.interfaces.io.DataSink\")\n",
      "210308-18:55:21,573 nipype.interface INFO:\n",
      "\t sub: /scratch/qbi/uqkgarn1/STRIWP1/derivatives/glmTDFAST/sub-05/TR700/FLGLM/_TR_700_sub_05/beta_0001.nii -> /scratch/qbi/uqkgarn1/STRIWP1/derivatives/glmTDFAST/sub-05/TR700/FLGLM//beta_0001.nii\n",
      "210308-18:55:21,607 nipype.interface INFO:\n",
      "\t sub: /scratch/qbi/uqkgarn1/STRIWP1/derivatives/glmTDFAST/sub-05/TR700/FLGLM/_TR_700_sub_05/beta_0002.nii -> /scratch/qbi/uqkgarn1/STRIWP1/derivatives/glmTDFAST/sub-05/TR700/FLGLM//beta_0002.nii\n",
      "210308-18:55:21,653 nipype.interface INFO:\n",
      "\t sub: /scratch/qbi/uqkgarn1/STRIWP1/derivatives/glmTDFAST/sub-05/TR700/FLGLM/_TR_700_sub_05/beta_0003.nii -> /scratch/qbi/uqkgarn1/STRIWP1/derivatives/glmTDFAST/sub-05/TR700/FLGLM//beta_0003.nii\n",
      "210308-18:55:21,684 nipype.interface INFO:\n",
      "\t sub: /scratch/qbi/uqkgarn1/STRIWP1/derivatives/glmTDFAST/sub-05/TR700/FLGLM/_TR_700_sub_05/beta_0004.nii -> /scratch/qbi/uqkgarn1/STRIWP1/derivatives/glmTDFAST/sub-05/TR700/FLGLM//beta_0004.nii\n",
      "210308-18:55:21,718 nipype.interface INFO:\n",
      "\t sub: /scratch/qbi/uqkgarn1/STRIWP1/derivatives/glmTDFAST/sub-05/TR700/FLGLM/_TR_700_sub_05/beta_0005.nii -> /scratch/qbi/uqkgarn1/STRIWP1/derivatives/glmTDFAST/sub-05/TR700/FLGLM//beta_0005.nii\n",
      "210308-18:55:21,765 nipype.interface INFO:\n",
      "\t sub: /scratch/qbi/uqkgarn1/STRIWP1/derivatives/glmTDFAST/sub-05/TR700/FLGLM/_TR_700_sub_05/beta_0006.nii -> /scratch/qbi/uqkgarn1/STRIWP1/derivatives/glmTDFAST/sub-05/TR700/FLGLM//beta_0006.nii\n",
      "210308-18:55:21,803 nipype.interface INFO:\n",
      "\t sub: /scratch/qbi/uqkgarn1/STRIWP1/derivatives/glmTDFAST/sub-05/TR700/FLGLM/_TR_700_sub_05/beta_0007.nii -> /scratch/qbi/uqkgarn1/STRIWP1/derivatives/glmTDFAST/sub-05/TR700/FLGLM//beta_0007.nii\n",
      "210308-18:55:21,849 nipype.interface INFO:\n",
      "\t sub: /scratch/qbi/uqkgarn1/STRIWP1/derivatives/glmTDFAST/sub-05/TR700/FLGLM/_TR_700_sub_05/beta_0008.nii -> /scratch/qbi/uqkgarn1/STRIWP1/derivatives/glmTDFAST/sub-05/TR700/FLGLM//beta_0008.nii\n",
      "210308-18:55:21,883 nipype.interface INFO:\n",
      "\t sub: /scratch/qbi/uqkgarn1/STRIWP1/derivatives/glmTDFAST/sub-05/TR700/FLGLM/_TR_700_sub_05/beta_0009.nii -> /scratch/qbi/uqkgarn1/STRIWP1/derivatives/glmTDFAST/sub-05/TR700/FLGLM//beta_0009.nii\n",
      "210308-18:55:21,925 nipype.interface INFO:\n",
      "\t sub: /scratch/qbi/uqkgarn1/STRIWP1/derivatives/glmTDFAST/sub-05/TR700/FLGLM/_TR_700_sub_05/beta_0010.nii -> /scratch/qbi/uqkgarn1/STRIWP1/derivatives/glmTDFAST/sub-05/TR700/FLGLM//beta_0010.nii\n",
      "210308-18:55:21,968 nipype.interface INFO:\n",
      "\t sub: /scratch/qbi/uqkgarn1/STRIWP1/derivatives/glmTDFAST/sub-05/TR700/FLGLM/_TR_700_sub_05/beta_0011.nii -> /scratch/qbi/uqkgarn1/STRIWP1/derivatives/glmTDFAST/sub-05/TR700/FLGLM//beta_0011.nii\n",
      "210308-18:55:22,15 nipype.interface INFO:\n",
      "\t sub: /scratch/qbi/uqkgarn1/STRIWP1/derivatives/glmTDFAST/sub-05/TR700/FLGLM/_TR_700_sub_05/beta_0012.nii -> /scratch/qbi/uqkgarn1/STRIWP1/derivatives/glmTDFAST/sub-05/TR700/FLGLM//beta_0012.nii\n",
      "210308-18:55:22,44 nipype.interface INFO:\n",
      "\t sub: /scratch/qbi/uqkgarn1/STRIWP1/derivatives/glmTDFAST/sub-05/TR700/FLGLM/_TR_700_sub_05/beta_0013.nii -> /scratch/qbi/uqkgarn1/STRIWP1/derivatives/glmTDFAST/sub-05/TR700/FLGLM//beta_0013.nii\n",
      "210308-18:55:22,81 nipype.interface INFO:\n",
      "\t sub: /scratch/qbi/uqkgarn1/STRIWP1/derivatives/glmTDFAST/sub-05/TR700/FLGLM/_TR_700_sub_05/beta_0014.nii -> /scratch/qbi/uqkgarn1/STRIWP1/derivatives/glmTDFAST/sub-05/TR700/FLGLM//beta_0014.nii\n",
      "210308-18:55:22,134 nipype.interface INFO:\n",
      "\t sub: /scratch/qbi/uqkgarn1/STRIWP1/derivatives/glmTDFAST/sub-05/TR700/FLGLM/_TR_700_sub_05/beta_0015.nii -> /scratch/qbi/uqkgarn1/STRIWP1/derivatives/glmTDFAST/sub-05/TR700/FLGLM//beta_0015.nii\n",
      "210308-18:55:22,166 nipype.interface INFO:\n",
      "\t sub: /scratch/qbi/uqkgarn1/STRIWP1/derivatives/glmTDFAST/sub-05/TR700/FLGLM/_TR_700_sub_05/beta_0016.nii -> /scratch/qbi/uqkgarn1/STRIWP1/derivatives/glmTDFAST/sub-05/TR700/FLGLM//beta_0016.nii\n",
      "210308-18:55:22,200 nipype.interface INFO:\n",
      "\t sub: /scratch/qbi/uqkgarn1/STRIWP1/derivatives/glmTDFAST/sub-05/TR700/FLGLM/_TR_700_sub_05/beta_0017.nii -> /scratch/qbi/uqkgarn1/STRIWP1/derivatives/glmTDFAST/sub-05/TR700/FLGLM//beta_0017.nii\n"
     ]
    },
    {
     "name": "stdout",
     "output_type": "stream",
     "text": [
      "210308-18:55:22,231 nipype.interface INFO:\n",
      "\t sub: /scratch/qbi/uqkgarn1/STRIWP1/derivatives/glmTDFAST/sub-05/TR700/FLGLM/_TR_700_sub_05/beta_0018.nii -> /scratch/qbi/uqkgarn1/STRIWP1/derivatives/glmTDFAST/sub-05/TR700/FLGLM//beta_0018.nii\n",
      "210308-18:55:22,268 nipype.interface INFO:\n",
      "\t sub: /scratch/qbi/uqkgarn1/STRIWP1/derivatives/glmTDFAST/sub-05/TR700/FLGLM/_TR_700_sub_05/beta_0019.nii -> /scratch/qbi/uqkgarn1/STRIWP1/derivatives/glmTDFAST/sub-05/TR700/FLGLM//beta_0019.nii\n",
      "210308-18:55:22,307 nipype.interface INFO:\n",
      "\t sub: /scratch/qbi/uqkgarn1/STRIWP1/derivatives/glmTDFAST/sub-05/TR700/FLGLM/_TR_700_sub_05/beta_0020.nii -> /scratch/qbi/uqkgarn1/STRIWP1/derivatives/glmTDFAST/sub-05/TR700/FLGLM//beta_0020.nii\n",
      "210308-18:55:22,348 nipype.interface INFO:\n",
      "\t sub: /scratch/qbi/uqkgarn1/STRIWP1/derivatives/glmTDFAST/sub-05/TR700/FLGLM/_TR_700_sub_05/beta_0021.nii -> /scratch/qbi/uqkgarn1/STRIWP1/derivatives/glmTDFAST/sub-05/TR700/FLGLM//beta_0021.nii\n",
      "210308-18:55:22,393 nipype.interface INFO:\n",
      "\t sub: /scratch/qbi/uqkgarn1/STRIWP1/derivatives/glmTDFAST/sub-05/TR700/FLGLM/_TR_700_sub_05/beta_0022.nii -> /scratch/qbi/uqkgarn1/STRIWP1/derivatives/glmTDFAST/sub-05/TR700/FLGLM//beta_0022.nii\n",
      "210308-18:55:22,445 nipype.interface INFO:\n",
      "\t sub: /scratch/qbi/uqkgarn1/STRIWP1/derivatives/glmTDFAST/sub-05/TR700/FLGLM/_TR_700_sub_05/beta_0023.nii -> /scratch/qbi/uqkgarn1/STRIWP1/derivatives/glmTDFAST/sub-05/TR700/FLGLM//beta_0023.nii\n",
      "210308-18:55:22,475 nipype.interface INFO:\n",
      "\t sub: /scratch/qbi/uqkgarn1/STRIWP1/derivatives/glmTDFAST/sub-05/TR700/FLGLM/_TR_700_sub_05/beta_0024.nii -> /scratch/qbi/uqkgarn1/STRIWP1/derivatives/glmTDFAST/sub-05/TR700/FLGLM//beta_0024.nii\n",
      "210308-18:55:22,513 nipype.interface INFO:\n",
      "\t sub: /scratch/qbi/uqkgarn1/STRIWP1/derivatives/glmTDFAST/sub-05/TR700/FLGLM/_TR_700_sub_05/beta_0025.nii -> /scratch/qbi/uqkgarn1/STRIWP1/derivatives/glmTDFAST/sub-05/TR700/FLGLM//beta_0025.nii\n",
      "210308-18:55:22,545 nipype.interface INFO:\n",
      "\t sub: /scratch/qbi/uqkgarn1/STRIWP1/derivatives/glmTDFAST/sub-05/TR700/FLGLM/_TR_700_sub_05/beta_0026.nii -> /scratch/qbi/uqkgarn1/STRIWP1/derivatives/glmTDFAST/sub-05/TR700/FLGLM//beta_0026.nii\n",
      "210308-18:55:22,583 nipype.interface INFO:\n",
      "\t sub: /scratch/qbi/uqkgarn1/STRIWP1/derivatives/glmTDFAST/sub-05/TR700/FLGLM/_TR_700_sub_05/beta_0027.nii -> /scratch/qbi/uqkgarn1/STRIWP1/derivatives/glmTDFAST/sub-05/TR700/FLGLM//beta_0027.nii\n",
      "210308-18:55:22,617 nipype.interface INFO:\n",
      "\t sub: /scratch/qbi/uqkgarn1/STRIWP1/derivatives/glmTDFAST/sub-05/TR700/FLGLM/_TR_700_sub_05/beta_0028.nii -> /scratch/qbi/uqkgarn1/STRIWP1/derivatives/glmTDFAST/sub-05/TR700/FLGLM//beta_0028.nii\n",
      "210308-18:55:22,659 nipype.interface INFO:\n",
      "\t sub: /scratch/qbi/uqkgarn1/STRIWP1/derivatives/glmTDFAST/sub-05/TR700/FLGLM/_TR_700_sub_05/beta_0029.nii -> /scratch/qbi/uqkgarn1/STRIWP1/derivatives/glmTDFAST/sub-05/TR700/FLGLM//beta_0029.nii\n",
      "210308-18:55:22,690 nipype.interface INFO:\n",
      "\t sub: /scratch/qbi/uqkgarn1/STRIWP1/derivatives/glmTDFAST/sub-05/TR700/FLGLM/_TR_700_sub_05/beta_0030.nii -> /scratch/qbi/uqkgarn1/STRIWP1/derivatives/glmTDFAST/sub-05/TR700/FLGLM//beta_0030.nii\n",
      "210308-18:55:22,730 nipype.interface INFO:\n",
      "\t sub: /scratch/qbi/uqkgarn1/STRIWP1/derivatives/glmTDFAST/sub-05/TR700/FLGLM/_TR_700_sub_05/beta_0031.nii -> /scratch/qbi/uqkgarn1/STRIWP1/derivatives/glmTDFAST/sub-05/TR700/FLGLM//beta_0031.nii\n",
      "210308-18:55:22,759 nipype.interface INFO:\n",
      "\t sub: /scratch/qbi/uqkgarn1/STRIWP1/derivatives/glmTDFAST/sub-05/TR700/FLGLM/_TR_700_sub_05/beta_0032.nii -> /scratch/qbi/uqkgarn1/STRIWP1/derivatives/glmTDFAST/sub-05/TR700/FLGLM//beta_0032.nii\n",
      "210308-18:55:22,800 nipype.interface INFO:\n",
      "\t sub: /scratch/qbi/uqkgarn1/STRIWP1/derivatives/glmTDFAST/sub-05/TR700/FLGLM/_TR_700_sub_05/beta_0033.nii -> /scratch/qbi/uqkgarn1/STRIWP1/derivatives/glmTDFAST/sub-05/TR700/FLGLM//beta_0033.nii\n",
      "210308-18:55:22,863 nipype.interface INFO:\n",
      "\t sub: /scratch/qbi/uqkgarn1/STRIWP1/derivatives/glmTDFAST/sub-05/TR700/FLGLM/_TR_700_sub_05/beta_0034.nii -> /scratch/qbi/uqkgarn1/STRIWP1/derivatives/glmTDFAST/sub-05/TR700/FLGLM//beta_0034.nii\n",
      "210308-18:55:22,893 nipype.interface INFO:\n",
      "\t sub: /scratch/qbi/uqkgarn1/STRIWP1/derivatives/glmTDFAST/sub-05/TR700/FLGLM/_TR_700_sub_05/beta_0035.nii -> /scratch/qbi/uqkgarn1/STRIWP1/derivatives/glmTDFAST/sub-05/TR700/FLGLM//beta_0035.nii\n",
      "210308-18:55:22,925 nipype.interface INFO:\n",
      "\t sub: /scratch/qbi/uqkgarn1/STRIWP1/derivatives/glmTDFAST/sub-05/TR700/FLGLM/_TR_700_sub_05/beta_0036.nii -> /scratch/qbi/uqkgarn1/STRIWP1/derivatives/glmTDFAST/sub-05/TR700/FLGLM//beta_0036.nii\n",
      "210308-18:55:22,959 nipype.interface INFO:\n",
      "\t sub: /scratch/qbi/uqkgarn1/STRIWP1/derivatives/glmTDFAST/sub-05/TR700/FLGLM/_TR_700_sub_05/beta_0037.nii -> /scratch/qbi/uqkgarn1/STRIWP1/derivatives/glmTDFAST/sub-05/TR700/FLGLM//beta_0037.nii\n",
      "210308-18:55:22,990 nipype.interface INFO:\n",
      "\t sub: /scratch/qbi/uqkgarn1/STRIWP1/derivatives/glmTDFAST/sub-05/TR700/FLGLM/_TR_700_sub_05/beta_0038.nii -> /scratch/qbi/uqkgarn1/STRIWP1/derivatives/glmTDFAST/sub-05/TR700/FLGLM//beta_0038.nii\n",
      "210308-18:55:23,25 nipype.interface INFO:\n",
      "\t sub: /scratch/qbi/uqkgarn1/STRIWP1/derivatives/glmTDFAST/sub-05/TR700/FLGLM/_TR_700_sub_05/beta_0039.nii -> /scratch/qbi/uqkgarn1/STRIWP1/derivatives/glmTDFAST/sub-05/TR700/FLGLM//beta_0039.nii\n",
      "210308-18:55:23,59 nipype.interface INFO:\n",
      "\t sub: /scratch/qbi/uqkgarn1/STRIWP1/derivatives/glmTDFAST/sub-05/TR700/FLGLM/_TR_700_sub_05/beta_0040.nii -> /scratch/qbi/uqkgarn1/STRIWP1/derivatives/glmTDFAST/sub-05/TR700/FLGLM//beta_0040.nii\n",
      "210308-18:55:23,92 nipype.interface INFO:\n",
      "\t sub: /scratch/qbi/uqkgarn1/STRIWP1/derivatives/glmTDFAST/sub-05/TR700/FLGLM/_TR_700_sub_05/beta_0041.nii -> /scratch/qbi/uqkgarn1/STRIWP1/derivatives/glmTDFAST/sub-05/TR700/FLGLM//beta_0041.nii\n",
      "210308-18:55:23,123 nipype.interface INFO:\n",
      "\t sub: /scratch/qbi/uqkgarn1/STRIWP1/derivatives/glmTDFAST/sub-05/TR700/FLGLM/_TR_700_sub_05/beta_0042.nii -> /scratch/qbi/uqkgarn1/STRIWP1/derivatives/glmTDFAST/sub-05/TR700/FLGLM//beta_0042.nii\n",
      "210308-18:55:23,166 nipype.interface INFO:\n",
      "\t sub: /scratch/qbi/uqkgarn1/STRIWP1/derivatives/glmTDFAST/sub-05/TR700/FLGLM/_TR_700_sub_05/beta_0043.nii -> /scratch/qbi/uqkgarn1/STRIWP1/derivatives/glmTDFAST/sub-05/TR700/FLGLM//beta_0043.nii\n",
      "210308-18:55:23,201 nipype.interface INFO:\n",
      "\t sub: /scratch/qbi/uqkgarn1/STRIWP1/derivatives/glmTDFAST/sub-05/TR700/FLGLM/_TR_700_sub_05/beta_0044.nii -> /scratch/qbi/uqkgarn1/STRIWP1/derivatives/glmTDFAST/sub-05/TR700/FLGLM//beta_0044.nii\n",
      "210308-18:55:23,232 nipype.interface INFO:\n",
      "\t sub: /scratch/qbi/uqkgarn1/STRIWP1/derivatives/glmTDFAST/sub-05/TR700/FLGLM/_TR_700_sub_05/beta_0045.nii -> /scratch/qbi/uqkgarn1/STRIWP1/derivatives/glmTDFAST/sub-05/TR700/FLGLM//beta_0045.nii\n",
      "210308-18:55:23,268 nipype.interface INFO:\n",
      "\t sub: /scratch/qbi/uqkgarn1/STRIWP1/derivatives/glmTDFAST/sub-05/TR700/FLGLM/_TR_700_sub_05/beta_0046.nii -> /scratch/qbi/uqkgarn1/STRIWP1/derivatives/glmTDFAST/sub-05/TR700/FLGLM//beta_0046.nii\n",
      "210308-18:55:23,301 nipype.interface INFO:\n",
      "\t sub: /scratch/qbi/uqkgarn1/STRIWP1/derivatives/glmTDFAST/sub-05/TR700/FLGLM/_TR_700_sub_05/beta_0047.nii -> /scratch/qbi/uqkgarn1/STRIWP1/derivatives/glmTDFAST/sub-05/TR700/FLGLM//beta_0047.nii\n",
      "210308-18:55:23,330 nipype.interface INFO:\n",
      "\t sub: /scratch/qbi/uqkgarn1/STRIWP1/derivatives/glmTDFAST/sub-05/TR700/FLGLM/_TR_700_sub_05/beta_0048.nii -> /scratch/qbi/uqkgarn1/STRIWP1/derivatives/glmTDFAST/sub-05/TR700/FLGLM//beta_0048.nii\n",
      "210308-18:55:23,364 nipype.interface INFO:\n",
      "\t sub: /scratch/qbi/uqkgarn1/STRIWP1/derivatives/glmTDFAST/sub-05/TR700/FLGLM/_TR_700_sub_05/beta_0049.nii -> /scratch/qbi/uqkgarn1/STRIWP1/derivatives/glmTDFAST/sub-05/TR700/FLGLM//beta_0049.nii\n",
      "210308-18:55:23,397 nipype.interface INFO:\n",
      "\t sub: /scratch/qbi/uqkgarn1/STRIWP1/derivatives/glmTDFAST/sub-05/TR700/FLGLM/_TR_700_sub_05/beta_0050.nii -> /scratch/qbi/uqkgarn1/STRIWP1/derivatives/glmTDFAST/sub-05/TR700/FLGLM//beta_0050.nii\n",
      "210308-18:55:23,430 nipype.interface INFO:\n",
      "\t sub: /scratch/qbi/uqkgarn1/STRIWP1/derivatives/glmTDFAST/sub-05/TR700/FLGLM/_TR_700_sub_05/beta_0051.nii -> /scratch/qbi/uqkgarn1/STRIWP1/derivatives/glmTDFAST/sub-05/TR700/FLGLM//beta_0051.nii\n",
      "210308-18:55:23,476 nipype.interface INFO:\n",
      "\t sub: /scratch/qbi/uqkgarn1/STRIWP1/derivatives/glmTDFAST/sub-05/TR700/FLGLM/_TR_700_sub_05/beta_0052.nii -> /scratch/qbi/uqkgarn1/STRIWP1/derivatives/glmTDFAST/sub-05/TR700/FLGLM//beta_0052.nii\n"
     ]
    },
    {
     "name": "stdout",
     "output_type": "stream",
     "text": [
      "210308-18:55:23,509 nipype.interface INFO:\n",
      "\t sub: /scratch/qbi/uqkgarn1/STRIWP1/derivatives/glmTDFAST/sub-05/TR700/FLGLM/_TR_700_sub_05/beta_0053.nii -> /scratch/qbi/uqkgarn1/STRIWP1/derivatives/glmTDFAST/sub-05/TR700/FLGLM//beta_0053.nii\n",
      "210308-18:55:23,543 nipype.interface INFO:\n",
      "\t sub: /scratch/qbi/uqkgarn1/STRIWP1/derivatives/glmTDFAST/sub-05/TR700/FLGLM/_TR_700_sub_05/beta_0054.nii -> /scratch/qbi/uqkgarn1/STRIWP1/derivatives/glmTDFAST/sub-05/TR700/FLGLM//beta_0054.nii\n",
      "210308-18:55:23,579 nipype.interface INFO:\n",
      "\t sub: /scratch/qbi/uqkgarn1/STRIWP1/derivatives/glmTDFAST/sub-05/TR700/FLGLM/_TR_700_sub_05/beta_0055.nii -> /scratch/qbi/uqkgarn1/STRIWP1/derivatives/glmTDFAST/sub-05/TR700/FLGLM//beta_0055.nii\n",
      "210308-18:55:23,616 nipype.interface INFO:\n",
      "\t sub: /scratch/qbi/uqkgarn1/STRIWP1/derivatives/glmTDFAST/sub-05/TR700/FLGLM/_TR_700_sub_05/beta_0056.nii -> /scratch/qbi/uqkgarn1/STRIWP1/derivatives/glmTDFAST/sub-05/TR700/FLGLM//beta_0056.nii\n",
      "210308-18:55:23,650 nipype.interface INFO:\n",
      "\t sub: /scratch/qbi/uqkgarn1/STRIWP1/derivatives/glmTDFAST/sub-05/TR700/FLGLM/_TR_700_sub_05/beta_0057.nii -> /scratch/qbi/uqkgarn1/STRIWP1/derivatives/glmTDFAST/sub-05/TR700/FLGLM//beta_0057.nii\n",
      "210308-18:55:23,682 nipype.interface INFO:\n",
      "\t sub: /scratch/qbi/uqkgarn1/STRIWP1/derivatives/glmTDFAST/sub-05/TR700/FLGLM/_TR_700_sub_05/beta_0058.nii -> /scratch/qbi/uqkgarn1/STRIWP1/derivatives/glmTDFAST/sub-05/TR700/FLGLM//beta_0058.nii\n",
      "210308-18:55:23,719 nipype.interface INFO:\n",
      "\t sub: /scratch/qbi/uqkgarn1/STRIWP1/derivatives/glmTDFAST/sub-05/TR700/FLGLM/_TR_700_sub_05/beta_0059.nii -> /scratch/qbi/uqkgarn1/STRIWP1/derivatives/glmTDFAST/sub-05/TR700/FLGLM//beta_0059.nii\n",
      "210308-18:55:23,757 nipype.interface INFO:\n",
      "\t sub: /scratch/qbi/uqkgarn1/STRIWP1/derivatives/glmTDFAST/sub-05/TR700/FLGLM/_TR_700_sub_05/beta_0060.nii -> /scratch/qbi/uqkgarn1/STRIWP1/derivatives/glmTDFAST/sub-05/TR700/FLGLM//beta_0060.nii\n",
      "210308-18:55:23,785 nipype.interface INFO:\n",
      "\t sub: /scratch/qbi/uqkgarn1/STRIWP1/derivatives/glmTDFAST/sub-05/TR700/FLGLM/_TR_700_sub_05/beta_0061.nii -> /scratch/qbi/uqkgarn1/STRIWP1/derivatives/glmTDFAST/sub-05/TR700/FLGLM//beta_0061.nii\n",
      "210308-18:55:23,818 nipype.interface INFO:\n",
      "\t sub: /scratch/qbi/uqkgarn1/STRIWP1/derivatives/glmTDFAST/sub-05/TR700/FLGLM/_TR_700_sub_05/beta_0062.nii -> /scratch/qbi/uqkgarn1/STRIWP1/derivatives/glmTDFAST/sub-05/TR700/FLGLM//beta_0062.nii\n",
      "210308-18:55:23,853 nipype.interface INFO:\n",
      "\t sub: /scratch/qbi/uqkgarn1/STRIWP1/derivatives/glmTDFAST/sub-05/TR700/FLGLM/_TR_700_sub_05/beta_0063.nii -> /scratch/qbi/uqkgarn1/STRIWP1/derivatives/glmTDFAST/sub-05/TR700/FLGLM//beta_0063.nii\n",
      "210308-18:55:23,899 nipype.interface INFO:\n",
      "\t sub: /scratch/qbi/uqkgarn1/STRIWP1/derivatives/glmTDFAST/sub-05/TR700/FLGLM/_TR_700_sub_05/beta_0064.nii -> /scratch/qbi/uqkgarn1/STRIWP1/derivatives/glmTDFAST/sub-05/TR700/FLGLM//beta_0064.nii\n",
      "210308-18:55:23,936 nipype.interface INFO:\n",
      "\t sub: /scratch/qbi/uqkgarn1/STRIWP1/derivatives/glmTDFAST/sub-05/TR700/FLGLM/_TR_700_sub_05/beta_0065.nii -> /scratch/qbi/uqkgarn1/STRIWP1/derivatives/glmTDFAST/sub-05/TR700/FLGLM//beta_0065.nii\n",
      "210308-18:55:23,986 nipype.interface INFO:\n",
      "\t sub: /scratch/qbi/uqkgarn1/STRIWP1/derivatives/glmTDFAST/sub-05/TR700/FLGLM/_TR_700_sub_05/beta_0066.nii -> /scratch/qbi/uqkgarn1/STRIWP1/derivatives/glmTDFAST/sub-05/TR700/FLGLM//beta_0066.nii\n",
      "210308-18:55:24,22 nipype.interface INFO:\n",
      "\t sub: /scratch/qbi/uqkgarn1/STRIWP1/derivatives/glmTDFAST/sub-05/TR700/FLGLM/_TR_700_sub_05/beta_0067.nii -> /scratch/qbi/uqkgarn1/STRIWP1/derivatives/glmTDFAST/sub-05/TR700/FLGLM//beta_0067.nii\n",
      "210308-18:55:24,63 nipype.interface INFO:\n",
      "\t sub: /scratch/qbi/uqkgarn1/STRIWP1/derivatives/glmTDFAST/sub-05/TR700/FLGLM/_TR_700_sub_05/beta_0068.nii -> /scratch/qbi/uqkgarn1/STRIWP1/derivatives/glmTDFAST/sub-05/TR700/FLGLM//beta_0068.nii\n",
      "210308-18:55:24,95 nipype.interface INFO:\n",
      "\t sub: /scratch/qbi/uqkgarn1/STRIWP1/derivatives/glmTDFAST/sub-05/TR700/FLGLM/_TR_700_sub_05/beta_0069.nii -> /scratch/qbi/uqkgarn1/STRIWP1/derivatives/glmTDFAST/sub-05/TR700/FLGLM//beta_0069.nii\n",
      "210308-18:55:24,129 nipype.interface INFO:\n",
      "\t sub: /scratch/qbi/uqkgarn1/STRIWP1/derivatives/glmTDFAST/sub-05/TR700/FLGLM/_TR_700_sub_05/beta_0070.nii -> /scratch/qbi/uqkgarn1/STRIWP1/derivatives/glmTDFAST/sub-05/TR700/FLGLM//beta_0070.nii\n",
      "210308-18:55:24,159 nipype.interface INFO:\n",
      "\t sub: /scratch/qbi/uqkgarn1/STRIWP1/derivatives/glmTDFAST/sub-05/TR700/FLGLM/_TR_700_sub_05/beta_0071.nii -> /scratch/qbi/uqkgarn1/STRIWP1/derivatives/glmTDFAST/sub-05/TR700/FLGLM//beta_0071.nii\n",
      "210308-18:55:24,192 nipype.interface INFO:\n",
      "\t sub: /scratch/qbi/uqkgarn1/STRIWP1/derivatives/glmTDFAST/sub-05/TR700/FLGLM/_TR_700_sub_05/beta_0072.nii -> /scratch/qbi/uqkgarn1/STRIWP1/derivatives/glmTDFAST/sub-05/TR700/FLGLM//beta_0072.nii\n",
      "210308-18:55:24,232 nipype.interface INFO:\n",
      "\t sub: /scratch/qbi/uqkgarn1/STRIWP1/derivatives/glmTDFAST/sub-05/TR700/FLGLM/_TR_700_sub_05/beta_0073.nii -> /scratch/qbi/uqkgarn1/STRIWP1/derivatives/glmTDFAST/sub-05/TR700/FLGLM//beta_0073.nii\n",
      "210308-18:55:24,267 nipype.interface INFO:\n",
      "\t sub: /scratch/qbi/uqkgarn1/STRIWP1/derivatives/glmTDFAST/sub-05/TR700/FLGLM/_TR_700_sub_05/beta_0074.nii -> /scratch/qbi/uqkgarn1/STRIWP1/derivatives/glmTDFAST/sub-05/TR700/FLGLM//beta_0074.nii\n",
      "210308-18:55:24,307 nipype.interface INFO:\n",
      "\t sub: /scratch/qbi/uqkgarn1/STRIWP1/derivatives/glmTDFAST/sub-05/TR700/FLGLM/_TR_700_sub_05/beta_0075.nii -> /scratch/qbi/uqkgarn1/STRIWP1/derivatives/glmTDFAST/sub-05/TR700/FLGLM//beta_0075.nii\n",
      "210308-18:55:24,357 nipype.interface INFO:\n",
      "\t sub: /scratch/qbi/uqkgarn1/STRIWP1/derivatives/glmTDFAST/sub-05/TR700/FLGLM/_TR_700_sub_05/beta_0076.nii -> /scratch/qbi/uqkgarn1/STRIWP1/derivatives/glmTDFAST/sub-05/TR700/FLGLM//beta_0076.nii\n",
      "210308-18:55:24,397 nipype.interface INFO:\n",
      "\t sub: /scratch/qbi/uqkgarn1/STRIWP1/derivatives/glmTDFAST/sub-05/TR700/FLGLM/_TR_700_sub_05/beta_0077.nii -> /scratch/qbi/uqkgarn1/STRIWP1/derivatives/glmTDFAST/sub-05/TR700/FLGLM//beta_0077.nii\n",
      "210308-18:55:24,430 nipype.interface INFO:\n",
      "\t sub: /scratch/qbi/uqkgarn1/STRIWP1/derivatives/glmTDFAST/sub-05/TR700/FLGLM/_TR_700_sub_05/beta_0078.nii -> /scratch/qbi/uqkgarn1/STRIWP1/derivatives/glmTDFAST/sub-05/TR700/FLGLM//beta_0078.nii\n",
      "210308-18:55:24,481 nipype.interface INFO:\n",
      "\t sub: /scratch/qbi/uqkgarn1/STRIWP1/derivatives/glmTDFAST/sub-05/TR700/FLGLM/_TR_700_sub_05/beta_0079.nii -> /scratch/qbi/uqkgarn1/STRIWP1/derivatives/glmTDFAST/sub-05/TR700/FLGLM//beta_0079.nii\n",
      "210308-18:55:24,516 nipype.interface INFO:\n",
      "\t sub: /scratch/qbi/uqkgarn1/STRIWP1/derivatives/glmTDFAST/sub-05/TR700/FLGLM/_TR_700_sub_05/beta_0080.nii -> /scratch/qbi/uqkgarn1/STRIWP1/derivatives/glmTDFAST/sub-05/TR700/FLGLM//beta_0080.nii\n",
      "210308-18:55:24,553 nipype.interface INFO:\n",
      "\t sub: /scratch/qbi/uqkgarn1/STRIWP1/derivatives/glmTDFAST/sub-05/TR700/FLGLM/_TR_700_sub_05/beta_0081.nii -> /scratch/qbi/uqkgarn1/STRIWP1/derivatives/glmTDFAST/sub-05/TR700/FLGLM//beta_0081.nii\n",
      "210308-18:55:24,596 nipype.interface INFO:\n",
      "\t sub: /scratch/qbi/uqkgarn1/STRIWP1/derivatives/glmTDFAST/sub-05/TR700/FLGLM/_TR_700_sub_05/beta_0082.nii -> /scratch/qbi/uqkgarn1/STRIWP1/derivatives/glmTDFAST/sub-05/TR700/FLGLM//beta_0082.nii\n",
      "210308-18:55:24,638 nipype.interface INFO:\n",
      "\t sub: /scratch/qbi/uqkgarn1/STRIWP1/derivatives/glmTDFAST/sub-05/TR700/FLGLM/_TR_700_sub_05/beta_0083.nii -> /scratch/qbi/uqkgarn1/STRIWP1/derivatives/glmTDFAST/sub-05/TR700/FLGLM//beta_0083.nii\n",
      "210308-18:55:24,684 nipype.interface INFO:\n",
      "\t sub: /scratch/qbi/uqkgarn1/STRIWP1/derivatives/glmTDFAST/sub-05/TR700/FLGLM/_TR_700_sub_05/beta_0084.nii -> /scratch/qbi/uqkgarn1/STRIWP1/derivatives/glmTDFAST/sub-05/TR700/FLGLM//beta_0084.nii\n",
      "210308-18:55:24,732 nipype.interface INFO:\n",
      "\t sub: /scratch/qbi/uqkgarn1/STRIWP1/derivatives/glmTDFAST/sub-05/TR700/FLGLM/_TR_700_sub_05/beta_0085.nii -> /scratch/qbi/uqkgarn1/STRIWP1/derivatives/glmTDFAST/sub-05/TR700/FLGLM//beta_0085.nii\n",
      "210308-18:55:24,766 nipype.interface INFO:\n",
      "\t sub: /scratch/qbi/uqkgarn1/STRIWP1/derivatives/glmTDFAST/sub-05/TR700/FLGLM/_TR_700_sub_05/beta_0086.nii -> /scratch/qbi/uqkgarn1/STRIWP1/derivatives/glmTDFAST/sub-05/TR700/FLGLM//beta_0086.nii\n",
      "210308-18:55:24,801 nipype.interface INFO:\n",
      "\t sub: /scratch/qbi/uqkgarn1/STRIWP1/derivatives/glmTDFAST/sub-05/TR700/FLGLM/_TR_700_sub_05/beta_0087.nii -> /scratch/qbi/uqkgarn1/STRIWP1/derivatives/glmTDFAST/sub-05/TR700/FLGLM//beta_0087.nii\n"
     ]
    },
    {
     "name": "stdout",
     "output_type": "stream",
     "text": [
      "210308-18:55:24,841 nipype.interface INFO:\n",
      "\t sub: /scratch/qbi/uqkgarn1/STRIWP1/derivatives/glmTDFAST/sub-05/TR700/FLGLM/_TR_700_sub_05/beta_0088.nii -> /scratch/qbi/uqkgarn1/STRIWP1/derivatives/glmTDFAST/sub-05/TR700/FLGLM//beta_0088.nii\n",
      "210308-18:55:24,887 nipype.interface INFO:\n",
      "\t sub: /scratch/qbi/uqkgarn1/STRIWP1/derivatives/glmTDFAST/sub-05/TR700/FLGLM/_TR_700_sub_05/beta_0089.nii -> /scratch/qbi/uqkgarn1/STRIWP1/derivatives/glmTDFAST/sub-05/TR700/FLGLM//beta_0089.nii\n",
      "210308-18:55:24,920 nipype.interface INFO:\n",
      "\t sub: /scratch/qbi/uqkgarn1/STRIWP1/derivatives/glmTDFAST/sub-05/TR700/FLGLM/_TR_700_sub_05/beta_0090.nii -> /scratch/qbi/uqkgarn1/STRIWP1/derivatives/glmTDFAST/sub-05/TR700/FLGLM//beta_0090.nii\n",
      "210308-18:55:24,948 nipype.interface INFO:\n",
      "\t sub: /scratch/qbi/uqkgarn1/STRIWP1/derivatives/glmTDFAST/sub-05/TR700/FLGLM/_TR_700_sub_05/beta_0091.nii -> /scratch/qbi/uqkgarn1/STRIWP1/derivatives/glmTDFAST/sub-05/TR700/FLGLM//beta_0091.nii\n",
      "210308-18:55:24,983 nipype.interface INFO:\n",
      "\t sub: /scratch/qbi/uqkgarn1/STRIWP1/derivatives/glmTDFAST/sub-05/TR700/FLGLM/_TR_700_sub_05/beta_0092.nii -> /scratch/qbi/uqkgarn1/STRIWP1/derivatives/glmTDFAST/sub-05/TR700/FLGLM//beta_0092.nii\n",
      "210308-18:55:25,19 nipype.interface INFO:\n",
      "\t sub: /scratch/qbi/uqkgarn1/STRIWP1/derivatives/glmTDFAST/sub-05/TR700/FLGLM/_TR_700_sub_05/beta_0093.nii -> /scratch/qbi/uqkgarn1/STRIWP1/derivatives/glmTDFAST/sub-05/TR700/FLGLM//beta_0093.nii\n",
      "210308-18:55:25,56 nipype.interface INFO:\n",
      "\t sub: /scratch/qbi/uqkgarn1/STRIWP1/derivatives/glmTDFAST/sub-05/TR700/FLGLM/_TR_700_sub_05/beta_0094.nii -> /scratch/qbi/uqkgarn1/STRIWP1/derivatives/glmTDFAST/sub-05/TR700/FLGLM//beta_0094.nii\n",
      "210308-18:55:25,91 nipype.interface INFO:\n",
      "\t sub: /scratch/qbi/uqkgarn1/STRIWP1/derivatives/glmTDFAST/sub-05/TR700/FLGLM/_TR_700_sub_05/beta_0095.nii -> /scratch/qbi/uqkgarn1/STRIWP1/derivatives/glmTDFAST/sub-05/TR700/FLGLM//beta_0095.nii\n",
      "210308-18:55:25,119 nipype.interface INFO:\n",
      "\t sub: /scratch/qbi/uqkgarn1/STRIWP1/derivatives/glmTDFAST/sub-05/TR700/FLGLM/_TR_700_sub_05/beta_0096.nii -> /scratch/qbi/uqkgarn1/STRIWP1/derivatives/glmTDFAST/sub-05/TR700/FLGLM//beta_0096.nii\n",
      "210308-18:55:25,158 nipype.interface INFO:\n",
      "\t sub: /scratch/qbi/uqkgarn1/STRIWP1/derivatives/glmTDFAST/sub-05/TR700/FLGLM/_TR_700_sub_05/beta_0097.nii -> /scratch/qbi/uqkgarn1/STRIWP1/derivatives/glmTDFAST/sub-05/TR700/FLGLM//beta_0097.nii\n",
      "210308-18:55:25,197 nipype.interface INFO:\n",
      "\t sub: /scratch/qbi/uqkgarn1/STRIWP1/derivatives/glmTDFAST/sub-05/TR700/FLGLM/_TR_700_sub_05/beta_0098.nii -> /scratch/qbi/uqkgarn1/STRIWP1/derivatives/glmTDFAST/sub-05/TR700/FLGLM//beta_0098.nii\n",
      "210308-18:55:25,234 nipype.interface INFO:\n",
      "\t sub: /scratch/qbi/uqkgarn1/STRIWP1/derivatives/glmTDFAST/sub-05/TR700/FLGLM/_TR_700_sub_05/beta_0099.nii -> /scratch/qbi/uqkgarn1/STRIWP1/derivatives/glmTDFAST/sub-05/TR700/FLGLM//beta_0099.nii\n",
      "210308-18:55:25,273 nipype.interface INFO:\n",
      "\t sub: /scratch/qbi/uqkgarn1/STRIWP1/derivatives/glmTDFAST/sub-05/TR700/FLGLM/_TR_700_sub_05/beta_0100.nii -> /scratch/qbi/uqkgarn1/STRIWP1/derivatives/glmTDFAST/sub-05/TR700/FLGLM//beta_0100.nii\n",
      "210308-18:55:25,306 nipype.interface INFO:\n",
      "\t sub: /scratch/qbi/uqkgarn1/STRIWP1/derivatives/glmTDFAST/sub-05/TR700/FLGLM/_TR_700_sub_05/beta_0101.nii -> /scratch/qbi/uqkgarn1/STRIWP1/derivatives/glmTDFAST/sub-05/TR700/FLGLM//beta_0101.nii\n",
      "210308-18:55:25,340 nipype.interface INFO:\n",
      "\t sub: /scratch/qbi/uqkgarn1/STRIWP1/derivatives/glmTDFAST/sub-05/TR700/FLGLM/_TR_700_sub_05/beta_0102.nii -> /scratch/qbi/uqkgarn1/STRIWP1/derivatives/glmTDFAST/sub-05/TR700/FLGLM//beta_0102.nii\n",
      "210308-18:55:25,375 nipype.interface INFO:\n",
      "\t sub: /scratch/qbi/uqkgarn1/STRIWP1/derivatives/glmTDFAST/sub-05/TR700/FLGLM/_TR_700_sub_05/beta_0103.nii -> /scratch/qbi/uqkgarn1/STRIWP1/derivatives/glmTDFAST/sub-05/TR700/FLGLM//beta_0103.nii\n",
      "210308-18:55:25,414 nipype.interface INFO:\n",
      "\t sub: /scratch/qbi/uqkgarn1/STRIWP1/derivatives/glmTDFAST/sub-05/TR700/FLGLM/_TR_700_sub_05/beta_0104.nii -> /scratch/qbi/uqkgarn1/STRIWP1/derivatives/glmTDFAST/sub-05/TR700/FLGLM//beta_0104.nii\n",
      "210308-18:55:25,442 nipype.interface INFO:\n",
      "\t sub: /scratch/qbi/uqkgarn1/STRIWP1/derivatives/glmTDFAST/sub-05/TR700/FLGLM/_TR_700_sub_05/beta_0105.nii -> /scratch/qbi/uqkgarn1/STRIWP1/derivatives/glmTDFAST/sub-05/TR700/FLGLM//beta_0105.nii\n",
      "210308-18:55:25,472 nipype.interface INFO:\n",
      "\t sub: /scratch/qbi/uqkgarn1/STRIWP1/derivatives/glmTDFAST/sub-05/TR700/FLGLM/_TR_700_sub_05/beta_0106.nii -> /scratch/qbi/uqkgarn1/STRIWP1/derivatives/glmTDFAST/sub-05/TR700/FLGLM//beta_0106.nii\n",
      "210308-18:55:25,515 nipype.interface INFO:\n",
      "\t sub: /scratch/qbi/uqkgarn1/STRIWP1/derivatives/glmTDFAST/sub-05/TR700/FLGLM/_TR_700_sub_05/beta_0107.nii -> /scratch/qbi/uqkgarn1/STRIWP1/derivatives/glmTDFAST/sub-05/TR700/FLGLM//beta_0107.nii\n",
      "210308-18:55:25,558 nipype.interface INFO:\n",
      "\t sub: /scratch/qbi/uqkgarn1/STRIWP1/derivatives/glmTDFAST/sub-05/TR700/FLGLM/_TR_700_sub_05/beta_0108.nii -> /scratch/qbi/uqkgarn1/STRIWP1/derivatives/glmTDFAST/sub-05/TR700/FLGLM//beta_0108.nii\n",
      "210308-18:55:25,591 nipype.interface INFO:\n",
      "\t sub: /scratch/qbi/uqkgarn1/STRIWP1/derivatives/glmTDFAST/sub-05/TR700/FLGLM/_TR_700_sub_05/beta_0109.nii -> /scratch/qbi/uqkgarn1/STRIWP1/derivatives/glmTDFAST/sub-05/TR700/FLGLM//beta_0109.nii\n",
      "210308-18:55:25,629 nipype.interface INFO:\n",
      "\t sub: /scratch/qbi/uqkgarn1/STRIWP1/derivatives/glmTDFAST/sub-05/TR700/FLGLM/_TR_700_sub_05/beta_0110.nii -> /scratch/qbi/uqkgarn1/STRIWP1/derivatives/glmTDFAST/sub-05/TR700/FLGLM//beta_0110.nii\n",
      "210308-18:55:25,656 nipype.interface INFO:\n",
      "\t sub: /scratch/qbi/uqkgarn1/STRIWP1/derivatives/glmTDFAST/sub-05/TR700/FLGLM/_TR_700_sub_05/beta_0111.nii -> /scratch/qbi/uqkgarn1/STRIWP1/derivatives/glmTDFAST/sub-05/TR700/FLGLM//beta_0111.nii\n",
      "210308-18:55:25,699 nipype.interface INFO:\n",
      "\t sub: /scratch/qbi/uqkgarn1/STRIWP1/derivatives/glmTDFAST/sub-05/TR700/FLGLM/_TR_700_sub_05/beta_0112.nii -> /scratch/qbi/uqkgarn1/STRIWP1/derivatives/glmTDFAST/sub-05/TR700/FLGLM//beta_0112.nii\n",
      "210308-18:55:25,744 nipype.interface INFO:\n",
      "\t sub: /scratch/qbi/uqkgarn1/STRIWP1/derivatives/glmTDFAST/sub-05/TR700/FLGLM/_TR_700_sub_05/beta_0113.nii -> /scratch/qbi/uqkgarn1/STRIWP1/derivatives/glmTDFAST/sub-05/TR700/FLGLM//beta_0113.nii\n",
      "210308-18:55:25,779 nipype.interface INFO:\n",
      "\t sub: /scratch/qbi/uqkgarn1/STRIWP1/derivatives/glmTDFAST/sub-05/TR700/FLGLM/_TR_700_sub_05/beta_0114.nii -> /scratch/qbi/uqkgarn1/STRIWP1/derivatives/glmTDFAST/sub-05/TR700/FLGLM//beta_0114.nii\n",
      "210308-18:55:25,820 nipype.interface INFO:\n",
      "\t sub: /scratch/qbi/uqkgarn1/STRIWP1/derivatives/glmTDFAST/sub-05/TR700/FLGLM/_TR_700_sub_05/beta_0115.nii -> /scratch/qbi/uqkgarn1/STRIWP1/derivatives/glmTDFAST/sub-05/TR700/FLGLM//beta_0115.nii\n",
      "210308-18:55:25,850 nipype.interface INFO:\n",
      "\t sub: /scratch/qbi/uqkgarn1/STRIWP1/derivatives/glmTDFAST/sub-05/TR700/FLGLM/_TR_700_sub_05/beta_0116.nii -> /scratch/qbi/uqkgarn1/STRIWP1/derivatives/glmTDFAST/sub-05/TR700/FLGLM//beta_0116.nii\n",
      "210308-18:55:25,894 nipype.interface INFO:\n",
      "\t sub: /scratch/qbi/uqkgarn1/STRIWP1/derivatives/glmTDFAST/sub-05/TR700/FLGLM/_TR_700_sub_05/beta_0117.nii -> /scratch/qbi/uqkgarn1/STRIWP1/derivatives/glmTDFAST/sub-05/TR700/FLGLM//beta_0117.nii\n",
      "210308-18:55:25,928 nipype.interface INFO:\n",
      "\t sub: /scratch/qbi/uqkgarn1/STRIWP1/derivatives/glmTDFAST/sub-05/TR700/FLGLM/_TR_700_sub_05/beta_0118.nii -> /scratch/qbi/uqkgarn1/STRIWP1/derivatives/glmTDFAST/sub-05/TR700/FLGLM//beta_0118.nii\n",
      "210308-18:55:25,962 nipype.interface INFO:\n",
      "\t sub: /scratch/qbi/uqkgarn1/STRIWP1/derivatives/glmTDFAST/sub-05/TR700/FLGLM/_TR_700_sub_05/beta_0119.nii -> /scratch/qbi/uqkgarn1/STRIWP1/derivatives/glmTDFAST/sub-05/TR700/FLGLM//beta_0119.nii\n",
      "210308-18:55:26,1 nipype.interface INFO:\n",
      "\t sub: /scratch/qbi/uqkgarn1/STRIWP1/derivatives/glmTDFAST/sub-05/TR700/FLGLM/_TR_700_sub_05/beta_0120.nii -> /scratch/qbi/uqkgarn1/STRIWP1/derivatives/glmTDFAST/sub-05/TR700/FLGLM//beta_0120.nii\n",
      "210308-18:55:26,46 nipype.interface INFO:\n",
      "\t sub: /scratch/qbi/uqkgarn1/STRIWP1/derivatives/glmTDFAST/sub-05/TR700/FLGLM/_TR_700_sub_05/beta_0121.nii -> /scratch/qbi/uqkgarn1/STRIWP1/derivatives/glmTDFAST/sub-05/TR700/FLGLM//beta_0121.nii\n",
      "210308-18:55:26,90 nipype.interface INFO:\n",
      "\t sub: /scratch/qbi/uqkgarn1/STRIWP1/derivatives/glmTDFAST/sub-05/TR700/FLGLM/_TR_700_sub_05/beta_0122.nii -> /scratch/qbi/uqkgarn1/STRIWP1/derivatives/glmTDFAST/sub-05/TR700/FLGLM//beta_0122.nii\n"
     ]
    },
    {
     "name": "stdout",
     "output_type": "stream",
     "text": [
      "210308-18:55:26,129 nipype.interface INFO:\n",
      "\t sub: /scratch/qbi/uqkgarn1/STRIWP1/derivatives/glmTDFAST/sub-05/TR700/FLGLM/_TR_700_sub_05/beta_0123.nii -> /scratch/qbi/uqkgarn1/STRIWP1/derivatives/glmTDFAST/sub-05/TR700/FLGLM//beta_0123.nii\n",
      "210308-18:55:26,162 nipype.interface INFO:\n",
      "\t sub: /scratch/qbi/uqkgarn1/STRIWP1/derivatives/glmTDFAST/sub-05/TR700/FLGLM/_TR_700_sub_05/beta_0124.nii -> /scratch/qbi/uqkgarn1/STRIWP1/derivatives/glmTDFAST/sub-05/TR700/FLGLM//beta_0124.nii\n",
      "210308-18:55:26,199 nipype.interface INFO:\n",
      "\t sub: /scratch/qbi/uqkgarn1/STRIWP1/derivatives/glmTDFAST/sub-05/TR700/FLGLM/_TR_700_sub_05/beta_0125.nii -> /scratch/qbi/uqkgarn1/STRIWP1/derivatives/glmTDFAST/sub-05/TR700/FLGLM//beta_0125.nii\n",
      "210308-18:55:26,241 nipype.interface INFO:\n",
      "\t sub: /scratch/qbi/uqkgarn1/STRIWP1/derivatives/glmTDFAST/sub-05/TR700/FLGLM/_TR_700_sub_05/beta_0126.nii -> /scratch/qbi/uqkgarn1/STRIWP1/derivatives/glmTDFAST/sub-05/TR700/FLGLM//beta_0126.nii\n",
      "210308-18:55:26,275 nipype.interface INFO:\n",
      "\t sub: /scratch/qbi/uqkgarn1/STRIWP1/derivatives/glmTDFAST/sub-05/TR700/FLGLM/_TR_700_sub_05/beta_0127.nii -> /scratch/qbi/uqkgarn1/STRIWP1/derivatives/glmTDFAST/sub-05/TR700/FLGLM//beta_0127.nii\n",
      "210308-18:55:26,319 nipype.interface INFO:\n",
      "\t sub: /scratch/qbi/uqkgarn1/STRIWP1/derivatives/glmTDFAST/sub-05/TR700/FLGLM/_TR_700_sub_05/beta_0128.nii -> /scratch/qbi/uqkgarn1/STRIWP1/derivatives/glmTDFAST/sub-05/TR700/FLGLM//beta_0128.nii\n",
      "210308-18:55:26,355 nipype.interface INFO:\n",
      "\t sub: /scratch/qbi/uqkgarn1/STRIWP1/derivatives/glmTDFAST/sub-05/TR700/FLGLM/_TR_700_sub_05/beta_0129.nii -> /scratch/qbi/uqkgarn1/STRIWP1/derivatives/glmTDFAST/sub-05/TR700/FLGLM//beta_0129.nii\n",
      "210308-18:55:26,406 nipype.interface INFO:\n",
      "\t sub: /scratch/qbi/uqkgarn1/STRIWP1/derivatives/glmTDFAST/sub-05/TR700/FLGLM/_TR_700_sub_05/beta_0130.nii -> /scratch/qbi/uqkgarn1/STRIWP1/derivatives/glmTDFAST/sub-05/TR700/FLGLM//beta_0130.nii\n",
      "210308-18:55:26,451 nipype.interface INFO:\n",
      "\t sub: /scratch/qbi/uqkgarn1/STRIWP1/derivatives/glmTDFAST/sub-05/TR700/FLGLM/_TR_700_sub_05/beta_0131.nii -> /scratch/qbi/uqkgarn1/STRIWP1/derivatives/glmTDFAST/sub-05/TR700/FLGLM//beta_0131.nii\n",
      "210308-18:55:26,485 nipype.interface INFO:\n",
      "\t sub: /scratch/qbi/uqkgarn1/STRIWP1/derivatives/glmTDFAST/sub-05/TR700/FLGLM/_TR_700_sub_05/beta_0132.nii -> /scratch/qbi/uqkgarn1/STRIWP1/derivatives/glmTDFAST/sub-05/TR700/FLGLM//beta_0132.nii\n",
      "210308-18:55:26,518 nipype.interface INFO:\n",
      "\t sub: /scratch/qbi/uqkgarn1/STRIWP1/derivatives/glmTDFAST/sub-05/TR700/FLGLM/_TR_700_sub_05/beta_0133.nii -> /scratch/qbi/uqkgarn1/STRIWP1/derivatives/glmTDFAST/sub-05/TR700/FLGLM//beta_0133.nii\n",
      "210308-18:55:26,551 nipype.interface INFO:\n",
      "\t sub: /scratch/qbi/uqkgarn1/STRIWP1/derivatives/glmTDFAST/sub-05/TR700/FLGLM/_TR_700_sub_05/beta_0134.nii -> /scratch/qbi/uqkgarn1/STRIWP1/derivatives/glmTDFAST/sub-05/TR700/FLGLM//beta_0134.nii\n",
      "210308-18:55:26,586 nipype.interface INFO:\n",
      "\t sub: /scratch/qbi/uqkgarn1/STRIWP1/derivatives/glmTDFAST/sub-05/TR700/FLGLM/_TR_700_sub_05/beta_0135.nii -> /scratch/qbi/uqkgarn1/STRIWP1/derivatives/glmTDFAST/sub-05/TR700/FLGLM//beta_0135.nii\n",
      "210308-18:55:26,626 nipype.interface INFO:\n",
      "\t sub: /scratch/qbi/uqkgarn1/STRIWP1/derivatives/glmTDFAST/sub-05/TR700/FLGLM/_TR_700_sub_05/beta_0136.nii -> /scratch/qbi/uqkgarn1/STRIWP1/derivatives/glmTDFAST/sub-05/TR700/FLGLM//beta_0136.nii\n",
      "210308-18:55:26,666 nipype.interface INFO:\n",
      "\t sub: /scratch/qbi/uqkgarn1/STRIWP1/derivatives/glmTDFAST/sub-05/TR700/FLGLM/_TR_700_sub_05/beta_0137.nii -> /scratch/qbi/uqkgarn1/STRIWP1/derivatives/glmTDFAST/sub-05/TR700/FLGLM//beta_0137.nii\n",
      "210308-18:55:26,729 nipype.interface INFO:\n",
      "\t sub: /scratch/qbi/uqkgarn1/STRIWP1/derivatives/glmTDFAST/sub-05/TR700/FLGLM/_TR_700_sub_05/beta_0138.nii -> /scratch/qbi/uqkgarn1/STRIWP1/derivatives/glmTDFAST/sub-05/TR700/FLGLM//beta_0138.nii\n",
      "210308-18:55:26,761 nipype.interface INFO:\n",
      "\t sub: /scratch/qbi/uqkgarn1/STRIWP1/derivatives/glmTDFAST/sub-05/TR700/FLGLM/_TR_700_sub_05/beta_0139.nii -> /scratch/qbi/uqkgarn1/STRIWP1/derivatives/glmTDFAST/sub-05/TR700/FLGLM//beta_0139.nii\n",
      "210308-18:55:26,818 nipype.interface INFO:\n",
      "\t sub: /scratch/qbi/uqkgarn1/STRIWP1/derivatives/glmTDFAST/sub-05/TR700/FLGLM/_TR_700_sub_05/beta_0140.nii -> /scratch/qbi/uqkgarn1/STRIWP1/derivatives/glmTDFAST/sub-05/TR700/FLGLM//beta_0140.nii\n",
      "210308-18:55:26,864 nipype.interface INFO:\n",
      "\t sub: /scratch/qbi/uqkgarn1/STRIWP1/derivatives/glmTDFAST/sub-05/TR700/FLGLM/_TR_700_sub_05/beta_0141.nii -> /scratch/qbi/uqkgarn1/STRIWP1/derivatives/glmTDFAST/sub-05/TR700/FLGLM//beta_0141.nii\n",
      "210308-18:55:26,908 nipype.interface INFO:\n",
      "\t sub: /scratch/qbi/uqkgarn1/STRIWP1/derivatives/glmTDFAST/sub-05/TR700/FLGLM/_TR_700_sub_05/beta_0142.nii -> /scratch/qbi/uqkgarn1/STRIWP1/derivatives/glmTDFAST/sub-05/TR700/FLGLM//beta_0142.nii\n",
      "210308-18:55:26,950 nipype.interface INFO:\n",
      "\t sub: /scratch/qbi/uqkgarn1/STRIWP1/derivatives/glmTDFAST/sub-05/TR700/FLGLM/_TR_700_sub_05/beta_0143.nii -> /scratch/qbi/uqkgarn1/STRIWP1/derivatives/glmTDFAST/sub-05/TR700/FLGLM//beta_0143.nii\n",
      "210308-18:55:26,980 nipype.interface INFO:\n",
      "\t sub: /scratch/qbi/uqkgarn1/STRIWP1/derivatives/glmTDFAST/sub-05/TR700/FLGLM/_TR_700_sub_05/beta_0144.nii -> /scratch/qbi/uqkgarn1/STRIWP1/derivatives/glmTDFAST/sub-05/TR700/FLGLM//beta_0144.nii\n",
      "210308-18:55:27,24 nipype.interface INFO:\n",
      "\t sub: /scratch/qbi/uqkgarn1/STRIWP1/derivatives/glmTDFAST/sub-05/TR700/FLGLM/_TR_700_sub_05/beta_0145.nii -> /scratch/qbi/uqkgarn1/STRIWP1/derivatives/glmTDFAST/sub-05/TR700/FLGLM//beta_0145.nii\n",
      "210308-18:55:27,64 nipype.interface INFO:\n",
      "\t sub: /scratch/qbi/uqkgarn1/STRIWP1/derivatives/glmTDFAST/sub-05/TR700/FLGLM/_TR_700_sub_05/beta_0146.nii -> /scratch/qbi/uqkgarn1/STRIWP1/derivatives/glmTDFAST/sub-05/TR700/FLGLM//beta_0146.nii\n",
      "210308-18:55:27,108 nipype.interface INFO:\n",
      "\t sub: /scratch/qbi/uqkgarn1/STRIWP1/derivatives/glmTDFAST/sub-05/TR700/FLGLM/_TR_700_sub_05/beta_0147.nii -> /scratch/qbi/uqkgarn1/STRIWP1/derivatives/glmTDFAST/sub-05/TR700/FLGLM//beta_0147.nii\n",
      "210308-18:55:27,143 nipype.interface INFO:\n",
      "\t sub: /scratch/qbi/uqkgarn1/STRIWP1/derivatives/glmTDFAST/sub-05/TR700/FLGLM/_TR_700_sub_05/beta_0148.nii -> /scratch/qbi/uqkgarn1/STRIWP1/derivatives/glmTDFAST/sub-05/TR700/FLGLM//beta_0148.nii\n",
      "210308-18:55:27,180 nipype.interface INFO:\n",
      "\t sub: /scratch/qbi/uqkgarn1/STRIWP1/derivatives/glmTDFAST/sub-05/TR700/FLGLM/_TR_700_sub_05/beta_0149.nii -> /scratch/qbi/uqkgarn1/STRIWP1/derivatives/glmTDFAST/sub-05/TR700/FLGLM//beta_0149.nii\n",
      "210308-18:55:27,216 nipype.interface INFO:\n",
      "\t sub: /scratch/qbi/uqkgarn1/STRIWP1/derivatives/glmTDFAST/sub-05/TR700/FLGLM/_TR_700_sub_05/beta_0150.nii -> /scratch/qbi/uqkgarn1/STRIWP1/derivatives/glmTDFAST/sub-05/TR700/FLGLM//beta_0150.nii\n",
      "210308-18:55:27,258 nipype.interface INFO:\n",
      "\t sub: /scratch/qbi/uqkgarn1/STRIWP1/derivatives/glmTDFAST/sub-05/TR700/FLGLM/_TR_700_sub_05/beta_0151.nii -> /scratch/qbi/uqkgarn1/STRIWP1/derivatives/glmTDFAST/sub-05/TR700/FLGLM//beta_0151.nii\n",
      "210308-18:55:27,302 nipype.interface INFO:\n",
      "\t sub: /scratch/qbi/uqkgarn1/STRIWP1/derivatives/glmTDFAST/sub-05/TR700/FLGLM/_TR_700_sub_05/beta_0152.nii -> /scratch/qbi/uqkgarn1/STRIWP1/derivatives/glmTDFAST/sub-05/TR700/FLGLM//beta_0152.nii\n",
      "210308-18:55:27,337 nipype.interface INFO:\n",
      "\t sub: /scratch/qbi/uqkgarn1/STRIWP1/derivatives/glmTDFAST/sub-05/TR700/FLGLM/_TR_700_sub_05/beta_0153.nii -> /scratch/qbi/uqkgarn1/STRIWP1/derivatives/glmTDFAST/sub-05/TR700/FLGLM//beta_0153.nii\n",
      "210308-18:55:27,372 nipype.interface INFO:\n",
      "\t sub: /scratch/qbi/uqkgarn1/STRIWP1/derivatives/glmTDFAST/sub-05/TR700/FLGLM/_TR_700_sub_05/beta_0154.nii -> /scratch/qbi/uqkgarn1/STRIWP1/derivatives/glmTDFAST/sub-05/TR700/FLGLM//beta_0154.nii\n",
      "210308-18:55:27,409 nipype.interface INFO:\n",
      "\t sub: /scratch/qbi/uqkgarn1/STRIWP1/derivatives/glmTDFAST/sub-05/TR700/FLGLM/_TR_700_sub_05/beta_0155.nii -> /scratch/qbi/uqkgarn1/STRIWP1/derivatives/glmTDFAST/sub-05/TR700/FLGLM//beta_0155.nii\n",
      "210308-18:55:27,443 nipype.interface INFO:\n",
      "\t sub: /scratch/qbi/uqkgarn1/STRIWP1/derivatives/glmTDFAST/sub-05/TR700/FLGLM/_TR_700_sub_05/beta_0156.nii -> /scratch/qbi/uqkgarn1/STRIWP1/derivatives/glmTDFAST/sub-05/TR700/FLGLM//beta_0156.nii\n",
      "210308-18:55:27,487 nipype.interface INFO:\n",
      "\t sub: /scratch/qbi/uqkgarn1/STRIWP1/derivatives/glmTDFAST/sub-05/TR700/FLGLM/_TR_700_sub_05/beta_0157.nii -> /scratch/qbi/uqkgarn1/STRIWP1/derivatives/glmTDFAST/sub-05/TR700/FLGLM//beta_0157.nii\n"
     ]
    },
    {
     "name": "stdout",
     "output_type": "stream",
     "text": [
      "210308-18:55:27,524 nipype.interface INFO:\n",
      "\t sub: /scratch/qbi/uqkgarn1/STRIWP1/derivatives/glmTDFAST/sub-05/TR700/FLGLM/_TR_700_sub_05/beta_0158.nii -> /scratch/qbi/uqkgarn1/STRIWP1/derivatives/glmTDFAST/sub-05/TR700/FLGLM//beta_0158.nii\n",
      "210308-18:55:27,556 nipype.interface INFO:\n",
      "\t sub: /scratch/qbi/uqkgarn1/STRIWP1/derivatives/glmTDFAST/sub-05/TR700/FLGLM/_TR_700_sub_05/beta_0159.nii -> /scratch/qbi/uqkgarn1/STRIWP1/derivatives/glmTDFAST/sub-05/TR700/FLGLM//beta_0159.nii\n",
      "210308-18:55:27,586 nipype.interface INFO:\n",
      "\t sub: /scratch/qbi/uqkgarn1/STRIWP1/derivatives/glmTDFAST/sub-05/TR700/FLGLM/_TR_700_sub_05/beta_0160.nii -> /scratch/qbi/uqkgarn1/STRIWP1/derivatives/glmTDFAST/sub-05/TR700/FLGLM//beta_0160.nii\n",
      "210308-18:55:27,619 nipype.interface INFO:\n",
      "\t sub: /scratch/qbi/uqkgarn1/STRIWP1/derivatives/glmTDFAST/sub-05/TR700/FLGLM/_TR_700_sub_05/beta_0161.nii -> /scratch/qbi/uqkgarn1/STRIWP1/derivatives/glmTDFAST/sub-05/TR700/FLGLM//beta_0161.nii\n",
      "210308-18:55:27,650 nipype.interface INFO:\n",
      "\t sub: /scratch/qbi/uqkgarn1/STRIWP1/derivatives/glmTDFAST/sub-05/TR700/FLGLM/_TR_700_sub_05/beta_0162.nii -> /scratch/qbi/uqkgarn1/STRIWP1/derivatives/glmTDFAST/sub-05/TR700/FLGLM//beta_0162.nii\n",
      "210308-18:55:27,686 nipype.interface INFO:\n",
      "\t sub: /scratch/qbi/uqkgarn1/STRIWP1/derivatives/glmTDFAST/sub-05/TR700/FLGLM/_TR_700_sub_05/beta_0163.nii -> /scratch/qbi/uqkgarn1/STRIWP1/derivatives/glmTDFAST/sub-05/TR700/FLGLM//beta_0163.nii\n",
      "210308-18:55:27,719 nipype.interface INFO:\n",
      "\t sub: /scratch/qbi/uqkgarn1/STRIWP1/derivatives/glmTDFAST/sub-05/TR700/FLGLM/_TR_700_sub_05/beta_0164.nii -> /scratch/qbi/uqkgarn1/STRIWP1/derivatives/glmTDFAST/sub-05/TR700/FLGLM//beta_0164.nii\n",
      "210308-18:55:27,757 nipype.interface INFO:\n",
      "\t sub: /scratch/qbi/uqkgarn1/STRIWP1/derivatives/glmTDFAST/sub-05/TR700/FLGLM/_TR_700_sub_05/beta_0165.nii -> /scratch/qbi/uqkgarn1/STRIWP1/derivatives/glmTDFAST/sub-05/TR700/FLGLM//beta_0165.nii\n",
      "210308-18:55:27,794 nipype.interface INFO:\n",
      "\t sub: /scratch/qbi/uqkgarn1/STRIWP1/derivatives/glmTDFAST/sub-05/TR700/FLGLM/_TR_700_sub_05/beta_0166.nii -> /scratch/qbi/uqkgarn1/STRIWP1/derivatives/glmTDFAST/sub-05/TR700/FLGLM//beta_0166.nii\n",
      "210308-18:55:27,830 nipype.interface INFO:\n",
      "\t sub: /scratch/qbi/uqkgarn1/STRIWP1/derivatives/glmTDFAST/sub-05/TR700/FLGLM/_TR_700_sub_05/beta_0167.nii -> /scratch/qbi/uqkgarn1/STRIWP1/derivatives/glmTDFAST/sub-05/TR700/FLGLM//beta_0167.nii\n",
      "210308-18:55:27,871 nipype.interface INFO:\n",
      "\t sub: /scratch/qbi/uqkgarn1/STRIWP1/derivatives/glmTDFAST/sub-05/TR700/FLGLM/_TR_700_sub_05/beta_0168.nii -> /scratch/qbi/uqkgarn1/STRIWP1/derivatives/glmTDFAST/sub-05/TR700/FLGLM//beta_0168.nii\n",
      "210308-18:55:27,907 nipype.interface INFO:\n",
      "\t sub: /scratch/qbi/uqkgarn1/STRIWP1/derivatives/glmTDFAST/sub-05/TR700/FLGLM/_TR_700_sub_05/beta_0169.nii -> /scratch/qbi/uqkgarn1/STRIWP1/derivatives/glmTDFAST/sub-05/TR700/FLGLM//beta_0169.nii\n",
      "210308-18:55:27,940 nipype.interface INFO:\n",
      "\t sub: /scratch/qbi/uqkgarn1/STRIWP1/derivatives/glmTDFAST/sub-05/TR700/FLGLM/_TR_700_sub_05/beta_0170.nii -> /scratch/qbi/uqkgarn1/STRIWP1/derivatives/glmTDFAST/sub-05/TR700/FLGLM//beta_0170.nii\n",
      "210308-18:55:27,974 nipype.interface INFO:\n",
      "\t sub: /scratch/qbi/uqkgarn1/STRIWP1/derivatives/glmTDFAST/sub-05/TR700/FLGLM/_TR_700_sub_05/beta_0171.nii -> /scratch/qbi/uqkgarn1/STRIWP1/derivatives/glmTDFAST/sub-05/TR700/FLGLM//beta_0171.nii\n",
      "210308-18:55:28,15 nipype.interface INFO:\n",
      "\t sub: /scratch/qbi/uqkgarn1/STRIWP1/derivatives/glmTDFAST/sub-05/TR700/FLGLM/_TR_700_sub_05/beta_0172.nii -> /scratch/qbi/uqkgarn1/STRIWP1/derivatives/glmTDFAST/sub-05/TR700/FLGLM//beta_0172.nii\n",
      "210308-18:55:28,50 nipype.interface INFO:\n",
      "\t sub: /scratch/qbi/uqkgarn1/STRIWP1/derivatives/glmTDFAST/sub-05/TR700/FLGLM/_TR_700_sub_05/beta_0173.nii -> /scratch/qbi/uqkgarn1/STRIWP1/derivatives/glmTDFAST/sub-05/TR700/FLGLM//beta_0173.nii\n",
      "210308-18:55:28,83 nipype.interface INFO:\n",
      "\t sub: /scratch/qbi/uqkgarn1/STRIWP1/derivatives/glmTDFAST/sub-05/TR700/FLGLM/_TR_700_sub_05/beta_0174.nii -> /scratch/qbi/uqkgarn1/STRIWP1/derivatives/glmTDFAST/sub-05/TR700/FLGLM//beta_0174.nii\n",
      "210308-18:55:28,118 nipype.interface INFO:\n",
      "\t sub: /scratch/qbi/uqkgarn1/STRIWP1/derivatives/glmTDFAST/sub-05/TR700/FLGLM/_TR_700_sub_05/ResMS.nii -> /scratch/qbi/uqkgarn1/STRIWP1/derivatives/glmTDFAST/sub-05/TR700/FLGLM//ResMS.nii\n",
      "210308-18:55:28,171 nipype.interface INFO:\n",
      "\t sub: /scratch/qbi/uqkgarn1/STRIWP1/derivatives/glmTDFAST/sub-05/TR700/FLGLM/_TR_700_sub_05/con_0001.nii -> /scratch/qbi/uqkgarn1/STRIWP1/derivatives/glmTDFAST/sub-05/TR700/FLGLM//con_0001.nii\n",
      "210308-18:55:28,209 nipype.interface INFO:\n",
      "\t sub: /scratch/qbi/uqkgarn1/STRIWP1/derivatives/glmTDFAST/sub-05/TR700/FLGLM/_TR_700_sub_05/con_0002.nii -> /scratch/qbi/uqkgarn1/STRIWP1/derivatives/glmTDFAST/sub-05/TR700/FLGLM//con_0002.nii\n",
      "210308-18:55:28,258 nipype.interface INFO:\n",
      "\t sub: /scratch/qbi/uqkgarn1/STRIWP1/derivatives/glmTDFAST/sub-05/TR700/FLGLM/_TR_700_sub_05/con_0003.nii -> /scratch/qbi/uqkgarn1/STRIWP1/derivatives/glmTDFAST/sub-05/TR700/FLGLM//con_0003.nii\n",
      "210308-18:55:28,306 nipype.interface INFO:\n",
      "\t sub: /scratch/qbi/uqkgarn1/STRIWP1/derivatives/glmTDFAST/sub-05/TR700/FLGLM/_TR_700_sub_05/ess_0004.nii -> /scratch/qbi/uqkgarn1/STRIWP1/derivatives/glmTDFAST/sub-05/TR700/FLGLM//ess_0004.nii\n",
      "210308-18:55:28,335 nipype.interface INFO:\n",
      "\t sub: /scratch/qbi/uqkgarn1/STRIWP1/derivatives/glmTDFAST/sub-05/TR700/FLGLM/_TR_700_sub_05/con_0005.nii -> /scratch/qbi/uqkgarn1/STRIWP1/derivatives/glmTDFAST/sub-05/TR700/FLGLM//con_0005.nii\n",
      "210308-18:55:28,363 nipype.interface INFO:\n",
      "\t sub: /scratch/qbi/uqkgarn1/STRIWP1/derivatives/glmTDFAST/sub-05/TR700/FLGLM/_TR_700_sub_05/con_0006.nii -> /scratch/qbi/uqkgarn1/STRIWP1/derivatives/glmTDFAST/sub-05/TR700/FLGLM//con_0006.nii\n",
      "210308-18:55:28,393 nipype.interface INFO:\n",
      "\t sub: /scratch/qbi/uqkgarn1/STRIWP1/derivatives/glmTDFAST/sub-05/TR700/FLGLM/_TR_700_sub_05/con_0007.nii -> /scratch/qbi/uqkgarn1/STRIWP1/derivatives/glmTDFAST/sub-05/TR700/FLGLM//con_0007.nii\n",
      "210308-18:55:28,424 nipype.interface INFO:\n",
      "\t sub: /scratch/qbi/uqkgarn1/STRIWP1/derivatives/glmTDFAST/sub-05/TR700/FLGLM/_TR_700_sub_05/ess_0008.nii -> /scratch/qbi/uqkgarn1/STRIWP1/derivatives/glmTDFAST/sub-05/TR700/FLGLM//ess_0008.nii\n",
      "210308-18:55:28,458 nipype.interface INFO:\n",
      "\t sub: /scratch/qbi/uqkgarn1/STRIWP1/derivatives/glmTDFAST/sub-05/TR700/FLGLM/_TR_700_sub_05/con_0009.nii -> /scratch/qbi/uqkgarn1/STRIWP1/derivatives/glmTDFAST/sub-05/TR700/FLGLM//con_0009.nii\n",
      "210308-18:55:28,492 nipype.interface INFO:\n",
      "\t sub: /scratch/qbi/uqkgarn1/STRIWP1/derivatives/glmTDFAST/sub-05/TR700/FLGLM/_TR_700_sub_05/spmT_0001.nii -> /scratch/qbi/uqkgarn1/STRIWP1/derivatives/glmTDFAST/sub-05/TR700/FLGLM//spmT_0001.nii\n",
      "210308-18:55:28,495 nipype.interface INFO:\n",
      "\t sub: /scratch/qbi/uqkgarn1/STRIWP1/derivatives/glmTDFAST/sub-05/TR700/FLGLM/_TR_700_sub_05/spmT_0002.nii -> /scratch/qbi/uqkgarn1/STRIWP1/derivatives/glmTDFAST/sub-05/TR700/FLGLM//spmT_0002.nii\n",
      "210308-18:55:28,497 nipype.interface INFO:\n",
      "\t sub: /scratch/qbi/uqkgarn1/STRIWP1/derivatives/glmTDFAST/sub-05/TR700/FLGLM/_TR_700_sub_05/spmT_0003.nii -> /scratch/qbi/uqkgarn1/STRIWP1/derivatives/glmTDFAST/sub-05/TR700/FLGLM//spmT_0003.nii\n",
      "210308-18:55:28,500 nipype.interface INFO:\n",
      "\t sub: /scratch/qbi/uqkgarn1/STRIWP1/derivatives/glmTDFAST/sub-05/TR700/FLGLM/_TR_700_sub_05/spmF_0004.nii -> /scratch/qbi/uqkgarn1/STRIWP1/derivatives/glmTDFAST/sub-05/TR700/FLGLM//spmF_0004.nii\n",
      "210308-18:55:28,535 nipype.interface INFO:\n",
      "\t sub: /scratch/qbi/uqkgarn1/STRIWP1/derivatives/glmTDFAST/sub-05/TR700/FLGLM/_TR_700_sub_05/spmT_0005.nii -> /scratch/qbi/uqkgarn1/STRIWP1/derivatives/glmTDFAST/sub-05/TR700/FLGLM//spmT_0005.nii\n",
      "210308-18:55:28,538 nipype.interface INFO:\n",
      "\t sub: /scratch/qbi/uqkgarn1/STRIWP1/derivatives/glmTDFAST/sub-05/TR700/FLGLM/_TR_700_sub_05/spmT_0006.nii -> /scratch/qbi/uqkgarn1/STRIWP1/derivatives/glmTDFAST/sub-05/TR700/FLGLM//spmT_0006.nii\n",
      "210308-18:55:28,540 nipype.interface INFO:\n",
      "\t sub: /scratch/qbi/uqkgarn1/STRIWP1/derivatives/glmTDFAST/sub-05/TR700/FLGLM/_TR_700_sub_05/spmT_0007.nii -> /scratch/qbi/uqkgarn1/STRIWP1/derivatives/glmTDFAST/sub-05/TR700/FLGLM//spmT_0007.nii\n",
      "210308-18:55:28,542 nipype.interface INFO:\n",
      "\t sub: /scratch/qbi/uqkgarn1/STRIWP1/derivatives/glmTDFAST/sub-05/TR700/FLGLM/_TR_700_sub_05/spmF_0008.nii -> /scratch/qbi/uqkgarn1/STRIWP1/derivatives/glmTDFAST/sub-05/TR700/FLGLM//spmF_0008.nii\n"
     ]
    },
    {
     "name": "stdout",
     "output_type": "stream",
     "text": [
      "210308-18:55:28,595 nipype.interface INFO:\n",
      "\t sub: /scratch/qbi/uqkgarn1/STRIWP1/derivatives/glmTDFAST/sub-05/TR700/FLGLM/_TR_700_sub_05/spmT_0009.nii -> /scratch/qbi/uqkgarn1/STRIWP1/derivatives/glmTDFAST/sub-05/TR700/FLGLM//spmT_0009.nii\n",
      "210308-18:55:28,598 nipype.interface INFO:\n",
      "\t sub: /scratch/qbi/uqkgarn1/STRIWP1/derivatives/glmTDFAST/sub-05/TR700/FLGLM/_TR_700_sub_05/SPM.mat -> /scratch/qbi/uqkgarn1/STRIWP1/derivatives/glmTDFAST/sub-05/TR700/FLGLM//SPM.mat\n",
      "210308-18:55:31,701 nipype.workflow INFO:\n",
      "\t [Node] Finished \"glms.sink-stuff\".\n"
     ]
    },
    {
     "data": {
      "text/plain": [
       "<networkx.classes.digraph.DiGraph at 0x7fe79a68a9e8>"
      ]
     },
     "execution_count": 25,
     "metadata": {},
     "output_type": "execute_result"
    }
   ],
   "source": [
    "glm.run()"
   ]
  }
 ],
 "metadata": {
  "kernelspec": {
   "display_name": "Python 3",
   "language": "python",
   "name": "python3"
  },
  "language_info": {
   "codemirror_mode": {
    "name": "ipython",
    "version": 3
   },
   "file_extension": ".py",
   "mimetype": "text/x-python",
   "name": "python",
   "nbconvert_exporter": "python",
   "pygments_lexer": "ipython3",
   "version": "3.6.10"
  }
 },
 "nbformat": 4,
 "nbformat_minor": 4
}
