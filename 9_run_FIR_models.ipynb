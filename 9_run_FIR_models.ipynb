{
 "cells": [
  {
   "cell_type": "markdown",
   "metadata": {},
   "source": [
    "Runs the FIR model fits for the models defined in workflow #8 [8_define-FIR-models](http://localhost:8888/notebooks/8_define-FIR-models.ipynb).\n",
    "\n",
    "Note: **you need to have run the function redef_FIRs.m, located on scratch, on the outputs of workflow #8, prior to running this notebook**"
   ]
  },
  {
   "cell_type": "code",
   "execution_count": 1,
   "metadata": {},
   "outputs": [
    {
     "name": "stdout",
     "output_type": "stream",
     "text": [
      "201229-21:12:19,299 nipype.utils WARNING:\n",
      "\t A newer version (1.5.1) of nipy/nipype is available. You are using 1.5.0\n"
     ]
    }
   ],
   "source": [
    "from bids.layout import BIDSLayout \n",
    "from nipype.interfaces.io import BIDSDataGrabber, DataFinder, DataSink, DataGrabber\n",
    "import nipype.pipeline as pe\n",
    "import nipype as ni\n",
    "from nipype.interfaces.utility import Function\n",
    "from nipype.interfaces import spm as spm\n",
    "from nipype.algorithms.misc import Gunzip \n",
    "import pandas as pd\n",
    "import os, re, json\n",
    "# https://nipype.readthedocs.io/en/0.11.0/users/spmmcr.html\n",
    "#\n",
    "# set spm path to copy with use edit of spm_fMRI_design.m [see: https://www.jiscmail.ac.uk/cgi-bin/webadmin?A2=spm;f525092b.1508]\n",
    "# scratch/qbi/uqkgarn1\n",
    "matlab_cmd = '/scratch/qbi/uqkgarn1/spm12-r7219/run_spm12.sh /opt/matlabmcr-2010a/v713/ script'\n",
    "spm.SPMCommand.set_mlab_paths(matlab_cmd=matlab_cmd, use_mcr=True)"
   ]
  },
  {
   "cell_type": "code",
   "execution_count": 2,
   "metadata": {},
   "outputs": [
    {
     "name": "stderr",
     "output_type": "stream",
     "text": [
      "/opt/miniconda-latest/envs/neuro/lib/python3.6/site-packages/bids/layout/models.py:102: FutureWarning: The 'extension' entity currently excludes the leading dot ('.'). As of version 0.14.0, it will include the leading dot. To suppress this warning and include the leading dot, use `bids.config.set_option('extension_initial_dot', True)`.\n",
      "  FutureWarning)\n"
     ]
    }
   ],
   "source": [
    "Basedir = \"/scratch/qbi/uqkgarn1/STRIWP1/\"\n",
    "layout = BIDSLayout(Basedir)\n",
    "subs = layout.get_subjects()\n",
    "\n",
    "fitfirs = pe.Workflow(name=\"fitfirs\") # workflow to run the analysis"
   ]
  },
  {
   "cell_type": "markdown",
   "metadata": {},
   "source": [
    "# grab and sink data"
   ]
  },
  {
   "cell_type": "code",
   "execution_count": 3,
   "metadata": {},
   "outputs": [],
   "source": [
    "dg = pe.Node(DataGrabber(infields=['sub', 'TR'], \n",
    "                            outfields=['spm']), name='data-grabber')\n",
    "dg.inputs.base_dir = \"/scratch/qbi/uqkgarn1/STRIWP1/\"\n",
    "dg.inputs.sort_filelist = True\n",
    "dg.inputs.template='*'\n",
    "dg.inputs.template_args = {'spm': [['sub','TR']]}\n",
    "dg.inputs.field_template = {'spm': '/scratch/qbi/uqkgarn1/STRIWP1/derivatives/glmFIR/sub-%s/TR%s/FLGLM/SPM.mat'}"
   ]
  },
  {
   "cell_type": "code",
   "execution_count": 4,
   "metadata": {},
   "outputs": [
    {
     "name": "stdout",
     "output_type": "stream",
     "text": [
      "201229-21:12:31,242 nipype.workflow INFO:\n",
      "\t [Node] Setting-up \"data-grabber\" in \"/tmp/tmpmsc1cupb/data-grabber\".\n",
      "201229-21:12:31,246 nipype.workflow INFO:\n",
      "\t [Node] Running \"data-grabber\" (\"nipype.interfaces.io.DataGrabber\")\n",
      "201229-21:12:31,252 nipype.workflow INFO:\n",
      "\t [Node] Finished \"data-grabber\".\n"
     ]
    },
    {
     "data": {
      "text/plain": [
       "\n",
       "spm = /scratch/qbi/uqkgarn1/STRIWP1/derivatives/glmFIR/sub-01/TR1510/FLGLM/SPM.mat"
      ]
     },
     "execution_count": 4,
     "metadata": {},
     "output_type": "execute_result"
    }
   ],
   "source": [
    "# debugging\n",
    "dg.inputs.sub = '01'\n",
    "dg.inputs.TR = '1510'\n",
    "res = dg.run()\n",
    "res.outputs"
   ]
  },
  {
   "cell_type": "code",
   "execution_count": 5,
   "metadata": {},
   "outputs": [
    {
     "data": {
      "text/plain": [
       "[('sub', ['01']), ('TR', ['1510'])]"
      ]
     },
     "execution_count": 5,
     "metadata": {},
     "output_type": "execute_result"
    }
   ],
   "source": [
    "inf = pe.Node(ni.IdentityInterface(fields=['sub', 'TR']),\n",
    "                   name='info')\n",
    "inf.iterables = [('sub', ['01', '02', '03', '04', '05']), ('TR', ['700', '1510', '1920'])]\n",
    "inf.iterables = [('sub', ['01']), ('TR', ['1510'])]\n",
    "inf.iterables "
   ]
  },
  {
   "cell_type": "code",
   "execution_count": 6,
   "metadata": {},
   "outputs": [],
   "source": [
    "def printSubPath(fullFilePath):\n",
    "    # function to split filepath into constituent parts, then print string to add as input to DataSink for the container string\n",
    "    # given the full filepath, this extracts the subject folder and TR strings for input\n",
    "    # into DataSink\n",
    "    import os\n",
    "    import re\n",
    "    fname = os.path.normpath(fullFilePath)\n",
    "    l = fname.split(os.sep)\n",
    "    name = [s for s in l if re.search('sub', s)][0]\n",
    "    TR = [t for t in l if re.search('TR([0-9]*)',t)][-1]\n",
    "    name = [name, TR, \"FLGLM\"]\n",
    "    name = '/'.join(name)\n",
    "    return name"
   ]
  },
  {
   "cell_type": "code",
   "execution_count": 7,
   "metadata": {},
   "outputs": [],
   "source": [
    "ds = pe.Node(DataSink(), name='sink-stuff')\n",
    "ds.inputs.base_directory = \"/scratch/qbi/uqkgarn1/STRIWP1/derivatives/glmFIR/\"\n",
    "substitutions = [('_TR_([0-9]*)_sub_([0-9]*)', ''),\n",
    "                 ('_gzip_([0-9]*)', '')]\n",
    "ds.inputs.regexp_substitutions = substitutions"
   ]
  },
  {
   "cell_type": "markdown",
   "metadata": {},
   "source": [
    "# estimate model"
   ]
  },
  {
   "cell_type": "code",
   "execution_count": 8,
   "metadata": {},
   "outputs": [],
   "source": [
    "# EstimateModel - estimate the parameters of the model\n",
    "estimate = pe.Node(spm.EstimateModel(estimation_method={'Classical': 1},\n",
    "                                     write_residuals=False),\n",
    "                                     name=\"estimate\")"
   ]
  },
  {
   "cell_type": "markdown",
   "metadata": {},
   "source": [
    "# zip files\n",
    "\n",
    "from .nii -> .nii.gz"
   ]
  },
  {
   "cell_type": "code",
   "execution_count": 9,
   "metadata": {},
   "outputs": [],
   "source": [
    "from nipype.interfaces.base import (\n",
    "    TraitedSpec,\n",
    "    CommandLineInputSpec,\n",
    "    CommandLine,\n",
    "    File\n",
    ")\n",
    "import os\n",
    "\n",
    "class GZipInputSpec(CommandLineInputSpec):\n",
    "    in_file = File(desc=\"File\", exists=True, mandatory=True, argstr=\"%s\")\n",
    "\n",
    "class GZipOutputSpec(TraitedSpec):\n",
    "    out_file = File(desc = \"Zip file\", exists = True)\n",
    "\n",
    "class GZipTask(CommandLine):\n",
    "    input_spec = GZipInputSpec\n",
    "    output_spec = GZipOutputSpec\n",
    "    _cmd = 'gzip'\n",
    "\n",
    "    def _list_outputs(self):\n",
    "            outputs = self.output_spec().get()\n",
    "            outputs['out_file'] = os.path.abspath(self.inputs.in_file + \".gz\")\n",
    "            return outputs"
   ]
  },
  {
   "cell_type": "code",
   "execution_count": 10,
   "metadata": {},
   "outputs": [],
   "source": [
    "gzip = pe.MapNode(GZipTask(), iterfield='in_file', name='gzip')"
   ]
  },
  {
   "cell_type": "markdown",
   "metadata": {},
   "source": [
    "# Connect workflow"
   ]
  },
  {
   "cell_type": "code",
   "execution_count": 11,
   "metadata": {},
   "outputs": [],
   "source": [
    "fitfirs.connect([(inf, dg, [('sub',  'sub')]),\n",
    "                 (inf, dg, [('TR', 'TR')]),\n",
    "                 (dg, ds, [(('spm', printSubPath), \n",
    "                            'container')]),\n",
    "                 (dg, estimate, [('spm', 'spm_mat_file')]),\n",
    "                 (estimate, gzip, [('beta_images', 'in_file')]),\n",
    "                 (gzip, ds, [('out_file', 'PARAMS')])\n",
    "])"
   ]
  },
  {
   "cell_type": "code",
   "execution_count": null,
   "metadata": {},
   "outputs": [
    {
     "name": "stdout",
     "output_type": "stream",
     "text": [
      "201229-21:12:31,415 nipype.workflow INFO:\n",
      "\t Workflow fitfirs settings: ['check', 'execution', 'logging', 'monitoring']\n",
      "201229-21:12:31,426 nipype.workflow INFO:\n",
      "\t Running serially.\n",
      "201229-21:12:31,426 nipype.workflow INFO:\n",
      "\t [Node] Setting-up \"fitfirs.data-grabber\" in \"/tmp/tmpmsc1cupb/data-grabber\".\n",
      "201229-21:12:31,431 nipype.workflow INFO:\n",
      "\t [Node] Running \"data-grabber\" (\"nipype.interfaces.io.DataGrabber\")\n",
      "201229-21:12:31,435 nipype.workflow INFO:\n",
      "\t [Node] Finished \"fitfirs.data-grabber\".\n",
      "201229-21:12:31,436 nipype.workflow INFO:\n",
      "\t [Node] Setting-up \"fitfirs.estimate\" in \"/tmp/tmp8t3s451z/fitfirs/_TR_1510_sub_01/estimate\".\n",
      "201229-21:12:31,467 nipype.workflow INFO:\n",
      "\t [Node] Running \"estimate\" (\"nipype.interfaces.spm.model.EstimateModel\")\n"
     ]
    }
   ],
   "source": [
    "fitfirs.run()"
   ]
  }
 ],
 "metadata": {
  "kernelspec": {
   "display_name": "Python 3",
   "language": "python",
   "name": "python3"
  },
  "language_info": {
   "codemirror_mode": {
    "name": "ipython",
    "version": 3
   },
   "file_extension": ".py",
   "mimetype": "text/x-python",
   "name": "python",
   "nbconvert_exporter": "python",
   "pygments_lexer": "ipython3",
   "version": "3.6.10"
  }
 },
 "nbformat": 4,
 "nbformat_minor": 4
}
